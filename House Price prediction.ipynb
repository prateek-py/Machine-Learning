{
 "cells": [
  {
   "cell_type": "markdown",
   "id": "1f2157a9",
   "metadata": {},
   "source": [
    "# House Price prediction"
   ]
  },
  {
   "cell_type": "code",
   "execution_count": null,
   "id": "99d3679f",
   "metadata": {},
   "outputs": [],
   "source": []
  },
  {
   "cell_type": "code",
   "execution_count": 1,
   "id": "9322d9b4",
   "metadata": {},
   "outputs": [],
   "source": [
    "import numpy as np\n",
    "import pandas as pd\n",
    "import seaborn as sns\n",
    "import matplotlib.pyplot as plt\n",
    "from sklearn.linear_model import LinearRegression\n",
    "from sklearn.model_selection import train_test_split\n",
    "import statsmodels.api as sm"
   ]
  },
  {
   "cell_type": "code",
   "execution_count": 2,
   "id": "4b1749ce",
   "metadata": {},
   "outputs": [],
   "source": [
    "house_main = pd.read_csv(\"Maison.csv\")\n",
    "house=house_main.copy()"
   ]
  },
  {
   "cell_type": "markdown",
   "id": "fc99fdfb",
   "metadata": {},
   "source": [
    "## EDA"
   ]
  },
  {
   "cell_type": "code",
   "execution_count": 137,
   "id": "59bcebb1",
   "metadata": {},
   "outputs": [
    {
     "data": {
      "text/html": [
       "<div>\n",
       "<style scoped>\n",
       "    .dataframe tbody tr th:only-of-type {\n",
       "        vertical-align: middle;\n",
       "    }\n",
       "\n",
       "    .dataframe tbody tr th {\n",
       "        vertical-align: top;\n",
       "    }\n",
       "\n",
       "    .dataframe thead th {\n",
       "        text-align: right;\n",
       "    }\n",
       "</style>\n",
       "<table border=\"1\" class=\"dataframe\">\n",
       "  <thead>\n",
       "    <tr style=\"text-align: right;\">\n",
       "      <th></th>\n",
       "      <th>PRIX</th>\n",
       "      <th>SUPERFICIE</th>\n",
       "      <th>CHAMBRES</th>\n",
       "      <th>SDB</th>\n",
       "      <th>ETAGES</th>\n",
       "      <th>ALLEE</th>\n",
       "      <th>SALLEJEU</th>\n",
       "      <th>CAVE</th>\n",
       "      <th>GAZ</th>\n",
       "      <th>AIR</th>\n",
       "      <th>GARAGES</th>\n",
       "      <th>SITUATION</th>\n",
       "    </tr>\n",
       "  </thead>\n",
       "  <tbody>\n",
       "    <tr>\n",
       "      <th>0</th>\n",
       "      <td>42000</td>\n",
       "      <td>5850</td>\n",
       "      <td>3</td>\n",
       "      <td>1</td>\n",
       "      <td>2</td>\n",
       "      <td>1</td>\n",
       "      <td>0</td>\n",
       "      <td>1</td>\n",
       "      <td>0</td>\n",
       "      <td>0</td>\n",
       "      <td>1</td>\n",
       "      <td>0</td>\n",
       "    </tr>\n",
       "    <tr>\n",
       "      <th>1</th>\n",
       "      <td>38500</td>\n",
       "      <td>4000</td>\n",
       "      <td>2</td>\n",
       "      <td>1</td>\n",
       "      <td>1</td>\n",
       "      <td>1</td>\n",
       "      <td>0</td>\n",
       "      <td>0</td>\n",
       "      <td>0</td>\n",
       "      <td>0</td>\n",
       "      <td>0</td>\n",
       "      <td>0</td>\n",
       "    </tr>\n",
       "    <tr>\n",
       "      <th>2</th>\n",
       "      <td>49500</td>\n",
       "      <td>3060</td>\n",
       "      <td>3</td>\n",
       "      <td>1</td>\n",
       "      <td>1</td>\n",
       "      <td>1</td>\n",
       "      <td>0</td>\n",
       "      <td>0</td>\n",
       "      <td>0</td>\n",
       "      <td>0</td>\n",
       "      <td>0</td>\n",
       "      <td>0</td>\n",
       "    </tr>\n",
       "    <tr>\n",
       "      <th>3</th>\n",
       "      <td>60500</td>\n",
       "      <td>6650</td>\n",
       "      <td>3</td>\n",
       "      <td>1</td>\n",
       "      <td>2</td>\n",
       "      <td>1</td>\n",
       "      <td>1</td>\n",
       "      <td>0</td>\n",
       "      <td>0</td>\n",
       "      <td>0</td>\n",
       "      <td>0</td>\n",
       "      <td>0</td>\n",
       "    </tr>\n",
       "    <tr>\n",
       "      <th>4</th>\n",
       "      <td>61000</td>\n",
       "      <td>6360</td>\n",
       "      <td>2</td>\n",
       "      <td>1</td>\n",
       "      <td>1</td>\n",
       "      <td>1</td>\n",
       "      <td>0</td>\n",
       "      <td>0</td>\n",
       "      <td>0</td>\n",
       "      <td>0</td>\n",
       "      <td>0</td>\n",
       "      <td>0</td>\n",
       "    </tr>\n",
       "    <tr>\n",
       "      <th>...</th>\n",
       "      <td>...</td>\n",
       "      <td>...</td>\n",
       "      <td>...</td>\n",
       "      <td>...</td>\n",
       "      <td>...</td>\n",
       "      <td>...</td>\n",
       "      <td>...</td>\n",
       "      <td>...</td>\n",
       "      <td>...</td>\n",
       "      <td>...</td>\n",
       "      <td>...</td>\n",
       "      <td>...</td>\n",
       "    </tr>\n",
       "    <tr>\n",
       "      <th>541</th>\n",
       "      <td>91500</td>\n",
       "      <td>4800</td>\n",
       "      <td>3</td>\n",
       "      <td>2</td>\n",
       "      <td>4</td>\n",
       "      <td>1</td>\n",
       "      <td>1</td>\n",
       "      <td>0</td>\n",
       "      <td>0</td>\n",
       "      <td>1</td>\n",
       "      <td>0</td>\n",
       "      <td>0</td>\n",
       "    </tr>\n",
       "    <tr>\n",
       "      <th>542</th>\n",
       "      <td>94000</td>\n",
       "      <td>6000</td>\n",
       "      <td>3</td>\n",
       "      <td>2</td>\n",
       "      <td>4</td>\n",
       "      <td>1</td>\n",
       "      <td>0</td>\n",
       "      <td>0</td>\n",
       "      <td>0</td>\n",
       "      <td>1</td>\n",
       "      <td>0</td>\n",
       "      <td>0</td>\n",
       "    </tr>\n",
       "    <tr>\n",
       "      <th>543</th>\n",
       "      <td>103000</td>\n",
       "      <td>6000</td>\n",
       "      <td>3</td>\n",
       "      <td>2</td>\n",
       "      <td>4</td>\n",
       "      <td>1</td>\n",
       "      <td>1</td>\n",
       "      <td>0</td>\n",
       "      <td>0</td>\n",
       "      <td>1</td>\n",
       "      <td>1</td>\n",
       "      <td>0</td>\n",
       "    </tr>\n",
       "    <tr>\n",
       "      <th>544</th>\n",
       "      <td>105000</td>\n",
       "      <td>6000</td>\n",
       "      <td>3</td>\n",
       "      <td>2</td>\n",
       "      <td>2</td>\n",
       "      <td>1</td>\n",
       "      <td>1</td>\n",
       "      <td>0</td>\n",
       "      <td>0</td>\n",
       "      <td>1</td>\n",
       "      <td>1</td>\n",
       "      <td>0</td>\n",
       "    </tr>\n",
       "    <tr>\n",
       "      <th>545</th>\n",
       "      <td>105000</td>\n",
       "      <td>6000</td>\n",
       "      <td>3</td>\n",
       "      <td>1</td>\n",
       "      <td>2</td>\n",
       "      <td>1</td>\n",
       "      <td>0</td>\n",
       "      <td>0</td>\n",
       "      <td>0</td>\n",
       "      <td>1</td>\n",
       "      <td>1</td>\n",
       "      <td>0</td>\n",
       "    </tr>\n",
       "  </tbody>\n",
       "</table>\n",
       "<p>546 rows × 12 columns</p>\n",
       "</div>"
      ],
      "text/plain": [
       "       PRIX  SUPERFICIE  CHAMBRES  SDB  ETAGES  ALLEE  SALLEJEU  CAVE  GAZ  \\\n",
       "0     42000        5850         3    1       2      1         0     1    0   \n",
       "1     38500        4000         2    1       1      1         0     0    0   \n",
       "2     49500        3060         3    1       1      1         0     0    0   \n",
       "3     60500        6650         3    1       2      1         1     0    0   \n",
       "4     61000        6360         2    1       1      1         0     0    0   \n",
       "..      ...         ...       ...  ...     ...    ...       ...   ...  ...   \n",
       "541   91500        4800         3    2       4      1         1     0    0   \n",
       "542   94000        6000         3    2       4      1         0     0    0   \n",
       "543  103000        6000         3    2       4      1         1     0    0   \n",
       "544  105000        6000         3    2       2      1         1     0    0   \n",
       "545  105000        6000         3    1       2      1         0     0    0   \n",
       "\n",
       "     AIR  GARAGES  SITUATION  \n",
       "0      0        1          0  \n",
       "1      0        0          0  \n",
       "2      0        0          0  \n",
       "3      0        0          0  \n",
       "4      0        0          0  \n",
       "..   ...      ...        ...  \n",
       "541    1        0          0  \n",
       "542    1        0          0  \n",
       "543    1        1          0  \n",
       "544    1        1          0  \n",
       "545    1        1          0  \n",
       "\n",
       "[546 rows x 12 columns]"
      ]
     },
     "execution_count": 137,
     "metadata": {},
     "output_type": "execute_result"
    }
   ],
   "source": [
    "house"
   ]
  },
  {
   "cell_type": "code",
   "execution_count": 3,
   "id": "53df384d",
   "metadata": {},
   "outputs": [],
   "source": [
    "# Since the columns are in french, in order to make them more readable, let's translate them into English\n",
    "house = house.rename(columns = {'PRIX':'price','SUPERFICIE': 'area','CHAMBRES': 'rooms', \n",
    "                         'SDB': 'bathroom', 'ETAGES': 'floors','ALLEE': 'driveway',\n",
    "                         'SALLEJEU':'game_room', 'CAVE': 'cellar', \n",
    "                         'GAZ': 'gas', 'AIR':'air', 'GARAGES': 'garage', 'SITUATION': 'situation'})"
   ]
  },
  {
   "cell_type": "code",
   "execution_count": 4,
   "id": "25a1cf85",
   "metadata": {},
   "outputs": [
    {
     "data": {
      "text/html": [
       "<div>\n",
       "<style scoped>\n",
       "    .dataframe tbody tr th:only-of-type {\n",
       "        vertical-align: middle;\n",
       "    }\n",
       "\n",
       "    .dataframe tbody tr th {\n",
       "        vertical-align: top;\n",
       "    }\n",
       "\n",
       "    .dataframe thead th {\n",
       "        text-align: right;\n",
       "    }\n",
       "</style>\n",
       "<table border=\"1\" class=\"dataframe\">\n",
       "  <thead>\n",
       "    <tr style=\"text-align: right;\">\n",
       "      <th></th>\n",
       "      <th>price</th>\n",
       "      <th>area</th>\n",
       "      <th>rooms</th>\n",
       "      <th>bathroom</th>\n",
       "      <th>floors</th>\n",
       "      <th>driveway</th>\n",
       "      <th>game_room</th>\n",
       "      <th>cellar</th>\n",
       "      <th>gas</th>\n",
       "      <th>air</th>\n",
       "      <th>garage</th>\n",
       "      <th>situation</th>\n",
       "    </tr>\n",
       "  </thead>\n",
       "  <tbody>\n",
       "    <tr>\n",
       "      <th>0</th>\n",
       "      <td>42000</td>\n",
       "      <td>5850</td>\n",
       "      <td>3</td>\n",
       "      <td>1</td>\n",
       "      <td>2</td>\n",
       "      <td>1</td>\n",
       "      <td>0</td>\n",
       "      <td>1</td>\n",
       "      <td>0</td>\n",
       "      <td>0</td>\n",
       "      <td>1</td>\n",
       "      <td>0</td>\n",
       "    </tr>\n",
       "    <tr>\n",
       "      <th>1</th>\n",
       "      <td>38500</td>\n",
       "      <td>4000</td>\n",
       "      <td>2</td>\n",
       "      <td>1</td>\n",
       "      <td>1</td>\n",
       "      <td>1</td>\n",
       "      <td>0</td>\n",
       "      <td>0</td>\n",
       "      <td>0</td>\n",
       "      <td>0</td>\n",
       "      <td>0</td>\n",
       "      <td>0</td>\n",
       "    </tr>\n",
       "    <tr>\n",
       "      <th>2</th>\n",
       "      <td>49500</td>\n",
       "      <td>3060</td>\n",
       "      <td>3</td>\n",
       "      <td>1</td>\n",
       "      <td>1</td>\n",
       "      <td>1</td>\n",
       "      <td>0</td>\n",
       "      <td>0</td>\n",
       "      <td>0</td>\n",
       "      <td>0</td>\n",
       "      <td>0</td>\n",
       "      <td>0</td>\n",
       "    </tr>\n",
       "    <tr>\n",
       "      <th>3</th>\n",
       "      <td>60500</td>\n",
       "      <td>6650</td>\n",
       "      <td>3</td>\n",
       "      <td>1</td>\n",
       "      <td>2</td>\n",
       "      <td>1</td>\n",
       "      <td>1</td>\n",
       "      <td>0</td>\n",
       "      <td>0</td>\n",
       "      <td>0</td>\n",
       "      <td>0</td>\n",
       "      <td>0</td>\n",
       "    </tr>\n",
       "    <tr>\n",
       "      <th>4</th>\n",
       "      <td>61000</td>\n",
       "      <td>6360</td>\n",
       "      <td>2</td>\n",
       "      <td>1</td>\n",
       "      <td>1</td>\n",
       "      <td>1</td>\n",
       "      <td>0</td>\n",
       "      <td>0</td>\n",
       "      <td>0</td>\n",
       "      <td>0</td>\n",
       "      <td>0</td>\n",
       "      <td>0</td>\n",
       "    </tr>\n",
       "    <tr>\n",
       "      <th>...</th>\n",
       "      <td>...</td>\n",
       "      <td>...</td>\n",
       "      <td>...</td>\n",
       "      <td>...</td>\n",
       "      <td>...</td>\n",
       "      <td>...</td>\n",
       "      <td>...</td>\n",
       "      <td>...</td>\n",
       "      <td>...</td>\n",
       "      <td>...</td>\n",
       "      <td>...</td>\n",
       "      <td>...</td>\n",
       "    </tr>\n",
       "    <tr>\n",
       "      <th>541</th>\n",
       "      <td>91500</td>\n",
       "      <td>4800</td>\n",
       "      <td>3</td>\n",
       "      <td>2</td>\n",
       "      <td>4</td>\n",
       "      <td>1</td>\n",
       "      <td>1</td>\n",
       "      <td>0</td>\n",
       "      <td>0</td>\n",
       "      <td>1</td>\n",
       "      <td>0</td>\n",
       "      <td>0</td>\n",
       "    </tr>\n",
       "    <tr>\n",
       "      <th>542</th>\n",
       "      <td>94000</td>\n",
       "      <td>6000</td>\n",
       "      <td>3</td>\n",
       "      <td>2</td>\n",
       "      <td>4</td>\n",
       "      <td>1</td>\n",
       "      <td>0</td>\n",
       "      <td>0</td>\n",
       "      <td>0</td>\n",
       "      <td>1</td>\n",
       "      <td>0</td>\n",
       "      <td>0</td>\n",
       "    </tr>\n",
       "    <tr>\n",
       "      <th>543</th>\n",
       "      <td>103000</td>\n",
       "      <td>6000</td>\n",
       "      <td>3</td>\n",
       "      <td>2</td>\n",
       "      <td>4</td>\n",
       "      <td>1</td>\n",
       "      <td>1</td>\n",
       "      <td>0</td>\n",
       "      <td>0</td>\n",
       "      <td>1</td>\n",
       "      <td>1</td>\n",
       "      <td>0</td>\n",
       "    </tr>\n",
       "    <tr>\n",
       "      <th>544</th>\n",
       "      <td>105000</td>\n",
       "      <td>6000</td>\n",
       "      <td>3</td>\n",
       "      <td>2</td>\n",
       "      <td>2</td>\n",
       "      <td>1</td>\n",
       "      <td>1</td>\n",
       "      <td>0</td>\n",
       "      <td>0</td>\n",
       "      <td>1</td>\n",
       "      <td>1</td>\n",
       "      <td>0</td>\n",
       "    </tr>\n",
       "    <tr>\n",
       "      <th>545</th>\n",
       "      <td>105000</td>\n",
       "      <td>6000</td>\n",
       "      <td>3</td>\n",
       "      <td>1</td>\n",
       "      <td>2</td>\n",
       "      <td>1</td>\n",
       "      <td>0</td>\n",
       "      <td>0</td>\n",
       "      <td>0</td>\n",
       "      <td>1</td>\n",
       "      <td>1</td>\n",
       "      <td>0</td>\n",
       "    </tr>\n",
       "  </tbody>\n",
       "</table>\n",
       "<p>546 rows × 12 columns</p>\n",
       "</div>"
      ],
      "text/plain": [
       "      price  area  rooms  bathroom  floors  driveway  game_room  cellar  gas  \\\n",
       "0     42000  5850      3         1       2         1          0       1    0   \n",
       "1     38500  4000      2         1       1         1          0       0    0   \n",
       "2     49500  3060      3         1       1         1          0       0    0   \n",
       "3     60500  6650      3         1       2         1          1       0    0   \n",
       "4     61000  6360      2         1       1         1          0       0    0   \n",
       "..      ...   ...    ...       ...     ...       ...        ...     ...  ...   \n",
       "541   91500  4800      3         2       4         1          1       0    0   \n",
       "542   94000  6000      3         2       4         1          0       0    0   \n",
       "543  103000  6000      3         2       4         1          1       0    0   \n",
       "544  105000  6000      3         2       2         1          1       0    0   \n",
       "545  105000  6000      3         1       2         1          0       0    0   \n",
       "\n",
       "     air  garage  situation  \n",
       "0      0       1          0  \n",
       "1      0       0          0  \n",
       "2      0       0          0  \n",
       "3      0       0          0  \n",
       "4      0       0          0  \n",
       "..   ...     ...        ...  \n",
       "541    1       0          0  \n",
       "542    1       0          0  \n",
       "543    1       1          0  \n",
       "544    1       1          0  \n",
       "545    1       1          0  \n",
       "\n",
       "[546 rows x 12 columns]"
      ]
     },
     "execution_count": 4,
     "metadata": {},
     "output_type": "execute_result"
    }
   ],
   "source": [
    "house"
   ]
  },
  {
   "cell_type": "code",
   "execution_count": 8,
   "id": "e37bcafe",
   "metadata": {},
   "outputs": [
    {
     "name": "stdout",
     "output_type": "stream",
     "text": [
      "<class 'pandas.core.frame.DataFrame'>\n",
      "Index: 546 entries, 0 to 545\n",
      "Data columns (total 12 columns):\n",
      " #   Column     Non-Null Count  Dtype\n",
      "---  ------     --------------  -----\n",
      " 0   price      546 non-null    int64\n",
      " 1   area       546 non-null    int64\n",
      " 2   rooms      546 non-null    int64\n",
      " 3   bathroom   546 non-null    int64\n",
      " 4   floors     546 non-null    int64\n",
      " 5   driveway   546 non-null    int64\n",
      " 6   game_room  546 non-null    int64\n",
      " 7   cellar     546 non-null    int64\n",
      " 8   gas        546 non-null    int64\n",
      " 9   air        546 non-null    int64\n",
      " 10  garage     546 non-null    int64\n",
      " 11  situation  546 non-null    int64\n",
      "dtypes: int64(12)\n",
      "memory usage: 55.5+ KB\n"
     ]
    }
   ],
   "source": [
    "house.info()"
   ]
  },
  {
   "cell_type": "code",
   "execution_count": 11,
   "id": "1e33dbd7",
   "metadata": {},
   "outputs": [
    {
     "data": {
      "text/plain": [
       "price        0\n",
       "area         0\n",
       "rooms        0\n",
       "bathroom     0\n",
       "floors       0\n",
       "driveway     0\n",
       "game_room    0\n",
       "cellar       0\n",
       "gas          0\n",
       "air          0\n",
       "garage       0\n",
       "situation    0\n",
       "dtype: int64"
      ]
     },
     "execution_count": 11,
     "metadata": {},
     "output_type": "execute_result"
    }
   ],
   "source": [
    "house.isnull().sum()"
   ]
  },
  {
   "cell_type": "code",
   "execution_count": 9,
   "id": "8b718774",
   "metadata": {
    "scrolled": true
   },
   "outputs": [
    {
     "data": {
      "text/html": [
       "<div>\n",
       "<style scoped>\n",
       "    .dataframe tbody tr th:only-of-type {\n",
       "        vertical-align: middle;\n",
       "    }\n",
       "\n",
       "    .dataframe tbody tr th {\n",
       "        vertical-align: top;\n",
       "    }\n",
       "\n",
       "    .dataframe thead th {\n",
       "        text-align: right;\n",
       "    }\n",
       "</style>\n",
       "<table border=\"1\" class=\"dataframe\">\n",
       "  <thead>\n",
       "    <tr style=\"text-align: right;\">\n",
       "      <th></th>\n",
       "      <th>price</th>\n",
       "      <th>area</th>\n",
       "      <th>rooms</th>\n",
       "      <th>bathroom</th>\n",
       "      <th>floors</th>\n",
       "      <th>driveway</th>\n",
       "      <th>game_room</th>\n",
       "      <th>cellar</th>\n",
       "      <th>gas</th>\n",
       "      <th>air</th>\n",
       "      <th>garage</th>\n",
       "      <th>situation</th>\n",
       "    </tr>\n",
       "  </thead>\n",
       "  <tbody>\n",
       "    <tr>\n",
       "      <th>count</th>\n",
       "      <td>546.000000</td>\n",
       "      <td>546.000000</td>\n",
       "      <td>546.000000</td>\n",
       "      <td>546.000000</td>\n",
       "      <td>546.000000</td>\n",
       "      <td>546.000000</td>\n",
       "      <td>546.000000</td>\n",
       "      <td>546.000000</td>\n",
       "      <td>546.000000</td>\n",
       "      <td>546.000000</td>\n",
       "      <td>546.000000</td>\n",
       "      <td>546.000000</td>\n",
       "    </tr>\n",
       "    <tr>\n",
       "      <th>mean</th>\n",
       "      <td>68121.597070</td>\n",
       "      <td>5150.265568</td>\n",
       "      <td>2.965201</td>\n",
       "      <td>1.285714</td>\n",
       "      <td>1.807692</td>\n",
       "      <td>0.858974</td>\n",
       "      <td>0.177656</td>\n",
       "      <td>0.349817</td>\n",
       "      <td>0.045788</td>\n",
       "      <td>0.316850</td>\n",
       "      <td>0.692308</td>\n",
       "      <td>0.234432</td>\n",
       "    </tr>\n",
       "    <tr>\n",
       "      <th>std</th>\n",
       "      <td>26702.670926</td>\n",
       "      <td>2168.158725</td>\n",
       "      <td>0.737388</td>\n",
       "      <td>0.502158</td>\n",
       "      <td>0.868203</td>\n",
       "      <td>0.348367</td>\n",
       "      <td>0.382573</td>\n",
       "      <td>0.477349</td>\n",
       "      <td>0.209216</td>\n",
       "      <td>0.465675</td>\n",
       "      <td>0.861307</td>\n",
       "      <td>0.424032</td>\n",
       "    </tr>\n",
       "    <tr>\n",
       "      <th>min</th>\n",
       "      <td>25000.000000</td>\n",
       "      <td>1650.000000</td>\n",
       "      <td>1.000000</td>\n",
       "      <td>1.000000</td>\n",
       "      <td>1.000000</td>\n",
       "      <td>0.000000</td>\n",
       "      <td>0.000000</td>\n",
       "      <td>0.000000</td>\n",
       "      <td>0.000000</td>\n",
       "      <td>0.000000</td>\n",
       "      <td>0.000000</td>\n",
       "      <td>0.000000</td>\n",
       "    </tr>\n",
       "    <tr>\n",
       "      <th>25%</th>\n",
       "      <td>49125.000000</td>\n",
       "      <td>3600.000000</td>\n",
       "      <td>2.000000</td>\n",
       "      <td>1.000000</td>\n",
       "      <td>1.000000</td>\n",
       "      <td>1.000000</td>\n",
       "      <td>0.000000</td>\n",
       "      <td>0.000000</td>\n",
       "      <td>0.000000</td>\n",
       "      <td>0.000000</td>\n",
       "      <td>0.000000</td>\n",
       "      <td>0.000000</td>\n",
       "    </tr>\n",
       "    <tr>\n",
       "      <th>50%</th>\n",
       "      <td>62000.000000</td>\n",
       "      <td>4600.000000</td>\n",
       "      <td>3.000000</td>\n",
       "      <td>1.000000</td>\n",
       "      <td>2.000000</td>\n",
       "      <td>1.000000</td>\n",
       "      <td>0.000000</td>\n",
       "      <td>0.000000</td>\n",
       "      <td>0.000000</td>\n",
       "      <td>0.000000</td>\n",
       "      <td>0.000000</td>\n",
       "      <td>0.000000</td>\n",
       "    </tr>\n",
       "    <tr>\n",
       "      <th>75%</th>\n",
       "      <td>82000.000000</td>\n",
       "      <td>6360.000000</td>\n",
       "      <td>3.000000</td>\n",
       "      <td>2.000000</td>\n",
       "      <td>2.000000</td>\n",
       "      <td>1.000000</td>\n",
       "      <td>0.000000</td>\n",
       "      <td>1.000000</td>\n",
       "      <td>0.000000</td>\n",
       "      <td>1.000000</td>\n",
       "      <td>1.000000</td>\n",
       "      <td>0.000000</td>\n",
       "    </tr>\n",
       "    <tr>\n",
       "      <th>max</th>\n",
       "      <td>190000.000000</td>\n",
       "      <td>16200.000000</td>\n",
       "      <td>6.000000</td>\n",
       "      <td>4.000000</td>\n",
       "      <td>4.000000</td>\n",
       "      <td>1.000000</td>\n",
       "      <td>1.000000</td>\n",
       "      <td>1.000000</td>\n",
       "      <td>1.000000</td>\n",
       "      <td>1.000000</td>\n",
       "      <td>3.000000</td>\n",
       "      <td>1.000000</td>\n",
       "    </tr>\n",
       "  </tbody>\n",
       "</table>\n",
       "</div>"
      ],
      "text/plain": [
       "               price          area       rooms    bathroom      floors  \\\n",
       "count     546.000000    546.000000  546.000000  546.000000  546.000000   \n",
       "mean    68121.597070   5150.265568    2.965201    1.285714    1.807692   \n",
       "std     26702.670926   2168.158725    0.737388    0.502158    0.868203   \n",
       "min     25000.000000   1650.000000    1.000000    1.000000    1.000000   \n",
       "25%     49125.000000   3600.000000    2.000000    1.000000    1.000000   \n",
       "50%     62000.000000   4600.000000    3.000000    1.000000    2.000000   \n",
       "75%     82000.000000   6360.000000    3.000000    2.000000    2.000000   \n",
       "max    190000.000000  16200.000000    6.000000    4.000000    4.000000   \n",
       "\n",
       "         driveway   game_room      cellar         gas         air      garage  \\\n",
       "count  546.000000  546.000000  546.000000  546.000000  546.000000  546.000000   \n",
       "mean     0.858974    0.177656    0.349817    0.045788    0.316850    0.692308   \n",
       "std      0.348367    0.382573    0.477349    0.209216    0.465675    0.861307   \n",
       "min      0.000000    0.000000    0.000000    0.000000    0.000000    0.000000   \n",
       "25%      1.000000    0.000000    0.000000    0.000000    0.000000    0.000000   \n",
       "50%      1.000000    0.000000    0.000000    0.000000    0.000000    0.000000   \n",
       "75%      1.000000    0.000000    1.000000    0.000000    1.000000    1.000000   \n",
       "max      1.000000    1.000000    1.000000    1.000000    1.000000    3.000000   \n",
       "\n",
       "        situation  \n",
       "count  546.000000  \n",
       "mean     0.234432  \n",
       "std      0.424032  \n",
       "min      0.000000  \n",
       "25%      0.000000  \n",
       "50%      0.000000  \n",
       "75%      0.000000  \n",
       "max      1.000000  "
      ]
     },
     "execution_count": 9,
     "metadata": {},
     "output_type": "execute_result"
    }
   ],
   "source": [
    "house.describe()"
   ]
  },
  {
   "cell_type": "code",
   "execution_count": null,
   "id": "59c8a5d7",
   "metadata": {},
   "outputs": [],
   "source": []
  },
  {
   "cell_type": "code",
   "execution_count": 36,
   "id": "afdd1d77",
   "metadata": {},
   "outputs": [
    {
     "name": "stdout",
     "output_type": "stream",
     "text": [
      "rooms : \n",
      " [3 2 4 1 5 6]\n",
      "3    301\n",
      "2    136\n",
      "4     95\n",
      "5     10\n",
      "1      2\n",
      "6      2\n",
      "Name: rooms, dtype: int64 \n",
      "\n",
      "bathroom : \n",
      " [1 2 3 4]\n",
      "1    402\n",
      "2    133\n",
      "3     10\n",
      "4      1\n",
      "Name: bathroom, dtype: int64 \n",
      "\n",
      "floors : \n",
      " [2 1 3 4]\n",
      "2    238\n",
      "1    227\n",
      "4     41\n",
      "3     40\n",
      "Name: floors, dtype: int64 \n",
      "\n",
      "driveway : \n",
      " [1 0]\n",
      "1    469\n",
      "0     77\n",
      "Name: driveway, dtype: int64 \n",
      "\n",
      "game_room : \n",
      " [0 1]\n",
      "0    449\n",
      "1     97\n",
      "Name: game_room, dtype: int64 \n",
      "\n",
      "cellar : \n",
      " [1 0]\n",
      "0    355\n",
      "1    191\n",
      "Name: cellar, dtype: int64 \n",
      "\n",
      "gas : \n",
      " [0 1]\n",
      "0    521\n",
      "1     25\n",
      "Name: gas, dtype: int64 \n",
      "\n",
      "air : \n",
      " [0 1]\n",
      "0    373\n",
      "1    173\n",
      "Name: air, dtype: int64 \n",
      "\n",
      "garage : \n",
      " [1 0 2 3]\n",
      "0    300\n",
      "1    126\n",
      "2    108\n",
      "3     12\n",
      "Name: garage, dtype: int64 \n",
      "\n",
      "situation : \n",
      " [0 1]\n",
      "0    418\n",
      "1    128\n",
      "Name: situation, dtype: int64 \n",
      "\n"
     ]
    }
   ],
   "source": [
    "## unique values in all the columns\n",
    "# we will exclude price and area columns here as they have lot of unique values and no need to see them\n",
    "for col in house.drop(columns=['price','area']):  \n",
    "    print(col,': \\n',house[col].unique())\n",
    "    print(house[col].value_counts(),'\\n')"
   ]
  },
  {
   "cell_type": "markdown",
   "id": "307169b4",
   "metadata": {},
   "source": [
    "### Correlation check"
   ]
  },
  {
   "cell_type": "code",
   "execution_count": 20,
   "id": "799f6cb0",
   "metadata": {},
   "outputs": [
    {
     "data": {
      "text/html": [
       "<div>\n",
       "<style scoped>\n",
       "    .dataframe tbody tr th:only-of-type {\n",
       "        vertical-align: middle;\n",
       "    }\n",
       "\n",
       "    .dataframe tbody tr th {\n",
       "        vertical-align: top;\n",
       "    }\n",
       "\n",
       "    .dataframe thead th {\n",
       "        text-align: right;\n",
       "    }\n",
       "</style>\n",
       "<table border=\"1\" class=\"dataframe\">\n",
       "  <thead>\n",
       "    <tr style=\"text-align: right;\">\n",
       "      <th></th>\n",
       "      <th>price</th>\n",
       "      <th>area</th>\n",
       "      <th>rooms</th>\n",
       "      <th>bathroom</th>\n",
       "      <th>floors</th>\n",
       "      <th>driveway</th>\n",
       "      <th>game_room</th>\n",
       "      <th>cellar</th>\n",
       "      <th>gas</th>\n",
       "      <th>air</th>\n",
       "      <th>garage</th>\n",
       "      <th>situation</th>\n",
       "    </tr>\n",
       "  </thead>\n",
       "  <tbody>\n",
       "    <tr>\n",
       "      <th>price</th>\n",
       "      <td>1.000000</td>\n",
       "      <td>0.535796</td>\n",
       "      <td>0.366447</td>\n",
       "      <td>0.516719</td>\n",
       "      <td>0.421190</td>\n",
       "      <td>0.297167</td>\n",
       "      <td>0.254960</td>\n",
       "      <td>0.186218</td>\n",
       "      <td>0.092837</td>\n",
       "      <td>0.453347</td>\n",
       "      <td>0.383302</td>\n",
       "      <td>0.329074</td>\n",
       "    </tr>\n",
       "    <tr>\n",
       "      <th>area</th>\n",
       "      <td>0.535796</td>\n",
       "      <td>1.000000</td>\n",
       "      <td>0.151851</td>\n",
       "      <td>0.193833</td>\n",
       "      <td>0.083675</td>\n",
       "      <td>0.288778</td>\n",
       "      <td>0.140327</td>\n",
       "      <td>0.047487</td>\n",
       "      <td>-0.009201</td>\n",
       "      <td>0.221765</td>\n",
       "      <td>0.352872</td>\n",
       "      <td>0.234782</td>\n",
       "    </tr>\n",
       "    <tr>\n",
       "      <th>rooms</th>\n",
       "      <td>0.366447</td>\n",
       "      <td>0.151851</td>\n",
       "      <td>1.000000</td>\n",
       "      <td>0.373769</td>\n",
       "      <td>0.407974</td>\n",
       "      <td>-0.011996</td>\n",
       "      <td>0.080492</td>\n",
       "      <td>0.097201</td>\n",
       "      <td>0.046028</td>\n",
       "      <td>0.160412</td>\n",
       "      <td>0.139117</td>\n",
       "      <td>0.078953</td>\n",
       "    </tr>\n",
       "    <tr>\n",
       "      <th>bathroom</th>\n",
       "      <td>0.516719</td>\n",
       "      <td>0.193833</td>\n",
       "      <td>0.373769</td>\n",
       "      <td>1.000000</td>\n",
       "      <td>0.324066</td>\n",
       "      <td>0.041955</td>\n",
       "      <td>0.126892</td>\n",
       "      <td>0.102791</td>\n",
       "      <td>0.067365</td>\n",
       "      <td>0.184955</td>\n",
       "      <td>0.178178</td>\n",
       "      <td>0.064013</td>\n",
       "    </tr>\n",
       "    <tr>\n",
       "      <th>floors</th>\n",
       "      <td>0.421190</td>\n",
       "      <td>0.083675</td>\n",
       "      <td>0.407974</td>\n",
       "      <td>0.324066</td>\n",
       "      <td>1.000000</td>\n",
       "      <td>0.122499</td>\n",
       "      <td>0.042281</td>\n",
       "      <td>-0.173860</td>\n",
       "      <td>0.018261</td>\n",
       "      <td>0.296216</td>\n",
       "      <td>0.043412</td>\n",
       "      <td>0.042940</td>\n",
       "    </tr>\n",
       "    <tr>\n",
       "      <th>driveway</th>\n",
       "      <td>0.297167</td>\n",
       "      <td>0.288778</td>\n",
       "      <td>-0.011996</td>\n",
       "      <td>0.041955</td>\n",
       "      <td>0.122499</td>\n",
       "      <td>1.000000</td>\n",
       "      <td>0.091959</td>\n",
       "      <td>0.043428</td>\n",
       "      <td>-0.011942</td>\n",
       "      <td>0.106290</td>\n",
       "      <td>0.203682</td>\n",
       "      <td>0.199378</td>\n",
       "    </tr>\n",
       "    <tr>\n",
       "      <th>game_room</th>\n",
       "      <td>0.254960</td>\n",
       "      <td>0.140327</td>\n",
       "      <td>0.080492</td>\n",
       "      <td>0.126892</td>\n",
       "      <td>0.042281</td>\n",
       "      <td>0.091959</td>\n",
       "      <td>1.000000</td>\n",
       "      <td>0.372434</td>\n",
       "      <td>-0.010119</td>\n",
       "      <td>0.136626</td>\n",
       "      <td>0.038122</td>\n",
       "      <td>0.161292</td>\n",
       "    </tr>\n",
       "    <tr>\n",
       "      <th>cellar</th>\n",
       "      <td>0.186218</td>\n",
       "      <td>0.047487</td>\n",
       "      <td>0.097201</td>\n",
       "      <td>0.102791</td>\n",
       "      <td>-0.173860</td>\n",
       "      <td>0.043428</td>\n",
       "      <td>0.372434</td>\n",
       "      <td>1.000000</td>\n",
       "      <td>0.004677</td>\n",
       "      <td>0.045248</td>\n",
       "      <td>0.052524</td>\n",
       "      <td>0.228651</td>\n",
       "    </tr>\n",
       "    <tr>\n",
       "      <th>gas</th>\n",
       "      <td>0.092837</td>\n",
       "      <td>-0.009201</td>\n",
       "      <td>0.046028</td>\n",
       "      <td>0.067365</td>\n",
       "      <td>0.018261</td>\n",
       "      <td>-0.011942</td>\n",
       "      <td>-0.010119</td>\n",
       "      <td>0.004677</td>\n",
       "      <td>1.000000</td>\n",
       "      <td>-0.130350</td>\n",
       "      <td>0.068144</td>\n",
       "      <td>-0.059170</td>\n",
       "    </tr>\n",
       "    <tr>\n",
       "      <th>air</th>\n",
       "      <td>0.453347</td>\n",
       "      <td>0.221765</td>\n",
       "      <td>0.160412</td>\n",
       "      <td>0.184955</td>\n",
       "      <td>0.296216</td>\n",
       "      <td>0.106290</td>\n",
       "      <td>0.136626</td>\n",
       "      <td>0.045248</td>\n",
       "      <td>-0.130350</td>\n",
       "      <td>1.000000</td>\n",
       "      <td>0.156596</td>\n",
       "      <td>0.115626</td>\n",
       "    </tr>\n",
       "    <tr>\n",
       "      <th>garage</th>\n",
       "      <td>0.383302</td>\n",
       "      <td>0.352872</td>\n",
       "      <td>0.139117</td>\n",
       "      <td>0.178178</td>\n",
       "      <td>0.043412</td>\n",
       "      <td>0.203682</td>\n",
       "      <td>0.038122</td>\n",
       "      <td>0.052524</td>\n",
       "      <td>0.068144</td>\n",
       "      <td>0.156596</td>\n",
       "      <td>1.000000</td>\n",
       "      <td>0.092364</td>\n",
       "    </tr>\n",
       "    <tr>\n",
       "      <th>situation</th>\n",
       "      <td>0.329074</td>\n",
       "      <td>0.234782</td>\n",
       "      <td>0.078953</td>\n",
       "      <td>0.064013</td>\n",
       "      <td>0.042940</td>\n",
       "      <td>0.199378</td>\n",
       "      <td>0.161292</td>\n",
       "      <td>0.228651</td>\n",
       "      <td>-0.059170</td>\n",
       "      <td>0.115626</td>\n",
       "      <td>0.092364</td>\n",
       "      <td>1.000000</td>\n",
       "    </tr>\n",
       "  </tbody>\n",
       "</table>\n",
       "</div>"
      ],
      "text/plain": [
       "              price      area     rooms  bathroom    floors  driveway  \\\n",
       "price      1.000000  0.535796  0.366447  0.516719  0.421190  0.297167   \n",
       "area       0.535796  1.000000  0.151851  0.193833  0.083675  0.288778   \n",
       "rooms      0.366447  0.151851  1.000000  0.373769  0.407974 -0.011996   \n",
       "bathroom   0.516719  0.193833  0.373769  1.000000  0.324066  0.041955   \n",
       "floors     0.421190  0.083675  0.407974  0.324066  1.000000  0.122499   \n",
       "driveway   0.297167  0.288778 -0.011996  0.041955  0.122499  1.000000   \n",
       "game_room  0.254960  0.140327  0.080492  0.126892  0.042281  0.091959   \n",
       "cellar     0.186218  0.047487  0.097201  0.102791 -0.173860  0.043428   \n",
       "gas        0.092837 -0.009201  0.046028  0.067365  0.018261 -0.011942   \n",
       "air        0.453347  0.221765  0.160412  0.184955  0.296216  0.106290   \n",
       "garage     0.383302  0.352872  0.139117  0.178178  0.043412  0.203682   \n",
       "situation  0.329074  0.234782  0.078953  0.064013  0.042940  0.199378   \n",
       "\n",
       "           game_room    cellar       gas       air    garage  situation  \n",
       "price       0.254960  0.186218  0.092837  0.453347  0.383302   0.329074  \n",
       "area        0.140327  0.047487 -0.009201  0.221765  0.352872   0.234782  \n",
       "rooms       0.080492  0.097201  0.046028  0.160412  0.139117   0.078953  \n",
       "bathroom    0.126892  0.102791  0.067365  0.184955  0.178178   0.064013  \n",
       "floors      0.042281 -0.173860  0.018261  0.296216  0.043412   0.042940  \n",
       "driveway    0.091959  0.043428 -0.011942  0.106290  0.203682   0.199378  \n",
       "game_room   1.000000  0.372434 -0.010119  0.136626  0.038122   0.161292  \n",
       "cellar      0.372434  1.000000  0.004677  0.045248  0.052524   0.228651  \n",
       "gas        -0.010119  0.004677  1.000000 -0.130350  0.068144  -0.059170  \n",
       "air         0.136626  0.045248 -0.130350  1.000000  0.156596   0.115626  \n",
       "garage      0.038122  0.052524  0.068144  0.156596  1.000000   0.092364  \n",
       "situation   0.161292  0.228651 -0.059170  0.115626  0.092364   1.000000  "
      ]
     },
     "execution_count": 20,
     "metadata": {},
     "output_type": "execute_result"
    }
   ],
   "source": [
    "house.corr()"
   ]
  },
  {
   "cell_type": "code",
   "execution_count": 22,
   "id": "006d7d18",
   "metadata": {},
   "outputs": [
    {
     "data": {
      "text/plain": [
       "<AxesSubplot:>"
      ]
     },
     "execution_count": 22,
     "metadata": {},
     "output_type": "execute_result"
    },
    {
     "data": {
      "image/png": "[encoded data removed]",
      "text/plain": [
       "<Figure size 432x288 with 2 Axes>"
      ]
     },
     "metadata": {
      "needs_background": "light"
     },
     "output_type": "display_data"
    }
   ],
   "source": [
    "corr_matrix = house.corr()\n",
    "\n",
    "var_above_thresh = corr_matrix[(abs(corr_matrix)>=.75)]\n",
    "sns.heatmap(var_above_thresh, cmap=\"Reds\",annot=True)"
   ]
  },
  {
   "cell_type": "code",
   "execution_count": null,
   "id": "9213d083",
   "metadata": {},
   "outputs": [],
   "source": [
    "## so we have no highly correlated variables"
   ]
  },
  {
   "cell_type": "markdown",
   "id": "56ecf97f",
   "metadata": {},
   "source": [
    "### ."
   ]
  },
  {
   "cell_type": "code",
   "execution_count": 24,
   "id": "6e5db290",
   "metadata": {},
   "outputs": [
    {
     "data": {
      "text/plain": [
       "count      546.000000\n",
       "mean      5150.265568\n",
       "std       2168.158725\n",
       "min       1650.000000\n",
       "25%       3600.000000\n",
       "50%       4600.000000\n",
       "75%       6360.000000\n",
       "max      16200.000000\n",
       "Name: area, dtype: float64"
      ]
     },
     "execution_count": 24,
     "metadata": {},
     "output_type": "execute_result"
    }
   ],
   "source": [
    "house['area'].describe()"
   ]
  },
  {
   "cell_type": "code",
   "execution_count": 25,
   "id": "b7a99358",
   "metadata": {},
   "outputs": [
    {
     "data": {
      "text/plain": [
       "<AxesSubplot:xlabel='area'>"
      ]
     },
     "execution_count": 25,
     "metadata": {},
     "output_type": "execute_result"
    },
    {
     "data": {
      "image/png": "[encoded data removed]",
      "text/plain": [
       "<Figure size 432x288 with 1 Axes>"
      ]
     },
     "metadata": {
      "needs_background": "light"
     },
     "output_type": "display_data"
    }
   ],
   "source": [
    "sns.boxplot(x='area',data=house)"
   ]
  },
  {
   "cell_type": "code",
   "execution_count": 37,
   "id": "12279e82",
   "metadata": {},
   "outputs": [
    {
     "data": {
      "text/plain": [
       "<AxesSubplot:xlabel='price'>"
      ]
     },
     "execution_count": 37,
     "metadata": {},
     "output_type": "execute_result"
    },
    {
     "data": {
      "image/png": "[encoded data removed]",
      "text/plain": [
       "<Figure size 432x288 with 1 Axes>"
      ]
     },
     "metadata": {
      "needs_background": "light"
     },
     "output_type": "display_data"
    }
   ],
   "source": [
    "sns.boxplot(x='price',data=house)"
   ]
  },
  {
   "cell_type": "code",
   "execution_count": 41,
   "id": "9af2229d",
   "metadata": {},
   "outputs": [
    {
     "name": "stderr",
     "output_type": "stream",
     "text": [
      "C:\\Users\\prate\\AppData\\Local\\Programs\\Python\\Python310\\lib\\site-packages\\seaborn\\distributions.py:2619: FutureWarning: `distplot` is a deprecated function and will be removed in a future version. Please adapt your code to use either `displot` (a figure-level function with similar flexibility) or `histplot` (an axes-level function for histograms).\n",
      "  warnings.warn(msg, FutureWarning)\n"
     ]
    },
    {
     "data": {
      "text/plain": [
       "<AxesSubplot:xlabel='price', ylabel='Density'>"
      ]
     },
     "execution_count": 41,
     "metadata": {},
     "output_type": "execute_result"
    },
    {
     "data": {
      "image/png": "[encoded data removed]",
      "text/plain": [
       "<Figure size 432x288 with 1 Axes>"
      ]
     },
     "metadata": {
      "needs_background": "light"
     },
     "output_type": "display_data"
    }
   ],
   "source": [
    "sns.distplot(house['price'])"
   ]
  },
  {
   "cell_type": "code",
   "execution_count": null,
   "id": "9d417590",
   "metadata": {},
   "outputs": [],
   "source": [
    "### relation with the target variable"
   ]
  },
  {
   "cell_type": "code",
   "execution_count": 38,
   "id": "7249d2ab",
   "metadata": {},
   "outputs": [
    {
     "data": {
      "text/plain": [
       "<AxesSubplot:xlabel='area', ylabel='price'>"
      ]
     },
     "execution_count": 38,
     "metadata": {},
     "output_type": "execute_result"
    },
    {
     "data": {
      "image/png": "[encoded data removed]",
      "text/plain": [
       "<Figure size 432x288 with 1 Axes>"
      ]
     },
     "metadata": {
      "needs_background": "light"
     },
     "output_type": "display_data"
    }
   ],
   "source": [
    "sns.scatterplot(x='area',y='price',data=house)  ## we can see couple of outliers in the following plot"
   ]
  },
  {
   "cell_type": "code",
   "execution_count": null,
   "id": "be829342",
   "metadata": {},
   "outputs": [],
   "source": []
  },
  {
   "cell_type": "code",
   "execution_count": 44,
   "id": "3620b52f",
   "metadata": {},
   "outputs": [
    {
     "data": {
      "text/plain": [
       "<AxesSubplot:xlabel='game_room', ylabel='price'>"
      ]
     },
     "execution_count": 44,
     "metadata": {},
     "output_type": "execute_result"
    },
    {
     "data": {
      "image/png": "[encoded data removed]",
      "text/plain": [
       "<Figure size 432x288 with 1 Axes>"
      ]
     },
     "metadata": {
      "needs_background": "light"
     },
     "output_type": "display_data"
    }
   ],
   "source": [
    "sns.scatterplot(x='game_room',y='price',data=house)  ## this suggests that game_room doesnt quite affect the price value, as the range looks similar for both cases. Let us evaluate it a bit more"
   ]
  },
  {
   "cell_type": "code",
   "execution_count": 50,
   "id": "15a80813",
   "metadata": {},
   "outputs": [
    {
     "data": {
      "text/plain": [
       "count       449.000000\n",
       "mean      64960.115813\n",
       "std       26085.906827\n",
       "min       25000.000000\n",
       "25%       47900.000000\n",
       "50%       59500.000000\n",
       "75%       75500.000000\n",
       "max      190000.000000\n",
       "Name: price, dtype: float64"
      ]
     },
     "execution_count": 50,
     "metadata": {},
     "output_type": "execute_result"
    }
   ],
   "source": [
    "house.loc[house['game_room']==0, 'price'].describe()"
   ]
  },
  {
   "cell_type": "code",
   "execution_count": 51,
   "id": "9d373b95",
   "metadata": {},
   "outputs": [
    {
     "data": {
      "text/plain": [
       "count        97.000000\n",
       "mean      82755.670103\n",
       "std       24683.267439\n",
       "min       35000.000000\n",
       "25%       67000.000000\n",
       "50%       78500.000000\n",
       "75%       91700.000000\n",
       "max      163000.000000\n",
       "Name: price, dtype: float64"
      ]
     },
     "execution_count": 51,
     "metadata": {},
     "output_type": "execute_result"
    }
   ],
   "source": [
    "house.loc[house['game_room']==1, 'price'].describe()"
   ]
  },
  {
   "cell_type": "code",
   "execution_count": null,
   "id": "fe92c193",
   "metadata": {},
   "outputs": [],
   "source": []
  },
  {
   "cell_type": "code",
   "execution_count": 40,
   "id": "68d97a37",
   "metadata": {},
   "outputs": [
    {
     "data": {
      "text/plain": [
       "<AxesSubplot:xlabel='rooms', ylabel='price'>"
      ]
     },
     "execution_count": 40,
     "metadata": {},
     "output_type": "execute_result"
    },
    {
     "data": {
      "image/png": "[encoded data removed]",
      "text/plain": [
       "<Figure size 432x288 with 1 Axes>"
      ]
     },
     "metadata": {
      "needs_background": "light"
     },
     "output_type": "display_data"
    }
   ],
   "source": [
    "sns.scatterplot(x='rooms',y='price',data=house)"
   ]
  },
  {
   "cell_type": "code",
   "execution_count": null,
   "id": "84835bb4",
   "metadata": {},
   "outputs": [],
   "source": []
  },
  {
   "cell_type": "code",
   "execution_count": null,
   "id": "8e185d1a",
   "metadata": {},
   "outputs": [],
   "source": []
  },
  {
   "cell_type": "code",
   "execution_count": 52,
   "id": "598619e9",
   "metadata": {},
   "outputs": [
    {
     "data": {
      "text/plain": [
       "<AxesSubplot:xlabel='gas', ylabel='price'>"
      ]
     },
     "execution_count": 52,
     "metadata": {},
     "output_type": "execute_result"
    },
    {
     "data": {
      "image/png": "[encoded data removed]",
      "text/plain": [
       "<Figure size 432x288 with 1 Axes>"
      ]
     },
     "metadata": {
      "needs_background": "light"
     },
     "output_type": "display_data"
    }
   ],
   "source": [
    "sns.scatterplot(x='gas',y='price',data=house)  "
   ]
  },
  {
   "cell_type": "code",
   "execution_count": 53,
   "id": "6240f1ed",
   "metadata": {},
   "outputs": [
    {
     "data": {
      "text/plain": [
       "count       521.000000\n",
       "mean      67579.063340\n",
       "std       26424.429043\n",
       "min       25000.000000\n",
       "25%       49000.000000\n",
       "50%       62000.000000\n",
       "75%       82000.000000\n",
       "max      190000.000000\n",
       "Name: price, dtype: float64"
      ]
     },
     "execution_count": 53,
     "metadata": {},
     "output_type": "execute_result"
    }
   ],
   "source": [
    "house.loc[house['gas']==0, 'price'].describe()"
   ]
  },
  {
   "cell_type": "code",
   "execution_count": 54,
   "id": "7e35a93d",
   "metadata": {},
   "outputs": [
    {
     "data": {
      "text/plain": [
       "count        25.000000\n",
       "mean      79428.000000\n",
       "std       30388.683749\n",
       "min       32000.000000\n",
       "25%       54000.000000\n",
       "50%       76900.000000\n",
       "75%       95000.000000\n",
       "max      138300.000000\n",
       "Name: price, dtype: float64"
      ]
     },
     "execution_count": 54,
     "metadata": {},
     "output_type": "execute_result"
    }
   ],
   "source": [
    "house.loc[house['gas']==1, 'price'].describe()"
   ]
  },
  {
   "cell_type": "code",
   "execution_count": null,
   "id": "56f2c8c8",
   "metadata": {},
   "outputs": [],
   "source": []
  },
  {
   "cell_type": "markdown",
   "id": "e720581f",
   "metadata": {},
   "source": [
    "### Flooring and capping"
   ]
  },
  {
   "cell_type": "code",
   "execution_count": null,
   "id": "d3afd11b",
   "metadata": {},
   "outputs": [],
   "source": []
  },
  {
   "cell_type": "markdown",
   "id": "5d7ceda6",
   "metadata": {},
   "source": [
    "### area column"
   ]
  },
  {
   "cell_type": "code",
   "execution_count": 5,
   "id": "e48631d1",
   "metadata": {},
   "outputs": [],
   "source": [
    "Q1 = np.percentile(house['area'], 25)   #25th percentile  \n",
    "Q3 = np.percentile(house['area'], 75)   #75th percentile\n",
    "IQR = Q3 - Q1"
   ]
  },
  {
   "cell_type": "code",
   "execution_count": 6,
   "id": "1f1e0967",
   "metadata": {},
   "outputs": [],
   "source": [
    "nfifth = np.percentile(house['area'], 95)  #95th percentile\n",
    "fifth = np.percentile(house['area'], 5)    #5th percentile"
   ]
  },
  {
   "cell_type": "code",
   "execution_count": null,
   "id": "5730e448",
   "metadata": {},
   "outputs": [],
   "source": []
  },
  {
   "cell_type": "markdown",
   "id": "8bb90d76",
   "metadata": {},
   "source": [
    "#### method 1"
   ]
  },
  {
   "cell_type": "markdown",
   "id": "d4948f2b",
   "metadata": {},
   "source": [
    "Replacing outliers with Q3+1.5xIQR and Q1-1.5xIQR"
   ]
  },
  {
   "cell_type": "code",
   "execution_count": 7,
   "id": "d8e81c0c",
   "metadata": {},
   "outputs": [],
   "source": [
    "upper = np.where(house['area'] >= (Q3+1.5*IQR))\n",
    "lower = np.where(house['area'] <= (Q1-1.5*IQR))\n",
    "\n",
    "df1=house.copy()\n",
    "\n",
    "df1.loc[upper[0],'area']=Q3+1.5*IQR\n",
    "df1.loc[lower[0],'area']=Q1-1.5*IQR"
   ]
  },
  {
   "cell_type": "markdown",
   "id": "19c49062",
   "metadata": {},
   "source": [
    "#### method 2"
   ]
  },
  {
   "cell_type": "markdown",
   "id": "490e3c6f",
   "metadata": {},
   "source": [
    "Replacing outliers with 95th percentile and 5th percentile values"
   ]
  },
  {
   "cell_type": "code",
   "execution_count": 8,
   "id": "54d7c4e5",
   "metadata": {},
   "outputs": [],
   "source": [
    "upper = np.where(house['area'] >= nfifth)\n",
    "lower = np.where(house['area'] <= fifth)\n",
    "\n",
    "df2=house.copy()\n",
    "\n",
    "df2.loc[upper[0],'area']=nfifth\n",
    "df2.loc[lower[0],'area']=fifth"
   ]
  },
  {
   "cell_type": "code",
   "execution_count": null,
   "id": "d763acd9",
   "metadata": {},
   "outputs": [],
   "source": []
  },
  {
   "cell_type": "markdown",
   "id": "d761f919",
   "metadata": {},
   "source": [
    "#### method 3"
   ]
  },
  {
   "cell_type": "markdown",
   "id": "7b9d1bab",
   "metadata": {},
   "source": [
    "Replacing outliers with 75th and 25th percentile values"
   ]
  },
  {
   "cell_type": "code",
   "execution_count": 9,
   "id": "77ed5b90",
   "metadata": {},
   "outputs": [],
   "source": [
    "upper = np.where(house['area'] >= Q3)\n",
    "lower = np.where(house['area'] <= Q1)\n",
    "\n",
    "df3=house.copy()\n",
    "\n",
    "df3.loc[upper[0],'area']=Q3\n",
    "df3.loc[lower[0],'area']=Q1"
   ]
  },
  {
   "cell_type": "code",
   "execution_count": null,
   "id": "80d1d7e0",
   "metadata": {},
   "outputs": [],
   "source": []
  },
  {
   "cell_type": "markdown",
   "id": "19226ae2",
   "metadata": {},
   "source": [
    "### price column"
   ]
  },
  {
   "cell_type": "code",
   "execution_count": 10,
   "id": "124d1bc2",
   "metadata": {},
   "outputs": [],
   "source": [
    "Q1 = np.percentile(house['price'], 25)   #25th percentile  \n",
    "Q3 = np.percentile(house['price'], 75)   #75th percentile\n",
    "IQR = Q3 - Q1"
   ]
  },
  {
   "cell_type": "code",
   "execution_count": 11,
   "id": "3ef813a2",
   "metadata": {},
   "outputs": [],
   "source": [
    "nfifth = np.percentile(house['price'], 95)  #95th percentile\n",
    "fifth = np.percentile(house['price'], 5)    #5th percentile"
   ]
  },
  {
   "cell_type": "code",
   "execution_count": null,
   "id": "df0a74c4",
   "metadata": {},
   "outputs": [],
   "source": []
  },
  {
   "cell_type": "markdown",
   "id": "a72d04b5",
   "metadata": {},
   "source": [
    "#### method 1"
   ]
  },
  {
   "cell_type": "markdown",
   "id": "80ee58df",
   "metadata": {},
   "source": [
    "Replacing outliers with Q3+1.5xIQR and Q1-1.5xIQR"
   ]
  },
  {
   "cell_type": "code",
   "execution_count": 12,
   "id": "48350663",
   "metadata": {},
   "outputs": [],
   "source": [
    "upper = np.where(house['price'] >= (Q3+1.5*IQR))\n",
    "lower = np.where(house['price'] <= (Q1-1.5*IQR))\n",
    "\n",
    "df_p1=df3.copy()  ## method 3 for area is giving best accuracy\n",
    "\n",
    "df_p1.loc[upper[0],'price']=Q3+1.5*IQR\n",
    "df_p1.loc[lower[0],'price']=Q1-1.5*IQR"
   ]
  },
  {
   "cell_type": "markdown",
   "id": "dcf8831f",
   "metadata": {},
   "source": [
    "#### method 2"
   ]
  },
  {
   "cell_type": "markdown",
   "id": "2d3bc239",
   "metadata": {},
   "source": [
    "Replacing outliers with 95th percentile and 5th percentile values"
   ]
  },
  {
   "cell_type": "code",
   "execution_count": 13,
   "id": "1a7ef9eb",
   "metadata": {},
   "outputs": [],
   "source": [
    "upper = np.where(house['price'] >= nfifth)\n",
    "lower = np.where(house['price'] <= fifth)\n",
    "\n",
    "df_p2=df3.copy()\n",
    "\n",
    "df_p2.loc[upper[0],'price']=nfifth\n",
    "df_p2.loc[lower[0],'price']=fifth"
   ]
  },
  {
   "cell_type": "code",
   "execution_count": null,
   "id": "fe6b08d0",
   "metadata": {},
   "outputs": [],
   "source": []
  },
  {
   "cell_type": "markdown",
   "id": "fb3d0855",
   "metadata": {},
   "source": [
    "#### method 3"
   ]
  },
  {
   "cell_type": "markdown",
   "id": "4718c149",
   "metadata": {},
   "source": [
    "Replacing outliers with 75th and 25th percentile values"
   ]
  },
  {
   "cell_type": "code",
   "execution_count": 14,
   "id": "7844c8f4",
   "metadata": {},
   "outputs": [],
   "source": [
    "upper = np.where(house['price'] >= Q3)\n",
    "lower = np.where(house['price'] <= Q1)\n",
    "\n",
    "df_p3=df3.copy()\n",
    "\n",
    "df_p3.loc[upper[0],'price']=Q3\n",
    "df_p3.loc[lower[0],'price']=Q1"
   ]
  },
  {
   "cell_type": "code",
   "execution_count": null,
   "id": "995c4da5",
   "metadata": {},
   "outputs": [],
   "source": []
  },
  {
   "cell_type": "markdown",
   "id": "85e2b504",
   "metadata": {},
   "source": [
    "### rooms column"
   ]
  },
  {
   "cell_type": "code",
   "execution_count": 15,
   "id": "afc700f9",
   "metadata": {},
   "outputs": [
    {
     "name": "stderr",
     "output_type": "stream",
     "text": [
      "C:\\Users\\prate\\AppData\\Local\\Programs\\Python\\Python310\\lib\\site-packages\\seaborn\\_decorators.py:36: FutureWarning: Pass the following variable as a keyword arg: x. From version 0.12, the only valid positional argument will be `data`, and passing other arguments without an explicit keyword will result in an error or misinterpretation.\n",
      "  warnings.warn(\n"
     ]
    },
    {
     "data": {
      "text/plain": [
       "<AxesSubplot:xlabel='rooms'>"
      ]
     },
     "execution_count": 15,
     "metadata": {},
     "output_type": "execute_result"
    },
    {
     "data": {
      "image/png": "[encoded data removed]",
      "text/plain": [
       "<Figure size 432x288 with 1 Axes>"
      ]
     },
     "metadata": {
      "needs_background": "light"
     },
     "output_type": "display_data"
    }
   ],
   "source": [
    "sns.boxplot(house['rooms'])"
   ]
  },
  {
   "cell_type": "code",
   "execution_count": 16,
   "id": "7687ca1c",
   "metadata": {},
   "outputs": [],
   "source": [
    "Q1 = np.percentile(house['rooms'], 25)   #25th percentile  \n",
    "Q3 = np.percentile(house['rooms'], 75)   #75th percentile\n",
    "IQR = Q3 - Q1\n",
    "\n",
    "nfifth = np.percentile(house['rooms'], 95)  #95th percentile\n",
    "fifth = np.percentile(house['rooms'], 5)    #5th percentile"
   ]
  },
  {
   "cell_type": "markdown",
   "id": "0cb3b60b",
   "metadata": {},
   "source": [
    "#### method 1"
   ]
  },
  {
   "cell_type": "markdown",
   "id": "08b02ce4",
   "metadata": {},
   "source": [
    "Replacing outliers with Q3+1.5xIQR and Q1-1.5xIQR"
   ]
  },
  {
   "cell_type": "code",
   "execution_count": 17,
   "id": "138f42f4",
   "metadata": {},
   "outputs": [],
   "source": [
    "upper = np.where(house['rooms'] >= (Q3+1.5*IQR))\n",
    "lower = np.where(house['rooms'] <= (Q1-1.5*IQR))\n",
    "\n",
    "df_r1=df_p2.copy()  # method 2 for price column gives best accuracy\n",
    "\n",
    "df_r1.loc[upper[0],'rooms']=Q3+1.5*IQR\n",
    "df_r1.loc[lower[0],'rooms']=Q1-1.5*IQR"
   ]
  },
  {
   "cell_type": "markdown",
   "id": "2604d6c7",
   "metadata": {},
   "source": [
    "#### method 2"
   ]
  },
  {
   "cell_type": "markdown",
   "id": "f6a866ad",
   "metadata": {},
   "source": [
    "Replacing outliers with 95th percentile and 5th percentile values"
   ]
  },
  {
   "cell_type": "code",
   "execution_count": 18,
   "id": "2bdd2cbe",
   "metadata": {},
   "outputs": [],
   "source": [
    "upper = np.where(house['rooms'] >= nfifth)\n",
    "lower = np.where(house['rooms'] <= fifth)\n",
    "\n",
    "df_r2=df_p2.copy()\n",
    "\n",
    "df_r2.loc[upper[0],'rooms']=nfifth\n",
    "df_r2.loc[lower[0],'rooms']=fifth"
   ]
  },
  {
   "cell_type": "code",
   "execution_count": null,
   "id": "f85da9b9",
   "metadata": {},
   "outputs": [],
   "source": []
  },
  {
   "cell_type": "markdown",
   "id": "522a5466",
   "metadata": {},
   "source": [
    "#### method 3"
   ]
  },
  {
   "cell_type": "markdown",
   "id": "64573b19",
   "metadata": {},
   "source": [
    "Replacing outliers with 75th and 25th percentile values"
   ]
  },
  {
   "cell_type": "code",
   "execution_count": 19,
   "id": "abb50274",
   "metadata": {},
   "outputs": [],
   "source": [
    "upper = np.where(house['rooms'] >= Q3)\n",
    "lower = np.where(house['rooms'] <= Q1)\n",
    "\n",
    "df_r3=df_p2.copy()\n",
    "\n",
    "df_r3.loc[upper[0],'rooms']=Q3\n",
    "df_r3.loc[lower[0],'rooms']=Q1"
   ]
  },
  {
   "cell_type": "code",
   "execution_count": null,
   "id": "46b47eb9",
   "metadata": {},
   "outputs": [],
   "source": []
  },
  {
   "cell_type": "markdown",
   "id": "deec4edc",
   "metadata": {},
   "source": [
    "### floors column"
   ]
  },
  {
   "cell_type": "code",
   "execution_count": null,
   "id": "87d332ef",
   "metadata": {},
   "outputs": [],
   "source": []
  },
  {
   "cell_type": "code",
   "execution_count": 20,
   "id": "5f1609ec",
   "metadata": {},
   "outputs": [
    {
     "name": "stderr",
     "output_type": "stream",
     "text": [
      "C:\\Users\\prate\\AppData\\Local\\Programs\\Python\\Python310\\lib\\site-packages\\seaborn\\_decorators.py:36: FutureWarning: Pass the following variable as a keyword arg: x. From version 0.12, the only valid positional argument will be `data`, and passing other arguments without an explicit keyword will result in an error or misinterpretation.\n",
      "  warnings.warn(\n"
     ]
    },
    {
     "data": {
      "text/plain": [
       "<AxesSubplot:xlabel='floors'>"
      ]
     },
     "execution_count": 20,
     "metadata": {},
     "output_type": "execute_result"
    },
    {
     "data": {
      "image/png": "[encoded data removed]",
      "text/plain": [
       "<Figure size 432x288 with 1 Axes>"
      ]
     },
     "metadata": {
      "needs_background": "light"
     },
     "output_type": "display_data"
    }
   ],
   "source": [
    "sns.boxplot(house['floors'])"
   ]
  },
  {
   "cell_type": "code",
   "execution_count": null,
   "id": "485efa4a",
   "metadata": {},
   "outputs": [],
   "source": []
  },
  {
   "cell_type": "code",
   "execution_count": 21,
   "id": "226a634b",
   "metadata": {},
   "outputs": [
    {
     "data": {
      "text/plain": [
       "<AxesSubplot:xlabel='floors', ylabel='price'>"
      ]
     },
     "execution_count": 21,
     "metadata": {},
     "output_type": "execute_result"
    },
    {
     "data": {
      "image/png": "[encoded data removed]",
      "text/plain": [
       "<Figure size 432x288 with 1 Axes>"
      ]
     },
     "metadata": {
      "needs_background": "light"
     },
     "output_type": "display_data"
    }
   ],
   "source": [
    "sns.scatterplot(x='floors',y='price',data=house)"
   ]
  },
  {
   "cell_type": "code",
   "execution_count": null,
   "id": "e4b4ae8c",
   "metadata": {},
   "outputs": [],
   "source": []
  },
  {
   "cell_type": "code",
   "execution_count": 22,
   "id": "5b6da38a",
   "metadata": {},
   "outputs": [],
   "source": [
    "Q1 = np.percentile(house['floors'], 25)   #25th percentile  \n",
    "Q3 = np.percentile(house['floors'], 75)   #75th percentile\n",
    "IQR = Q3 - Q1\n",
    "\n",
    "nfifth = np.percentile(house['floors'], 95)  #95th percentile\n",
    "fifth = np.percentile(house['floors'], 5)    #5th percentile"
   ]
  },
  {
   "cell_type": "code",
   "execution_count": 546,
   "id": "bd22461a",
   "metadata": {},
   "outputs": [
    {
     "data": {
      "text/plain": [
       "2.0"
      ]
     },
     "execution_count": 546,
     "metadata": {},
     "output_type": "execute_result"
    }
   ],
   "source": [
    "Q3"
   ]
  },
  {
   "cell_type": "code",
   "execution_count": 547,
   "id": "120508cb",
   "metadata": {},
   "outputs": [
    {
     "data": {
      "text/plain": [
       "4.0"
      ]
     },
     "execution_count": 547,
     "metadata": {},
     "output_type": "execute_result"
    }
   ],
   "source": [
    "nfifth  ## cant use this as this is the outlier value"
   ]
  },
  {
   "cell_type": "code",
   "execution_count": 23,
   "id": "f28077fa",
   "metadata": {},
   "outputs": [],
   "source": [
    "df11=df_r3.copy()  #method 3 for rooms column is giving best accuracy\n",
    "df11.drop(df11[df11['floors'] == 4].index, inplace=True)    ## we will also test if dropping the outliers increase the accuracy"
   ]
  },
  {
   "cell_type": "code",
   "execution_count": null,
   "id": "96658b24",
   "metadata": {},
   "outputs": [],
   "source": []
  },
  {
   "cell_type": "markdown",
   "id": "4bf6c37b",
   "metadata": {},
   "source": [
    "#### method 1"
   ]
  },
  {
   "cell_type": "markdown",
   "id": "5ff6265f",
   "metadata": {},
   "source": [
    "Replacing outliers with Q3+1.5xIQR and Q1-1.5xIQR"
   ]
  },
  {
   "cell_type": "code",
   "execution_count": 24,
   "id": "fedcc7d6",
   "metadata": {},
   "outputs": [],
   "source": [
    "upper = np.where(house['floors'] >= (Q3+1.5*IQR))\n",
    "lower = np.where(house['floors'] <= (Q1-1.5*IQR))\n",
    "\n",
    "df_f1=df_r3.copy()\n",
    "\n",
    "df_f1.loc[upper[0],'floors']=Q3+1.5*IQR\n",
    "df_f1.loc[lower[0],'floors']=Q1-1.5*IQR"
   ]
  },
  {
   "cell_type": "markdown",
   "id": "b96ba7cf",
   "metadata": {},
   "source": [
    "#### method 2"
   ]
  },
  {
   "cell_type": "markdown",
   "id": "fe65719c",
   "metadata": {},
   "source": [
    "Replacing outliers with 75th and 25th percentile values"
   ]
  },
  {
   "cell_type": "code",
   "execution_count": 25,
   "id": "d7765990",
   "metadata": {},
   "outputs": [],
   "source": [
    "upper = np.where(house['floors'] >= Q3)\n",
    "lower = np.where(house['floors'] <= Q1)\n",
    "\n",
    "df_f2=df_r3.copy()\n",
    "\n",
    "df_f2.loc[upper[0],'floors']=Q3\n",
    "df_f2.loc[lower[0],'floors']=Q1"
   ]
  },
  {
   "cell_type": "code",
   "execution_count": null,
   "id": "e79ae7a4",
   "metadata": {},
   "outputs": [],
   "source": []
  },
  {
   "cell_type": "markdown",
   "id": "8b9e2526",
   "metadata": {},
   "source": [
    "## Model without outlier treatment"
   ]
  },
  {
   "cell_type": "code",
   "execution_count": 26,
   "id": "0359b63a",
   "metadata": {},
   "outputs": [],
   "source": [
    "## Feature scaling"
   ]
  },
  {
   "cell_type": "code",
   "execution_count": 27,
   "id": "f2d5c59d",
   "metadata": {},
   "outputs": [],
   "source": [
    "house1=house.copy()"
   ]
  },
  {
   "cell_type": "code",
   "execution_count": 28,
   "id": "3fe4bbbd",
   "metadata": {},
   "outputs": [],
   "source": [
    "data = house1.iloc[::].values  ## standardization of the data\n",
    "from sklearn import preprocessing\n",
    "house1_standardized = preprocessing.scale(data)\n",
    "house1_standardized = pd.DataFrame(house1_standardized)"
   ]
  },
  {
   "cell_type": "code",
   "execution_count": 29,
   "id": "e9f11da7",
   "metadata": {},
   "outputs": [],
   "source": [
    "house1_standardized = house1_standardized.rename(columns = {0:'price',1: 'area',2: 'rooms', \n",
    "                         3: 'bathroom', 4: 'floors',5: 'driveway',\n",
    "                         6:'game_room', 7: 'cellar', \n",
    "                         8: 'gas', 9:'air', 10: 'garage', 11: 'situation'})"
   ]
  },
  {
   "cell_type": "code",
   "execution_count": 30,
   "id": "83fad851",
   "metadata": {},
   "outputs": [],
   "source": [
    "# house1_standardized"
   ]
  },
  {
   "cell_type": "code",
   "execution_count": 31,
   "id": "755dc8f2",
   "metadata": {},
   "outputs": [],
   "source": [
    "X = house1_standardized[['area', 'rooms', 'bathroom', 'floors', 'driveway','game_room',\n",
    "       'cellar', 'gas', 'air', 'garage', 'situation']]\n",
    "y = house1_standardized['price']"
   ]
  },
  {
   "cell_type": "code",
   "execution_count": 32,
   "id": "7c3ff258",
   "metadata": {},
   "outputs": [],
   "source": [
    "X_train, X_test, y_train, y_test = train_test_split( X, y, test_size=0.3, random_state=1000)"
   ]
  },
  {
   "cell_type": "code",
   "execution_count": 33,
   "id": "c9c9c98f",
   "metadata": {},
   "outputs": [],
   "source": [
    "X_endog = sm.add_constant(X_test)\n",
    "res = sm.OLS(y_test, X_endog)\n",
    "olsmod=res.fit()"
   ]
  },
  {
   "cell_type": "code",
   "execution_count": 34,
   "id": "029ee87f",
   "metadata": {},
   "outputs": [
    {
     "data": {
      "text/html": [
       "<table class=\"simpletable\">\n",
       "<caption>OLS Regression Results</caption>\n",
       "<tr>\n",
       "  <th>Dep. Variable:</th>          <td>price</td>      <th>  R-squared:         </th> <td>   0.695</td>\n",
       "</tr>\n",
       "<tr>\n",
       "  <th>Model:</th>                   <td>OLS</td>       <th>  Adj. R-squared:    </th> <td>   0.673</td>\n",
       "</tr>\n",
       "<tr>\n",
       "  <th>Method:</th>             <td>Least Squares</td>  <th>  F-statistic:       </th> <td>   31.45</td>\n",
       "</tr>\n",
       "<tr>\n",
       "  <th>Date:</th>             <td>Tue, 22 Feb 2022</td> <th>  Prob (F-statistic):</th> <td>8.83e-34</td>\n",
       "</tr>\n",
       "<tr>\n",
       "  <th>Time:</th>                 <td>19:21:15</td>     <th>  Log-Likelihood:    </th> <td> -153.13</td>\n",
       "</tr>\n",
       "<tr>\n",
       "  <th>No. Observations:</th>      <td>   164</td>      <th>  AIC:               </th> <td>   330.3</td>\n",
       "</tr>\n",
       "<tr>\n",
       "  <th>Df Residuals:</th>          <td>   152</td>      <th>  BIC:               </th> <td>   367.5</td>\n",
       "</tr>\n",
       "<tr>\n",
       "  <th>Df Model:</th>              <td>    11</td>      <th>                     </th>     <td> </td>   \n",
       "</tr>\n",
       "<tr>\n",
       "  <th>Covariance Type:</th>      <td>nonrobust</td>    <th>                     </th>     <td> </td>   \n",
       "</tr>\n",
       "</table>\n",
       "<table class=\"simpletable\">\n",
       "<tr>\n",
       "      <td></td>         <th>coef</th>     <th>std err</th>      <th>t</th>      <th>P>|t|</th>  <th>[0.025</th>    <th>0.975]</th>  \n",
       "</tr>\n",
       "<tr>\n",
       "  <th>const</th>     <td>    0.0920</td> <td>    0.051</td> <td>    1.813</td> <td> 0.072</td> <td>   -0.008</td> <td>    0.192</td>\n",
       "</tr>\n",
       "<tr>\n",
       "  <th>area</th>      <td>    0.2844</td> <td>    0.052</td> <td>    5.421</td> <td> 0.000</td> <td>    0.181</td> <td>    0.388</td>\n",
       "</tr>\n",
       "<tr>\n",
       "  <th>rooms</th>     <td>   -0.0138</td> <td>    0.062</td> <td>   -0.223</td> <td> 0.823</td> <td>   -0.135</td> <td>    0.108</td>\n",
       "</tr>\n",
       "<tr>\n",
       "  <th>bathroom</th>  <td>    0.3544</td> <td>    0.060</td> <td>    5.877</td> <td> 0.000</td> <td>    0.235</td> <td>    0.474</td>\n",
       "</tr>\n",
       "<tr>\n",
       "  <th>floors</th>    <td>    0.2911</td> <td>    0.066</td> <td>    4.389</td> <td> 0.000</td> <td>    0.160</td> <td>    0.422</td>\n",
       "</tr>\n",
       "<tr>\n",
       "  <th>driveway</th>  <td>    0.0613</td> <td>    0.057</td> <td>    1.082</td> <td> 0.281</td> <td>   -0.051</td> <td>    0.173</td>\n",
       "</tr>\n",
       "<tr>\n",
       "  <th>game_room</th> <td>    0.0742</td> <td>    0.057</td> <td>    1.307</td> <td> 0.193</td> <td>   -0.038</td> <td>    0.186</td>\n",
       "</tr>\n",
       "<tr>\n",
       "  <th>cellar</th>    <td>    0.0499</td> <td>    0.062</td> <td>    0.810</td> <td> 0.419</td> <td>   -0.072</td> <td>    0.172</td>\n",
       "</tr>\n",
       "<tr>\n",
       "  <th>gas</th>       <td>    0.1552</td> <td>    0.054</td> <td>    2.880</td> <td> 0.005</td> <td>    0.049</td> <td>    0.262</td>\n",
       "</tr>\n",
       "<tr>\n",
       "  <th>air</th>       <td>    0.2074</td> <td>    0.056</td> <td>    3.693</td> <td> 0.000</td> <td>    0.096</td> <td>    0.318</td>\n",
       "</tr>\n",
       "<tr>\n",
       "  <th>garage</th>    <td>    0.2159</td> <td>    0.058</td> <td>    3.746</td> <td> 0.000</td> <td>    0.102</td> <td>    0.330</td>\n",
       "</tr>\n",
       "<tr>\n",
       "  <th>situation</th> <td>    0.2435</td> <td>    0.057</td> <td>    4.285</td> <td> 0.000</td> <td>    0.131</td> <td>    0.356</td>\n",
       "</tr>\n",
       "</table>\n",
       "<table class=\"simpletable\">\n",
       "<tr>\n",
       "  <th>Omnibus:</th>       <td>44.641</td> <th>  Durbin-Watson:     </th> <td>   1.890</td>\n",
       "</tr>\n",
       "<tr>\n",
       "  <th>Prob(Omnibus):</th> <td> 0.000</td> <th>  Jarque-Bera (JB):  </th> <td> 114.776</td>\n",
       "</tr>\n",
       "<tr>\n",
       "  <th>Skew:</th>          <td> 1.121</td> <th>  Prob(JB):          </th> <td>1.19e-25</td>\n",
       "</tr>\n",
       "<tr>\n",
       "  <th>Kurtosis:</th>      <td> 6.431</td> <th>  Cond. No.          </th> <td>    2.62</td>\n",
       "</tr>\n",
       "</table><br/><br/>Notes:<br/>[1] Standard Errors assume that the covariance matrix of the errors is correctly specified."
      ],
      "text/plain": [
       "<class 'statsmodels.iolib.summary.Summary'>\n",
       "\"\"\"\n",
       "                            OLS Regression Results                            \n",
       "==============================================================================\n",
       "Dep. Variable:                  price   R-squared:                       0.695\n",
       "Model:                            OLS   Adj. R-squared:                  0.673\n",
       "Method:                 Least Squares   F-statistic:                     31.45\n",
       "Date:                Tue, 22 Feb 2022   Prob (F-statistic):           8.83e-34\n",
       "Time:                        19:21:15   Log-Likelihood:                -153.13\n",
       "No. Observations:                 164   AIC:                             330.3\n",
       "Df Residuals:                     152   BIC:                             367.5\n",
       "Df Model:                          11                                         \n",
       "Covariance Type:            nonrobust                                         \n",
       "==============================================================================\n",
       "                 coef    std err          t      P>|t|      [0.025      0.975]\n",
       "------------------------------------------------------------------------------\n",
       "const          0.0920      0.051      1.813      0.072      -0.008       0.192\n",
       "area           0.2844      0.052      5.421      0.000       0.181       0.388\n",
       "rooms         -0.0138      0.062     -0.223      0.823      -0.135       0.108\n",
       "bathroom       0.3544      0.060      5.877      0.000       0.235       0.474\n",
       "floors         0.2911      0.066      4.389      0.000       0.160       0.422\n",
       "driveway       0.0613      0.057      1.082      0.281      -0.051       0.173\n",
       "game_room      0.0742      0.057      1.307      0.193      -0.038       0.186\n",
       "cellar         0.0499      0.062      0.810      0.419      -0.072       0.172\n",
       "gas            0.1552      0.054      2.880      0.005       0.049       0.262\n",
       "air            0.2074      0.056      3.693      0.000       0.096       0.318\n",
       "garage         0.2159      0.058      3.746      0.000       0.102       0.330\n",
       "situation      0.2435      0.057      4.285      0.000       0.131       0.356\n",
       "==============================================================================\n",
       "Omnibus:                       44.641   Durbin-Watson:                   1.890\n",
       "Prob(Omnibus):                  0.000   Jarque-Bera (JB):              114.776\n",
       "Skew:                           1.121   Prob(JB):                     1.19e-25\n",
       "Kurtosis:                       6.431   Cond. No.                         2.62\n",
       "==============================================================================\n",
       "\n",
       "Notes:\n",
       "[1] Standard Errors assume that the covariance matrix of the errors is correctly specified.\n",
       "\"\"\""
      ]
     },
     "execution_count": 34,
     "metadata": {},
     "output_type": "execute_result"
    }
   ],
   "source": [
    "res.fit().summary()"
   ]
  },
  {
   "cell_type": "code",
   "execution_count": null,
   "id": "172f5f15",
   "metadata": {},
   "outputs": [],
   "source": []
  },
  {
   "cell_type": "markdown",
   "id": "ddec3a5b",
   "metadata": {},
   "source": [
    "## Model after outlier treatment"
   ]
  },
  {
   "cell_type": "code",
   "execution_count": 35,
   "id": "e2f2d904",
   "metadata": {},
   "outputs": [],
   "source": [
    "## method 3 for area, method 2 for price and method 3 for rooms"
   ]
  },
  {
   "cell_type": "code",
   "execution_count": null,
   "id": "3b28da2b",
   "metadata": {},
   "outputs": [],
   "source": []
  },
  {
   "cell_type": "code",
   "execution_count": null,
   "id": "1aa66f34",
   "metadata": {},
   "outputs": [],
   "source": []
  },
  {
   "cell_type": "markdown",
   "id": "3f30d492",
   "metadata": {},
   "source": [
    "### dropping the floors column outliers"
   ]
  },
  {
   "cell_type": "code",
   "execution_count": 36,
   "id": "afd7adca",
   "metadata": {},
   "outputs": [],
   "source": [
    "data = df11.iloc[::].values  #standardize the data to normal distribution\n",
    "from sklearn import preprocessing\n",
    "house1_standardized = preprocessing.scale(data)\n",
    "house1_standardized = pd.DataFrame(house1_standardized)\n",
    "\n",
    "house1_standardized = house1_standardized.rename(columns = {0:'price',1: 'area',2: 'rooms', \n",
    "                         3: 'bathroom', 4: 'floors',5: 'driveway',\n",
    "                         6:'game_room', 7: 'cellar', \n",
    "                         8: 'gas', 9:'air', 10: 'garage', 11: 'situation'})"
   ]
  },
  {
   "cell_type": "code",
   "execution_count": null,
   "id": "aabed26d",
   "metadata": {},
   "outputs": [],
   "source": []
  },
  {
   "cell_type": "code",
   "execution_count": 37,
   "id": "c51d7690",
   "metadata": {},
   "outputs": [],
   "source": [
    "X = house1_standardized[['area', 'rooms', 'bathroom', 'floors', 'driveway','game_room',\n",
    "       'cellar', 'gas', 'air', 'garage', 'situation']]\n",
    "y = house1_standardized['price']"
   ]
  },
  {
   "cell_type": "code",
   "execution_count": 38,
   "id": "f3c105d6",
   "metadata": {},
   "outputs": [],
   "source": [
    "X_train, X_test, y_train, y_test = train_test_split( X, y, test_size=0.3, random_state=1000)"
   ]
  },
  {
   "cell_type": "code",
   "execution_count": 39,
   "id": "b39c99f3",
   "metadata": {},
   "outputs": [],
   "source": [
    "X_endog = sm.add_constant(X_test)\n",
    "res = sm.OLS(y_test, X_endog)\n",
    "olsmod=res.fit()"
   ]
  },
  {
   "cell_type": "code",
   "execution_count": 40,
   "id": "3f38777d",
   "metadata": {},
   "outputs": [
    {
     "data": {
      "text/html": [
       "<table class=\"simpletable\">\n",
       "<caption>OLS Regression Results</caption>\n",
       "<tr>\n",
       "  <th>Dep. Variable:</th>          <td>price</td>      <th>  R-squared:         </th> <td>   0.640</td>\n",
       "</tr>\n",
       "<tr>\n",
       "  <th>Model:</th>                   <td>OLS</td>       <th>  Adj. R-squared:    </th> <td>   0.612</td>\n",
       "</tr>\n",
       "<tr>\n",
       "  <th>Method:</th>             <td>Least Squares</td>  <th>  F-statistic:       </th> <td>   22.65</td>\n",
       "</tr>\n",
       "<tr>\n",
       "  <th>Date:</th>             <td>Tue, 22 Feb 2022</td> <th>  Prob (F-statistic):</th> <td>5.25e-26</td>\n",
       "</tr>\n",
       "<tr>\n",
       "  <th>Time:</th>                 <td>19:21:26</td>     <th>  Log-Likelihood:    </th> <td> -132.14</td>\n",
       "</tr>\n",
       "<tr>\n",
       "  <th>No. Observations:</th>      <td>   152</td>      <th>  AIC:               </th> <td>   288.3</td>\n",
       "</tr>\n",
       "<tr>\n",
       "  <th>Df Residuals:</th>          <td>   140</td>      <th>  BIC:               </th> <td>   324.6</td>\n",
       "</tr>\n",
       "<tr>\n",
       "  <th>Df Model:</th>              <td>    11</td>      <th>                     </th>     <td> </td>   \n",
       "</tr>\n",
       "<tr>\n",
       "  <th>Covariance Type:</th>      <td>nonrobust</td>    <th>                     </th>     <td> </td>   \n",
       "</tr>\n",
       "</table>\n",
       "<table class=\"simpletable\">\n",
       "<tr>\n",
       "      <td></td>         <th>coef</th>     <th>std err</th>      <th>t</th>      <th>P>|t|</th>  <th>[0.025</th>    <th>0.975]</th>  \n",
       "</tr>\n",
       "<tr>\n",
       "  <th>const</th>     <td>   -0.0117</td> <td>    0.050</td> <td>   -0.236</td> <td> 0.814</td> <td>   -0.110</td> <td>    0.087</td>\n",
       "</tr>\n",
       "<tr>\n",
       "  <th>area</th>      <td>    0.2623</td> <td>    0.061</td> <td>    4.323</td> <td> 0.000</td> <td>    0.142</td> <td>    0.382</td>\n",
       "</tr>\n",
       "<tr>\n",
       "  <th>rooms</th>     <td>    0.1069</td> <td>    0.058</td> <td>    1.852</td> <td> 0.066</td> <td>   -0.007</td> <td>    0.221</td>\n",
       "</tr>\n",
       "<tr>\n",
       "  <th>bathroom</th>  <td>    0.2064</td> <td>    0.055</td> <td>    3.744</td> <td> 0.000</td> <td>    0.097</td> <td>    0.315</td>\n",
       "</tr>\n",
       "<tr>\n",
       "  <th>floors</th>    <td>    0.1495</td> <td>    0.060</td> <td>    2.508</td> <td> 0.013</td> <td>    0.032</td> <td>    0.267</td>\n",
       "</tr>\n",
       "<tr>\n",
       "  <th>driveway</th>  <td>    0.1551</td> <td>    0.056</td> <td>    2.753</td> <td> 0.007</td> <td>    0.044</td> <td>    0.267</td>\n",
       "</tr>\n",
       "<tr>\n",
       "  <th>game_room</th> <td>    0.0712</td> <td>    0.057</td> <td>    1.249</td> <td> 0.214</td> <td>   -0.042</td> <td>    0.184</td>\n",
       "</tr>\n",
       "<tr>\n",
       "  <th>cellar</th>    <td>    0.0967</td> <td>    0.062</td> <td>    1.559</td> <td> 0.121</td> <td>   -0.026</td> <td>    0.219</td>\n",
       "</tr>\n",
       "<tr>\n",
       "  <th>gas</th>       <td>    0.1506</td> <td>    0.055</td> <td>    2.726</td> <td> 0.007</td> <td>    0.041</td> <td>    0.260</td>\n",
       "</tr>\n",
       "<tr>\n",
       "  <th>air</th>       <td>    0.2153</td> <td>    0.053</td> <td>    4.049</td> <td> 0.000</td> <td>    0.110</td> <td>    0.320</td>\n",
       "</tr>\n",
       "<tr>\n",
       "  <th>garage</th>    <td>    0.0919</td> <td>    0.056</td> <td>    1.649</td> <td> 0.101</td> <td>   -0.018</td> <td>    0.202</td>\n",
       "</tr>\n",
       "<tr>\n",
       "  <th>situation</th> <td>    0.1890</td> <td>    0.054</td> <td>    3.477</td> <td> 0.001</td> <td>    0.082</td> <td>    0.296</td>\n",
       "</tr>\n",
       "</table>\n",
       "<table class=\"simpletable\">\n",
       "<tr>\n",
       "  <th>Omnibus:</th>       <td>19.949</td> <th>  Durbin-Watson:     </th> <td>   1.959</td>\n",
       "</tr>\n",
       "<tr>\n",
       "  <th>Prob(Omnibus):</th> <td> 0.000</td> <th>  Jarque-Bera (JB):  </th> <td>  36.043</td>\n",
       "</tr>\n",
       "<tr>\n",
       "  <th>Skew:</th>          <td> 0.622</td> <th>  Prob(JB):          </th> <td>1.49e-08</td>\n",
       "</tr>\n",
       "<tr>\n",
       "  <th>Kurtosis:</th>      <td> 5.036</td> <th>  Cond. No.          </th> <td>    2.54</td>\n",
       "</tr>\n",
       "</table><br/><br/>Notes:<br/>[1] Standard Errors assume that the covariance matrix of the errors is correctly specified."
      ],
      "text/plain": [
       "<class 'statsmodels.iolib.summary.Summary'>\n",
       "\"\"\"\n",
       "                            OLS Regression Results                            \n",
       "==============================================================================\n",
       "Dep. Variable:                  price   R-squared:                       0.640\n",
       "Model:                            OLS   Adj. R-squared:                  0.612\n",
       "Method:                 Least Squares   F-statistic:                     22.65\n",
       "Date:                Tue, 22 Feb 2022   Prob (F-statistic):           5.25e-26\n",
       "Time:                        19:21:26   Log-Likelihood:                -132.14\n",
       "No. Observations:                 152   AIC:                             288.3\n",
       "Df Residuals:                     140   BIC:                             324.6\n",
       "Df Model:                          11                                         \n",
       "Covariance Type:            nonrobust                                         \n",
       "==============================================================================\n",
       "                 coef    std err          t      P>|t|      [0.025      0.975]\n",
       "------------------------------------------------------------------------------\n",
       "const         -0.0117      0.050     -0.236      0.814      -0.110       0.087\n",
       "area           0.2623      0.061      4.323      0.000       0.142       0.382\n",
       "rooms          0.1069      0.058      1.852      0.066      -0.007       0.221\n",
       "bathroom       0.2064      0.055      3.744      0.000       0.097       0.315\n",
       "floors         0.1495      0.060      2.508      0.013       0.032       0.267\n",
       "driveway       0.1551      0.056      2.753      0.007       0.044       0.267\n",
       "game_room      0.0712      0.057      1.249      0.214      -0.042       0.184\n",
       "cellar         0.0967      0.062      1.559      0.121      -0.026       0.219\n",
       "gas            0.1506      0.055      2.726      0.007       0.041       0.260\n",
       "air            0.2153      0.053      4.049      0.000       0.110       0.320\n",
       "garage         0.0919      0.056      1.649      0.101      -0.018       0.202\n",
       "situation      0.1890      0.054      3.477      0.001       0.082       0.296\n",
       "==============================================================================\n",
       "Omnibus:                       19.949   Durbin-Watson:                   1.959\n",
       "Prob(Omnibus):                  0.000   Jarque-Bera (JB):               36.043\n",
       "Skew:                           0.622   Prob(JB):                     1.49e-08\n",
       "Kurtosis:                       5.036   Cond. No.                         2.54\n",
       "==============================================================================\n",
       "\n",
       "Notes:\n",
       "[1] Standard Errors assume that the covariance matrix of the errors is correctly specified.\n",
       "\"\"\""
      ]
     },
     "execution_count": 40,
     "metadata": {},
     "output_type": "execute_result"
    }
   ],
   "source": [
    "res.fit().summary()"
   ]
  },
  {
   "cell_type": "code",
   "execution_count": null,
   "id": "d7eb5f76",
   "metadata": {},
   "outputs": [],
   "source": []
  },
  {
   "cell_type": "markdown",
   "id": "1a3e11f8",
   "metadata": {},
   "source": [
    "### flooring and caping the floors column outliers"
   ]
  },
  {
   "cell_type": "code",
   "execution_count": 41,
   "id": "11eb40a9",
   "metadata": {},
   "outputs": [],
   "source": [
    "data = df_f2.iloc[::].values  #standardize the data to normal distribution\n",
    "from sklearn import preprocessing\n",
    "house1_standardized = preprocessing.scale(data)\n",
    "house1_standardized = pd.DataFrame(house1_standardized)\n",
    "\n",
    "house1_standardized = house1_standardized.rename(columns = {0:'price',1: 'area',2: 'rooms', \n",
    "                         3: 'bathroom', 4: 'floors',5: 'driveway',\n",
    "                         6:'game_room', 7: 'cellar', \n",
    "                         8: 'gas', 9:'air', 10: 'garage', 11: 'situation'})"
   ]
  },
  {
   "cell_type": "code",
   "execution_count": null,
   "id": "5c477cf4",
   "metadata": {},
   "outputs": [],
   "source": []
  },
  {
   "cell_type": "code",
   "execution_count": 42,
   "id": "5e1a3d39",
   "metadata": {},
   "outputs": [],
   "source": [
    "X = house1_standardized[['area', 'rooms', 'bathroom', 'floors', 'driveway','game_room',\n",
    "       'cellar', 'gas', 'air', 'garage', 'situation']]\n",
    "y = house1_standardized['price']"
   ]
  },
  {
   "cell_type": "code",
   "execution_count": 43,
   "id": "d0eab19f",
   "metadata": {},
   "outputs": [],
   "source": [
    "X_train, X_test, y_train, y_test = train_test_split( X, y, test_size=0.3, random_state=1000)"
   ]
  },
  {
   "cell_type": "code",
   "execution_count": 44,
   "id": "658da86a",
   "metadata": {},
   "outputs": [],
   "source": [
    "X_endog = sm.add_constant(X_test)\n",
    "res = sm.OLS(y_test, X_endog)\n",
    "olsmod=res.fit()"
   ]
  },
  {
   "cell_type": "code",
   "execution_count": 45,
   "id": "630c6990",
   "metadata": {},
   "outputs": [
    {
     "data": {
      "text/html": [
       "<table class=\"simpletable\">\n",
       "<caption>OLS Regression Results</caption>\n",
       "<tr>\n",
       "  <th>Dep. Variable:</th>          <td>price</td>      <th>  R-squared:         </th> <td>   0.710</td>\n",
       "</tr>\n",
       "<tr>\n",
       "  <th>Model:</th>                   <td>OLS</td>       <th>  Adj. R-squared:    </th> <td>   0.689</td>\n",
       "</tr>\n",
       "<tr>\n",
       "  <th>Method:</th>             <td>Least Squares</td>  <th>  F-statistic:       </th> <td>   33.77</td>\n",
       "</tr>\n",
       "<tr>\n",
       "  <th>Date:</th>             <td>Tue, 22 Feb 2022</td> <th>  Prob (F-statistic):</th> <td>2.17e-35</td>\n",
       "</tr>\n",
       "<tr>\n",
       "  <th>Time:</th>                 <td>19:21:39</td>     <th>  Log-Likelihood:    </th> <td> -140.12</td>\n",
       "</tr>\n",
       "<tr>\n",
       "  <th>No. Observations:</th>      <td>   164</td>      <th>  AIC:               </th> <td>   304.2</td>\n",
       "</tr>\n",
       "<tr>\n",
       "  <th>Df Residuals:</th>          <td>   152</td>      <th>  BIC:               </th> <td>   341.4</td>\n",
       "</tr>\n",
       "<tr>\n",
       "  <th>Df Model:</th>              <td>    11</td>      <th>                     </th>     <td> </td>   \n",
       "</tr>\n",
       "<tr>\n",
       "  <th>Covariance Type:</th>      <td>nonrobust</td>    <th>                     </th>     <td> </td>   \n",
       "</tr>\n",
       "</table>\n",
       "<table class=\"simpletable\">\n",
       "<tr>\n",
       "      <td></td>         <th>coef</th>     <th>std err</th>      <th>t</th>      <th>P>|t|</th>  <th>[0.025</th>    <th>0.975]</th>  \n",
       "</tr>\n",
       "<tr>\n",
       "  <th>const</th>     <td>    0.0578</td> <td>    0.047</td> <td>    1.239</td> <td> 0.217</td> <td>   -0.034</td> <td>    0.150</td>\n",
       "</tr>\n",
       "<tr>\n",
       "  <th>area</th>      <td>    0.3222</td> <td>    0.058</td> <td>    5.519</td> <td> 0.000</td> <td>    0.207</td> <td>    0.438</td>\n",
       "</tr>\n",
       "<tr>\n",
       "  <th>rooms</th>     <td>    0.0497</td> <td>    0.063</td> <td>    0.794</td> <td> 0.429</td> <td>   -0.074</td> <td>    0.173</td>\n",
       "</tr>\n",
       "<tr>\n",
       "  <th>bathroom</th>  <td>    0.3522</td> <td>    0.054</td> <td>    6.547</td> <td> 0.000</td> <td>    0.246</td> <td>    0.458</td>\n",
       "</tr>\n",
       "<tr>\n",
       "  <th>floors</th>    <td>    0.1553</td> <td>    0.063</td> <td>    2.471</td> <td> 0.015</td> <td>    0.031</td> <td>    0.279</td>\n",
       "</tr>\n",
       "<tr>\n",
       "  <th>driveway</th>  <td>    0.1048</td> <td>    0.052</td> <td>    2.005</td> <td> 0.047</td> <td>    0.002</td> <td>    0.208</td>\n",
       "</tr>\n",
       "<tr>\n",
       "  <th>game_room</th> <td>    0.0782</td> <td>    0.053</td> <td>    1.466</td> <td> 0.145</td> <td>   -0.027</td> <td>    0.183</td>\n",
       "</tr>\n",
       "<tr>\n",
       "  <th>cellar</th>    <td>    0.0019</td> <td>    0.056</td> <td>    0.033</td> <td> 0.974</td> <td>   -0.109</td> <td>    0.113</td>\n",
       "</tr>\n",
       "<tr>\n",
       "  <th>gas</th>       <td>    0.2071</td> <td>    0.050</td> <td>    4.165</td> <td> 0.000</td> <td>    0.109</td> <td>    0.305</td>\n",
       "</tr>\n",
       "<tr>\n",
       "  <th>air</th>       <td>    0.2189</td> <td>    0.052</td> <td>    4.205</td> <td> 0.000</td> <td>    0.116</td> <td>    0.322</td>\n",
       "</tr>\n",
       "<tr>\n",
       "  <th>garage</th>    <td>    0.1687</td> <td>    0.053</td> <td>    3.169</td> <td> 0.002</td> <td>    0.064</td> <td>    0.274</td>\n",
       "</tr>\n",
       "<tr>\n",
       "  <th>situation</th> <td>    0.1624</td> <td>    0.055</td> <td>    2.938</td> <td> 0.004</td> <td>    0.053</td> <td>    0.272</td>\n",
       "</tr>\n",
       "</table>\n",
       "<table class=\"simpletable\">\n",
       "<tr>\n",
       "  <th>Omnibus:</th>       <td>15.494</td> <th>  Durbin-Watson:     </th> <td>   1.960</td>\n",
       "</tr>\n",
       "<tr>\n",
       "  <th>Prob(Omnibus):</th> <td> 0.000</td> <th>  Jarque-Bera (JB):  </th> <td>  25.987</td>\n",
       "</tr>\n",
       "<tr>\n",
       "  <th>Skew:</th>          <td> 0.482</td> <th>  Prob(JB):          </th> <td>2.27e-06</td>\n",
       "</tr>\n",
       "<tr>\n",
       "  <th>Kurtosis:</th>      <td> 4.695</td> <th>  Cond. No.          </th> <td>    2.95</td>\n",
       "</tr>\n",
       "</table><br/><br/>Notes:<br/>[1] Standard Errors assume that the covariance matrix of the errors is correctly specified."
      ],
      "text/plain": [
       "<class 'statsmodels.iolib.summary.Summary'>\n",
       "\"\"\"\n",
       "                            OLS Regression Results                            \n",
       "==============================================================================\n",
       "Dep. Variable:                  price   R-squared:                       0.710\n",
       "Model:                            OLS   Adj. R-squared:                  0.689\n",
       "Method:                 Least Squares   F-statistic:                     33.77\n",
       "Date:                Tue, 22 Feb 2022   Prob (F-statistic):           2.17e-35\n",
       "Time:                        19:21:39   Log-Likelihood:                -140.12\n",
       "No. Observations:                 164   AIC:                             304.2\n",
       "Df Residuals:                     152   BIC:                             341.4\n",
       "Df Model:                          11                                         \n",
       "Covariance Type:            nonrobust                                         \n",
       "==============================================================================\n",
       "                 coef    std err          t      P>|t|      [0.025      0.975]\n",
       "------------------------------------------------------------------------------\n",
       "const          0.0578      0.047      1.239      0.217      -0.034       0.150\n",
       "area           0.3222      0.058      5.519      0.000       0.207       0.438\n",
       "rooms          0.0497      0.063      0.794      0.429      -0.074       0.173\n",
       "bathroom       0.3522      0.054      6.547      0.000       0.246       0.458\n",
       "floors         0.1553      0.063      2.471      0.015       0.031       0.279\n",
       "driveway       0.1048      0.052      2.005      0.047       0.002       0.208\n",
       "game_room      0.0782      0.053      1.466      0.145      -0.027       0.183\n",
       "cellar         0.0019      0.056      0.033      0.974      -0.109       0.113\n",
       "gas            0.2071      0.050      4.165      0.000       0.109       0.305\n",
       "air            0.2189      0.052      4.205      0.000       0.116       0.322\n",
       "garage         0.1687      0.053      3.169      0.002       0.064       0.274\n",
       "situation      0.1624      0.055      2.938      0.004       0.053       0.272\n",
       "==============================================================================\n",
       "Omnibus:                       15.494   Durbin-Watson:                   1.960\n",
       "Prob(Omnibus):                  0.000   Jarque-Bera (JB):               25.987\n",
       "Skew:                           0.482   Prob(JB):                     2.27e-06\n",
       "Kurtosis:                       4.695   Cond. No.                         2.95\n",
       "==============================================================================\n",
       "\n",
       "Notes:\n",
       "[1] Standard Errors assume that the covariance matrix of the errors is correctly specified.\n",
       "\"\"\""
      ]
     },
     "execution_count": 45,
     "metadata": {},
     "output_type": "execute_result"
    }
   ],
   "source": [
    "res.fit().summary()"
   ]
  },
  {
   "cell_type": "code",
   "execution_count": 46,
   "id": "f16e0a29",
   "metadata": {},
   "outputs": [],
   "source": [
    "## the accuracy is better than removing the floors column outliers"
   ]
  },
  {
   "cell_type": "code",
   "execution_count": null,
   "id": "bc6d3c6d",
   "metadata": {},
   "outputs": [],
   "source": []
  },
  {
   "cell_type": "markdown",
   "id": "563b77b7",
   "metadata": {},
   "source": [
    "### without treating the floors column outlier"
   ]
  },
  {
   "cell_type": "code",
   "execution_count": 47,
   "id": "3f808255",
   "metadata": {},
   "outputs": [],
   "source": [
    "data = df_r3.iloc[::].values  #standardize the data to normal distribution\n",
    "from sklearn import preprocessing\n",
    "house1_standardized = preprocessing.scale(data)\n",
    "house1_standardized = pd.DataFrame(house1_standardized)\n",
    "\n",
    "house1_standardized = house1_standardized.rename(columns = {0:'price',1: 'area',2: 'rooms', \n",
    "                         3: 'bathroom', 4: 'floors',5: 'driveway',\n",
    "                         6:'game_room', 7: 'cellar', \n",
    "                         8: 'gas', 9:'air', 10: 'garage', 11: 'situation'})"
   ]
  },
  {
   "cell_type": "code",
   "execution_count": null,
   "id": "ee5e11be",
   "metadata": {},
   "outputs": [],
   "source": []
  },
  {
   "cell_type": "code",
   "execution_count": 48,
   "id": "1064d058",
   "metadata": {},
   "outputs": [],
   "source": [
    "X = house1_standardized[['area', 'rooms', 'bathroom', 'floors', 'driveway','game_room',\n",
    "       'cellar', 'gas', 'air', 'garage', 'situation']]\n",
    "y = house1_standardized['price']"
   ]
  },
  {
   "cell_type": "code",
   "execution_count": 71,
   "id": "108a8f4a",
   "metadata": {},
   "outputs": [],
   "source": [
    "X_train, X_test, y_train, y_test = train_test_split( X, y, test_size=0.3, random_state=1000)"
   ]
  },
  {
   "cell_type": "code",
   "execution_count": null,
   "id": "d483f901",
   "metadata": {},
   "outputs": [],
   "source": []
  },
  {
   "cell_type": "code",
   "execution_count": 72,
   "id": "eec3accb",
   "metadata": {},
   "outputs": [],
   "source": [
    "X_endog = sm.add_constant(X_test)\n",
    "res = sm.OLS(y_test, X_endog)\n",
    "olsmod=res.fit()"
   ]
  },
  {
   "cell_type": "code",
   "execution_count": 73,
   "id": "06c5bb84",
   "metadata": {},
   "outputs": [
    {
     "data": {
      "text/html": [
       "<table class=\"simpletable\">\n",
       "<caption>OLS Regression Results</caption>\n",
       "<tr>\n",
       "  <th>Dep. Variable:</th>          <td>price</td>      <th>  R-squared:         </th> <td>   0.726</td>\n",
       "</tr>\n",
       "<tr>\n",
       "  <th>Model:</th>                   <td>OLS</td>       <th>  Adj. R-squared:    </th> <td>   0.706</td>\n",
       "</tr>\n",
       "<tr>\n",
       "  <th>Method:</th>             <td>Least Squares</td>  <th>  F-statistic:       </th> <td>   36.64</td>\n",
       "</tr>\n",
       "<tr>\n",
       "  <th>Date:</th>             <td>Tue, 22 Feb 2022</td> <th>  Prob (F-statistic):</th> <td>2.83e-37</td>\n",
       "</tr>\n",
       "<tr>\n",
       "  <th>Time:</th>                 <td>19:24:31</td>     <th>  Log-Likelihood:    </th> <td> -135.33</td>\n",
       "</tr>\n",
       "<tr>\n",
       "  <th>No. Observations:</th>      <td>   164</td>      <th>  AIC:               </th> <td>   294.7</td>\n",
       "</tr>\n",
       "<tr>\n",
       "  <th>Df Residuals:</th>          <td>   152</td>      <th>  BIC:               </th> <td>   331.9</td>\n",
       "</tr>\n",
       "<tr>\n",
       "  <th>Df Model:</th>              <td>    11</td>      <th>                     </th>     <td> </td>   \n",
       "</tr>\n",
       "<tr>\n",
       "  <th>Covariance Type:</th>      <td>nonrobust</td>    <th>                     </th>     <td> </td>   \n",
       "</tr>\n",
       "</table>\n",
       "<table class=\"simpletable\">\n",
       "<tr>\n",
       "      <td></td>         <th>coef</th>     <th>std err</th>      <th>t</th>      <th>P>|t|</th>  <th>[0.025</th>    <th>0.975]</th>  \n",
       "</tr>\n",
       "<tr>\n",
       "  <th>const</th>     <td>    0.0743</td> <td>    0.045</td> <td>    1.633</td> <td> 0.105</td> <td>   -0.016</td> <td>    0.164</td>\n",
       "</tr>\n",
       "<tr>\n",
       "  <th>area</th>      <td>    0.2929</td> <td>    0.055</td> <td>    5.283</td> <td> 0.000</td> <td>    0.183</td> <td>    0.402</td>\n",
       "</tr>\n",
       "<tr>\n",
       "  <th>rooms</th>     <td>    0.0374</td> <td>    0.056</td> <td>    0.673</td> <td> 0.502</td> <td>   -0.072</td> <td>    0.147</td>\n",
       "</tr>\n",
       "<tr>\n",
       "  <th>bathroom</th>  <td>    0.3374</td> <td>    0.052</td> <td>    6.495</td> <td> 0.000</td> <td>    0.235</td> <td>    0.440</td>\n",
       "</tr>\n",
       "<tr>\n",
       "  <th>floors</th>    <td>    0.2458</td> <td>    0.062</td> <td>    3.952</td> <td> 0.000</td> <td>    0.123</td> <td>    0.369</td>\n",
       "</tr>\n",
       "<tr>\n",
       "  <th>driveway</th>  <td>    0.0952</td> <td>    0.051</td> <td>    1.873</td> <td> 0.063</td> <td>   -0.005</td> <td>    0.196</td>\n",
       "</tr>\n",
       "<tr>\n",
       "  <th>game_room</th> <td>    0.0737</td> <td>    0.052</td> <td>    1.424</td> <td> 0.157</td> <td>   -0.029</td> <td>    0.176</td>\n",
       "</tr>\n",
       "<tr>\n",
       "  <th>cellar</th>    <td>    0.0406</td> <td>    0.056</td> <td>    0.723</td> <td> 0.471</td> <td>   -0.070</td> <td>    0.152</td>\n",
       "</tr>\n",
       "<tr>\n",
       "  <th>gas</th>       <td>    0.1988</td> <td>    0.048</td> <td>    4.121</td> <td> 0.000</td> <td>    0.103</td> <td>    0.294</td>\n",
       "</tr>\n",
       "<tr>\n",
       "  <th>air</th>       <td>    0.1865</td> <td>    0.052</td> <td>    3.621</td> <td> 0.000</td> <td>    0.085</td> <td>    0.288</td>\n",
       "</tr>\n",
       "<tr>\n",
       "  <th>garage</th>    <td>    0.1879</td> <td>    0.052</td> <td>    3.608</td> <td> 0.000</td> <td>    0.085</td> <td>    0.291</td>\n",
       "</tr>\n",
       "<tr>\n",
       "  <th>situation</th> <td>    0.1638</td> <td>    0.054</td> <td>    3.055</td> <td> 0.003</td> <td>    0.058</td> <td>    0.270</td>\n",
       "</tr>\n",
       "</table>\n",
       "<table class=\"simpletable\">\n",
       "<tr>\n",
       "  <th>Omnibus:</th>       <td>21.103</td> <th>  Durbin-Watson:     </th> <td>   2.075</td>\n",
       "</tr>\n",
       "<tr>\n",
       "  <th>Prob(Omnibus):</th> <td> 0.000</td> <th>  Jarque-Bera (JB):  </th> <td>  42.514</td>\n",
       "</tr>\n",
       "<tr>\n",
       "  <th>Skew:</th>          <td> 0.583</td> <th>  Prob(JB):          </th> <td>5.86e-10</td>\n",
       "</tr>\n",
       "<tr>\n",
       "  <th>Kurtosis:</th>      <td> 5.205</td> <th>  Cond. No.          </th> <td>    2.87</td>\n",
       "</tr>\n",
       "</table><br/><br/>Notes:<br/>[1] Standard Errors assume that the covariance matrix of the errors is correctly specified."
      ],
      "text/plain": [
       "<class 'statsmodels.iolib.summary.Summary'>\n",
       "\"\"\"\n",
       "                            OLS Regression Results                            \n",
       "==============================================================================\n",
       "Dep. Variable:                  price   R-squared:                       0.726\n",
       "Model:                            OLS   Adj. R-squared:                  0.706\n",
       "Method:                 Least Squares   F-statistic:                     36.64\n",
       "Date:                Tue, 22 Feb 2022   Prob (F-statistic):           2.83e-37\n",
       "Time:                        19:24:31   Log-Likelihood:                -135.33\n",
       "No. Observations:                 164   AIC:                             294.7\n",
       "Df Residuals:                     152   BIC:                             331.9\n",
       "Df Model:                          11                                         \n",
       "Covariance Type:            nonrobust                                         \n",
       "==============================================================================\n",
       "                 coef    std err          t      P>|t|      [0.025      0.975]\n",
       "------------------------------------------------------------------------------\n",
       "const          0.0743      0.045      1.633      0.105      -0.016       0.164\n",
       "area           0.2929      0.055      5.283      0.000       0.183       0.402\n",
       "rooms          0.0374      0.056      0.673      0.502      -0.072       0.147\n",
       "bathroom       0.3374      0.052      6.495      0.000       0.235       0.440\n",
       "floors         0.2458      0.062      3.952      0.000       0.123       0.369\n",
       "driveway       0.0952      0.051      1.873      0.063      -0.005       0.196\n",
       "game_room      0.0737      0.052      1.424      0.157      -0.029       0.176\n",
       "cellar         0.0406      0.056      0.723      0.471      -0.070       0.152\n",
       "gas            0.1988      0.048      4.121      0.000       0.103       0.294\n",
       "air            0.1865      0.052      3.621      0.000       0.085       0.288\n",
       "garage         0.1879      0.052      3.608      0.000       0.085       0.291\n",
       "situation      0.1638      0.054      3.055      0.003       0.058       0.270\n",
       "==============================================================================\n",
       "Omnibus:                       21.103   Durbin-Watson:                   2.075\n",
       "Prob(Omnibus):                  0.000   Jarque-Bera (JB):               42.514\n",
       "Skew:                           0.583   Prob(JB):                     5.86e-10\n",
       "Kurtosis:                       5.205   Cond. No.                         2.87\n",
       "==============================================================================\n",
       "\n",
       "Notes:\n",
       "[1] Standard Errors assume that the covariance matrix of the errors is correctly specified.\n",
       "\"\"\""
      ]
     },
     "execution_count": 73,
     "metadata": {},
     "output_type": "execute_result"
    }
   ],
   "source": [
    "res.fit().summary()"
   ]
  },
  {
   "cell_type": "code",
   "execution_count": 52,
   "id": "a9da1625",
   "metadata": {},
   "outputs": [],
   "source": [
    "## so treatment of floor outliers reduces accuracy and dropping those outliers also\n",
    "## so this is our final model with an accuracy of 72.6"
   ]
  },
  {
   "cell_type": "code",
   "execution_count": null,
   "id": "c86ccbee",
   "metadata": {},
   "outputs": [],
   "source": []
  },
  {
   "cell_type": "code",
   "execution_count": 580,
   "id": "83c7ee86",
   "metadata": {},
   "outputs": [],
   "source": [
    "ypred = olsmod.predict(X_endog)"
   ]
  },
  {
   "cell_type": "code",
   "execution_count": 581,
   "id": "f39a5968",
   "metadata": {},
   "outputs": [
    {
     "data": {
      "text/plain": [
       "<AxesSubplot:ylabel='price'>"
      ]
     },
     "execution_count": 581,
     "metadata": {},
     "output_type": "execute_result"
    },
    {
     "data": {
      "image/png": "[encoded data removed]",
      "text/plain": [
       "<Figure size 432x288 with 1 Axes>"
      ]
     },
     "metadata": {
      "needs_background": "light"
     },
     "output_type": "display_data"
    }
   ],
   "source": [
    "sns.scatterplot(x=ypred,y=y_test)"
   ]
  },
  {
   "cell_type": "code",
   "execution_count": null,
   "id": "be5ef19f",
   "metadata": {},
   "outputs": [],
   "source": []
  },
  {
   "cell_type": "code",
   "execution_count": 582,
   "id": "dcef27aa",
   "metadata": {},
   "outputs": [],
   "source": [
    "## Using sklearn"
   ]
  },
  {
   "cell_type": "code",
   "execution_count": 583,
   "id": "459645c0",
   "metadata": {},
   "outputs": [
    {
     "data": {
      "text/plain": [
       "LinearRegression()"
      ]
     },
     "execution_count": 583,
     "metadata": {},
     "output_type": "execute_result"
    }
   ],
   "source": [
    "lm = LinearRegression()\n",
    "lm.fit(X_test,y_test)"
   ]
  },
  {
   "cell_type": "code",
   "execution_count": 584,
   "id": "2ac55216",
   "metadata": {},
   "outputs": [
    {
     "name": "stdout",
     "output_type": "stream",
     "text": [
      "[0.29287617 0.03737611 0.337443   0.24581731 0.09516412 0.07369108\n",
      " 0.04060649 0.19878164 0.18650454 0.18788573 0.16384694]\n"
     ]
    }
   ],
   "source": [
    "print(lm.coef_)"
   ]
  },
  {
   "cell_type": "code",
   "execution_count": 585,
   "id": "7fd4e5a4",
   "metadata": {},
   "outputs": [],
   "source": [
    "predictions = lm.predict(X_test)"
   ]
  },
  {
   "cell_type": "code",
   "execution_count": 586,
   "id": "c8c265a6",
   "metadata": {},
   "outputs": [
    {
     "name": "stdout",
     "output_type": "stream",
     "text": [
      "MAE : 0.4014874186114501\n",
      "MSE : 0.30497679470057926\n",
      "RMSE : 0.5522470413687874\n"
     ]
    }
   ],
   "source": [
    "from sklearn import metrics\n",
    "print('MAE :', metrics.mean_absolute_error(y_test, predictions))\n",
    "print('MSE :', metrics.mean_squared_error(y_test, predictions))\n",
    "print('RMSE :', np.sqrt(metrics.mean_squared_error(y_test, predictions)))"
   ]
  },
  {
   "cell_type": "code",
   "execution_count": 587,
   "id": "f8768c91",
   "metadata": {},
   "outputs": [
    {
     "data": {
      "text/plain": [
       "<AxesSubplot:ylabel='price'>"
      ]
     },
     "execution_count": 587,
     "metadata": {},
     "output_type": "execute_result"
    },
    {
     "data": {
      "image/png": "[encoded data removed]",
      "text/plain": [
       "<Figure size 432x288 with 1 Axes>"
      ]
     },
     "metadata": {
      "needs_background": "light"
     },
     "output_type": "display_data"
    }
   ],
   "source": [
    "sns.scatterplot(x=predictions,y=y_test)"
   ]
  },
  {
   "cell_type": "code",
   "execution_count": 588,
   "id": "782529fe",
   "metadata": {},
   "outputs": [
    {
     "name": "stdout",
     "output_type": "stream",
     "text": [
      "R2: 0.7261279602856998\n"
     ]
    }
   ],
   "source": [
    "print(\"R2:\", lm.score(X_test, y_test))"
   ]
  },
  {
   "cell_type": "code",
   "execution_count": null,
   "id": "66a0890d",
   "metadata": {},
   "outputs": [],
   "source": []
  },
  {
   "cell_type": "code",
   "execution_count": null,
   "id": "a8cde638",
   "metadata": {},
   "outputs": [],
   "source": []
  }
 ],
 "metadata": {
  "kernelspec": {
   "display_name": "Python 3 (ipykernel)",
   "language": "python",
   "name": "python3"
  },
  "language_info": {
   "codemirror_mode": {
    "name": "ipython",
    "version": 3
   },
   "file_extension": ".py",
   "mimetype": "text/x-python",
   "name": "python",
   "nbconvert_exporter": "python",
   "pygments_lexer": "ipython3",
   "version": "3.10.1"
  },
  "varInspector": {
   "cols": {
    "lenName": 16,
    "lenType": 16,
    "lenVar": 40
   },
   "kernels_config": {
    "python": {
     "delete_cmd_postfix": "",
     "delete_cmd_prefix": "del ",
     "library": "var_list.py",
     "varRefreshCmd": "print(var_dic_list())"
    },
    "r": {
     "delete_cmd_postfix": ") ",
     "delete_cmd_prefix": "rm(",
     "library": "var_list.r",
     "varRefreshCmd": "cat(var_dic_list()) "
    }
   },
   "types_to_exclude": [
    "module",
    "function",
    "builtin_function_or_method",
    "instance",
    "_Feature"
   ],
   "window_display": false
  }
 },
 "nbformat": 4,
 "nbformat_minor": 5
}

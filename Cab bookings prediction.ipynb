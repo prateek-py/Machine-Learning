{
 "cells": [
  {
   "attachments": {},
   "cell_type": "markdown",
   "id": "4b5bd1b1",
   "metadata": {},
   "source": [
    "# Cab Bookings Prediction \n",
    "\n",
    "The business problem tackled here is trying to improve customer service for YourCabs, a cab company in Bangalore. The problem of interest is booking cancellations by the company due to unavailability of a car. The challenge is that cancellations can occur very close to the trip start time, thereby causing passengers inconvenience.<br> \n",
    "\n",
    "**Target variable** <br>\n",
    "Car_Cancellation: *whether the booking was cancelled (1) or not (0) due to unavailability of a car.*<br>\n",
    "    \n",
    "**Features**<br>\n",
    "\n",
    "id: *booking ID*<br>\n",
    "\n",
    "user_id: *the ID of the customer (based on mobile number)*<br>\n",
    "\n",
    "vehicle_model_id: *vehicle model type*<br>\n",
    "\n",
    "package_id: *type of package (1=4hrs & 40kms, 2=8hrs & 80kms, 3=6hrs & 60kms, 4= 10hrs & 100kms, 5=5hrs & 50kms, 6=3hrs & 30kms, 7=12hrs & 120kms)*<br>\n",
    "\n",
    "travel_type_id: *type of travel (1=long distance, 2= point to point, 3= hourly rental)*<br>\n",
    "\n",
    "from_area_id: *unique identifier of area. Applicable only for point-to-point travel and packages*<br>\n",
    "\n",
    "to_area_id: *unique identifier of area. Applicable only for point-to-point travel*<br>\n",
    "\n",
    "from_city_id: *unique identifier of city*<br>\n",
    "\n",
    "to_city_id: *unique identifier of city (only for intercity)*<br>\n",
    "\n",
    "from_date: *time stamp of requested trip start*<br>\n",
    "\n",
    "to_date: *time stamp of trip end*<br>\n",
    "\n",
    "online_booking: *if booking was done on desktop website*<br>\n",
    "\n",
    "mobile_site_booking: *if booking was done on mobile website*<br>\n",
    "\n",
    "booking_created: *time stamp of booking*<br>\n",
    "\n",
    "from_lat: *latitude of from area*<br>\n",
    "\n",
    "from_long: *longitude of from area*<br>\n",
    "\n",
    "to_lat: *latitude of to area*<br>\n",
    "\n",
    "to_long: *longitude of to area*<br>"
   ]
  },
  {
   "cell_type": "code",
   "execution_count": null,
   "id": "c115b648",
   "metadata": {},
   "outputs": [],
   "source": []
  },
  {
   "cell_type": "code",
   "execution_count": null,
   "id": "3ad7d357",
   "metadata": {},
   "outputs": [],
   "source": []
  },
  {
   "cell_type": "code",
   "execution_count": null,
   "id": "3947f6e3",
   "metadata": {},
   "outputs": [],
   "source": []
  },
  {
   "cell_type": "code",
   "execution_count": null,
   "id": "5fdbaaa8",
   "metadata": {},
   "outputs": [],
   "source": []
  },
  {
   "cell_type": "markdown",
   "id": "72d530d9",
   "metadata": {
    "heading_collapsed": true
   },
   "source": [
    "## Importing Libraries"
   ]
  },
  {
   "cell_type": "code",
   "execution_count": 205,
   "id": "e5097448",
   "metadata": {
    "hidden": true
   },
   "outputs": [],
   "source": [
    "import pandas as pd\n",
    "import matplotlib.pyplot as plt\n",
    "import seaborn as sns\n",
    "from geopy import distance"
   ]
  },
  {
   "cell_type": "code",
   "execution_count": 206,
   "id": "13c37b7b",
   "metadata": {
    "hidden": true
   },
   "outputs": [],
   "source": [
    "from sklearn.linear_model import LogisticRegression\n",
    "from sklearn.svm import SVC\n",
    "from sklearn.tree import DecisionTreeClassifier\n",
    "from sklearn.ensemble import RandomForestClassifier\n",
    "from sklearn.neighbors import KNeighborsClassifier\n",
    "from sklearn.naive_bayes import GaussianNB\n",
    "\n",
    "from sklearn import metrics\n",
    "from sklearn.model_selection import cross_val_score, GridSearchCV\n",
    "\n",
    "from sklearn.metrics import accuracy_score,roc_curve,roc_auc_score,confusion_matrix,classification_report\n",
    "from sklearn.metrics import precision_recall_curve,average_precision_score\n",
    "import itertools"
   ]
  },
  {
   "cell_type": "code",
   "execution_count": null,
   "id": "28323e37",
   "metadata": {
    "hidden": true
   },
   "outputs": [],
   "source": []
  },
  {
   "cell_type": "markdown",
   "id": "8708790e",
   "metadata": {},
   "source": [
    "## Importing dataset"
   ]
  },
  {
   "cell_type": "code",
   "execution_count": 3,
   "id": "ee5ded9d",
   "metadata": {},
   "outputs": [],
   "source": []
  },
  {
   "cell_type": "code",
   "execution_count": 4,
   "id": "f81a665d",
   "metadata": {},
   "outputs": [],
   "source": [
    "df=pd.read_csv('YourCabs.csv')"
   ]
  },
  {
   "cell_type": "code",
   "execution_count": null,
   "id": "85b8d188",
   "metadata": {},
   "outputs": [],
   "source": []
  },
  {
   "cell_type": "markdown",
   "id": "b449d2d2",
   "metadata": {
    "heading_collapsed": true
   },
   "source": [
    "## EDA"
   ]
  },
  {
   "cell_type": "code",
   "execution_count": null,
   "id": "7b759f5d",
   "metadata": {
    "hidden": true
   },
   "outputs": [],
   "source": []
  },
  {
   "cell_type": "code",
   "execution_count": 57,
   "id": "12b6d89d",
   "metadata": {
    "hidden": true
   },
   "outputs": [
    {
     "data": {
      "text/html": [
       "<div>\n",
       "<style scoped>\n",
       "    .dataframe tbody tr th:only-of-type {\n",
       "        vertical-align: middle;\n",
       "    }\n",
       "\n",
       "    .dataframe tbody tr th {\n",
       "        vertical-align: top;\n",
       "    }\n",
       "\n",
       "    .dataframe thead th {\n",
       "        text-align: right;\n",
       "    }\n",
       "</style>\n",
       "<table border=\"1\" class=\"dataframe\">\n",
       "  <thead>\n",
       "    <tr style=\"text-align: right;\">\n",
       "      <th></th>\n",
       "      <th>id</th>\n",
       "      <th>user_id</th>\n",
       "      <th>vehicle_model_id</th>\n",
       "      <th>package_id</th>\n",
       "      <th>travel_type_id</th>\n",
       "      <th>from_area_id</th>\n",
       "      <th>to_area_id</th>\n",
       "      <th>from_city_id</th>\n",
       "      <th>to_city_id</th>\n",
       "      <th>from_date</th>\n",
       "      <th>to_date</th>\n",
       "      <th>online_booking</th>\n",
       "      <th>mobile_site_booking</th>\n",
       "      <th>booking_created</th>\n",
       "      <th>from_lat</th>\n",
       "      <th>from_long</th>\n",
       "      <th>to_lat</th>\n",
       "      <th>to_long</th>\n",
       "      <th>Car_Cancellation</th>\n",
       "    </tr>\n",
       "  </thead>\n",
       "  <tbody>\n",
       "    <tr>\n",
       "      <th>0</th>\n",
       "      <td>132512</td>\n",
       "      <td>22177</td>\n",
       "      <td>28</td>\n",
       "      <td>NaN</td>\n",
       "      <td>2</td>\n",
       "      <td>83.0</td>\n",
       "      <td>448.0</td>\n",
       "      <td>NaN</td>\n",
       "      <td>NaN</td>\n",
       "      <td>1/1/2013 2:00</td>\n",
       "      <td>NaN</td>\n",
       "      <td>0</td>\n",
       "      <td>0</td>\n",
       "      <td>1/1/2013 1:39</td>\n",
       "      <td>12.924150</td>\n",
       "      <td>77.672290</td>\n",
       "      <td>12.927320</td>\n",
       "      <td>77.635750</td>\n",
       "      <td>0</td>\n",
       "    </tr>\n",
       "    <tr>\n",
       "      <th>1</th>\n",
       "      <td>132513</td>\n",
       "      <td>21413</td>\n",
       "      <td>12</td>\n",
       "      <td>NaN</td>\n",
       "      <td>2</td>\n",
       "      <td>1010.0</td>\n",
       "      <td>540.0</td>\n",
       "      <td>NaN</td>\n",
       "      <td>NaN</td>\n",
       "      <td>1/1/2013 9:00</td>\n",
       "      <td>NaN</td>\n",
       "      <td>0</td>\n",
       "      <td>0</td>\n",
       "      <td>1/1/2013 2:25</td>\n",
       "      <td>12.966910</td>\n",
       "      <td>77.749350</td>\n",
       "      <td>12.927680</td>\n",
       "      <td>77.626640</td>\n",
       "      <td>0</td>\n",
       "    </tr>\n",
       "    <tr>\n",
       "      <th>2</th>\n",
       "      <td>132514</td>\n",
       "      <td>22178</td>\n",
       "      <td>12</td>\n",
       "      <td>NaN</td>\n",
       "      <td>2</td>\n",
       "      <td>1301.0</td>\n",
       "      <td>1034.0</td>\n",
       "      <td>NaN</td>\n",
       "      <td>NaN</td>\n",
       "      <td>1/1/2013 3:30</td>\n",
       "      <td>NaN</td>\n",
       "      <td>0</td>\n",
       "      <td>0</td>\n",
       "      <td>1/1/2013 3:08</td>\n",
       "      <td>12.937222</td>\n",
       "      <td>77.626915</td>\n",
       "      <td>13.047926</td>\n",
       "      <td>77.597766</td>\n",
       "      <td>0</td>\n",
       "    </tr>\n",
       "    <tr>\n",
       "      <th>3</th>\n",
       "      <td>132515</td>\n",
       "      <td>13034</td>\n",
       "      <td>12</td>\n",
       "      <td>NaN</td>\n",
       "      <td>2</td>\n",
       "      <td>768.0</td>\n",
       "      <td>398.0</td>\n",
       "      <td>NaN</td>\n",
       "      <td>NaN</td>\n",
       "      <td>1/1/2013 5:45</td>\n",
       "      <td>NaN</td>\n",
       "      <td>0</td>\n",
       "      <td>0</td>\n",
       "      <td>1/1/2013 4:39</td>\n",
       "      <td>12.989990</td>\n",
       "      <td>77.553320</td>\n",
       "      <td>12.971430</td>\n",
       "      <td>77.639140</td>\n",
       "      <td>0</td>\n",
       "    </tr>\n",
       "    <tr>\n",
       "      <th>4</th>\n",
       "      <td>132517</td>\n",
       "      <td>22180</td>\n",
       "      <td>12</td>\n",
       "      <td>NaN</td>\n",
       "      <td>2</td>\n",
       "      <td>1365.0</td>\n",
       "      <td>849.0</td>\n",
       "      <td>NaN</td>\n",
       "      <td>NaN</td>\n",
       "      <td>1/1/2013 9:00</td>\n",
       "      <td>NaN</td>\n",
       "      <td>0</td>\n",
       "      <td>0</td>\n",
       "      <td>1/1/2013 7:53</td>\n",
       "      <td>12.845653</td>\n",
       "      <td>77.677925</td>\n",
       "      <td>12.954340</td>\n",
       "      <td>77.600720</td>\n",
       "      <td>0</td>\n",
       "    </tr>\n",
       "    <tr>\n",
       "      <th>...</th>\n",
       "      <td>...</td>\n",
       "      <td>...</td>\n",
       "      <td>...</td>\n",
       "      <td>...</td>\n",
       "      <td>...</td>\n",
       "      <td>...</td>\n",
       "      <td>...</td>\n",
       "      <td>...</td>\n",
       "      <td>...</td>\n",
       "      <td>...</td>\n",
       "      <td>...</td>\n",
       "      <td>...</td>\n",
       "      <td>...</td>\n",
       "      <td>...</td>\n",
       "      <td>...</td>\n",
       "      <td>...</td>\n",
       "      <td>...</td>\n",
       "      <td>...</td>\n",
       "      <td>...</td>\n",
       "    </tr>\n",
       "    <tr>\n",
       "      <th>43426</th>\n",
       "      <td>185937</td>\n",
       "      <td>14364</td>\n",
       "      <td>12</td>\n",
       "      <td>NaN</td>\n",
       "      <td>2</td>\n",
       "      <td>1147.0</td>\n",
       "      <td>452.0</td>\n",
       "      <td>15.0</td>\n",
       "      <td>NaN</td>\n",
       "      <td>11/24/2013 18:00</td>\n",
       "      <td>41602.82020</td>\n",
       "      <td>1</td>\n",
       "      <td>0</td>\n",
       "      <td>11/24/2013 14:25</td>\n",
       "      <td>13.030640</td>\n",
       "      <td>77.649100</td>\n",
       "      <td>12.952780</td>\n",
       "      <td>77.590880</td>\n",
       "      <td>0</td>\n",
       "    </tr>\n",
       "    <tr>\n",
       "      <th>43427</th>\n",
       "      <td>185938</td>\n",
       "      <td>48727</td>\n",
       "      <td>12</td>\n",
       "      <td>NaN</td>\n",
       "      <td>2</td>\n",
       "      <td>393.0</td>\n",
       "      <td>466.0</td>\n",
       "      <td>15.0</td>\n",
       "      <td>NaN</td>\n",
       "      <td>11/26/2013 1:00</td>\n",
       "      <td>41604.08037</td>\n",
       "      <td>1</td>\n",
       "      <td>0</td>\n",
       "      <td>11/24/2013 14:30</td>\n",
       "      <td>13.199560</td>\n",
       "      <td>77.706880</td>\n",
       "      <td>13.017436</td>\n",
       "      <td>77.644580</td>\n",
       "      <td>0</td>\n",
       "    </tr>\n",
       "    <tr>\n",
       "      <th>43428</th>\n",
       "      <td>185939</td>\n",
       "      <td>48729</td>\n",
       "      <td>12</td>\n",
       "      <td>1.0</td>\n",
       "      <td>3</td>\n",
       "      <td>974.0</td>\n",
       "      <td>NaN</td>\n",
       "      <td>15.0</td>\n",
       "      <td>NaN</td>\n",
       "      <td>11/24/2013 18:30</td>\n",
       "      <td>41602.97917</td>\n",
       "      <td>0</td>\n",
       "      <td>0</td>\n",
       "      <td>11/24/2013 14:35</td>\n",
       "      <td>13.075570</td>\n",
       "      <td>77.559040</td>\n",
       "      <td>NaN</td>\n",
       "      <td>NaN</td>\n",
       "      <td>0</td>\n",
       "    </tr>\n",
       "    <tr>\n",
       "      <th>43429</th>\n",
       "      <td>185940</td>\n",
       "      <td>30724</td>\n",
       "      <td>87</td>\n",
       "      <td>NaN</td>\n",
       "      <td>2</td>\n",
       "      <td>1263.0</td>\n",
       "      <td>542.0</td>\n",
       "      <td>15.0</td>\n",
       "      <td>NaN</td>\n",
       "      <td>11/24/2013 16:00</td>\n",
       "      <td>41602.69495</td>\n",
       "      <td>0</td>\n",
       "      <td>0</td>\n",
       "      <td>11/24/2013 14:43</td>\n",
       "      <td>12.968970</td>\n",
       "      <td>77.594560</td>\n",
       "      <td>12.938230</td>\n",
       "      <td>77.622890</td>\n",
       "      <td>0</td>\n",
       "    </tr>\n",
       "    <tr>\n",
       "      <th>43430</th>\n",
       "      <td>185941</td>\n",
       "      <td>48730</td>\n",
       "      <td>12</td>\n",
       "      <td>NaN</td>\n",
       "      <td>2</td>\n",
       "      <td>689.0</td>\n",
       "      <td>393.0</td>\n",
       "      <td>15.0</td>\n",
       "      <td>NaN</td>\n",
       "      <td>11/25/2013 5:00</td>\n",
       "      <td>41603.25385</td>\n",
       "      <td>0</td>\n",
       "      <td>1</td>\n",
       "      <td>11/24/2013 14:50</td>\n",
       "      <td>12.976720</td>\n",
       "      <td>77.649270</td>\n",
       "      <td>13.199560</td>\n",
       "      <td>77.706880</td>\n",
       "      <td>0</td>\n",
       "    </tr>\n",
       "  </tbody>\n",
       "</table>\n",
       "<p>43431 rows × 19 columns</p>\n",
       "</div>"
      ],
      "text/plain": [
       "           id  user_id  vehicle_model_id  package_id  travel_type_id  \\\n",
       "0      132512    22177                28         NaN               2   \n",
       "1      132513    21413                12         NaN               2   \n",
       "2      132514    22178                12         NaN               2   \n",
       "3      132515    13034                12         NaN               2   \n",
       "4      132517    22180                12         NaN               2   \n",
       "...       ...      ...               ...         ...             ...   \n",
       "43426  185937    14364                12         NaN               2   \n",
       "43427  185938    48727                12         NaN               2   \n",
       "43428  185939    48729                12         1.0               3   \n",
       "43429  185940    30724                87         NaN               2   \n",
       "43430  185941    48730                12         NaN               2   \n",
       "\n",
       "       from_area_id  to_area_id  from_city_id  to_city_id         from_date  \\\n",
       "0              83.0       448.0           NaN         NaN     1/1/2013 2:00   \n",
       "1            1010.0       540.0           NaN         NaN     1/1/2013 9:00   \n",
       "2            1301.0      1034.0           NaN         NaN     1/1/2013 3:30   \n",
       "3             768.0       398.0           NaN         NaN     1/1/2013 5:45   \n",
       "4            1365.0       849.0           NaN         NaN     1/1/2013 9:00   \n",
       "...             ...         ...           ...         ...               ...   \n",
       "43426        1147.0       452.0          15.0         NaN  11/24/2013 18:00   \n",
       "43427         393.0       466.0          15.0         NaN   11/26/2013 1:00   \n",
       "43428         974.0         NaN          15.0         NaN  11/24/2013 18:30   \n",
       "43429        1263.0       542.0          15.0         NaN  11/24/2013 16:00   \n",
       "43430         689.0       393.0          15.0         NaN   11/25/2013 5:00   \n",
       "\n",
       "           to_date  online_booking  mobile_site_booking   booking_created  \\\n",
       "0              NaN               0                    0     1/1/2013 1:39   \n",
       "1              NaN               0                    0     1/1/2013 2:25   \n",
       "2              NaN               0                    0     1/1/2013 3:08   \n",
       "3              NaN               0                    0     1/1/2013 4:39   \n",
       "4              NaN               0                    0     1/1/2013 7:53   \n",
       "...            ...             ...                  ...               ...   \n",
       "43426  41602.82020               1                    0  11/24/2013 14:25   \n",
       "43427  41604.08037               1                    0  11/24/2013 14:30   \n",
       "43428  41602.97917               0                    0  11/24/2013 14:35   \n",
       "43429  41602.69495               0                    0  11/24/2013 14:43   \n",
       "43430  41603.25385               0                    1  11/24/2013 14:50   \n",
       "\n",
       "        from_lat  from_long     to_lat    to_long  Car_Cancellation  \n",
       "0      12.924150  77.672290  12.927320  77.635750                 0  \n",
       "1      12.966910  77.749350  12.927680  77.626640                 0  \n",
       "2      12.937222  77.626915  13.047926  77.597766                 0  \n",
       "3      12.989990  77.553320  12.971430  77.639140                 0  \n",
       "4      12.845653  77.677925  12.954340  77.600720                 0  \n",
       "...          ...        ...        ...        ...               ...  \n",
       "43426  13.030640  77.649100  12.952780  77.590880                 0  \n",
       "43427  13.199560  77.706880  13.017436  77.644580                 0  \n",
       "43428  13.075570  77.559040        NaN        NaN                 0  \n",
       "43429  12.968970  77.594560  12.938230  77.622890                 0  \n",
       "43430  12.976720  77.649270  13.199560  77.706880                 0  \n",
       "\n",
       "[43431 rows x 19 columns]"
      ]
     },
     "execution_count": 57,
     "metadata": {},
     "output_type": "execute_result"
    }
   ],
   "source": [
    "df"
   ]
  },
  {
   "cell_type": "code",
   "execution_count": 209,
   "id": "c22461ce",
   "metadata": {
    "hidden": true
   },
   "outputs": [
    {
     "data": {
      "text/html": [
       "<div>\n",
       "<style scoped>\n",
       "    .dataframe tbody tr th:only-of-type {\n",
       "        vertical-align: middle;\n",
       "    }\n",
       "\n",
       "    .dataframe tbody tr th {\n",
       "        vertical-align: top;\n",
       "    }\n",
       "\n",
       "    .dataframe thead th {\n",
       "        text-align: right;\n",
       "    }\n",
       "</style>\n",
       "<table border=\"1\" class=\"dataframe\">\n",
       "  <thead>\n",
       "    <tr style=\"text-align: right;\">\n",
       "      <th></th>\n",
       "      <th>vehicle_model_id</th>\n",
       "      <th>package_id</th>\n",
       "      <th>travel_type_id</th>\n",
       "      <th>from_area_id</th>\n",
       "      <th>to_area_id</th>\n",
       "      <th>from_city_id</th>\n",
       "      <th>to_city_id</th>\n",
       "      <th>from_date</th>\n",
       "      <th>to_date</th>\n",
       "      <th>online_booking</th>\n",
       "      <th>mobile_site_booking</th>\n",
       "      <th>booking_created</th>\n",
       "      <th>from_lat</th>\n",
       "      <th>from_long</th>\n",
       "      <th>to_lat</th>\n",
       "      <th>to_long</th>\n",
       "      <th>Car_Cancellation</th>\n",
       "    </tr>\n",
       "  </thead>\n",
       "  <tbody>\n",
       "    <tr>\n",
       "      <th>0</th>\n",
       "      <td>28</td>\n",
       "      <td>NaN</td>\n",
       "      <td>2</td>\n",
       "      <td>83.0</td>\n",
       "      <td>448.0</td>\n",
       "      <td>NaN</td>\n",
       "      <td>NaN</td>\n",
       "      <td>1/1/2013 2:00</td>\n",
       "      <td>NaN</td>\n",
       "      <td>0</td>\n",
       "      <td>0</td>\n",
       "      <td>1/1/2013 1:39</td>\n",
       "      <td>12.924150</td>\n",
       "      <td>77.672290</td>\n",
       "      <td>12.927320</td>\n",
       "      <td>77.635750</td>\n",
       "      <td>0</td>\n",
       "    </tr>\n",
       "    <tr>\n",
       "      <th>1</th>\n",
       "      <td>12</td>\n",
       "      <td>NaN</td>\n",
       "      <td>2</td>\n",
       "      <td>1010.0</td>\n",
       "      <td>540.0</td>\n",
       "      <td>NaN</td>\n",
       "      <td>NaN</td>\n",
       "      <td>1/1/2013 9:00</td>\n",
       "      <td>NaN</td>\n",
       "      <td>0</td>\n",
       "      <td>0</td>\n",
       "      <td>1/1/2013 2:25</td>\n",
       "      <td>12.966910</td>\n",
       "      <td>77.749350</td>\n",
       "      <td>12.927680</td>\n",
       "      <td>77.626640</td>\n",
       "      <td>0</td>\n",
       "    </tr>\n",
       "    <tr>\n",
       "      <th>2</th>\n",
       "      <td>12</td>\n",
       "      <td>NaN</td>\n",
       "      <td>2</td>\n",
       "      <td>1301.0</td>\n",
       "      <td>1034.0</td>\n",
       "      <td>NaN</td>\n",
       "      <td>NaN</td>\n",
       "      <td>1/1/2013 3:30</td>\n",
       "      <td>NaN</td>\n",
       "      <td>0</td>\n",
       "      <td>0</td>\n",
       "      <td>1/1/2013 3:08</td>\n",
       "      <td>12.937222</td>\n",
       "      <td>77.626915</td>\n",
       "      <td>13.047926</td>\n",
       "      <td>77.597766</td>\n",
       "      <td>0</td>\n",
       "    </tr>\n",
       "    <tr>\n",
       "      <th>3</th>\n",
       "      <td>12</td>\n",
       "      <td>NaN</td>\n",
       "      <td>2</td>\n",
       "      <td>768.0</td>\n",
       "      <td>398.0</td>\n",
       "      <td>NaN</td>\n",
       "      <td>NaN</td>\n",
       "      <td>1/1/2013 5:45</td>\n",
       "      <td>NaN</td>\n",
       "      <td>0</td>\n",
       "      <td>0</td>\n",
       "      <td>1/1/2013 4:39</td>\n",
       "      <td>12.989990</td>\n",
       "      <td>77.553320</td>\n",
       "      <td>12.971430</td>\n",
       "      <td>77.639140</td>\n",
       "      <td>0</td>\n",
       "    </tr>\n",
       "    <tr>\n",
       "      <th>4</th>\n",
       "      <td>12</td>\n",
       "      <td>NaN</td>\n",
       "      <td>2</td>\n",
       "      <td>1365.0</td>\n",
       "      <td>849.0</td>\n",
       "      <td>NaN</td>\n",
       "      <td>NaN</td>\n",
       "      <td>1/1/2013 9:00</td>\n",
       "      <td>NaN</td>\n",
       "      <td>0</td>\n",
       "      <td>0</td>\n",
       "      <td>1/1/2013 7:53</td>\n",
       "      <td>12.845653</td>\n",
       "      <td>77.677925</td>\n",
       "      <td>12.954340</td>\n",
       "      <td>77.600720</td>\n",
       "      <td>0</td>\n",
       "    </tr>\n",
       "  </tbody>\n",
       "</table>\n",
       "</div>"
      ],
      "text/plain": [
       "   vehicle_model_id  package_id  travel_type_id  from_area_id  to_area_id  \\\n",
       "0                28         NaN               2          83.0       448.0   \n",
       "1                12         NaN               2        1010.0       540.0   \n",
       "2                12         NaN               2        1301.0      1034.0   \n",
       "3                12         NaN               2         768.0       398.0   \n",
       "4                12         NaN               2        1365.0       849.0   \n",
       "\n",
       "   from_city_id  to_city_id      from_date  to_date  online_booking  \\\n",
       "0           NaN         NaN  1/1/2013 2:00      NaN               0   \n",
       "1           NaN         NaN  1/1/2013 9:00      NaN               0   \n",
       "2           NaN         NaN  1/1/2013 3:30      NaN               0   \n",
       "3           NaN         NaN  1/1/2013 5:45      NaN               0   \n",
       "4           NaN         NaN  1/1/2013 9:00      NaN               0   \n",
       "\n",
       "   mobile_site_booking booking_created   from_lat  from_long     to_lat  \\\n",
       "0                    0   1/1/2013 1:39  12.924150  77.672290  12.927320   \n",
       "1                    0   1/1/2013 2:25  12.966910  77.749350  12.927680   \n",
       "2                    0   1/1/2013 3:08  12.937222  77.626915  13.047926   \n",
       "3                    0   1/1/2013 4:39  12.989990  77.553320  12.971430   \n",
       "4                    0   1/1/2013 7:53  12.845653  77.677925  12.954340   \n",
       "\n",
       "     to_long  Car_Cancellation  \n",
       "0  77.635750                 0  \n",
       "1  77.626640                 0  \n",
       "2  77.597766                 0  \n",
       "3  77.639140                 0  \n",
       "4  77.600720                 0  "
      ]
     },
     "execution_count": 209,
     "metadata": {},
     "output_type": "execute_result"
    }
   ],
   "source": [
    "df.drop(columns=['id','user_id'],inplace=True)  ## both dont add anything\n",
    "df.head()"
   ]
  },
  {
   "cell_type": "code",
   "execution_count": 59,
   "id": "be657495",
   "metadata": {
    "hidden": true
   },
   "outputs": [
    {
     "data": {
      "text/html": [
       "<div>\n",
       "<style scoped>\n",
       "    .dataframe tbody tr th:only-of-type {\n",
       "        vertical-align: middle;\n",
       "    }\n",
       "\n",
       "    .dataframe tbody tr th {\n",
       "        vertical-align: top;\n",
       "    }\n",
       "\n",
       "    .dataframe thead th {\n",
       "        text-align: right;\n",
       "    }\n",
       "</style>\n",
       "<table border=\"1\" class=\"dataframe\">\n",
       "  <thead>\n",
       "    <tr style=\"text-align: right;\">\n",
       "      <th></th>\n",
       "      <th>vehicle_model_id</th>\n",
       "      <th>package_id</th>\n",
       "      <th>travel_type_id</th>\n",
       "      <th>from_area_id</th>\n",
       "      <th>to_area_id</th>\n",
       "      <th>from_city_id</th>\n",
       "      <th>to_city_id</th>\n",
       "      <th>from_date</th>\n",
       "      <th>to_date</th>\n",
       "      <th>online_booking</th>\n",
       "      <th>mobile_site_booking</th>\n",
       "      <th>booking_created</th>\n",
       "      <th>from_lat</th>\n",
       "      <th>from_long</th>\n",
       "      <th>to_lat</th>\n",
       "      <th>to_long</th>\n",
       "      <th>Car_Cancellation</th>\n",
       "    </tr>\n",
       "  </thead>\n",
       "  <tbody>\n",
       "    <tr>\n",
       "      <th>43426</th>\n",
       "      <td>12</td>\n",
       "      <td>NaN</td>\n",
       "      <td>2</td>\n",
       "      <td>1147.0</td>\n",
       "      <td>452.0</td>\n",
       "      <td>15.0</td>\n",
       "      <td>NaN</td>\n",
       "      <td>11/24/2013 18:00</td>\n",
       "      <td>41602.82020</td>\n",
       "      <td>1</td>\n",
       "      <td>0</td>\n",
       "      <td>11/24/2013 14:25</td>\n",
       "      <td>13.03064</td>\n",
       "      <td>77.64910</td>\n",
       "      <td>12.952780</td>\n",
       "      <td>77.59088</td>\n",
       "      <td>0</td>\n",
       "    </tr>\n",
       "    <tr>\n",
       "      <th>43427</th>\n",
       "      <td>12</td>\n",
       "      <td>NaN</td>\n",
       "      <td>2</td>\n",
       "      <td>393.0</td>\n",
       "      <td>466.0</td>\n",
       "      <td>15.0</td>\n",
       "      <td>NaN</td>\n",
       "      <td>11/26/2013 1:00</td>\n",
       "      <td>41604.08037</td>\n",
       "      <td>1</td>\n",
       "      <td>0</td>\n",
       "      <td>11/24/2013 14:30</td>\n",
       "      <td>13.19956</td>\n",
       "      <td>77.70688</td>\n",
       "      <td>13.017436</td>\n",
       "      <td>77.64458</td>\n",
       "      <td>0</td>\n",
       "    </tr>\n",
       "    <tr>\n",
       "      <th>43428</th>\n",
       "      <td>12</td>\n",
       "      <td>1.0</td>\n",
       "      <td>3</td>\n",
       "      <td>974.0</td>\n",
       "      <td>NaN</td>\n",
       "      <td>15.0</td>\n",
       "      <td>NaN</td>\n",
       "      <td>11/24/2013 18:30</td>\n",
       "      <td>41602.97917</td>\n",
       "      <td>0</td>\n",
       "      <td>0</td>\n",
       "      <td>11/24/2013 14:35</td>\n",
       "      <td>13.07557</td>\n",
       "      <td>77.55904</td>\n",
       "      <td>NaN</td>\n",
       "      <td>NaN</td>\n",
       "      <td>0</td>\n",
       "    </tr>\n",
       "    <tr>\n",
       "      <th>43429</th>\n",
       "      <td>87</td>\n",
       "      <td>NaN</td>\n",
       "      <td>2</td>\n",
       "      <td>1263.0</td>\n",
       "      <td>542.0</td>\n",
       "      <td>15.0</td>\n",
       "      <td>NaN</td>\n",
       "      <td>11/24/2013 16:00</td>\n",
       "      <td>41602.69495</td>\n",
       "      <td>0</td>\n",
       "      <td>0</td>\n",
       "      <td>11/24/2013 14:43</td>\n",
       "      <td>12.96897</td>\n",
       "      <td>77.59456</td>\n",
       "      <td>12.938230</td>\n",
       "      <td>77.62289</td>\n",
       "      <td>0</td>\n",
       "    </tr>\n",
       "    <tr>\n",
       "      <th>43430</th>\n",
       "      <td>12</td>\n",
       "      <td>NaN</td>\n",
       "      <td>2</td>\n",
       "      <td>689.0</td>\n",
       "      <td>393.0</td>\n",
       "      <td>15.0</td>\n",
       "      <td>NaN</td>\n",
       "      <td>11/25/2013 5:00</td>\n",
       "      <td>41603.25385</td>\n",
       "      <td>0</td>\n",
       "      <td>1</td>\n",
       "      <td>11/24/2013 14:50</td>\n",
       "      <td>12.97672</td>\n",
       "      <td>77.64927</td>\n",
       "      <td>13.199560</td>\n",
       "      <td>77.70688</td>\n",
       "      <td>0</td>\n",
       "    </tr>\n",
       "  </tbody>\n",
       "</table>\n",
       "</div>"
      ],
      "text/plain": [
       "       vehicle_model_id  package_id  travel_type_id  from_area_id  to_area_id  \\\n",
       "43426                12         NaN               2        1147.0       452.0   \n",
       "43427                12         NaN               2         393.0       466.0   \n",
       "43428                12         1.0               3         974.0         NaN   \n",
       "43429                87         NaN               2        1263.0       542.0   \n",
       "43430                12         NaN               2         689.0       393.0   \n",
       "\n",
       "       from_city_id  to_city_id         from_date      to_date  \\\n",
       "43426          15.0         NaN  11/24/2013 18:00  41602.82020   \n",
       "43427          15.0         NaN   11/26/2013 1:00  41604.08037   \n",
       "43428          15.0         NaN  11/24/2013 18:30  41602.97917   \n",
       "43429          15.0         NaN  11/24/2013 16:00  41602.69495   \n",
       "43430          15.0         NaN   11/25/2013 5:00  41603.25385   \n",
       "\n",
       "       online_booking  mobile_site_booking   booking_created  from_lat  \\\n",
       "43426               1                    0  11/24/2013 14:25  13.03064   \n",
       "43427               1                    0  11/24/2013 14:30  13.19956   \n",
       "43428               0                    0  11/24/2013 14:35  13.07557   \n",
       "43429               0                    0  11/24/2013 14:43  12.96897   \n",
       "43430               0                    1  11/24/2013 14:50  12.97672   \n",
       "\n",
       "       from_long     to_lat   to_long  Car_Cancellation  \n",
       "43426   77.64910  12.952780  77.59088                 0  \n",
       "43427   77.70688  13.017436  77.64458                 0  \n",
       "43428   77.55904        NaN       NaN                 0  \n",
       "43429   77.59456  12.938230  77.62289                 0  \n",
       "43430   77.64927  13.199560  77.70688                 0  "
      ]
     },
     "execution_count": 59,
     "metadata": {},
     "output_type": "execute_result"
    }
   ],
   "source": [
    "df.tail()"
   ]
  },
  {
   "cell_type": "code",
   "execution_count": 60,
   "id": "253d2cc9",
   "metadata": {
    "hidden": true
   },
   "outputs": [
    {
     "name": "stdout",
     "output_type": "stream",
     "text": [
      "<class 'pandas.core.frame.DataFrame'>\n",
      "RangeIndex: 43431 entries, 0 to 43430\n",
      "Data columns (total 17 columns):\n",
      " #   Column               Non-Null Count  Dtype  \n",
      "---  ------               --------------  -----  \n",
      " 0   vehicle_model_id     43431 non-null  int64  \n",
      " 1   package_id           7550 non-null   float64\n",
      " 2   travel_type_id       43431 non-null  int64  \n",
      " 3   from_area_id         43343 non-null  float64\n",
      " 4   to_area_id           34293 non-null  float64\n",
      " 5   from_city_id         16345 non-null  float64\n",
      " 6   to_city_id           1588 non-null   float64\n",
      " 7   from_date            43431 non-null  object \n",
      " 8   to_date              25541 non-null  float64\n",
      " 9   online_booking       43431 non-null  int64  \n",
      " 10  mobile_site_booking  43431 non-null  int64  \n",
      " 11  booking_created      43431 non-null  object \n",
      " 12  from_lat             43338 non-null  float64\n",
      " 13  from_long            43338 non-null  float64\n",
      " 14  to_lat               34293 non-null  float64\n",
      " 15  to_long              34293 non-null  float64\n",
      " 16  Car_Cancellation     43431 non-null  int64  \n",
      "dtypes: float64(10), int64(5), object(2)\n",
      "memory usage: 5.6+ MB\n"
     ]
    }
   ],
   "source": [
    "df.info()"
   ]
  },
  {
   "cell_type": "code",
   "execution_count": 61,
   "id": "3d3fb097",
   "metadata": {
    "hidden": true
   },
   "outputs": [
    {
     "data": {
      "text/html": [
       "<div>\n",
       "<style scoped>\n",
       "    .dataframe tbody tr th:only-of-type {\n",
       "        vertical-align: middle;\n",
       "    }\n",
       "\n",
       "    .dataframe tbody tr th {\n",
       "        vertical-align: top;\n",
       "    }\n",
       "\n",
       "    .dataframe thead th {\n",
       "        text-align: right;\n",
       "    }\n",
       "</style>\n",
       "<table border=\"1\" class=\"dataframe\">\n",
       "  <thead>\n",
       "    <tr style=\"text-align: right;\">\n",
       "      <th></th>\n",
       "      <th>vehicle_model_id</th>\n",
       "      <th>package_id</th>\n",
       "      <th>travel_type_id</th>\n",
       "      <th>from_area_id</th>\n",
       "      <th>to_area_id</th>\n",
       "      <th>from_city_id</th>\n",
       "      <th>to_city_id</th>\n",
       "      <th>to_date</th>\n",
       "      <th>online_booking</th>\n",
       "      <th>mobile_site_booking</th>\n",
       "      <th>from_lat</th>\n",
       "      <th>from_long</th>\n",
       "      <th>to_lat</th>\n",
       "      <th>to_long</th>\n",
       "      <th>Car_Cancellation</th>\n",
       "    </tr>\n",
       "  </thead>\n",
       "  <tbody>\n",
       "    <tr>\n",
       "      <th>count</th>\n",
       "      <td>43431.00000</td>\n",
       "      <td>7550.000000</td>\n",
       "      <td>43431.000000</td>\n",
       "      <td>43343.000000</td>\n",
       "      <td>34293.000000</td>\n",
       "      <td>16345.000000</td>\n",
       "      <td>1588.000000</td>\n",
       "      <td>25541.000000</td>\n",
       "      <td>43431.000000</td>\n",
       "      <td>43431.000000</td>\n",
       "      <td>43338.000000</td>\n",
       "      <td>43338.000000</td>\n",
       "      <td>34293.000000</td>\n",
       "      <td>34293.000000</td>\n",
       "      <td>43431.000000</td>\n",
       "    </tr>\n",
       "    <tr>\n",
       "      <th>mean</th>\n",
       "      <td>25.71723</td>\n",
       "      <td>2.030066</td>\n",
       "      <td>2.137252</td>\n",
       "      <td>714.544494</td>\n",
       "      <td>669.490917</td>\n",
       "      <td>14.915081</td>\n",
       "      <td>68.537783</td>\n",
       "      <td>41507.974840</td>\n",
       "      <td>0.351592</td>\n",
       "      <td>0.043241</td>\n",
       "      <td>12.982461</td>\n",
       "      <td>77.636255</td>\n",
       "      <td>13.026648</td>\n",
       "      <td>77.640595</td>\n",
       "      <td>0.072114</td>\n",
       "    </tr>\n",
       "    <tr>\n",
       "      <th>std</th>\n",
       "      <td>26.79825</td>\n",
       "      <td>1.461756</td>\n",
       "      <td>0.437712</td>\n",
       "      <td>419.883553</td>\n",
       "      <td>400.638225</td>\n",
       "      <td>1.165306</td>\n",
       "      <td>49.880732</td>\n",
       "      <td>305.144945</td>\n",
       "      <td>0.477473</td>\n",
       "      <td>0.203402</td>\n",
       "      <td>0.085933</td>\n",
       "      <td>0.059391</td>\n",
       "      <td>0.113487</td>\n",
       "      <td>0.064045</td>\n",
       "      <td>0.258680</td>\n",
       "    </tr>\n",
       "    <tr>\n",
       "      <th>min</th>\n",
       "      <td>1.00000</td>\n",
       "      <td>1.000000</td>\n",
       "      <td>1.000000</td>\n",
       "      <td>2.000000</td>\n",
       "      <td>2.000000</td>\n",
       "      <td>1.000000</td>\n",
       "      <td>4.000000</td>\n",
       "      <td>25569.020830</td>\n",
       "      <td>0.000000</td>\n",
       "      <td>0.000000</td>\n",
       "      <td>12.776630</td>\n",
       "      <td>77.386930</td>\n",
       "      <td>12.776630</td>\n",
       "      <td>77.386930</td>\n",
       "      <td>0.000000</td>\n",
       "    </tr>\n",
       "    <tr>\n",
       "      <th>25%</th>\n",
       "      <td>12.00000</td>\n",
       "      <td>1.000000</td>\n",
       "      <td>2.000000</td>\n",
       "      <td>393.000000</td>\n",
       "      <td>393.000000</td>\n",
       "      <td>15.000000</td>\n",
       "      <td>32.000000</td>\n",
       "      <td>41480.521110</td>\n",
       "      <td>0.000000</td>\n",
       "      <td>0.000000</td>\n",
       "      <td>12.926450</td>\n",
       "      <td>77.593661</td>\n",
       "      <td>12.951850</td>\n",
       "      <td>77.582030</td>\n",
       "      <td>0.000000</td>\n",
       "    </tr>\n",
       "    <tr>\n",
       "      <th>50%</th>\n",
       "      <td>12.00000</td>\n",
       "      <td>2.000000</td>\n",
       "      <td>2.000000</td>\n",
       "      <td>590.000000</td>\n",
       "      <td>541.000000</td>\n",
       "      <td>15.000000</td>\n",
       "      <td>49.000000</td>\n",
       "      <td>41517.761550</td>\n",
       "      <td>0.000000</td>\n",
       "      <td>0.000000</td>\n",
       "      <td>12.968887</td>\n",
       "      <td>77.635750</td>\n",
       "      <td>12.982750</td>\n",
       "      <td>77.645030</td>\n",
       "      <td>0.000000</td>\n",
       "    </tr>\n",
       "    <tr>\n",
       "      <th>75%</th>\n",
       "      <td>24.00000</td>\n",
       "      <td>2.000000</td>\n",
       "      <td>2.000000</td>\n",
       "      <td>1089.000000</td>\n",
       "      <td>1054.000000</td>\n",
       "      <td>15.000000</td>\n",
       "      <td>108.000000</td>\n",
       "      <td>41558.914630</td>\n",
       "      <td>1.000000</td>\n",
       "      <td>0.000000</td>\n",
       "      <td>13.007750</td>\n",
       "      <td>77.688900</td>\n",
       "      <td>13.199560</td>\n",
       "      <td>77.706880</td>\n",
       "      <td>0.000000</td>\n",
       "    </tr>\n",
       "    <tr>\n",
       "      <th>max</th>\n",
       "      <td>91.00000</td>\n",
       "      <td>7.000000</td>\n",
       "      <td>3.000000</td>\n",
       "      <td>1403.000000</td>\n",
       "      <td>1403.000000</td>\n",
       "      <td>31.000000</td>\n",
       "      <td>203.000000</td>\n",
       "      <td>41678.275680</td>\n",
       "      <td>1.000000</td>\n",
       "      <td>1.000000</td>\n",
       "      <td>13.366072</td>\n",
       "      <td>77.786420</td>\n",
       "      <td>13.366072</td>\n",
       "      <td>77.786420</td>\n",
       "      <td>1.000000</td>\n",
       "    </tr>\n",
       "  </tbody>\n",
       "</table>\n",
       "</div>"
      ],
      "text/plain": [
       "       vehicle_model_id   package_id  travel_type_id  from_area_id  \\\n",
       "count       43431.00000  7550.000000    43431.000000  43343.000000   \n",
       "mean           25.71723     2.030066        2.137252    714.544494   \n",
       "std            26.79825     1.461756        0.437712    419.883553   \n",
       "min             1.00000     1.000000        1.000000      2.000000   \n",
       "25%            12.00000     1.000000        2.000000    393.000000   \n",
       "50%            12.00000     2.000000        2.000000    590.000000   \n",
       "75%            24.00000     2.000000        2.000000   1089.000000   \n",
       "max            91.00000     7.000000        3.000000   1403.000000   \n",
       "\n",
       "         to_area_id  from_city_id   to_city_id       to_date  online_booking  \\\n",
       "count  34293.000000  16345.000000  1588.000000  25541.000000    43431.000000   \n",
       "mean     669.490917     14.915081    68.537783  41507.974840        0.351592   \n",
       "std      400.638225      1.165306    49.880732    305.144945        0.477473   \n",
       "min        2.000000      1.000000     4.000000  25569.020830        0.000000   \n",
       "25%      393.000000     15.000000    32.000000  41480.521110        0.000000   \n",
       "50%      541.000000     15.000000    49.000000  41517.761550        0.000000   \n",
       "75%     1054.000000     15.000000   108.000000  41558.914630        1.000000   \n",
       "max     1403.000000     31.000000   203.000000  41678.275680        1.000000   \n",
       "\n",
       "       mobile_site_booking      from_lat     from_long        to_lat  \\\n",
       "count         43431.000000  43338.000000  43338.000000  34293.000000   \n",
       "mean              0.043241     12.982461     77.636255     13.026648   \n",
       "std               0.203402      0.085933      0.059391      0.113487   \n",
       "min               0.000000     12.776630     77.386930     12.776630   \n",
       "25%               0.000000     12.926450     77.593661     12.951850   \n",
       "50%               0.000000     12.968887     77.635750     12.982750   \n",
       "75%               0.000000     13.007750     77.688900     13.199560   \n",
       "max               1.000000     13.366072     77.786420     13.366072   \n",
       "\n",
       "            to_long  Car_Cancellation  \n",
       "count  34293.000000      43431.000000  \n",
       "mean      77.640595          0.072114  \n",
       "std        0.064045          0.258680  \n",
       "min       77.386930          0.000000  \n",
       "25%       77.582030          0.000000  \n",
       "50%       77.645030          0.000000  \n",
       "75%       77.706880          0.000000  \n",
       "max       77.786420          1.000000  "
      ]
     },
     "execution_count": 61,
     "metadata": {},
     "output_type": "execute_result"
    }
   ],
   "source": [
    "df.describe()"
   ]
  },
  {
   "cell_type": "code",
   "execution_count": 62,
   "id": "4b2d3a10",
   "metadata": {
    "hidden": true
   },
   "outputs": [
    {
     "data": {
      "text/html": [
       "<div>\n",
       "<style scoped>\n",
       "    .dataframe tbody tr th:only-of-type {\n",
       "        vertical-align: middle;\n",
       "    }\n",
       "\n",
       "    .dataframe tbody tr th {\n",
       "        vertical-align: top;\n",
       "    }\n",
       "\n",
       "    .dataframe thead th {\n",
       "        text-align: right;\n",
       "    }\n",
       "</style>\n",
       "<table border=\"1\" class=\"dataframe\">\n",
       "  <thead>\n",
       "    <tr style=\"text-align: right;\">\n",
       "      <th></th>\n",
       "      <th>from_date</th>\n",
       "      <th>booking_created</th>\n",
       "    </tr>\n",
       "  </thead>\n",
       "  <tbody>\n",
       "    <tr>\n",
       "      <th>count</th>\n",
       "      <td>43431</td>\n",
       "      <td>43431</td>\n",
       "    </tr>\n",
       "    <tr>\n",
       "      <th>unique</th>\n",
       "      <td>20377</td>\n",
       "      <td>39349</td>\n",
       "    </tr>\n",
       "    <tr>\n",
       "      <th>top</th>\n",
       "      <td>10/12/2013 6:00</td>\n",
       "      <td>10/31/2013 10:30</td>\n",
       "    </tr>\n",
       "    <tr>\n",
       "      <th>freq</th>\n",
       "      <td>20</td>\n",
       "      <td>18</td>\n",
       "    </tr>\n",
       "  </tbody>\n",
       "</table>\n",
       "</div>"
      ],
      "text/plain": [
       "              from_date   booking_created\n",
       "count             43431             43431\n",
       "unique            20377             39349\n",
       "top     10/12/2013 6:00  10/31/2013 10:30\n",
       "freq                 20                18"
      ]
     },
     "execution_count": 62,
     "metadata": {},
     "output_type": "execute_result"
    }
   ],
   "source": [
    "df.describe(include=['object'])"
   ]
  },
  {
   "cell_type": "code",
   "execution_count": null,
   "id": "59c53df3",
   "metadata": {
    "hidden": true
   },
   "outputs": [],
   "source": []
  },
  {
   "cell_type": "markdown",
   "id": "1d4e0d97",
   "metadata": {
    "heading_collapsed": true,
    "hidden": true
   },
   "source": [
    "### Null values"
   ]
  },
  {
   "cell_type": "code",
   "execution_count": 219,
   "id": "9a7f0e63",
   "metadata": {
    "hidden": true
   },
   "outputs": [
    {
     "data": {
      "text/plain": [
       "<AxesSubplot:>"
      ]
     },
     "execution_count": 219,
     "metadata": {},
     "output_type": "execute_result"
    },
    {
     "data": {
      "image/png": "[encoded data removed]",
      "text/plain": [
       "<Figure size 1008x576 with 2 Axes>"
      ]
     },
     "metadata": {
      "needs_background": "light"
     },
     "output_type": "display_data"
    }
   ],
   "source": [
    "plt.figure(figsize=(14,8))\n",
    "sns.heatmap(df.isna().transpose(),cbar_kws={'label': '\\nMissing Data'},xticklabels=False,cmap='cividis')"
   ]
  },
  {
   "cell_type": "code",
   "execution_count": 230,
   "id": "0ed4a715",
   "metadata": {
    "hidden": true
   },
   "outputs": [
    {
     "data": {
      "text/plain": [
       "43431"
      ]
     },
     "execution_count": 230,
     "metadata": {},
     "output_type": "execute_result"
    }
   ],
   "source": [
    "l=df.shape[0]\n",
    "l  # no of rows(or observations)"
   ]
  },
  {
   "cell_type": "code",
   "execution_count": 67,
   "id": "49858c25",
   "metadata": {
    "hidden": true
   },
   "outputs": [
    {
     "data": {
      "text/plain": [
       "vehicle_model_id        0.000000\n",
       "package_id             82.616104\n",
       "travel_type_id          0.000000\n",
       "from_area_id            0.202620\n",
       "to_area_id             21.040271\n",
       "from_city_id           62.365591\n",
       "to_city_id             96.343626\n",
       "from_date               0.000000\n",
       "to_date                41.191775\n",
       "online_booking          0.000000\n",
       "mobile_site_booking     0.000000\n",
       "booking_created         0.000000\n",
       "from_lat                0.214133\n",
       "from_long               0.214133\n",
       "to_lat                 21.040271\n",
       "to_long                21.040271\n",
       "Car_Cancellation        0.000000\n",
       "dtype: float64"
      ]
     },
     "execution_count": 67,
     "metadata": {},
     "output_type": "execute_result"
    }
   ],
   "source": [
    "(df.isnull().sum()/l)*100"
   ]
  },
  {
   "cell_type": "code",
   "execution_count": null,
   "id": "6a22ad30",
   "metadata": {
    "hidden": true
   },
   "outputs": [],
   "source": []
  },
  {
   "cell_type": "code",
   "execution_count": null,
   "id": "ca6bbba0",
   "metadata": {
    "hidden": true
   },
   "outputs": [],
   "source": [
    "## so we can see that many columns have high null values. Let us do further analysis on them and then drop the appropriate ones"
   ]
  },
  {
   "cell_type": "code",
   "execution_count": null,
   "id": "613a05fd",
   "metadata": {
    "hidden": true
   },
   "outputs": [],
   "source": []
  },
  {
   "cell_type": "markdown",
   "id": "7555b554",
   "metadata": {
    "heading_collapsed": true,
    "hidden": true
   },
   "source": [
    "### Univariate analysis"
   ]
  },
  {
   "cell_type": "code",
   "execution_count": null,
   "id": "27cb685d",
   "metadata": {
    "hidden": true
   },
   "outputs": [],
   "source": []
  },
  {
   "cell_type": "markdown",
   "id": "32cd2bdc",
   "metadata": {
    "heading_collapsed": true,
    "hidden": true
   },
   "source": [
    "#### Target variable"
   ]
  },
  {
   "cell_type": "code",
   "execution_count": 237,
   "id": "7824bd1b",
   "metadata": {
    "hidden": true
   },
   "outputs": [
    {
     "data": {
      "text/plain": [
       "<AxesSubplot:xlabel='Car_Cancellation', ylabel='count'>"
      ]
     },
     "execution_count": 237,
     "metadata": {},
     "output_type": "execute_result"
    },
    {
     "data": {
      "image/png": "[encoded data removed]",
      "text/plain": [
       "<Figure size 432x288 with 1 Axes>"
      ]
     },
     "metadata": {
      "needs_background": "light"
     },
     "output_type": "display_data"
    }
   ],
   "source": [
    "sns.countplot(data=df, x='Car_Cancellation')"
   ]
  },
  {
   "cell_type": "code",
   "execution_count": 236,
   "id": "2375f608",
   "metadata": {
    "hidden": true
   },
   "outputs": [
    {
     "data": {
      "text/plain": [
       "0    92.788561\n",
       "1     7.211439\n",
       "Name: Car_Cancellation, dtype: float64"
      ]
     },
     "execution_count": 236,
     "metadata": {},
     "output_type": "execute_result"
    }
   ],
   "source": [
    "(df['Car_Cancellation'].value_counts()/l)*100"
   ]
  },
  {
   "cell_type": "code",
   "execution_count": null,
   "id": "e36a9de5",
   "metadata": {
    "hidden": true
   },
   "outputs": [],
   "source": [
    "## 7.2% of the bookings have been cancelled rest have gone through."
   ]
  },
  {
   "cell_type": "code",
   "execution_count": null,
   "id": "f8fdb940",
   "metadata": {
    "hidden": true
   },
   "outputs": [],
   "source": []
  },
  {
   "cell_type": "markdown",
   "id": "ffb05d04",
   "metadata": {
    "heading_collapsed": true,
    "hidden": true
   },
   "source": [
    "#### Features"
   ]
  },
  {
   "cell_type": "code",
   "execution_count": null,
   "id": "e1bfab81",
   "metadata": {
    "hidden": true
   },
   "outputs": [],
   "source": []
  },
  {
   "cell_type": "code",
   "execution_count": null,
   "id": "f938cee1",
   "metadata": {
    "hidden": true
   },
   "outputs": [],
   "source": [
    "### vehicle_model_id"
   ]
  },
  {
   "cell_type": "code",
   "execution_count": null,
   "id": "4c83f8b9",
   "metadata": {
    "hidden": true
   },
   "outputs": [],
   "source": []
  },
  {
   "cell_type": "code",
   "execution_count": 223,
   "id": "1dc8f071",
   "metadata": {
    "hidden": true
   },
   "outputs": [
    {
     "data": {
      "text/plain": [
       "<AxesSubplot:xlabel='vehicle_model_id', ylabel='count'>"
      ]
     },
     "execution_count": 223,
     "metadata": {},
     "output_type": "execute_result"
    },
    {
     "data": {
      "image/png": "[encoded data removed]",
      "text/plain": [
       "<Figure size 432x288 with 1 Axes>"
      ]
     },
     "metadata": {
      "needs_background": "light"
     },
     "output_type": "display_data"
    }
   ],
   "source": [
    "sns.countplot(data=df, x='vehicle_model_id')"
   ]
  },
  {
   "cell_type": "code",
   "execution_count": 69,
   "id": "b9ae9094",
   "metadata": {
    "hidden": true
   },
   "outputs": [
    {
     "data": {
      "text/plain": [
       "12    73.355437\n",
       "85     5.542124\n",
       "89     5.505284\n",
       "65     4.402385\n",
       "28     3.918860\n",
       "24     3.439939\n",
       "87     1.300914\n",
       "90     0.718381\n",
       "23     0.683843\n",
       "86     0.283208\n",
       "10     0.239460\n",
       "64     0.195713\n",
       "54     0.168083\n",
       "17     0.092100\n",
       "91     0.057563\n",
       "30     0.032235\n",
       "36     0.020723\n",
       "13     0.016118\n",
       "72     0.004605\n",
       "1      0.004605\n",
       "43     0.004605\n",
       "14     0.002303\n",
       "69     0.002303\n",
       "76     0.002303\n",
       "75     0.002303\n",
       "70     0.002303\n",
       "39     0.002303\n",
       "Name: vehicle_model_id, dtype: float64"
      ]
     },
     "execution_count": 69,
     "metadata": {},
     "output_type": "execute_result"
    }
   ],
   "source": [
    "(df['vehicle_model_id'].value_counts()/l)*100"
   ]
  },
  {
   "cell_type": "code",
   "execution_count": 70,
   "id": "91261b5b",
   "metadata": {
    "hidden": true
   },
   "outputs": [],
   "source": [
    "## no variance here, 12 is repeating 73% times, thus we can drop it, as it\n",
    "## will just increase the bias in the model"
   ]
  },
  {
   "cell_type": "code",
   "execution_count": null,
   "id": "16e928b1",
   "metadata": {
    "hidden": true
   },
   "outputs": [],
   "source": []
  },
  {
   "cell_type": "code",
   "execution_count": null,
   "id": "9f903a9d",
   "metadata": {
    "hidden": true
   },
   "outputs": [],
   "source": [
    "### package_id and travel_type_id"
   ]
  },
  {
   "cell_type": "code",
   "execution_count": null,
   "id": "f63e6f9b",
   "metadata": {
    "hidden": true
   },
   "outputs": [],
   "source": []
  },
  {
   "cell_type": "code",
   "execution_count": 71,
   "id": "cc72e9e1",
   "metadata": {
    "hidden": true
   },
   "outputs": [],
   "source": [
    "## By looking at the business description we know that package_id and travel_type_id would have some relation, \n",
    "## so let us examine them together"
   ]
  },
  {
   "cell_type": "code",
   "execution_count": 72,
   "id": "e93fc809",
   "metadata": {
    "hidden": true
   },
   "outputs": [
    {
     "data": {
      "text/plain": [
       "1.0    3503\n",
       "2.0    2651\n",
       "6.0     502\n",
       "4.0     412\n",
       "3.0     375\n",
       "7.0     101\n",
       "5.0       6\n",
       "Name: package_id, dtype: int64"
      ]
     },
     "execution_count": 72,
     "metadata": {},
     "output_type": "execute_result"
    }
   ],
   "source": [
    "df['package_id'].value_counts()"
   ]
  },
  {
   "cell_type": "code",
   "execution_count": 73,
   "id": "b06b2334",
   "metadata": {
    "hidden": true
   },
   "outputs": [
    {
     "data": {
      "text/plain": [
       "1.0    8.065667\n",
       "2.0    6.103935\n",
       "6.0    1.155856\n",
       "4.0    0.948631\n",
       "3.0    0.863439\n",
       "7.0    0.232553\n",
       "5.0    0.013815\n",
       "Name: package_id, dtype: float64"
      ]
     },
     "execution_count": 73,
     "metadata": {},
     "output_type": "execute_result"
    }
   ],
   "source": [
    "(df['package_id'].value_counts()/l)*100"
   ]
  },
  {
   "cell_type": "code",
   "execution_count": 74,
   "id": "af3905f5",
   "metadata": {
    "hidden": true
   },
   "outputs": [
    {
     "data": {
      "text/plain": [
       "2    78.957427\n",
       "3    17.383896\n",
       "1     3.658677\n",
       "Name: travel_type_id, dtype: float64"
      ]
     },
     "execution_count": 74,
     "metadata": {},
     "output_type": "execute_result"
    }
   ],
   "source": [
    "(df['travel_type_id'].value_counts()/l)*100"
   ]
  },
  {
   "cell_type": "code",
   "execution_count": 75,
   "id": "59c2c3d0",
   "metadata": {
    "hidden": true
   },
   "outputs": [
    {
     "data": {
      "text/plain": [
       "2    34292\n",
       "1     1589\n",
       "Name: travel_type_id, dtype: int64"
      ]
     },
     "execution_count": 75,
     "metadata": {},
     "output_type": "execute_result"
    }
   ],
   "source": [
    "df[df['package_id'].isnull()]['travel_type_id'].value_counts()\n",
    "\n",
    "## wherever package_id is null the travel_type_id is either 2 or 1 "
   ]
  },
  {
   "cell_type": "code",
   "execution_count": 76,
   "id": "9d1e4682",
   "metadata": {
    "hidden": true
   },
   "outputs": [
    {
     "data": {
      "text/plain": [
       "3    7550\n",
       "Name: travel_type_id, dtype: int64"
      ]
     },
     "execution_count": 76,
     "metadata": {},
     "output_type": "execute_result"
    }
   ],
   "source": [
    "df[df['package_id'].isnull()==False]['travel_type_id'].value_counts()  \n",
    "\n",
    "## so all observations with non null values in package_id has travel_type_id = 3 which denotes hourly rental, \n",
    "## which is understandable since all the packages will be some rental charge type only."
   ]
  },
  {
   "cell_type": "code",
   "execution_count": 80,
   "id": "20bffb18",
   "metadata": {
    "hidden": true
   },
   "outputs": [],
   "source": [
    "# So package_id can be dropped as it is adding nothing and is summed up in travel type id only"
   ]
  },
  {
   "cell_type": "code",
   "execution_count": 81,
   "id": "f27ce84e",
   "metadata": {
    "hidden": true
   },
   "outputs": [],
   "source": [
    "df.drop(columns=['package_id'],inplace=True)"
   ]
  },
  {
   "cell_type": "code",
   "execution_count": null,
   "id": "2bf7e0f6",
   "metadata": {
    "hidden": true
   },
   "outputs": [],
   "source": []
  },
  {
   "cell_type": "code",
   "execution_count": 225,
   "id": "8eef0e09",
   "metadata": {
    "hidden": true
   },
   "outputs": [
    {
     "data": {
      "text/plain": [
       "<AxesSubplot:xlabel='travel_type_id', ylabel='count'>"
      ]
     },
     "execution_count": 225,
     "metadata": {},
     "output_type": "execute_result"
    },
    {
     "data": {
      "image/png": "[encoded data removed]",
      "text/plain": [
       "<Figure size 432x288 with 1 Axes>"
      ]
     },
     "metadata": {
      "needs_background": "light"
     },
     "output_type": "display_data"
    }
   ],
   "source": [
    "sns.countplot(data=df,x='travel_type_id',hue='Car_Cancellation')"
   ]
  },
  {
   "cell_type": "code",
   "execution_count": 241,
   "id": "e225b0fd",
   "metadata": {
    "hidden": true
   },
   "outputs": [
    {
     "data": {
      "text/plain": [
       "0    16.610255\n",
       "1     0.773641\n",
       "Name: Car_Cancellation, dtype: float64"
      ]
     },
     "execution_count": 241,
     "metadata": {},
     "output_type": "execute_result"
    }
   ],
   "source": [
    "(df[df['travel_type_id']==3]['Car_Cancellation'].value_counts()/l)*100"
   ]
  },
  {
   "cell_type": "code",
   "execution_count": 242,
   "id": "014b4e50",
   "metadata": {
    "hidden": true
   },
   "outputs": [
    {
     "data": {
      "text/plain": [
       "0    3.610324\n",
       "1    0.048353\n",
       "Name: Car_Cancellation, dtype: float64"
      ]
     },
     "execution_count": 242,
     "metadata": {},
     "output_type": "execute_result"
    }
   ],
   "source": [
    "(df[df['travel_type_id']==1]['Car_Cancellation'].value_counts()/l)*100"
   ]
  },
  {
   "cell_type": "code",
   "execution_count": 243,
   "id": "2a445c55",
   "metadata": {
    "hidden": true
   },
   "outputs": [
    {
     "data": {
      "text/plain": [
       "0    72.567981\n",
       "1     6.389445\n",
       "Name: Car_Cancellation, dtype: float64"
      ]
     },
     "execution_count": 243,
     "metadata": {},
     "output_type": "execute_result"
    }
   ],
   "source": [
    "(df[df['travel_type_id']==2]['Car_Cancellation'].value_counts()/l)*100"
   ]
  },
  {
   "cell_type": "code",
   "execution_count": 250,
   "id": "62f9bd18",
   "metadata": {
    "hidden": true
   },
   "outputs": [
    {
     "data": {
      "text/plain": [
       "11.350076314694048"
      ]
     },
     "execution_count": 250,
     "metadata": {},
     "output_type": "execute_result"
    }
   ],
   "source": [
    "## from here we can see that the majority of the contribution to the cancellations is coming from travel_type_id =2, the other\n",
    "## two types of travel constitute only 11% of the cancellations: \n",
    "((0.77+0.048)/(0.77+0.048+6.389))*100\n",
    "\n",
    "## Due to these low contributions, it wont add much to the model(i.e., we dont need to train the model for such less \n",
    "## contributing data points) and thus we will remove these data points."
   ]
  },
  {
   "cell_type": "code",
   "execution_count": 83,
   "id": "4dd2f713",
   "metadata": {
    "hidden": true
   },
   "outputs": [
    {
     "data": {
      "text/html": [
       "<div>\n",
       "<style scoped>\n",
       "    .dataframe tbody tr th:only-of-type {\n",
       "        vertical-align: middle;\n",
       "    }\n",
       "\n",
       "    .dataframe tbody tr th {\n",
       "        vertical-align: top;\n",
       "    }\n",
       "\n",
       "    .dataframe thead th {\n",
       "        text-align: right;\n",
       "    }\n",
       "</style>\n",
       "<table border=\"1\" class=\"dataframe\">\n",
       "  <thead>\n",
       "    <tr style=\"text-align: right;\">\n",
       "      <th></th>\n",
       "      <th>vehicle_model_id</th>\n",
       "      <th>from_area_id</th>\n",
       "      <th>to_area_id</th>\n",
       "      <th>from_city_id</th>\n",
       "      <th>to_city_id</th>\n",
       "      <th>from_date</th>\n",
       "      <th>to_date</th>\n",
       "      <th>online_booking</th>\n",
       "      <th>mobile_site_booking</th>\n",
       "      <th>booking_created</th>\n",
       "      <th>from_lat</th>\n",
       "      <th>from_long</th>\n",
       "      <th>to_lat</th>\n",
       "      <th>to_long</th>\n",
       "      <th>Car_Cancellation</th>\n",
       "    </tr>\n",
       "  </thead>\n",
       "  <tbody>\n",
       "    <tr>\n",
       "      <th>0</th>\n",
       "      <td>28</td>\n",
       "      <td>83.0</td>\n",
       "      <td>448.0</td>\n",
       "      <td>NaN</td>\n",
       "      <td>NaN</td>\n",
       "      <td>1/1/2013 2:00</td>\n",
       "      <td>NaN</td>\n",
       "      <td>0</td>\n",
       "      <td>0</td>\n",
       "      <td>1/1/2013 1:39</td>\n",
       "      <td>12.924150</td>\n",
       "      <td>77.672290</td>\n",
       "      <td>12.927320</td>\n",
       "      <td>77.635750</td>\n",
       "      <td>0</td>\n",
       "    </tr>\n",
       "    <tr>\n",
       "      <th>1</th>\n",
       "      <td>12</td>\n",
       "      <td>1010.0</td>\n",
       "      <td>540.0</td>\n",
       "      <td>NaN</td>\n",
       "      <td>NaN</td>\n",
       "      <td>1/1/2013 9:00</td>\n",
       "      <td>NaN</td>\n",
       "      <td>0</td>\n",
       "      <td>0</td>\n",
       "      <td>1/1/2013 2:25</td>\n",
       "      <td>12.966910</td>\n",
       "      <td>77.749350</td>\n",
       "      <td>12.927680</td>\n",
       "      <td>77.626640</td>\n",
       "      <td>0</td>\n",
       "    </tr>\n",
       "    <tr>\n",
       "      <th>2</th>\n",
       "      <td>12</td>\n",
       "      <td>1301.0</td>\n",
       "      <td>1034.0</td>\n",
       "      <td>NaN</td>\n",
       "      <td>NaN</td>\n",
       "      <td>1/1/2013 3:30</td>\n",
       "      <td>NaN</td>\n",
       "      <td>0</td>\n",
       "      <td>0</td>\n",
       "      <td>1/1/2013 3:08</td>\n",
       "      <td>12.937222</td>\n",
       "      <td>77.626915</td>\n",
       "      <td>13.047926</td>\n",
       "      <td>77.597766</td>\n",
       "      <td>0</td>\n",
       "    </tr>\n",
       "    <tr>\n",
       "      <th>3</th>\n",
       "      <td>12</td>\n",
       "      <td>768.0</td>\n",
       "      <td>398.0</td>\n",
       "      <td>NaN</td>\n",
       "      <td>NaN</td>\n",
       "      <td>1/1/2013 5:45</td>\n",
       "      <td>NaN</td>\n",
       "      <td>0</td>\n",
       "      <td>0</td>\n",
       "      <td>1/1/2013 4:39</td>\n",
       "      <td>12.989990</td>\n",
       "      <td>77.553320</td>\n",
       "      <td>12.971430</td>\n",
       "      <td>77.639140</td>\n",
       "      <td>0</td>\n",
       "    </tr>\n",
       "    <tr>\n",
       "      <th>4</th>\n",
       "      <td>12</td>\n",
       "      <td>1365.0</td>\n",
       "      <td>849.0</td>\n",
       "      <td>NaN</td>\n",
       "      <td>NaN</td>\n",
       "      <td>1/1/2013 9:00</td>\n",
       "      <td>NaN</td>\n",
       "      <td>0</td>\n",
       "      <td>0</td>\n",
       "      <td>1/1/2013 7:53</td>\n",
       "      <td>12.845653</td>\n",
       "      <td>77.677925</td>\n",
       "      <td>12.954340</td>\n",
       "      <td>77.600720</td>\n",
       "      <td>0</td>\n",
       "    </tr>\n",
       "    <tr>\n",
       "      <th>...</th>\n",
       "      <td>...</td>\n",
       "      <td>...</td>\n",
       "      <td>...</td>\n",
       "      <td>...</td>\n",
       "      <td>...</td>\n",
       "      <td>...</td>\n",
       "      <td>...</td>\n",
       "      <td>...</td>\n",
       "      <td>...</td>\n",
       "      <td>...</td>\n",
       "      <td>...</td>\n",
       "      <td>...</td>\n",
       "      <td>...</td>\n",
       "      <td>...</td>\n",
       "      <td>...</td>\n",
       "    </tr>\n",
       "    <tr>\n",
       "      <th>43425</th>\n",
       "      <td>12</td>\n",
       "      <td>585.0</td>\n",
       "      <td>1226.0</td>\n",
       "      <td>15.0</td>\n",
       "      <td>NaN</td>\n",
       "      <td>11/25/2013 0:00</td>\n",
       "      <td>41603.03336</td>\n",
       "      <td>0</td>\n",
       "      <td>1</td>\n",
       "      <td>11/24/2013 14:24</td>\n",
       "      <td>12.976770</td>\n",
       "      <td>77.572700</td>\n",
       "      <td>13.015080</td>\n",
       "      <td>77.677960</td>\n",
       "      <td>0</td>\n",
       "    </tr>\n",
       "    <tr>\n",
       "      <th>43426</th>\n",
       "      <td>12</td>\n",
       "      <td>1147.0</td>\n",
       "      <td>452.0</td>\n",
       "      <td>15.0</td>\n",
       "      <td>NaN</td>\n",
       "      <td>11/24/2013 18:00</td>\n",
       "      <td>41602.82020</td>\n",
       "      <td>1</td>\n",
       "      <td>0</td>\n",
       "      <td>11/24/2013 14:25</td>\n",
       "      <td>13.030640</td>\n",
       "      <td>77.649100</td>\n",
       "      <td>12.952780</td>\n",
       "      <td>77.590880</td>\n",
       "      <td>0</td>\n",
       "    </tr>\n",
       "    <tr>\n",
       "      <th>43427</th>\n",
       "      <td>12</td>\n",
       "      <td>393.0</td>\n",
       "      <td>466.0</td>\n",
       "      <td>15.0</td>\n",
       "      <td>NaN</td>\n",
       "      <td>11/26/2013 1:00</td>\n",
       "      <td>41604.08037</td>\n",
       "      <td>1</td>\n",
       "      <td>0</td>\n",
       "      <td>11/24/2013 14:30</td>\n",
       "      <td>13.199560</td>\n",
       "      <td>77.706880</td>\n",
       "      <td>13.017436</td>\n",
       "      <td>77.644580</td>\n",
       "      <td>0</td>\n",
       "    </tr>\n",
       "    <tr>\n",
       "      <th>43429</th>\n",
       "      <td>87</td>\n",
       "      <td>1263.0</td>\n",
       "      <td>542.0</td>\n",
       "      <td>15.0</td>\n",
       "      <td>NaN</td>\n",
       "      <td>11/24/2013 16:00</td>\n",
       "      <td>41602.69495</td>\n",
       "      <td>0</td>\n",
       "      <td>0</td>\n",
       "      <td>11/24/2013 14:43</td>\n",
       "      <td>12.968970</td>\n",
       "      <td>77.594560</td>\n",
       "      <td>12.938230</td>\n",
       "      <td>77.622890</td>\n",
       "      <td>0</td>\n",
       "    </tr>\n",
       "    <tr>\n",
       "      <th>43430</th>\n",
       "      <td>12</td>\n",
       "      <td>689.0</td>\n",
       "      <td>393.0</td>\n",
       "      <td>15.0</td>\n",
       "      <td>NaN</td>\n",
       "      <td>11/25/2013 5:00</td>\n",
       "      <td>41603.25385</td>\n",
       "      <td>0</td>\n",
       "      <td>1</td>\n",
       "      <td>11/24/2013 14:50</td>\n",
       "      <td>12.976720</td>\n",
       "      <td>77.649270</td>\n",
       "      <td>13.199560</td>\n",
       "      <td>77.706880</td>\n",
       "      <td>0</td>\n",
       "    </tr>\n",
       "  </tbody>\n",
       "</table>\n",
       "<p>34292 rows × 15 columns</p>\n",
       "</div>"
      ],
      "text/plain": [
       "       vehicle_model_id  from_area_id  to_area_id  from_city_id  to_city_id  \\\n",
       "0                    28          83.0       448.0           NaN         NaN   \n",
       "1                    12        1010.0       540.0           NaN         NaN   \n",
       "2                    12        1301.0      1034.0           NaN         NaN   \n",
       "3                    12         768.0       398.0           NaN         NaN   \n",
       "4                    12        1365.0       849.0           NaN         NaN   \n",
       "...                 ...           ...         ...           ...         ...   \n",
       "43425                12         585.0      1226.0          15.0         NaN   \n",
       "43426                12        1147.0       452.0          15.0         NaN   \n",
       "43427                12         393.0       466.0          15.0         NaN   \n",
       "43429                87        1263.0       542.0          15.0         NaN   \n",
       "43430                12         689.0       393.0          15.0         NaN   \n",
       "\n",
       "              from_date      to_date  online_booking  mobile_site_booking  \\\n",
       "0         1/1/2013 2:00          NaN               0                    0   \n",
       "1         1/1/2013 9:00          NaN               0                    0   \n",
       "2         1/1/2013 3:30          NaN               0                    0   \n",
       "3         1/1/2013 5:45          NaN               0                    0   \n",
       "4         1/1/2013 9:00          NaN               0                    0   \n",
       "...                 ...          ...             ...                  ...   \n",
       "43425   11/25/2013 0:00  41603.03336               0                    1   \n",
       "43426  11/24/2013 18:00  41602.82020               1                    0   \n",
       "43427   11/26/2013 1:00  41604.08037               1                    0   \n",
       "43429  11/24/2013 16:00  41602.69495               0                    0   \n",
       "43430   11/25/2013 5:00  41603.25385               0                    1   \n",
       "\n",
       "        booking_created   from_lat  from_long     to_lat    to_long  \\\n",
       "0         1/1/2013 1:39  12.924150  77.672290  12.927320  77.635750   \n",
       "1         1/1/2013 2:25  12.966910  77.749350  12.927680  77.626640   \n",
       "2         1/1/2013 3:08  12.937222  77.626915  13.047926  77.597766   \n",
       "3         1/1/2013 4:39  12.989990  77.553320  12.971430  77.639140   \n",
       "4         1/1/2013 7:53  12.845653  77.677925  12.954340  77.600720   \n",
       "...                 ...        ...        ...        ...        ...   \n",
       "43425  11/24/2013 14:24  12.976770  77.572700  13.015080  77.677960   \n",
       "43426  11/24/2013 14:25  13.030640  77.649100  12.952780  77.590880   \n",
       "43427  11/24/2013 14:30  13.199560  77.706880  13.017436  77.644580   \n",
       "43429  11/24/2013 14:43  12.968970  77.594560  12.938230  77.622890   \n",
       "43430  11/24/2013 14:50  12.976720  77.649270  13.199560  77.706880   \n",
       "\n",
       "       Car_Cancellation  \n",
       "0                     0  \n",
       "1                     0  \n",
       "2                     0  \n",
       "3                     0  \n",
       "4                     0  \n",
       "...                 ...  \n",
       "43425                 0  \n",
       "43426                 0  \n",
       "43427                 0  \n",
       "43429                 0  \n",
       "43430                 0  \n",
       "\n",
       "[34292 rows x 15 columns]"
      ]
     },
     "execution_count": 83,
     "metadata": {},
     "output_type": "execute_result"
    }
   ],
   "source": [
    "df.drop(df[df.travel_type_id!=2].index,inplace=True)\n",
    "\n",
    "df.drop(columns=['travel_type_id'],inplace=True) #obviously then we will drop this col also since all values will be '2'\n",
    "df"
   ]
  },
  {
   "cell_type": "code",
   "execution_count": null,
   "id": "b4429327",
   "metadata": {
    "hidden": true
   },
   "outputs": [],
   "source": []
  },
  {
   "cell_type": "code",
   "execution_count": 84,
   "id": "2d499d77",
   "metadata": {
    "hidden": true
   },
   "outputs": [
    {
     "data": {
      "text/plain": [
       "34292"
      ]
     },
     "execution_count": 84,
     "metadata": {},
     "output_type": "execute_result"
    }
   ],
   "source": [
    "l=df.shape[0]\n",
    "l"
   ]
  },
  {
   "cell_type": "code",
   "execution_count": 85,
   "id": "76a3685f",
   "metadata": {
    "hidden": true
   },
   "outputs": [],
   "source": [
    "## Again checking null values "
   ]
  },
  {
   "cell_type": "code",
   "execution_count": 86,
   "id": "71ce775a",
   "metadata": {
    "hidden": true
   },
   "outputs": [
    {
     "data": {
      "text/plain": [
       "vehicle_model_id         0.000000\n",
       "from_area_id             0.000000\n",
       "to_area_id               0.000000\n",
       "from_city_id            57.704421\n",
       "to_city_id             100.000000\n",
       "from_date                0.000000\n",
       "to_date                 44.281465\n",
       "online_booking           0.000000\n",
       "mobile_site_booking      0.000000\n",
       "booking_created          0.000000\n",
       "from_lat                 0.000000\n",
       "from_long                0.000000\n",
       "to_lat                   0.000000\n",
       "to_long                  0.000000\n",
       "Car_Cancellation         0.000000\n",
       "dtype: float64"
      ]
     },
     "execution_count": 86,
     "metadata": {},
     "output_type": "execute_result"
    }
   ],
   "source": [
    "(df.isnull().sum()/l)*100"
   ]
  },
  {
   "cell_type": "code",
   "execution_count": 87,
   "id": "45bb57c0",
   "metadata": {
    "hidden": true
   },
   "outputs": [],
   "source": [
    "## 57.7%,100% and 44% of from_city_id, to_city_id and to_date is Null, so we will remove those"
   ]
  },
  {
   "cell_type": "code",
   "execution_count": null,
   "id": "d00a86ab",
   "metadata": {
    "hidden": true
   },
   "outputs": [],
   "source": []
  },
  {
   "cell_type": "code",
   "execution_count": 88,
   "id": "988cf8a7",
   "metadata": {
    "hidden": true
   },
   "outputs": [
    {
     "data": {
      "text/plain": [
       "12    74.737548\n",
       "85     5.954742\n",
       "89     5.733116\n",
       "28     4.207979\n",
       "24     3.793888\n",
       "65     2.574945\n",
       "90     0.848594\n",
       "23     0.752362\n",
       "87     0.463665\n",
       "86     0.297445\n",
       "10     0.244955\n",
       "64     0.230374\n",
       "17     0.078736\n",
       "91     0.072903\n",
       "1      0.005832\n",
       "54     0.002916\n",
       "Name: vehicle_model_id, dtype: float64"
      ]
     },
     "execution_count": 88,
     "metadata": {},
     "output_type": "execute_result"
    }
   ],
   "source": [
    "(df['vehicle_model_id'].value_counts()/l)*100"
   ]
  },
  {
   "cell_type": "code",
   "execution_count": 89,
   "id": "2d3cbf04",
   "metadata": {
    "hidden": true
   },
   "outputs": [],
   "source": [
    "## vehicle id 12 has even greater percentage now, so we will drop it."
   ]
  },
  {
   "cell_type": "code",
   "execution_count": null,
   "id": "7e9bc6a1",
   "metadata": {
    "hidden": true
   },
   "outputs": [],
   "source": []
  },
  {
   "cell_type": "code",
   "execution_count": 90,
   "id": "6381f5b1",
   "metadata": {
    "hidden": true
   },
   "outputs": [
    {
     "data": {
      "text/plain": [
       "15.0    14504\n",
       "Name: from_city_id, dtype: int64"
      ]
     },
     "execution_count": 90,
     "metadata": {},
     "output_type": "execute_result"
    }
   ],
   "source": [
    "df['from_city_id'].value_counts()  ## only 1 unique from_city_id value, rest are all Null values"
   ]
  },
  {
   "cell_type": "code",
   "execution_count": null,
   "id": "271b7d82",
   "metadata": {
    "hidden": true
   },
   "outputs": [],
   "source": []
  },
  {
   "cell_type": "code",
   "execution_count": null,
   "id": "760f0eec",
   "metadata": {
    "hidden": true
   },
   "outputs": [],
   "source": []
  },
  {
   "cell_type": "code",
   "execution_count": 252,
   "id": "61d9748f",
   "metadata": {
    "hidden": true
   },
   "outputs": [
    {
     "data": {
      "text/plain": [
       "<seaborn.axisgrid.FacetGrid at 0x17891b0b5b0>"
      ]
     },
     "execution_count": 252,
     "metadata": {},
     "output_type": "execute_result"
    },
    {
     "data": {
      "image/png": "[encoded data removed]",
      "text/plain": [
       "<Figure size 360x360 with 1 Axes>"
      ]
     },
     "metadata": {
      "needs_background": "light"
     },
     "output_type": "display_data"
    }
   ],
   "source": [
    "sns.displot(df['from_area_id'])"
   ]
  },
  {
   "cell_type": "code",
   "execution_count": 92,
   "id": "10cd9554",
   "metadata": {
    "hidden": true
   },
   "outputs": [
    {
     "data": {
      "text/plain": [
       "393.0     9.841946\n",
       "571.0     3.493526\n",
       "585.0     2.327073\n",
       "293.0     2.216260\n",
       "1384.0    1.746763\n",
       "            ...   \n",
       "1235.0    0.002916\n",
       "1209.0    0.002916\n",
       "1094.0    0.002916\n",
       "770.0     0.002916\n",
       "1403.0    0.002916\n",
       "Name: from_area_id, Length: 586, dtype: float64"
      ]
     },
     "execution_count": 92,
     "metadata": {},
     "output_type": "execute_result"
    }
   ],
   "source": [
    "(df['from_area_id'].value_counts()/l)*100"
   ]
  },
  {
   "cell_type": "code",
   "execution_count": null,
   "id": "4ece8ad2",
   "metadata": {
    "hidden": true
   },
   "outputs": [],
   "source": []
  },
  {
   "cell_type": "code",
   "execution_count": 253,
   "id": "4e8905dd",
   "metadata": {
    "hidden": true
   },
   "outputs": [
    {
     "data": {
      "text/plain": [
       "<seaborn.axisgrid.FacetGrid at 0x1788dc718a0>"
      ]
     },
     "execution_count": 253,
     "metadata": {},
     "output_type": "execute_result"
    },
    {
     "data": {
      "image/png": "[encoded data removed]",
      "text/plain": [
       "<Figure size 360x360 with 1 Axes>"
      ]
     },
     "metadata": {
      "needs_background": "light"
     },
     "output_type": "display_data"
    }
   ],
   "source": [
    "sns.displot(df['to_area_id'])"
   ]
  },
  {
   "cell_type": "code",
   "execution_count": 93,
   "id": "c0f499fe",
   "metadata": {
    "hidden": true
   },
   "outputs": [
    {
     "data": {
      "text/plain": [
       "393.0     25.594891\n",
       "585.0      6.820833\n",
       "1384.0     3.607255\n",
       "571.0      1.936312\n",
       "293.0      1.618453\n",
       "            ...    \n",
       "1343.0     0.002916\n",
       "1356.0     0.002916\n",
       "262.0      0.002916\n",
       "1271.0     0.002916\n",
       "1403.0     0.002916\n",
       "Name: to_area_id, Length: 567, dtype: float64"
      ]
     },
     "execution_count": 93,
     "metadata": {},
     "output_type": "execute_result"
    }
   ],
   "source": [
    "(df['to_area_id'].value_counts()/l)*100"
   ]
  },
  {
   "cell_type": "code",
   "execution_count": null,
   "id": "f030b189",
   "metadata": {
    "hidden": true
   },
   "outputs": [],
   "source": []
  },
  {
   "cell_type": "code",
   "execution_count": null,
   "id": "b9a99d6b",
   "metadata": {
    "hidden": true
   },
   "outputs": [],
   "source": []
  },
  {
   "cell_type": "code",
   "execution_count": null,
   "id": "c3aec7ea",
   "metadata": {
    "hidden": true
   },
   "outputs": [],
   "source": []
  },
  {
   "cell_type": "code",
   "execution_count": 94,
   "id": "126f0285",
   "metadata": {
    "hidden": true
   },
   "outputs": [
    {
     "data": {
      "text/plain": [
       "0    63.694156\n",
       "1    36.305844\n",
       "Name: online_booking, dtype: float64"
      ]
     },
     "execution_count": 94,
     "metadata": {},
     "output_type": "execute_result"
    }
   ],
   "source": [
    "(df['online_booking'].value_counts()/l)*100"
   ]
  },
  {
   "cell_type": "code",
   "execution_count": 95,
   "id": "34f58b49",
   "metadata": {
    "hidden": true
   },
   "outputs": [
    {
     "data": {
      "text/plain": [
       "0    95.191298\n",
       "1     4.808702\n",
       "Name: mobile_site_booking, dtype: float64"
      ]
     },
     "execution_count": 95,
     "metadata": {},
     "output_type": "execute_result"
    }
   ],
   "source": [
    "(df['mobile_site_booking'].value_counts()/l)*100"
   ]
  },
  {
   "cell_type": "code",
   "execution_count": 254,
   "id": "239e5979",
   "metadata": {
    "hidden": true
   },
   "outputs": [
    {
     "data": {
      "text/plain": [
       "<AxesSubplot:xlabel='online_booking', ylabel='count'>"
      ]
     },
     "execution_count": 254,
     "metadata": {},
     "output_type": "execute_result"
    },
    {
     "data": {
      "image/png": "[encoded data removed]",
      "text/plain": [
       "<Figure size 432x288 with 1 Axes>"
      ]
     },
     "metadata": {
      "needs_background": "light"
     },
     "output_type": "display_data"
    }
   ],
   "source": [
    "sns.countplot(data=df,x='online_booking',hue='mobile_site_booking')"
   ]
  },
  {
   "cell_type": "code",
   "execution_count": 96,
   "id": "74d62867",
   "metadata": {
    "hidden": true
   },
   "outputs": [],
   "source": [
    "## they both are dummy variables. When online booking(desktop site based) is 0 then either mobile site booking is \n",
    "## 0 or 1; when it is 0 then the booking is call based, which looks to be the majority case here."
   ]
  },
  {
   "cell_type": "code",
   "execution_count": null,
   "id": "80c0ac09",
   "metadata": {
    "hidden": true
   },
   "outputs": [],
   "source": []
  },
  {
   "cell_type": "code",
   "execution_count": 97,
   "id": "fb55563a",
   "metadata": {
    "hidden": true
   },
   "outputs": [],
   "source": [
    "df.drop(columns=['vehicle_model_id','from_city_id','to_city_id','to_date'],inplace=True)"
   ]
  },
  {
   "cell_type": "code",
   "execution_count": 98,
   "id": "dbfd82da",
   "metadata": {
    "hidden": true
   },
   "outputs": [
    {
     "data": {
      "text/html": [
       "<div>\n",
       "<style scoped>\n",
       "    .dataframe tbody tr th:only-of-type {\n",
       "        vertical-align: middle;\n",
       "    }\n",
       "\n",
       "    .dataframe tbody tr th {\n",
       "        vertical-align: top;\n",
       "    }\n",
       "\n",
       "    .dataframe thead th {\n",
       "        text-align: right;\n",
       "    }\n",
       "</style>\n",
       "<table border=\"1\" class=\"dataframe\">\n",
       "  <thead>\n",
       "    <tr style=\"text-align: right;\">\n",
       "      <th></th>\n",
       "      <th>from_area_id</th>\n",
       "      <th>to_area_id</th>\n",
       "      <th>from_date</th>\n",
       "      <th>online_booking</th>\n",
       "      <th>mobile_site_booking</th>\n",
       "      <th>booking_created</th>\n",
       "      <th>from_lat</th>\n",
       "      <th>from_long</th>\n",
       "      <th>to_lat</th>\n",
       "      <th>to_long</th>\n",
       "      <th>Car_Cancellation</th>\n",
       "    </tr>\n",
       "  </thead>\n",
       "  <tbody>\n",
       "    <tr>\n",
       "      <th>0</th>\n",
       "      <td>83.0</td>\n",
       "      <td>448.0</td>\n",
       "      <td>1/1/2013 2:00</td>\n",
       "      <td>0</td>\n",
       "      <td>0</td>\n",
       "      <td>1/1/2013 1:39</td>\n",
       "      <td>12.924150</td>\n",
       "      <td>77.672290</td>\n",
       "      <td>12.927320</td>\n",
       "      <td>77.635750</td>\n",
       "      <td>0</td>\n",
       "    </tr>\n",
       "    <tr>\n",
       "      <th>1</th>\n",
       "      <td>1010.0</td>\n",
       "      <td>540.0</td>\n",
       "      <td>1/1/2013 9:00</td>\n",
       "      <td>0</td>\n",
       "      <td>0</td>\n",
       "      <td>1/1/2013 2:25</td>\n",
       "      <td>12.966910</td>\n",
       "      <td>77.749350</td>\n",
       "      <td>12.927680</td>\n",
       "      <td>77.626640</td>\n",
       "      <td>0</td>\n",
       "    </tr>\n",
       "    <tr>\n",
       "      <th>2</th>\n",
       "      <td>1301.0</td>\n",
       "      <td>1034.0</td>\n",
       "      <td>1/1/2013 3:30</td>\n",
       "      <td>0</td>\n",
       "      <td>0</td>\n",
       "      <td>1/1/2013 3:08</td>\n",
       "      <td>12.937222</td>\n",
       "      <td>77.626915</td>\n",
       "      <td>13.047926</td>\n",
       "      <td>77.597766</td>\n",
       "      <td>0</td>\n",
       "    </tr>\n",
       "    <tr>\n",
       "      <th>3</th>\n",
       "      <td>768.0</td>\n",
       "      <td>398.0</td>\n",
       "      <td>1/1/2013 5:45</td>\n",
       "      <td>0</td>\n",
       "      <td>0</td>\n",
       "      <td>1/1/2013 4:39</td>\n",
       "      <td>12.989990</td>\n",
       "      <td>77.553320</td>\n",
       "      <td>12.971430</td>\n",
       "      <td>77.639140</td>\n",
       "      <td>0</td>\n",
       "    </tr>\n",
       "    <tr>\n",
       "      <th>4</th>\n",
       "      <td>1365.0</td>\n",
       "      <td>849.0</td>\n",
       "      <td>1/1/2013 9:00</td>\n",
       "      <td>0</td>\n",
       "      <td>0</td>\n",
       "      <td>1/1/2013 7:53</td>\n",
       "      <td>12.845653</td>\n",
       "      <td>77.677925</td>\n",
       "      <td>12.954340</td>\n",
       "      <td>77.600720</td>\n",
       "      <td>0</td>\n",
       "    </tr>\n",
       "    <tr>\n",
       "      <th>...</th>\n",
       "      <td>...</td>\n",
       "      <td>...</td>\n",
       "      <td>...</td>\n",
       "      <td>...</td>\n",
       "      <td>...</td>\n",
       "      <td>...</td>\n",
       "      <td>...</td>\n",
       "      <td>...</td>\n",
       "      <td>...</td>\n",
       "      <td>...</td>\n",
       "      <td>...</td>\n",
       "    </tr>\n",
       "    <tr>\n",
       "      <th>43425</th>\n",
       "      <td>585.0</td>\n",
       "      <td>1226.0</td>\n",
       "      <td>11/25/2013 0:00</td>\n",
       "      <td>0</td>\n",
       "      <td>1</td>\n",
       "      <td>11/24/2013 14:24</td>\n",
       "      <td>12.976770</td>\n",
       "      <td>77.572700</td>\n",
       "      <td>13.015080</td>\n",
       "      <td>77.677960</td>\n",
       "      <td>0</td>\n",
       "    </tr>\n",
       "    <tr>\n",
       "      <th>43426</th>\n",
       "      <td>1147.0</td>\n",
       "      <td>452.0</td>\n",
       "      <td>11/24/2013 18:00</td>\n",
       "      <td>1</td>\n",
       "      <td>0</td>\n",
       "      <td>11/24/2013 14:25</td>\n",
       "      <td>13.030640</td>\n",
       "      <td>77.649100</td>\n",
       "      <td>12.952780</td>\n",
       "      <td>77.590880</td>\n",
       "      <td>0</td>\n",
       "    </tr>\n",
       "    <tr>\n",
       "      <th>43427</th>\n",
       "      <td>393.0</td>\n",
       "      <td>466.0</td>\n",
       "      <td>11/26/2013 1:00</td>\n",
       "      <td>1</td>\n",
       "      <td>0</td>\n",
       "      <td>11/24/2013 14:30</td>\n",
       "      <td>13.199560</td>\n",
       "      <td>77.706880</td>\n",
       "      <td>13.017436</td>\n",
       "      <td>77.644580</td>\n",
       "      <td>0</td>\n",
       "    </tr>\n",
       "    <tr>\n",
       "      <th>43429</th>\n",
       "      <td>1263.0</td>\n",
       "      <td>542.0</td>\n",
       "      <td>11/24/2013 16:00</td>\n",
       "      <td>0</td>\n",
       "      <td>0</td>\n",
       "      <td>11/24/2013 14:43</td>\n",
       "      <td>12.968970</td>\n",
       "      <td>77.594560</td>\n",
       "      <td>12.938230</td>\n",
       "      <td>77.622890</td>\n",
       "      <td>0</td>\n",
       "    </tr>\n",
       "    <tr>\n",
       "      <th>43430</th>\n",
       "      <td>689.0</td>\n",
       "      <td>393.0</td>\n",
       "      <td>11/25/2013 5:00</td>\n",
       "      <td>0</td>\n",
       "      <td>1</td>\n",
       "      <td>11/24/2013 14:50</td>\n",
       "      <td>12.976720</td>\n",
       "      <td>77.649270</td>\n",
       "      <td>13.199560</td>\n",
       "      <td>77.706880</td>\n",
       "      <td>0</td>\n",
       "    </tr>\n",
       "  </tbody>\n",
       "</table>\n",
       "<p>34292 rows × 11 columns</p>\n",
       "</div>"
      ],
      "text/plain": [
       "       from_area_id  to_area_id         from_date  online_booking  \\\n",
       "0              83.0       448.0     1/1/2013 2:00               0   \n",
       "1            1010.0       540.0     1/1/2013 9:00               0   \n",
       "2            1301.0      1034.0     1/1/2013 3:30               0   \n",
       "3             768.0       398.0     1/1/2013 5:45               0   \n",
       "4            1365.0       849.0     1/1/2013 9:00               0   \n",
       "...             ...         ...               ...             ...   \n",
       "43425         585.0      1226.0   11/25/2013 0:00               0   \n",
       "43426        1147.0       452.0  11/24/2013 18:00               1   \n",
       "43427         393.0       466.0   11/26/2013 1:00               1   \n",
       "43429        1263.0       542.0  11/24/2013 16:00               0   \n",
       "43430         689.0       393.0   11/25/2013 5:00               0   \n",
       "\n",
       "       mobile_site_booking   booking_created   from_lat  from_long     to_lat  \\\n",
       "0                        0     1/1/2013 1:39  12.924150  77.672290  12.927320   \n",
       "1                        0     1/1/2013 2:25  12.966910  77.749350  12.927680   \n",
       "2                        0     1/1/2013 3:08  12.937222  77.626915  13.047926   \n",
       "3                        0     1/1/2013 4:39  12.989990  77.553320  12.971430   \n",
       "4                        0     1/1/2013 7:53  12.845653  77.677925  12.954340   \n",
       "...                    ...               ...        ...        ...        ...   \n",
       "43425                    1  11/24/2013 14:24  12.976770  77.572700  13.015080   \n",
       "43426                    0  11/24/2013 14:25  13.030640  77.649100  12.952780   \n",
       "43427                    0  11/24/2013 14:30  13.199560  77.706880  13.017436   \n",
       "43429                    0  11/24/2013 14:43  12.968970  77.594560  12.938230   \n",
       "43430                    1  11/24/2013 14:50  12.976720  77.649270  13.199560   \n",
       "\n",
       "         to_long  Car_Cancellation  \n",
       "0      77.635750                 0  \n",
       "1      77.626640                 0  \n",
       "2      77.597766                 0  \n",
       "3      77.639140                 0  \n",
       "4      77.600720                 0  \n",
       "...          ...               ...  \n",
       "43425  77.677960                 0  \n",
       "43426  77.590880                 0  \n",
       "43427  77.644580                 0  \n",
       "43429  77.622890                 0  \n",
       "43430  77.706880                 0  \n",
       "\n",
       "[34292 rows x 11 columns]"
      ]
     },
     "execution_count": 98,
     "metadata": {},
     "output_type": "execute_result"
    }
   ],
   "source": [
    "df"
   ]
  },
  {
   "cell_type": "code",
   "execution_count": null,
   "id": "9a080189",
   "metadata": {
    "hidden": true
   },
   "outputs": [],
   "source": []
  },
  {
   "cell_type": "code",
   "execution_count": null,
   "id": "0200c92d",
   "metadata": {
    "hidden": true
   },
   "outputs": [],
   "source": [
    "## we are going to transform the lat, long and the date columns, so no need to analyse them yet"
   ]
  },
  {
   "cell_type": "code",
   "execution_count": null,
   "id": "ad8c7748",
   "metadata": {
    "hidden": true
   },
   "outputs": [],
   "source": []
  },
  {
   "cell_type": "code",
   "execution_count": null,
   "id": "264b71a7",
   "metadata": {
    "hidden": true
   },
   "outputs": [],
   "source": []
  },
  {
   "cell_type": "markdown",
   "id": "5c4d0eab",
   "metadata": {
    "heading_collapsed": true
   },
   "source": [
    "## Transformation and Feature Engineering"
   ]
  },
  {
   "cell_type": "code",
   "execution_count": 101,
   "id": "315ef29f",
   "metadata": {
    "hidden": true,
    "scrolled": false
   },
   "outputs": [
    {
     "data": {
      "text/html": [
       "<div>\n",
       "<style scoped>\n",
       "    .dataframe tbody tr th:only-of-type {\n",
       "        vertical-align: middle;\n",
       "    }\n",
       "\n",
       "    .dataframe tbody tr th {\n",
       "        vertical-align: top;\n",
       "    }\n",
       "\n",
       "    .dataframe thead th {\n",
       "        text-align: right;\n",
       "    }\n",
       "</style>\n",
       "<table border=\"1\" class=\"dataframe\">\n",
       "  <thead>\n",
       "    <tr style=\"text-align: right;\">\n",
       "      <th></th>\n",
       "      <th>from_area_id</th>\n",
       "      <th>to_area_id</th>\n",
       "      <th>from_date</th>\n",
       "      <th>online_booking</th>\n",
       "      <th>mobile_site_booking</th>\n",
       "      <th>booking_created</th>\n",
       "      <th>from_lat</th>\n",
       "      <th>from_long</th>\n",
       "      <th>to_lat</th>\n",
       "      <th>to_long</th>\n",
       "      <th>Car_Cancellation</th>\n",
       "    </tr>\n",
       "  </thead>\n",
       "  <tbody>\n",
       "    <tr>\n",
       "      <th>0</th>\n",
       "      <td>83.0</td>\n",
       "      <td>448.0</td>\n",
       "      <td>1/1/2013 2:00</td>\n",
       "      <td>0</td>\n",
       "      <td>0</td>\n",
       "      <td>1/1/2013 1:39</td>\n",
       "      <td>12.924150</td>\n",
       "      <td>77.672290</td>\n",
       "      <td>12.927320</td>\n",
       "      <td>77.635750</td>\n",
       "      <td>0</td>\n",
       "    </tr>\n",
       "    <tr>\n",
       "      <th>1</th>\n",
       "      <td>1010.0</td>\n",
       "      <td>540.0</td>\n",
       "      <td>1/1/2013 9:00</td>\n",
       "      <td>0</td>\n",
       "      <td>0</td>\n",
       "      <td>1/1/2013 2:25</td>\n",
       "      <td>12.966910</td>\n",
       "      <td>77.749350</td>\n",
       "      <td>12.927680</td>\n",
       "      <td>77.626640</td>\n",
       "      <td>0</td>\n",
       "    </tr>\n",
       "    <tr>\n",
       "      <th>2</th>\n",
       "      <td>1301.0</td>\n",
       "      <td>1034.0</td>\n",
       "      <td>1/1/2013 3:30</td>\n",
       "      <td>0</td>\n",
       "      <td>0</td>\n",
       "      <td>1/1/2013 3:08</td>\n",
       "      <td>12.937222</td>\n",
       "      <td>77.626915</td>\n",
       "      <td>13.047926</td>\n",
       "      <td>77.597766</td>\n",
       "      <td>0</td>\n",
       "    </tr>\n",
       "    <tr>\n",
       "      <th>3</th>\n",
       "      <td>768.0</td>\n",
       "      <td>398.0</td>\n",
       "      <td>1/1/2013 5:45</td>\n",
       "      <td>0</td>\n",
       "      <td>0</td>\n",
       "      <td>1/1/2013 4:39</td>\n",
       "      <td>12.989990</td>\n",
       "      <td>77.553320</td>\n",
       "      <td>12.971430</td>\n",
       "      <td>77.639140</td>\n",
       "      <td>0</td>\n",
       "    </tr>\n",
       "    <tr>\n",
       "      <th>4</th>\n",
       "      <td>1365.0</td>\n",
       "      <td>849.0</td>\n",
       "      <td>1/1/2013 9:00</td>\n",
       "      <td>0</td>\n",
       "      <td>0</td>\n",
       "      <td>1/1/2013 7:53</td>\n",
       "      <td>12.845653</td>\n",
       "      <td>77.677925</td>\n",
       "      <td>12.954340</td>\n",
       "      <td>77.600720</td>\n",
       "      <td>0</td>\n",
       "    </tr>\n",
       "    <tr>\n",
       "      <th>...</th>\n",
       "      <td>...</td>\n",
       "      <td>...</td>\n",
       "      <td>...</td>\n",
       "      <td>...</td>\n",
       "      <td>...</td>\n",
       "      <td>...</td>\n",
       "      <td>...</td>\n",
       "      <td>...</td>\n",
       "      <td>...</td>\n",
       "      <td>...</td>\n",
       "      <td>...</td>\n",
       "    </tr>\n",
       "    <tr>\n",
       "      <th>43425</th>\n",
       "      <td>585.0</td>\n",
       "      <td>1226.0</td>\n",
       "      <td>11/25/2013 0:00</td>\n",
       "      <td>0</td>\n",
       "      <td>1</td>\n",
       "      <td>11/24/2013 14:24</td>\n",
       "      <td>12.976770</td>\n",
       "      <td>77.572700</td>\n",
       "      <td>13.015080</td>\n",
       "      <td>77.677960</td>\n",
       "      <td>0</td>\n",
       "    </tr>\n",
       "    <tr>\n",
       "      <th>43426</th>\n",
       "      <td>1147.0</td>\n",
       "      <td>452.0</td>\n",
       "      <td>11/24/2013 18:00</td>\n",
       "      <td>1</td>\n",
       "      <td>0</td>\n",
       "      <td>11/24/2013 14:25</td>\n",
       "      <td>13.030640</td>\n",
       "      <td>77.649100</td>\n",
       "      <td>12.952780</td>\n",
       "      <td>77.590880</td>\n",
       "      <td>0</td>\n",
       "    </tr>\n",
       "    <tr>\n",
       "      <th>43427</th>\n",
       "      <td>393.0</td>\n",
       "      <td>466.0</td>\n",
       "      <td>11/26/2013 1:00</td>\n",
       "      <td>1</td>\n",
       "      <td>0</td>\n",
       "      <td>11/24/2013 14:30</td>\n",
       "      <td>13.199560</td>\n",
       "      <td>77.706880</td>\n",
       "      <td>13.017436</td>\n",
       "      <td>77.644580</td>\n",
       "      <td>0</td>\n",
       "    </tr>\n",
       "    <tr>\n",
       "      <th>43429</th>\n",
       "      <td>1263.0</td>\n",
       "      <td>542.0</td>\n",
       "      <td>11/24/2013 16:00</td>\n",
       "      <td>0</td>\n",
       "      <td>0</td>\n",
       "      <td>11/24/2013 14:43</td>\n",
       "      <td>12.968970</td>\n",
       "      <td>77.594560</td>\n",
       "      <td>12.938230</td>\n",
       "      <td>77.622890</td>\n",
       "      <td>0</td>\n",
       "    </tr>\n",
       "    <tr>\n",
       "      <th>43430</th>\n",
       "      <td>689.0</td>\n",
       "      <td>393.0</td>\n",
       "      <td>11/25/2013 5:00</td>\n",
       "      <td>0</td>\n",
       "      <td>1</td>\n",
       "      <td>11/24/2013 14:50</td>\n",
       "      <td>12.976720</td>\n",
       "      <td>77.649270</td>\n",
       "      <td>13.199560</td>\n",
       "      <td>77.706880</td>\n",
       "      <td>0</td>\n",
       "    </tr>\n",
       "  </tbody>\n",
       "</table>\n",
       "<p>34292 rows × 11 columns</p>\n",
       "</div>"
      ],
      "text/plain": [
       "       from_area_id  to_area_id         from_date  online_booking  \\\n",
       "0              83.0       448.0     1/1/2013 2:00               0   \n",
       "1            1010.0       540.0     1/1/2013 9:00               0   \n",
       "2            1301.0      1034.0     1/1/2013 3:30               0   \n",
       "3             768.0       398.0     1/1/2013 5:45               0   \n",
       "4            1365.0       849.0     1/1/2013 9:00               0   \n",
       "...             ...         ...               ...             ...   \n",
       "43425         585.0      1226.0   11/25/2013 0:00               0   \n",
       "43426        1147.0       452.0  11/24/2013 18:00               1   \n",
       "43427         393.0       466.0   11/26/2013 1:00               1   \n",
       "43429        1263.0       542.0  11/24/2013 16:00               0   \n",
       "43430         689.0       393.0   11/25/2013 5:00               0   \n",
       "\n",
       "       mobile_site_booking   booking_created   from_lat  from_long     to_lat  \\\n",
       "0                        0     1/1/2013 1:39  12.924150  77.672290  12.927320   \n",
       "1                        0     1/1/2013 2:25  12.966910  77.749350  12.927680   \n",
       "2                        0     1/1/2013 3:08  12.937222  77.626915  13.047926   \n",
       "3                        0     1/1/2013 4:39  12.989990  77.553320  12.971430   \n",
       "4                        0     1/1/2013 7:53  12.845653  77.677925  12.954340   \n",
       "...                    ...               ...        ...        ...        ...   \n",
       "43425                    1  11/24/2013 14:24  12.976770  77.572700  13.015080   \n",
       "43426                    0  11/24/2013 14:25  13.030640  77.649100  12.952780   \n",
       "43427                    0  11/24/2013 14:30  13.199560  77.706880  13.017436   \n",
       "43429                    0  11/24/2013 14:43  12.968970  77.594560  12.938230   \n",
       "43430                    1  11/24/2013 14:50  12.976720  77.649270  13.199560   \n",
       "\n",
       "         to_long  Car_Cancellation  \n",
       "0      77.635750                 0  \n",
       "1      77.626640                 0  \n",
       "2      77.597766                 0  \n",
       "3      77.639140                 0  \n",
       "4      77.600720                 0  \n",
       "...          ...               ...  \n",
       "43425  77.677960                 0  \n",
       "43426  77.590880                 0  \n",
       "43427  77.644580                 0  \n",
       "43429  77.622890                 0  \n",
       "43430  77.706880                 0  \n",
       "\n",
       "[34292 rows x 11 columns]"
      ]
     },
     "execution_count": 101,
     "metadata": {},
     "output_type": "execute_result"
    }
   ],
   "source": [
    "df"
   ]
  },
  {
   "cell_type": "markdown",
   "id": "ec22bba0",
   "metadata": {
    "heading_collapsed": true,
    "hidden": true
   },
   "source": [
    "#### from_area_id, to_area_id"
   ]
  },
  {
   "cell_type": "code",
   "execution_count": null,
   "id": "d55b90ff",
   "metadata": {
    "hidden": true
   },
   "outputs": [],
   "source": []
  },
  {
   "cell_type": "code",
   "execution_count": 102,
   "id": "6898218e",
   "metadata": {
    "hidden": true
   },
   "outputs": [],
   "source": [
    "df.loc[:,'BVFA'] = df['from_area_id'].map(df['from_area_id'].value_counts())   ## Booking Volume From Area (booking volume for starting destinations) "
   ]
  },
  {
   "cell_type": "code",
   "execution_count": null,
   "id": "64eb7ae4",
   "metadata": {
    "hidden": true
   },
   "outputs": [],
   "source": []
  },
  {
   "cell_type": "code",
   "execution_count": 103,
   "id": "031942e2",
   "metadata": {
    "hidden": true
   },
   "outputs": [],
   "source": [
    "df.loc[:,'CVFA'] = df['from_area_id'].map(df[[\"Car_Cancellation\",'from_area_id']].groupby(['from_area_id'],as_index=True).sum().iloc[:,0])\n",
    "## Cancellation Volume From Area"
   ]
  },
  {
   "cell_type": "code",
   "execution_count": null,
   "id": "e6f1713a",
   "metadata": {
    "hidden": true
   },
   "outputs": [],
   "source": []
  },
  {
   "cell_type": "code",
   "execution_count": 104,
   "id": "8632db0c",
   "metadata": {
    "hidden": true
   },
   "outputs": [],
   "source": [
    "df.loc[:,'BVTA'] = df['to_area_id'].map(df['to_area_id'].value_counts()) ## Booking Volume To Area"
   ]
  },
  {
   "cell_type": "code",
   "execution_count": 105,
   "id": "955c637a",
   "metadata": {
    "hidden": true
   },
   "outputs": [],
   "source": [
    "df.loc[:,'CVTA'] = df['to_area_id'].map(df[[\"Car_Cancellation\",'to_area_id']].groupby(['to_area_id'],as_index=True).sum().iloc[:,0])\n",
    "## Cancellation Volume To Area"
   ]
  },
  {
   "cell_type": "code",
   "execution_count": null,
   "id": "1ac1ac59",
   "metadata": {
    "hidden": true
   },
   "outputs": [],
   "source": []
  },
  {
   "cell_type": "code",
   "execution_count": 106,
   "id": "c42f4b0d",
   "metadata": {
    "hidden": true
   },
   "outputs": [
    {
     "data": {
      "text/plain": [
       "count    34292.000000\n",
       "mean       545.899218\n",
       "std        970.763700\n",
       "min          1.000000\n",
       "25%         68.000000\n",
       "50%        164.000000\n",
       "75%        409.000000\n",
       "max       3375.000000\n",
       "Name: BVFA, dtype: float64"
      ]
     },
     "execution_count": 106,
     "metadata": {},
     "output_type": "execute_result"
    }
   ],
   "source": [
    "df['BVFA'].describe()"
   ]
  },
  {
   "cell_type": "code",
   "execution_count": 107,
   "id": "45f7d3ea",
   "metadata": {
    "hidden": true
   },
   "outputs": [
    {
     "data": {
      "text/plain": [
       "count    34292.000000\n",
       "mean        28.558119\n",
       "std         37.277306\n",
       "min          0.000000\n",
       "25%          4.000000\n",
       "50%         12.000000\n",
       "75%         29.000000\n",
       "max        115.000000\n",
       "Name: CVFA, dtype: float64"
      ]
     },
     "execution_count": 107,
     "metadata": {},
     "output_type": "execute_result"
    }
   ],
   "source": [
    "df['CVFA'].describe()"
   ]
  },
  {
   "cell_type": "code",
   "execution_count": 108,
   "id": "1e5b206c",
   "metadata": {
    "hidden": true
   },
   "outputs": [
    {
     "data": {
      "text/plain": [
       "count    34292.000000\n",
       "mean      2551.704538\n",
       "std       3696.842564\n",
       "min          1.000000\n",
       "25%         76.000000\n",
       "50%        270.000000\n",
       "75%       8777.000000\n",
       "max       8777.000000\n",
       "Name: BVTA, dtype: float64"
      ]
     },
     "execution_count": 108,
     "metadata": {},
     "output_type": "execute_result"
    }
   ],
   "source": [
    "df['BVTA'].describe()"
   ]
  },
  {
   "cell_type": "code",
   "execution_count": 109,
   "id": "985b5eb3",
   "metadata": {
    "hidden": true
   },
   "outputs": [
    {
     "data": {
      "text/plain": [
       "count    34292.000000\n",
       "mean        68.853494\n",
       "std         82.186501\n",
       "min          0.000000\n",
       "25%          6.000000\n",
       "50%         21.000000\n",
       "75%        133.000000\n",
       "max        296.000000\n",
       "Name: CVTA, dtype: float64"
      ]
     },
     "execution_count": 109,
     "metadata": {},
     "output_type": "execute_result"
    }
   ],
   "source": [
    "df['CVTA'].describe()"
   ]
  },
  {
   "cell_type": "code",
   "execution_count": 110,
   "id": "8c7e682d",
   "metadata": {
    "hidden": true
   },
   "outputs": [],
   "source": [
    "df['BLFA']=pd.qcut(df['BVFA'],3,labels = ['Low','Medium','High'])  ## Booking Level From Area "
   ]
  },
  {
   "cell_type": "code",
   "execution_count": 111,
   "id": "1d25f163",
   "metadata": {
    "hidden": true
   },
   "outputs": [],
   "source": [
    "df['BLTA']=pd.qcut(df['BVTA'],3,labels = ['Low','Medium','High'])  ## Booking Level From Area "
   ]
  },
  {
   "cell_type": "code",
   "execution_count": null,
   "id": "5ca094ab",
   "metadata": {
    "hidden": true
   },
   "outputs": [],
   "source": []
  },
  {
   "cell_type": "code",
   "execution_count": null,
   "id": "b0e6047c",
   "metadata": {
    "hidden": true
   },
   "outputs": [],
   "source": []
  },
  {
   "cell_type": "code",
   "execution_count": 112,
   "id": "e68f1916",
   "metadata": {
    "hidden": true
   },
   "outputs": [],
   "source": [
    "df['CLFA']=pd.qcut(df['CVFA'],3,labels = ['Low','Medium','High'])  ## Cancellation Level From Area "
   ]
  },
  {
   "cell_type": "code",
   "execution_count": 113,
   "id": "7613e326",
   "metadata": {
    "hidden": true
   },
   "outputs": [],
   "source": [
    "df['CLTA']=pd.qcut(df['CVTA'],3,labels = ['Low','Medium','High'])  ## Cancellation Level From Area "
   ]
  },
  {
   "cell_type": "code",
   "execution_count": 114,
   "id": "212781e4",
   "metadata": {
    "hidden": true
   },
   "outputs": [
    {
     "data": {
      "text/html": [
       "<div>\n",
       "<style scoped>\n",
       "    .dataframe tbody tr th:only-of-type {\n",
       "        vertical-align: middle;\n",
       "    }\n",
       "\n",
       "    .dataframe tbody tr th {\n",
       "        vertical-align: top;\n",
       "    }\n",
       "\n",
       "    .dataframe thead th {\n",
       "        text-align: right;\n",
       "    }\n",
       "</style>\n",
       "<table border=\"1\" class=\"dataframe\">\n",
       "  <thead>\n",
       "    <tr style=\"text-align: right;\">\n",
       "      <th></th>\n",
       "      <th>from_area_id</th>\n",
       "      <th>to_area_id</th>\n",
       "      <th>from_date</th>\n",
       "      <th>online_booking</th>\n",
       "      <th>mobile_site_booking</th>\n",
       "      <th>booking_created</th>\n",
       "      <th>from_lat</th>\n",
       "      <th>from_long</th>\n",
       "      <th>to_lat</th>\n",
       "      <th>to_long</th>\n",
       "      <th>Car_Cancellation</th>\n",
       "      <th>BVFA</th>\n",
       "      <th>CVFA</th>\n",
       "      <th>BVTA</th>\n",
       "      <th>CVTA</th>\n",
       "      <th>BLFA</th>\n",
       "      <th>BLTA</th>\n",
       "      <th>CLFA</th>\n",
       "      <th>CLTA</th>\n",
       "    </tr>\n",
       "  </thead>\n",
       "  <tbody>\n",
       "    <tr>\n",
       "      <th>0</th>\n",
       "      <td>83.0</td>\n",
       "      <td>448.0</td>\n",
       "      <td>1/1/2013 2:00</td>\n",
       "      <td>0</td>\n",
       "      <td>0</td>\n",
       "      <td>1/1/2013 1:39</td>\n",
       "      <td>12.924150</td>\n",
       "      <td>77.672290</td>\n",
       "      <td>12.927320</td>\n",
       "      <td>77.635750</td>\n",
       "      <td>0</td>\n",
       "      <td>556</td>\n",
       "      <td>59</td>\n",
       "      <td>126</td>\n",
       "      <td>5</td>\n",
       "      <td>High</td>\n",
       "      <td>Medium</td>\n",
       "      <td>High</td>\n",
       "      <td>Low</td>\n",
       "    </tr>\n",
       "    <tr>\n",
       "      <th>1</th>\n",
       "      <td>1010.0</td>\n",
       "      <td>540.0</td>\n",
       "      <td>1/1/2013 9:00</td>\n",
       "      <td>0</td>\n",
       "      <td>0</td>\n",
       "      <td>1/1/2013 2:25</td>\n",
       "      <td>12.966910</td>\n",
       "      <td>77.749350</td>\n",
       "      <td>12.927680</td>\n",
       "      <td>77.626640</td>\n",
       "      <td>0</td>\n",
       "      <td>557</td>\n",
       "      <td>51</td>\n",
       "      <td>46</td>\n",
       "      <td>4</td>\n",
       "      <td>High</td>\n",
       "      <td>Low</td>\n",
       "      <td>High</td>\n",
       "      <td>Low</td>\n",
       "    </tr>\n",
       "    <tr>\n",
       "      <th>2</th>\n",
       "      <td>1301.0</td>\n",
       "      <td>1034.0</td>\n",
       "      <td>1/1/2013 3:30</td>\n",
       "      <td>0</td>\n",
       "      <td>0</td>\n",
       "      <td>1/1/2013 3:08</td>\n",
       "      <td>12.937222</td>\n",
       "      <td>77.626915</td>\n",
       "      <td>13.047926</td>\n",
       "      <td>77.597766</td>\n",
       "      <td>0</td>\n",
       "      <td>95</td>\n",
       "      <td>7</td>\n",
       "      <td>49</td>\n",
       "      <td>1</td>\n",
       "      <td>Low</td>\n",
       "      <td>Low</td>\n",
       "      <td>Medium</td>\n",
       "      <td>Low</td>\n",
       "    </tr>\n",
       "    <tr>\n",
       "      <th>3</th>\n",
       "      <td>768.0</td>\n",
       "      <td>398.0</td>\n",
       "      <td>1/1/2013 5:45</td>\n",
       "      <td>0</td>\n",
       "      <td>0</td>\n",
       "      <td>1/1/2013 4:39</td>\n",
       "      <td>12.989990</td>\n",
       "      <td>77.553320</td>\n",
       "      <td>12.971430</td>\n",
       "      <td>77.639140</td>\n",
       "      <td>0</td>\n",
       "      <td>272</td>\n",
       "      <td>1</td>\n",
       "      <td>9</td>\n",
       "      <td>0</td>\n",
       "      <td>Medium</td>\n",
       "      <td>Low</td>\n",
       "      <td>Low</td>\n",
       "      <td>Low</td>\n",
       "    </tr>\n",
       "    <tr>\n",
       "      <th>4</th>\n",
       "      <td>1365.0</td>\n",
       "      <td>849.0</td>\n",
       "      <td>1/1/2013 9:00</td>\n",
       "      <td>0</td>\n",
       "      <td>0</td>\n",
       "      <td>1/1/2013 7:53</td>\n",
       "      <td>12.845653</td>\n",
       "      <td>77.677925</td>\n",
       "      <td>12.954340</td>\n",
       "      <td>77.600720</td>\n",
       "      <td>0</td>\n",
       "      <td>198</td>\n",
       "      <td>27</td>\n",
       "      <td>94</td>\n",
       "      <td>16</td>\n",
       "      <td>Medium</td>\n",
       "      <td>Low</td>\n",
       "      <td>High</td>\n",
       "      <td>Medium</td>\n",
       "    </tr>\n",
       "    <tr>\n",
       "      <th>...</th>\n",
       "      <td>...</td>\n",
       "      <td>...</td>\n",
       "      <td>...</td>\n",
       "      <td>...</td>\n",
       "      <td>...</td>\n",
       "      <td>...</td>\n",
       "      <td>...</td>\n",
       "      <td>...</td>\n",
       "      <td>...</td>\n",
       "      <td>...</td>\n",
       "      <td>...</td>\n",
       "      <td>...</td>\n",
       "      <td>...</td>\n",
       "      <td>...</td>\n",
       "      <td>...</td>\n",
       "      <td>...</td>\n",
       "      <td>...</td>\n",
       "      <td>...</td>\n",
       "      <td>...</td>\n",
       "    </tr>\n",
       "    <tr>\n",
       "      <th>43425</th>\n",
       "      <td>585.0</td>\n",
       "      <td>1226.0</td>\n",
       "      <td>11/25/2013 0:00</td>\n",
       "      <td>0</td>\n",
       "      <td>1</td>\n",
       "      <td>11/24/2013 14:24</td>\n",
       "      <td>12.976770</td>\n",
       "      <td>77.572700</td>\n",
       "      <td>13.015080</td>\n",
       "      <td>77.677960</td>\n",
       "      <td>0</td>\n",
       "      <td>798</td>\n",
       "      <td>23</td>\n",
       "      <td>10</td>\n",
       "      <td>4</td>\n",
       "      <td>High</td>\n",
       "      <td>Low</td>\n",
       "      <td>Medium</td>\n",
       "      <td>Low</td>\n",
       "    </tr>\n",
       "    <tr>\n",
       "      <th>43426</th>\n",
       "      <td>1147.0</td>\n",
       "      <td>452.0</td>\n",
       "      <td>11/24/2013 18:00</td>\n",
       "      <td>1</td>\n",
       "      <td>0</td>\n",
       "      <td>11/24/2013 14:25</td>\n",
       "      <td>13.030640</td>\n",
       "      <td>77.649100</td>\n",
       "      <td>12.952780</td>\n",
       "      <td>77.590880</td>\n",
       "      <td>0</td>\n",
       "      <td>110</td>\n",
       "      <td>5</td>\n",
       "      <td>330</td>\n",
       "      <td>59</td>\n",
       "      <td>Medium</td>\n",
       "      <td>Medium</td>\n",
       "      <td>Low</td>\n",
       "      <td>Medium</td>\n",
       "    </tr>\n",
       "    <tr>\n",
       "      <th>43427</th>\n",
       "      <td>393.0</td>\n",
       "      <td>466.0</td>\n",
       "      <td>11/26/2013 1:00</td>\n",
       "      <td>1</td>\n",
       "      <td>0</td>\n",
       "      <td>11/24/2013 14:30</td>\n",
       "      <td>13.199560</td>\n",
       "      <td>77.706880</td>\n",
       "      <td>13.017436</td>\n",
       "      <td>77.644580</td>\n",
       "      <td>0</td>\n",
       "      <td>3375</td>\n",
       "      <td>115</td>\n",
       "      <td>55</td>\n",
       "      <td>5</td>\n",
       "      <td>High</td>\n",
       "      <td>Low</td>\n",
       "      <td>High</td>\n",
       "      <td>Low</td>\n",
       "    </tr>\n",
       "    <tr>\n",
       "      <th>43429</th>\n",
       "      <td>1263.0</td>\n",
       "      <td>542.0</td>\n",
       "      <td>11/24/2013 16:00</td>\n",
       "      <td>0</td>\n",
       "      <td>0</td>\n",
       "      <td>11/24/2013 14:43</td>\n",
       "      <td>12.968970</td>\n",
       "      <td>77.594560</td>\n",
       "      <td>12.938230</td>\n",
       "      <td>77.622890</td>\n",
       "      <td>0</td>\n",
       "      <td>64</td>\n",
       "      <td>3</td>\n",
       "      <td>96</td>\n",
       "      <td>10</td>\n",
       "      <td>Low</td>\n",
       "      <td>Low</td>\n",
       "      <td>Low</td>\n",
       "      <td>Low</td>\n",
       "    </tr>\n",
       "    <tr>\n",
       "      <th>43430</th>\n",
       "      <td>689.0</td>\n",
       "      <td>393.0</td>\n",
       "      <td>11/25/2013 5:00</td>\n",
       "      <td>0</td>\n",
       "      <td>1</td>\n",
       "      <td>11/24/2013 14:50</td>\n",
       "      <td>12.976720</td>\n",
       "      <td>77.649270</td>\n",
       "      <td>13.199560</td>\n",
       "      <td>77.706880</td>\n",
       "      <td>0</td>\n",
       "      <td>283</td>\n",
       "      <td>17</td>\n",
       "      <td>8777</td>\n",
       "      <td>133</td>\n",
       "      <td>High</td>\n",
       "      <td>High</td>\n",
       "      <td>Medium</td>\n",
       "      <td>Medium</td>\n",
       "    </tr>\n",
       "  </tbody>\n",
       "</table>\n",
       "<p>34292 rows × 19 columns</p>\n",
       "</div>"
      ],
      "text/plain": [
       "       from_area_id  to_area_id         from_date  online_booking  \\\n",
       "0              83.0       448.0     1/1/2013 2:00               0   \n",
       "1            1010.0       540.0     1/1/2013 9:00               0   \n",
       "2            1301.0      1034.0     1/1/2013 3:30               0   \n",
       "3             768.0       398.0     1/1/2013 5:45               0   \n",
       "4            1365.0       849.0     1/1/2013 9:00               0   \n",
       "...             ...         ...               ...             ...   \n",
       "43425         585.0      1226.0   11/25/2013 0:00               0   \n",
       "43426        1147.0       452.0  11/24/2013 18:00               1   \n",
       "43427         393.0       466.0   11/26/2013 1:00               1   \n",
       "43429        1263.0       542.0  11/24/2013 16:00               0   \n",
       "43430         689.0       393.0   11/25/2013 5:00               0   \n",
       "\n",
       "       mobile_site_booking   booking_created   from_lat  from_long     to_lat  \\\n",
       "0                        0     1/1/2013 1:39  12.924150  77.672290  12.927320   \n",
       "1                        0     1/1/2013 2:25  12.966910  77.749350  12.927680   \n",
       "2                        0     1/1/2013 3:08  12.937222  77.626915  13.047926   \n",
       "3                        0     1/1/2013 4:39  12.989990  77.553320  12.971430   \n",
       "4                        0     1/1/2013 7:53  12.845653  77.677925  12.954340   \n",
       "...                    ...               ...        ...        ...        ...   \n",
       "43425                    1  11/24/2013 14:24  12.976770  77.572700  13.015080   \n",
       "43426                    0  11/24/2013 14:25  13.030640  77.649100  12.952780   \n",
       "43427                    0  11/24/2013 14:30  13.199560  77.706880  13.017436   \n",
       "43429                    0  11/24/2013 14:43  12.968970  77.594560  12.938230   \n",
       "43430                    1  11/24/2013 14:50  12.976720  77.649270  13.199560   \n",
       "\n",
       "         to_long  Car_Cancellation  BVFA  CVFA  BVTA  CVTA    BLFA    BLTA  \\\n",
       "0      77.635750                 0   556    59   126     5    High  Medium   \n",
       "1      77.626640                 0   557    51    46     4    High     Low   \n",
       "2      77.597766                 0    95     7    49     1     Low     Low   \n",
       "3      77.639140                 0   272     1     9     0  Medium     Low   \n",
       "4      77.600720                 0   198    27    94    16  Medium     Low   \n",
       "...          ...               ...   ...   ...   ...   ...     ...     ...   \n",
       "43425  77.677960                 0   798    23    10     4    High     Low   \n",
       "43426  77.590880                 0   110     5   330    59  Medium  Medium   \n",
       "43427  77.644580                 0  3375   115    55     5    High     Low   \n",
       "43429  77.622890                 0    64     3    96    10     Low     Low   \n",
       "43430  77.706880                 0   283    17  8777   133    High    High   \n",
       "\n",
       "         CLFA    CLTA  \n",
       "0        High     Low  \n",
       "1        High     Low  \n",
       "2      Medium     Low  \n",
       "3         Low     Low  \n",
       "4        High  Medium  \n",
       "...       ...     ...  \n",
       "43425  Medium     Low  \n",
       "43426     Low  Medium  \n",
       "43427    High     Low  \n",
       "43429     Low     Low  \n",
       "43430  Medium  Medium  \n",
       "\n",
       "[34292 rows x 19 columns]"
      ]
     },
     "execution_count": 114,
     "metadata": {},
     "output_type": "execute_result"
    }
   ],
   "source": [
    "df"
   ]
  },
  {
   "cell_type": "code",
   "execution_count": 115,
   "id": "bae88953",
   "metadata": {
    "hidden": true
   },
   "outputs": [],
   "source": [
    "df.drop(columns=['from_area_id','to_area_id','BVFA','BVTA','CVFA','CVTA'],inplace=True)"
   ]
  },
  {
   "cell_type": "code",
   "execution_count": null,
   "id": "523289e5",
   "metadata": {
    "hidden": true
   },
   "outputs": [],
   "source": []
  },
  {
   "cell_type": "code",
   "execution_count": 116,
   "id": "4fca8e3c",
   "metadata": {
    "hidden": true
   },
   "outputs": [
    {
     "data": {
      "text/html": [
       "<div>\n",
       "<style scoped>\n",
       "    .dataframe tbody tr th:only-of-type {\n",
       "        vertical-align: middle;\n",
       "    }\n",
       "\n",
       "    .dataframe tbody tr th {\n",
       "        vertical-align: top;\n",
       "    }\n",
       "\n",
       "    .dataframe thead th {\n",
       "        text-align: right;\n",
       "    }\n",
       "</style>\n",
       "<table border=\"1\" class=\"dataframe\">\n",
       "  <thead>\n",
       "    <tr style=\"text-align: right;\">\n",
       "      <th></th>\n",
       "      <th>from_date</th>\n",
       "      <th>online_booking</th>\n",
       "      <th>mobile_site_booking</th>\n",
       "      <th>booking_created</th>\n",
       "      <th>from_lat</th>\n",
       "      <th>from_long</th>\n",
       "      <th>to_lat</th>\n",
       "      <th>to_long</th>\n",
       "      <th>Car_Cancellation</th>\n",
       "      <th>BLFA</th>\n",
       "      <th>BLTA</th>\n",
       "      <th>CLFA</th>\n",
       "      <th>CLTA</th>\n",
       "    </tr>\n",
       "  </thead>\n",
       "  <tbody>\n",
       "    <tr>\n",
       "      <th>0</th>\n",
       "      <td>1/1/2013 2:00</td>\n",
       "      <td>0</td>\n",
       "      <td>0</td>\n",
       "      <td>1/1/2013 1:39</td>\n",
       "      <td>12.924150</td>\n",
       "      <td>77.672290</td>\n",
       "      <td>12.927320</td>\n",
       "      <td>77.635750</td>\n",
       "      <td>0</td>\n",
       "      <td>High</td>\n",
       "      <td>Medium</td>\n",
       "      <td>High</td>\n",
       "      <td>Low</td>\n",
       "    </tr>\n",
       "    <tr>\n",
       "      <th>1</th>\n",
       "      <td>1/1/2013 9:00</td>\n",
       "      <td>0</td>\n",
       "      <td>0</td>\n",
       "      <td>1/1/2013 2:25</td>\n",
       "      <td>12.966910</td>\n",
       "      <td>77.749350</td>\n",
       "      <td>12.927680</td>\n",
       "      <td>77.626640</td>\n",
       "      <td>0</td>\n",
       "      <td>High</td>\n",
       "      <td>Low</td>\n",
       "      <td>High</td>\n",
       "      <td>Low</td>\n",
       "    </tr>\n",
       "    <tr>\n",
       "      <th>2</th>\n",
       "      <td>1/1/2013 3:30</td>\n",
       "      <td>0</td>\n",
       "      <td>0</td>\n",
       "      <td>1/1/2013 3:08</td>\n",
       "      <td>12.937222</td>\n",
       "      <td>77.626915</td>\n",
       "      <td>13.047926</td>\n",
       "      <td>77.597766</td>\n",
       "      <td>0</td>\n",
       "      <td>Low</td>\n",
       "      <td>Low</td>\n",
       "      <td>Medium</td>\n",
       "      <td>Low</td>\n",
       "    </tr>\n",
       "    <tr>\n",
       "      <th>3</th>\n",
       "      <td>1/1/2013 5:45</td>\n",
       "      <td>0</td>\n",
       "      <td>0</td>\n",
       "      <td>1/1/2013 4:39</td>\n",
       "      <td>12.989990</td>\n",
       "      <td>77.553320</td>\n",
       "      <td>12.971430</td>\n",
       "      <td>77.639140</td>\n",
       "      <td>0</td>\n",
       "      <td>Medium</td>\n",
       "      <td>Low</td>\n",
       "      <td>Low</td>\n",
       "      <td>Low</td>\n",
       "    </tr>\n",
       "    <tr>\n",
       "      <th>4</th>\n",
       "      <td>1/1/2013 9:00</td>\n",
       "      <td>0</td>\n",
       "      <td>0</td>\n",
       "      <td>1/1/2013 7:53</td>\n",
       "      <td>12.845653</td>\n",
       "      <td>77.677925</td>\n",
       "      <td>12.954340</td>\n",
       "      <td>77.600720</td>\n",
       "      <td>0</td>\n",
       "      <td>Medium</td>\n",
       "      <td>Low</td>\n",
       "      <td>High</td>\n",
       "      <td>Medium</td>\n",
       "    </tr>\n",
       "    <tr>\n",
       "      <th>...</th>\n",
       "      <td>...</td>\n",
       "      <td>...</td>\n",
       "      <td>...</td>\n",
       "      <td>...</td>\n",
       "      <td>...</td>\n",
       "      <td>...</td>\n",
       "      <td>...</td>\n",
       "      <td>...</td>\n",
       "      <td>...</td>\n",
       "      <td>...</td>\n",
       "      <td>...</td>\n",
       "      <td>...</td>\n",
       "      <td>...</td>\n",
       "    </tr>\n",
       "    <tr>\n",
       "      <th>43425</th>\n",
       "      <td>11/25/2013 0:00</td>\n",
       "      <td>0</td>\n",
       "      <td>1</td>\n",
       "      <td>11/24/2013 14:24</td>\n",
       "      <td>12.976770</td>\n",
       "      <td>77.572700</td>\n",
       "      <td>13.015080</td>\n",
       "      <td>77.677960</td>\n",
       "      <td>0</td>\n",
       "      <td>High</td>\n",
       "      <td>Low</td>\n",
       "      <td>Medium</td>\n",
       "      <td>Low</td>\n",
       "    </tr>\n",
       "    <tr>\n",
       "      <th>43426</th>\n",
       "      <td>11/24/2013 18:00</td>\n",
       "      <td>1</td>\n",
       "      <td>0</td>\n",
       "      <td>11/24/2013 14:25</td>\n",
       "      <td>13.030640</td>\n",
       "      <td>77.649100</td>\n",
       "      <td>12.952780</td>\n",
       "      <td>77.590880</td>\n",
       "      <td>0</td>\n",
       "      <td>Medium</td>\n",
       "      <td>Medium</td>\n",
       "      <td>Low</td>\n",
       "      <td>Medium</td>\n",
       "    </tr>\n",
       "    <tr>\n",
       "      <th>43427</th>\n",
       "      <td>11/26/2013 1:00</td>\n",
       "      <td>1</td>\n",
       "      <td>0</td>\n",
       "      <td>11/24/2013 14:30</td>\n",
       "      <td>13.199560</td>\n",
       "      <td>77.706880</td>\n",
       "      <td>13.017436</td>\n",
       "      <td>77.644580</td>\n",
       "      <td>0</td>\n",
       "      <td>High</td>\n",
       "      <td>Low</td>\n",
       "      <td>High</td>\n",
       "      <td>Low</td>\n",
       "    </tr>\n",
       "    <tr>\n",
       "      <th>43429</th>\n",
       "      <td>11/24/2013 16:00</td>\n",
       "      <td>0</td>\n",
       "      <td>0</td>\n",
       "      <td>11/24/2013 14:43</td>\n",
       "      <td>12.968970</td>\n",
       "      <td>77.594560</td>\n",
       "      <td>12.938230</td>\n",
       "      <td>77.622890</td>\n",
       "      <td>0</td>\n",
       "      <td>Low</td>\n",
       "      <td>Low</td>\n",
       "      <td>Low</td>\n",
       "      <td>Low</td>\n",
       "    </tr>\n",
       "    <tr>\n",
       "      <th>43430</th>\n",
       "      <td>11/25/2013 5:00</td>\n",
       "      <td>0</td>\n",
       "      <td>1</td>\n",
       "      <td>11/24/2013 14:50</td>\n",
       "      <td>12.976720</td>\n",
       "      <td>77.649270</td>\n",
       "      <td>13.199560</td>\n",
       "      <td>77.706880</td>\n",
       "      <td>0</td>\n",
       "      <td>High</td>\n",
       "      <td>High</td>\n",
       "      <td>Medium</td>\n",
       "      <td>Medium</td>\n",
       "    </tr>\n",
       "  </tbody>\n",
       "</table>\n",
       "<p>34292 rows × 13 columns</p>\n",
       "</div>"
      ],
      "text/plain": [
       "              from_date  online_booking  mobile_site_booking  \\\n",
       "0         1/1/2013 2:00               0                    0   \n",
       "1         1/1/2013 9:00               0                    0   \n",
       "2         1/1/2013 3:30               0                    0   \n",
       "3         1/1/2013 5:45               0                    0   \n",
       "4         1/1/2013 9:00               0                    0   \n",
       "...                 ...             ...                  ...   \n",
       "43425   11/25/2013 0:00               0                    1   \n",
       "43426  11/24/2013 18:00               1                    0   \n",
       "43427   11/26/2013 1:00               1                    0   \n",
       "43429  11/24/2013 16:00               0                    0   \n",
       "43430   11/25/2013 5:00               0                    1   \n",
       "\n",
       "        booking_created   from_lat  from_long     to_lat    to_long  \\\n",
       "0         1/1/2013 1:39  12.924150  77.672290  12.927320  77.635750   \n",
       "1         1/1/2013 2:25  12.966910  77.749350  12.927680  77.626640   \n",
       "2         1/1/2013 3:08  12.937222  77.626915  13.047926  77.597766   \n",
       "3         1/1/2013 4:39  12.989990  77.553320  12.971430  77.639140   \n",
       "4         1/1/2013 7:53  12.845653  77.677925  12.954340  77.600720   \n",
       "...                 ...        ...        ...        ...        ...   \n",
       "43425  11/24/2013 14:24  12.976770  77.572700  13.015080  77.677960   \n",
       "43426  11/24/2013 14:25  13.030640  77.649100  12.952780  77.590880   \n",
       "43427  11/24/2013 14:30  13.199560  77.706880  13.017436  77.644580   \n",
       "43429  11/24/2013 14:43  12.968970  77.594560  12.938230  77.622890   \n",
       "43430  11/24/2013 14:50  12.976720  77.649270  13.199560  77.706880   \n",
       "\n",
       "       Car_Cancellation    BLFA    BLTA    CLFA    CLTA  \n",
       "0                     0    High  Medium    High     Low  \n",
       "1                     0    High     Low    High     Low  \n",
       "2                     0     Low     Low  Medium     Low  \n",
       "3                     0  Medium     Low     Low     Low  \n",
       "4                     0  Medium     Low    High  Medium  \n",
       "...                 ...     ...     ...     ...     ...  \n",
       "43425                 0    High     Low  Medium     Low  \n",
       "43426                 0  Medium  Medium     Low  Medium  \n",
       "43427                 0    High     Low    High     Low  \n",
       "43429                 0     Low     Low     Low     Low  \n",
       "43430                 0    High    High  Medium  Medium  \n",
       "\n",
       "[34292 rows x 13 columns]"
      ]
     },
     "execution_count": 116,
     "metadata": {},
     "output_type": "execute_result"
    }
   ],
   "source": [
    "df"
   ]
  },
  {
   "cell_type": "code",
   "execution_count": null,
   "id": "0f3d2de7",
   "metadata": {
    "hidden": true
   },
   "outputs": [],
   "source": []
  },
  {
   "cell_type": "markdown",
   "id": "80672905",
   "metadata": {
    "heading_collapsed": true,
    "hidden": true
   },
   "source": [
    "#### from_date, booking_created"
   ]
  },
  {
   "cell_type": "code",
   "execution_count": null,
   "id": "4223acc7",
   "metadata": {
    "hidden": true
   },
   "outputs": [],
   "source": []
  },
  {
   "cell_type": "code",
   "execution_count": 117,
   "id": "af16d7ec",
   "metadata": {
    "hidden": true
   },
   "outputs": [],
   "source": [
    "df['from_datetime']=pd.to_datetime(df['from_date'])"
   ]
  },
  {
   "cell_type": "code",
   "execution_count": 118,
   "id": "aedd1169",
   "metadata": {
    "hidden": true
   },
   "outputs": [],
   "source": [
    "df.drop(columns=['from_date'],inplace=True)"
   ]
  },
  {
   "cell_type": "code",
   "execution_count": 119,
   "id": "32243f3c",
   "metadata": {
    "hidden": true
   },
   "outputs": [],
   "source": [
    "df['weekday'] = df['from_datetime'].dt.weekday.apply(lambda x : 0 if (x==5 or x==6) else 1)"
   ]
  },
  {
   "cell_type": "code",
   "execution_count": 120,
   "id": "07badb14",
   "metadata": {
    "hidden": true
   },
   "outputs": [
    {
     "data": {
      "text/plain": [
       "1    24759\n",
       "0     9533\n",
       "Name: weekday, dtype: int64"
      ]
     },
     "execution_count": 120,
     "metadata": {},
     "output_type": "execute_result"
    }
   ],
   "source": [
    "df['weekday'].value_counts()"
   ]
  },
  {
   "cell_type": "code",
   "execution_count": 121,
   "id": "4ead82a3",
   "metadata": {
    "hidden": true
   },
   "outputs": [
    {
     "data": {
      "text/html": [
       "<div>\n",
       "<style scoped>\n",
       "    .dataframe tbody tr th:only-of-type {\n",
       "        vertical-align: middle;\n",
       "    }\n",
       "\n",
       "    .dataframe tbody tr th {\n",
       "        vertical-align: top;\n",
       "    }\n",
       "\n",
       "    .dataframe thead th {\n",
       "        text-align: right;\n",
       "    }\n",
       "</style>\n",
       "<table border=\"1\" class=\"dataframe\">\n",
       "  <thead>\n",
       "    <tr style=\"text-align: right;\">\n",
       "      <th></th>\n",
       "      <th>online_booking</th>\n",
       "      <th>mobile_site_booking</th>\n",
       "      <th>booking_created</th>\n",
       "      <th>from_lat</th>\n",
       "      <th>from_long</th>\n",
       "      <th>to_lat</th>\n",
       "      <th>to_long</th>\n",
       "      <th>Car_Cancellation</th>\n",
       "      <th>BLFA</th>\n",
       "      <th>BLTA</th>\n",
       "      <th>CLFA</th>\n",
       "      <th>CLTA</th>\n",
       "      <th>from_datetime</th>\n",
       "      <th>weekday</th>\n",
       "    </tr>\n",
       "  </thead>\n",
       "  <tbody>\n",
       "    <tr>\n",
       "      <th>0</th>\n",
       "      <td>0</td>\n",
       "      <td>0</td>\n",
       "      <td>1/1/2013 1:39</td>\n",
       "      <td>12.924150</td>\n",
       "      <td>77.672290</td>\n",
       "      <td>12.927320</td>\n",
       "      <td>77.635750</td>\n",
       "      <td>0</td>\n",
       "      <td>High</td>\n",
       "      <td>Medium</td>\n",
       "      <td>High</td>\n",
       "      <td>Low</td>\n",
       "      <td>2013-01-01 02:00:00</td>\n",
       "      <td>1</td>\n",
       "    </tr>\n",
       "    <tr>\n",
       "      <th>1</th>\n",
       "      <td>0</td>\n",
       "      <td>0</td>\n",
       "      <td>1/1/2013 2:25</td>\n",
       "      <td>12.966910</td>\n",
       "      <td>77.749350</td>\n",
       "      <td>12.927680</td>\n",
       "      <td>77.626640</td>\n",
       "      <td>0</td>\n",
       "      <td>High</td>\n",
       "      <td>Low</td>\n",
       "      <td>High</td>\n",
       "      <td>Low</td>\n",
       "      <td>2013-01-01 09:00:00</td>\n",
       "      <td>1</td>\n",
       "    </tr>\n",
       "    <tr>\n",
       "      <th>2</th>\n",
       "      <td>0</td>\n",
       "      <td>0</td>\n",
       "      <td>1/1/2013 3:08</td>\n",
       "      <td>12.937222</td>\n",
       "      <td>77.626915</td>\n",
       "      <td>13.047926</td>\n",
       "      <td>77.597766</td>\n",
       "      <td>0</td>\n",
       "      <td>Low</td>\n",
       "      <td>Low</td>\n",
       "      <td>Medium</td>\n",
       "      <td>Low</td>\n",
       "      <td>2013-01-01 03:30:00</td>\n",
       "      <td>1</td>\n",
       "    </tr>\n",
       "    <tr>\n",
       "      <th>3</th>\n",
       "      <td>0</td>\n",
       "      <td>0</td>\n",
       "      <td>1/1/2013 4:39</td>\n",
       "      <td>12.989990</td>\n",
       "      <td>77.553320</td>\n",
       "      <td>12.971430</td>\n",
       "      <td>77.639140</td>\n",
       "      <td>0</td>\n",
       "      <td>Medium</td>\n",
       "      <td>Low</td>\n",
       "      <td>Low</td>\n",
       "      <td>Low</td>\n",
       "      <td>2013-01-01 05:45:00</td>\n",
       "      <td>1</td>\n",
       "    </tr>\n",
       "    <tr>\n",
       "      <th>4</th>\n",
       "      <td>0</td>\n",
       "      <td>0</td>\n",
       "      <td>1/1/2013 7:53</td>\n",
       "      <td>12.845653</td>\n",
       "      <td>77.677925</td>\n",
       "      <td>12.954340</td>\n",
       "      <td>77.600720</td>\n",
       "      <td>0</td>\n",
       "      <td>Medium</td>\n",
       "      <td>Low</td>\n",
       "      <td>High</td>\n",
       "      <td>Medium</td>\n",
       "      <td>2013-01-01 09:00:00</td>\n",
       "      <td>1</td>\n",
       "    </tr>\n",
       "    <tr>\n",
       "      <th>...</th>\n",
       "      <td>...</td>\n",
       "      <td>...</td>\n",
       "      <td>...</td>\n",
       "      <td>...</td>\n",
       "      <td>...</td>\n",
       "      <td>...</td>\n",
       "      <td>...</td>\n",
       "      <td>...</td>\n",
       "      <td>...</td>\n",
       "      <td>...</td>\n",
       "      <td>...</td>\n",
       "      <td>...</td>\n",
       "      <td>...</td>\n",
       "      <td>...</td>\n",
       "    </tr>\n",
       "    <tr>\n",
       "      <th>43425</th>\n",
       "      <td>0</td>\n",
       "      <td>1</td>\n",
       "      <td>11/24/2013 14:24</td>\n",
       "      <td>12.976770</td>\n",
       "      <td>77.572700</td>\n",
       "      <td>13.015080</td>\n",
       "      <td>77.677960</td>\n",
       "      <td>0</td>\n",
       "      <td>High</td>\n",
       "      <td>Low</td>\n",
       "      <td>Medium</td>\n",
       "      <td>Low</td>\n",
       "      <td>2013-11-25 00:00:00</td>\n",
       "      <td>1</td>\n",
       "    </tr>\n",
       "    <tr>\n",
       "      <th>43426</th>\n",
       "      <td>1</td>\n",
       "      <td>0</td>\n",
       "      <td>11/24/2013 14:25</td>\n",
       "      <td>13.030640</td>\n",
       "      <td>77.649100</td>\n",
       "      <td>12.952780</td>\n",
       "      <td>77.590880</td>\n",
       "      <td>0</td>\n",
       "      <td>Medium</td>\n",
       "      <td>Medium</td>\n",
       "      <td>Low</td>\n",
       "      <td>Medium</td>\n",
       "      <td>2013-11-24 18:00:00</td>\n",
       "      <td>0</td>\n",
       "    </tr>\n",
       "    <tr>\n",
       "      <th>43427</th>\n",
       "      <td>1</td>\n",
       "      <td>0</td>\n",
       "      <td>11/24/2013 14:30</td>\n",
       "      <td>13.199560</td>\n",
       "      <td>77.706880</td>\n",
       "      <td>13.017436</td>\n",
       "      <td>77.644580</td>\n",
       "      <td>0</td>\n",
       "      <td>High</td>\n",
       "      <td>Low</td>\n",
       "      <td>High</td>\n",
       "      <td>Low</td>\n",
       "      <td>2013-11-26 01:00:00</td>\n",
       "      <td>1</td>\n",
       "    </tr>\n",
       "    <tr>\n",
       "      <th>43429</th>\n",
       "      <td>0</td>\n",
       "      <td>0</td>\n",
       "      <td>11/24/2013 14:43</td>\n",
       "      <td>12.968970</td>\n",
       "      <td>77.594560</td>\n",
       "      <td>12.938230</td>\n",
       "      <td>77.622890</td>\n",
       "      <td>0</td>\n",
       "      <td>Low</td>\n",
       "      <td>Low</td>\n",
       "      <td>Low</td>\n",
       "      <td>Low</td>\n",
       "      <td>2013-11-24 16:00:00</td>\n",
       "      <td>0</td>\n",
       "    </tr>\n",
       "    <tr>\n",
       "      <th>43430</th>\n",
       "      <td>0</td>\n",
       "      <td>1</td>\n",
       "      <td>11/24/2013 14:50</td>\n",
       "      <td>12.976720</td>\n",
       "      <td>77.649270</td>\n",
       "      <td>13.199560</td>\n",
       "      <td>77.706880</td>\n",
       "      <td>0</td>\n",
       "      <td>High</td>\n",
       "      <td>High</td>\n",
       "      <td>Medium</td>\n",
       "      <td>Medium</td>\n",
       "      <td>2013-11-25 05:00:00</td>\n",
       "      <td>1</td>\n",
       "    </tr>\n",
       "  </tbody>\n",
       "</table>\n",
       "<p>34292 rows × 14 columns</p>\n",
       "</div>"
      ],
      "text/plain": [
       "       online_booking  mobile_site_booking   booking_created   from_lat  \\\n",
       "0                   0                    0     1/1/2013 1:39  12.924150   \n",
       "1                   0                    0     1/1/2013 2:25  12.966910   \n",
       "2                   0                    0     1/1/2013 3:08  12.937222   \n",
       "3                   0                    0     1/1/2013 4:39  12.989990   \n",
       "4                   0                    0     1/1/2013 7:53  12.845653   \n",
       "...               ...                  ...               ...        ...   \n",
       "43425               0                    1  11/24/2013 14:24  12.976770   \n",
       "43426               1                    0  11/24/2013 14:25  13.030640   \n",
       "43427               1                    0  11/24/2013 14:30  13.199560   \n",
       "43429               0                    0  11/24/2013 14:43  12.968970   \n",
       "43430               0                    1  11/24/2013 14:50  12.976720   \n",
       "\n",
       "       from_long     to_lat    to_long  Car_Cancellation    BLFA    BLTA  \\\n",
       "0      77.672290  12.927320  77.635750                 0    High  Medium   \n",
       "1      77.749350  12.927680  77.626640                 0    High     Low   \n",
       "2      77.626915  13.047926  77.597766                 0     Low     Low   \n",
       "3      77.553320  12.971430  77.639140                 0  Medium     Low   \n",
       "4      77.677925  12.954340  77.600720                 0  Medium     Low   \n",
       "...          ...        ...        ...               ...     ...     ...   \n",
       "43425  77.572700  13.015080  77.677960                 0    High     Low   \n",
       "43426  77.649100  12.952780  77.590880                 0  Medium  Medium   \n",
       "43427  77.706880  13.017436  77.644580                 0    High     Low   \n",
       "43429  77.594560  12.938230  77.622890                 0     Low     Low   \n",
       "43430  77.649270  13.199560  77.706880                 0    High    High   \n",
       "\n",
       "         CLFA    CLTA       from_datetime  weekday  \n",
       "0        High     Low 2013-01-01 02:00:00        1  \n",
       "1        High     Low 2013-01-01 09:00:00        1  \n",
       "2      Medium     Low 2013-01-01 03:30:00        1  \n",
       "3         Low     Low 2013-01-01 05:45:00        1  \n",
       "4        High  Medium 2013-01-01 09:00:00        1  \n",
       "...       ...     ...                 ...      ...  \n",
       "43425  Medium     Low 2013-11-25 00:00:00        1  \n",
       "43426     Low  Medium 2013-11-24 18:00:00        0  \n",
       "43427    High     Low 2013-11-26 01:00:00        1  \n",
       "43429     Low     Low 2013-11-24 16:00:00        0  \n",
       "43430  Medium  Medium 2013-11-25 05:00:00        1  \n",
       "\n",
       "[34292 rows x 14 columns]"
      ]
     },
     "execution_count": 121,
     "metadata": {},
     "output_type": "execute_result"
    }
   ],
   "source": [
    "df"
   ]
  },
  {
   "cell_type": "code",
   "execution_count": 122,
   "id": "57a44a93",
   "metadata": {
    "hidden": true
   },
   "outputs": [],
   "source": [
    "t=df['from_datetime'].dt.hour"
   ]
  },
  {
   "cell_type": "code",
   "execution_count": 123,
   "id": "04172322",
   "metadata": {
    "hidden": true
   },
   "outputs": [],
   "source": [
    "cond = [(t.between(0,6)),(t.between(6,12)),(t.between(12,18)),(t.between(18,24))]\n",
    "\n",
    "labels = ['N','M','A','E']    # N-night, M-morning, A-afternoon, E-evening\n",
    "\n",
    "df['trip_start_timeperiod'] = np.select(cond,labels)"
   ]
  },
  {
   "cell_type": "code",
   "execution_count": 124,
   "id": "158c5918",
   "metadata": {
    "hidden": true
   },
   "outputs": [
    {
     "data": {
      "text/html": [
       "<div>\n",
       "<style scoped>\n",
       "    .dataframe tbody tr th:only-of-type {\n",
       "        vertical-align: middle;\n",
       "    }\n",
       "\n",
       "    .dataframe tbody tr th {\n",
       "        vertical-align: top;\n",
       "    }\n",
       "\n",
       "    .dataframe thead th {\n",
       "        text-align: right;\n",
       "    }\n",
       "</style>\n",
       "<table border=\"1\" class=\"dataframe\">\n",
       "  <thead>\n",
       "    <tr style=\"text-align: right;\">\n",
       "      <th></th>\n",
       "      <th>online_booking</th>\n",
       "      <th>mobile_site_booking</th>\n",
       "      <th>booking_created</th>\n",
       "      <th>from_lat</th>\n",
       "      <th>from_long</th>\n",
       "      <th>to_lat</th>\n",
       "      <th>to_long</th>\n",
       "      <th>Car_Cancellation</th>\n",
       "      <th>BLFA</th>\n",
       "      <th>BLTA</th>\n",
       "      <th>CLFA</th>\n",
       "      <th>CLTA</th>\n",
       "      <th>from_datetime</th>\n",
       "      <th>weekday</th>\n",
       "      <th>trip_start_timeperiod</th>\n",
       "    </tr>\n",
       "  </thead>\n",
       "  <tbody>\n",
       "    <tr>\n",
       "      <th>0</th>\n",
       "      <td>0</td>\n",
       "      <td>0</td>\n",
       "      <td>1/1/2013 1:39</td>\n",
       "      <td>12.924150</td>\n",
       "      <td>77.672290</td>\n",
       "      <td>12.927320</td>\n",
       "      <td>77.635750</td>\n",
       "      <td>0</td>\n",
       "      <td>High</td>\n",
       "      <td>Medium</td>\n",
       "      <td>High</td>\n",
       "      <td>Low</td>\n",
       "      <td>2013-01-01 02:00:00</td>\n",
       "      <td>1</td>\n",
       "      <td>N</td>\n",
       "    </tr>\n",
       "    <tr>\n",
       "      <th>1</th>\n",
       "      <td>0</td>\n",
       "      <td>0</td>\n",
       "      <td>1/1/2013 2:25</td>\n",
       "      <td>12.966910</td>\n",
       "      <td>77.749350</td>\n",
       "      <td>12.927680</td>\n",
       "      <td>77.626640</td>\n",
       "      <td>0</td>\n",
       "      <td>High</td>\n",
       "      <td>Low</td>\n",
       "      <td>High</td>\n",
       "      <td>Low</td>\n",
       "      <td>2013-01-01 09:00:00</td>\n",
       "      <td>1</td>\n",
       "      <td>M</td>\n",
       "    </tr>\n",
       "    <tr>\n",
       "      <th>2</th>\n",
       "      <td>0</td>\n",
       "      <td>0</td>\n",
       "      <td>1/1/2013 3:08</td>\n",
       "      <td>12.937222</td>\n",
       "      <td>77.626915</td>\n",
       "      <td>13.047926</td>\n",
       "      <td>77.597766</td>\n",
       "      <td>0</td>\n",
       "      <td>Low</td>\n",
       "      <td>Low</td>\n",
       "      <td>Medium</td>\n",
       "      <td>Low</td>\n",
       "      <td>2013-01-01 03:30:00</td>\n",
       "      <td>1</td>\n",
       "      <td>N</td>\n",
       "    </tr>\n",
       "    <tr>\n",
       "      <th>3</th>\n",
       "      <td>0</td>\n",
       "      <td>0</td>\n",
       "      <td>1/1/2013 4:39</td>\n",
       "      <td>12.989990</td>\n",
       "      <td>77.553320</td>\n",
       "      <td>12.971430</td>\n",
       "      <td>77.639140</td>\n",
       "      <td>0</td>\n",
       "      <td>Medium</td>\n",
       "      <td>Low</td>\n",
       "      <td>Low</td>\n",
       "      <td>Low</td>\n",
       "      <td>2013-01-01 05:45:00</td>\n",
       "      <td>1</td>\n",
       "      <td>N</td>\n",
       "    </tr>\n",
       "    <tr>\n",
       "      <th>4</th>\n",
       "      <td>0</td>\n",
       "      <td>0</td>\n",
       "      <td>1/1/2013 7:53</td>\n",
       "      <td>12.845653</td>\n",
       "      <td>77.677925</td>\n",
       "      <td>12.954340</td>\n",
       "      <td>77.600720</td>\n",
       "      <td>0</td>\n",
       "      <td>Medium</td>\n",
       "      <td>Low</td>\n",
       "      <td>High</td>\n",
       "      <td>Medium</td>\n",
       "      <td>2013-01-01 09:00:00</td>\n",
       "      <td>1</td>\n",
       "      <td>M</td>\n",
       "    </tr>\n",
       "    <tr>\n",
       "      <th>...</th>\n",
       "      <td>...</td>\n",
       "      <td>...</td>\n",
       "      <td>...</td>\n",
       "      <td>...</td>\n",
       "      <td>...</td>\n",
       "      <td>...</td>\n",
       "      <td>...</td>\n",
       "      <td>...</td>\n",
       "      <td>...</td>\n",
       "      <td>...</td>\n",
       "      <td>...</td>\n",
       "      <td>...</td>\n",
       "      <td>...</td>\n",
       "      <td>...</td>\n",
       "      <td>...</td>\n",
       "    </tr>\n",
       "    <tr>\n",
       "      <th>43425</th>\n",
       "      <td>0</td>\n",
       "      <td>1</td>\n",
       "      <td>11/24/2013 14:24</td>\n",
       "      <td>12.976770</td>\n",
       "      <td>77.572700</td>\n",
       "      <td>13.015080</td>\n",
       "      <td>77.677960</td>\n",
       "      <td>0</td>\n",
       "      <td>High</td>\n",
       "      <td>Low</td>\n",
       "      <td>Medium</td>\n",
       "      <td>Low</td>\n",
       "      <td>2013-11-25 00:00:00</td>\n",
       "      <td>1</td>\n",
       "      <td>N</td>\n",
       "    </tr>\n",
       "    <tr>\n",
       "      <th>43426</th>\n",
       "      <td>1</td>\n",
       "      <td>0</td>\n",
       "      <td>11/24/2013 14:25</td>\n",
       "      <td>13.030640</td>\n",
       "      <td>77.649100</td>\n",
       "      <td>12.952780</td>\n",
       "      <td>77.590880</td>\n",
       "      <td>0</td>\n",
       "      <td>Medium</td>\n",
       "      <td>Medium</td>\n",
       "      <td>Low</td>\n",
       "      <td>Medium</td>\n",
       "      <td>2013-11-24 18:00:00</td>\n",
       "      <td>0</td>\n",
       "      <td>A</td>\n",
       "    </tr>\n",
       "    <tr>\n",
       "      <th>43427</th>\n",
       "      <td>1</td>\n",
       "      <td>0</td>\n",
       "      <td>11/24/2013 14:30</td>\n",
       "      <td>13.199560</td>\n",
       "      <td>77.706880</td>\n",
       "      <td>13.017436</td>\n",
       "      <td>77.644580</td>\n",
       "      <td>0</td>\n",
       "      <td>High</td>\n",
       "      <td>Low</td>\n",
       "      <td>High</td>\n",
       "      <td>Low</td>\n",
       "      <td>2013-11-26 01:00:00</td>\n",
       "      <td>1</td>\n",
       "      <td>N</td>\n",
       "    </tr>\n",
       "    <tr>\n",
       "      <th>43429</th>\n",
       "      <td>0</td>\n",
       "      <td>0</td>\n",
       "      <td>11/24/2013 14:43</td>\n",
       "      <td>12.968970</td>\n",
       "      <td>77.594560</td>\n",
       "      <td>12.938230</td>\n",
       "      <td>77.622890</td>\n",
       "      <td>0</td>\n",
       "      <td>Low</td>\n",
       "      <td>Low</td>\n",
       "      <td>Low</td>\n",
       "      <td>Low</td>\n",
       "      <td>2013-11-24 16:00:00</td>\n",
       "      <td>0</td>\n",
       "      <td>A</td>\n",
       "    </tr>\n",
       "    <tr>\n",
       "      <th>43430</th>\n",
       "      <td>0</td>\n",
       "      <td>1</td>\n",
       "      <td>11/24/2013 14:50</td>\n",
       "      <td>12.976720</td>\n",
       "      <td>77.649270</td>\n",
       "      <td>13.199560</td>\n",
       "      <td>77.706880</td>\n",
       "      <td>0</td>\n",
       "      <td>High</td>\n",
       "      <td>High</td>\n",
       "      <td>Medium</td>\n",
       "      <td>Medium</td>\n",
       "      <td>2013-11-25 05:00:00</td>\n",
       "      <td>1</td>\n",
       "      <td>N</td>\n",
       "    </tr>\n",
       "  </tbody>\n",
       "</table>\n",
       "<p>34292 rows × 15 columns</p>\n",
       "</div>"
      ],
      "text/plain": [
       "       online_booking  mobile_site_booking   booking_created   from_lat  \\\n",
       "0                   0                    0     1/1/2013 1:39  12.924150   \n",
       "1                   0                    0     1/1/2013 2:25  12.966910   \n",
       "2                   0                    0     1/1/2013 3:08  12.937222   \n",
       "3                   0                    0     1/1/2013 4:39  12.989990   \n",
       "4                   0                    0     1/1/2013 7:53  12.845653   \n",
       "...               ...                  ...               ...        ...   \n",
       "43425               0                    1  11/24/2013 14:24  12.976770   \n",
       "43426               1                    0  11/24/2013 14:25  13.030640   \n",
       "43427               1                    0  11/24/2013 14:30  13.199560   \n",
       "43429               0                    0  11/24/2013 14:43  12.968970   \n",
       "43430               0                    1  11/24/2013 14:50  12.976720   \n",
       "\n",
       "       from_long     to_lat    to_long  Car_Cancellation    BLFA    BLTA  \\\n",
       "0      77.672290  12.927320  77.635750                 0    High  Medium   \n",
       "1      77.749350  12.927680  77.626640                 0    High     Low   \n",
       "2      77.626915  13.047926  77.597766                 0     Low     Low   \n",
       "3      77.553320  12.971430  77.639140                 0  Medium     Low   \n",
       "4      77.677925  12.954340  77.600720                 0  Medium     Low   \n",
       "...          ...        ...        ...               ...     ...     ...   \n",
       "43425  77.572700  13.015080  77.677960                 0    High     Low   \n",
       "43426  77.649100  12.952780  77.590880                 0  Medium  Medium   \n",
       "43427  77.706880  13.017436  77.644580                 0    High     Low   \n",
       "43429  77.594560  12.938230  77.622890                 0     Low     Low   \n",
       "43430  77.649270  13.199560  77.706880                 0    High    High   \n",
       "\n",
       "         CLFA    CLTA       from_datetime  weekday trip_start_timeperiod  \n",
       "0        High     Low 2013-01-01 02:00:00        1                     N  \n",
       "1        High     Low 2013-01-01 09:00:00        1                     M  \n",
       "2      Medium     Low 2013-01-01 03:30:00        1                     N  \n",
       "3         Low     Low 2013-01-01 05:45:00        1                     N  \n",
       "4        High  Medium 2013-01-01 09:00:00        1                     M  \n",
       "...       ...     ...                 ...      ...                   ...  \n",
       "43425  Medium     Low 2013-11-25 00:00:00        1                     N  \n",
       "43426     Low  Medium 2013-11-24 18:00:00        0                     A  \n",
       "43427    High     Low 2013-11-26 01:00:00        1                     N  \n",
       "43429     Low     Low 2013-11-24 16:00:00        0                     A  \n",
       "43430  Medium  Medium 2013-11-25 05:00:00        1                     N  \n",
       "\n",
       "[34292 rows x 15 columns]"
      ]
     },
     "execution_count": 124,
     "metadata": {},
     "output_type": "execute_result"
    }
   ],
   "source": [
    "df"
   ]
  },
  {
   "cell_type": "code",
   "execution_count": 125,
   "id": "938f0a2f",
   "metadata": {
    "hidden": true
   },
   "outputs": [],
   "source": [
    "df['booking_created_dt']=pd.to_datetime(df['booking_created'])\n",
    "df.drop(columns='booking_created',inplace=True)"
   ]
  },
  {
   "cell_type": "code",
   "execution_count": 126,
   "id": "cb3c7b7d",
   "metadata": {
    "hidden": true
   },
   "outputs": [
    {
     "data": {
      "text/plain": [
       "0       0 days 00:21:00\n",
       "1       0 days 06:35:00\n",
       "2       0 days 00:22:00\n",
       "3       0 days 01:06:00\n",
       "4       0 days 01:07:00\n",
       "              ...      \n",
       "43425   0 days 09:36:00\n",
       "43426   0 days 03:35:00\n",
       "43427   1 days 10:30:00\n",
       "43429   0 days 01:17:00\n",
       "43430   0 days 14:10:00\n",
       "Length: 34292, dtype: timedelta64[ns]"
      ]
     },
     "execution_count": 126,
     "metadata": {},
     "output_type": "execute_result"
    }
   ],
   "source": [
    "(df['from_datetime']-df['booking_created_dt'])"
   ]
  },
  {
   "cell_type": "code",
   "execution_count": 127,
   "id": "1d93c59d",
   "metadata": {
    "hidden": true
   },
   "outputs": [],
   "source": [
    "df['Difference_BC_TS']=(df['from_datetime']-df['booking_created_dt'])/pd.Timedelta(minutes=1)  ## BC-Booking Created, TS-Trip Start"
   ]
  },
  {
   "cell_type": "code",
   "execution_count": 128,
   "id": "898f6fad",
   "metadata": {
    "hidden": true
   },
   "outputs": [
    {
     "data": {
      "text/plain": [
       "0          21.0\n",
       "1         395.0\n",
       "2          22.0\n",
       "3          66.0\n",
       "4          67.0\n",
       "          ...  \n",
       "43425     576.0\n",
       "43426     215.0\n",
       "43427    2070.0\n",
       "43429      77.0\n",
       "43430     850.0\n",
       "Name: Difference_BC_TS, Length: 34292, dtype: float64"
      ]
     },
     "execution_count": 128,
     "metadata": {},
     "output_type": "execute_result"
    }
   ],
   "source": [
    "df['Difference_BC_TS']"
   ]
  },
  {
   "cell_type": "code",
   "execution_count": null,
   "id": "7e2244dd",
   "metadata": {
    "hidden": true
   },
   "outputs": [],
   "source": []
  },
  {
   "cell_type": "code",
   "execution_count": 129,
   "id": "62e6cb63",
   "metadata": {
    "hidden": true
   },
   "outputs": [
    {
     "data": {
      "text/plain": [
       "count     34292.000000\n",
       "mean       2232.127785\n",
       "std        6055.063630\n",
       "min       -1374.000000\n",
       "25%         191.000000\n",
       "50%         530.000000\n",
       "75%        1150.000000\n",
       "max      114414.000000\n",
       "Name: Difference_BC_TS, dtype: float64"
      ]
     },
     "execution_count": 129,
     "metadata": {},
     "output_type": "execute_result"
    }
   ],
   "source": [
    "df['Difference_BC_TS'].describe()"
   ]
  },
  {
   "cell_type": "code",
   "execution_count": 130,
   "id": "e579c674",
   "metadata": {
    "hidden": true
   },
   "outputs": [
    {
     "data": {
      "text/plain": [
       "0        (-1374.001, 530.0]\n",
       "1        (-1374.001, 530.0]\n",
       "2        (-1374.001, 530.0]\n",
       "3        (-1374.001, 530.0]\n",
       "4        (-1374.001, 530.0]\n",
       "                ...        \n",
       "43425     (530.0, 114414.0]\n",
       "43426    (-1374.001, 530.0]\n",
       "43427     (530.0, 114414.0]\n",
       "43429    (-1374.001, 530.0]\n",
       "43430     (530.0, 114414.0]\n",
       "Name: Difference_BC_TS, Length: 34292, dtype: category\n",
       "Categories (2, interval[float64, right]): [(-1374.001, 530.0] < (530.0, 114414.0]]"
      ]
     },
     "execution_count": 130,
     "metadata": {},
     "output_type": "execute_result"
    }
   ],
   "source": [
    "pd.qcut(df['Difference_BC_TS'],2)"
   ]
  },
  {
   "cell_type": "code",
   "execution_count": 131,
   "id": "56d0d771",
   "metadata": {
    "hidden": true
   },
   "outputs": [],
   "source": [
    "df['Advance_booking_time']=pd.qcut(df['Difference_BC_TS'],3,labels=['Low','Medium','High'])"
   ]
  },
  {
   "cell_type": "code",
   "execution_count": 132,
   "id": "b3866a77",
   "metadata": {
    "hidden": true
   },
   "outputs": [
    {
     "data": {
      "text/html": [
       "<div>\n",
       "<style scoped>\n",
       "    .dataframe tbody tr th:only-of-type {\n",
       "        vertical-align: middle;\n",
       "    }\n",
       "\n",
       "    .dataframe tbody tr th {\n",
       "        vertical-align: top;\n",
       "    }\n",
       "\n",
       "    .dataframe thead th {\n",
       "        text-align: right;\n",
       "    }\n",
       "</style>\n",
       "<table border=\"1\" class=\"dataframe\">\n",
       "  <thead>\n",
       "    <tr style=\"text-align: right;\">\n",
       "      <th></th>\n",
       "      <th>online_booking</th>\n",
       "      <th>mobile_site_booking</th>\n",
       "      <th>from_lat</th>\n",
       "      <th>from_long</th>\n",
       "      <th>to_lat</th>\n",
       "      <th>to_long</th>\n",
       "      <th>Car_Cancellation</th>\n",
       "      <th>BLFA</th>\n",
       "      <th>BLTA</th>\n",
       "      <th>CLFA</th>\n",
       "      <th>CLTA</th>\n",
       "      <th>from_datetime</th>\n",
       "      <th>weekday</th>\n",
       "      <th>trip_start_timeperiod</th>\n",
       "      <th>booking_created_dt</th>\n",
       "      <th>Difference_BC_TS</th>\n",
       "      <th>Advance_booking_time</th>\n",
       "    </tr>\n",
       "  </thead>\n",
       "  <tbody>\n",
       "    <tr>\n",
       "      <th>0</th>\n",
       "      <td>0</td>\n",
       "      <td>0</td>\n",
       "      <td>12.924150</td>\n",
       "      <td>77.672290</td>\n",
       "      <td>12.927320</td>\n",
       "      <td>77.635750</td>\n",
       "      <td>0</td>\n",
       "      <td>High</td>\n",
       "      <td>Medium</td>\n",
       "      <td>High</td>\n",
       "      <td>Low</td>\n",
       "      <td>2013-01-01 02:00:00</td>\n",
       "      <td>1</td>\n",
       "      <td>N</td>\n",
       "      <td>2013-01-01 01:39:00</td>\n",
       "      <td>21.0</td>\n",
       "      <td>Low</td>\n",
       "    </tr>\n",
       "    <tr>\n",
       "      <th>1</th>\n",
       "      <td>0</td>\n",
       "      <td>0</td>\n",
       "      <td>12.966910</td>\n",
       "      <td>77.749350</td>\n",
       "      <td>12.927680</td>\n",
       "      <td>77.626640</td>\n",
       "      <td>0</td>\n",
       "      <td>High</td>\n",
       "      <td>Low</td>\n",
       "      <td>High</td>\n",
       "      <td>Low</td>\n",
       "      <td>2013-01-01 09:00:00</td>\n",
       "      <td>1</td>\n",
       "      <td>M</td>\n",
       "      <td>2013-01-01 02:25:00</td>\n",
       "      <td>395.0</td>\n",
       "      <td>Medium</td>\n",
       "    </tr>\n",
       "    <tr>\n",
       "      <th>2</th>\n",
       "      <td>0</td>\n",
       "      <td>0</td>\n",
       "      <td>12.937222</td>\n",
       "      <td>77.626915</td>\n",
       "      <td>13.047926</td>\n",
       "      <td>77.597766</td>\n",
       "      <td>0</td>\n",
       "      <td>Low</td>\n",
       "      <td>Low</td>\n",
       "      <td>Medium</td>\n",
       "      <td>Low</td>\n",
       "      <td>2013-01-01 03:30:00</td>\n",
       "      <td>1</td>\n",
       "      <td>N</td>\n",
       "      <td>2013-01-01 03:08:00</td>\n",
       "      <td>22.0</td>\n",
       "      <td>Low</td>\n",
       "    </tr>\n",
       "    <tr>\n",
       "      <th>3</th>\n",
       "      <td>0</td>\n",
       "      <td>0</td>\n",
       "      <td>12.989990</td>\n",
       "      <td>77.553320</td>\n",
       "      <td>12.971430</td>\n",
       "      <td>77.639140</td>\n",
       "      <td>0</td>\n",
       "      <td>Medium</td>\n",
       "      <td>Low</td>\n",
       "      <td>Low</td>\n",
       "      <td>Low</td>\n",
       "      <td>2013-01-01 05:45:00</td>\n",
       "      <td>1</td>\n",
       "      <td>N</td>\n",
       "      <td>2013-01-01 04:39:00</td>\n",
       "      <td>66.0</td>\n",
       "      <td>Low</td>\n",
       "    </tr>\n",
       "    <tr>\n",
       "      <th>4</th>\n",
       "      <td>0</td>\n",
       "      <td>0</td>\n",
       "      <td>12.845653</td>\n",
       "      <td>77.677925</td>\n",
       "      <td>12.954340</td>\n",
       "      <td>77.600720</td>\n",
       "      <td>0</td>\n",
       "      <td>Medium</td>\n",
       "      <td>Low</td>\n",
       "      <td>High</td>\n",
       "      <td>Medium</td>\n",
       "      <td>2013-01-01 09:00:00</td>\n",
       "      <td>1</td>\n",
       "      <td>M</td>\n",
       "      <td>2013-01-01 07:53:00</td>\n",
       "      <td>67.0</td>\n",
       "      <td>Low</td>\n",
       "    </tr>\n",
       "    <tr>\n",
       "      <th>...</th>\n",
       "      <td>...</td>\n",
       "      <td>...</td>\n",
       "      <td>...</td>\n",
       "      <td>...</td>\n",
       "      <td>...</td>\n",
       "      <td>...</td>\n",
       "      <td>...</td>\n",
       "      <td>...</td>\n",
       "      <td>...</td>\n",
       "      <td>...</td>\n",
       "      <td>...</td>\n",
       "      <td>...</td>\n",
       "      <td>...</td>\n",
       "      <td>...</td>\n",
       "      <td>...</td>\n",
       "      <td>...</td>\n",
       "      <td>...</td>\n",
       "    </tr>\n",
       "    <tr>\n",
       "      <th>43425</th>\n",
       "      <td>0</td>\n",
       "      <td>1</td>\n",
       "      <td>12.976770</td>\n",
       "      <td>77.572700</td>\n",
       "      <td>13.015080</td>\n",
       "      <td>77.677960</td>\n",
       "      <td>0</td>\n",
       "      <td>High</td>\n",
       "      <td>Low</td>\n",
       "      <td>Medium</td>\n",
       "      <td>Low</td>\n",
       "      <td>2013-11-25 00:00:00</td>\n",
       "      <td>1</td>\n",
       "      <td>N</td>\n",
       "      <td>2013-11-24 14:24:00</td>\n",
       "      <td>576.0</td>\n",
       "      <td>Medium</td>\n",
       "    </tr>\n",
       "    <tr>\n",
       "      <th>43426</th>\n",
       "      <td>1</td>\n",
       "      <td>0</td>\n",
       "      <td>13.030640</td>\n",
       "      <td>77.649100</td>\n",
       "      <td>12.952780</td>\n",
       "      <td>77.590880</td>\n",
       "      <td>0</td>\n",
       "      <td>Medium</td>\n",
       "      <td>Medium</td>\n",
       "      <td>Low</td>\n",
       "      <td>Medium</td>\n",
       "      <td>2013-11-24 18:00:00</td>\n",
       "      <td>0</td>\n",
       "      <td>A</td>\n",
       "      <td>2013-11-24 14:25:00</td>\n",
       "      <td>215.0</td>\n",
       "      <td>Low</td>\n",
       "    </tr>\n",
       "    <tr>\n",
       "      <th>43427</th>\n",
       "      <td>1</td>\n",
       "      <td>0</td>\n",
       "      <td>13.199560</td>\n",
       "      <td>77.706880</td>\n",
       "      <td>13.017436</td>\n",
       "      <td>77.644580</td>\n",
       "      <td>0</td>\n",
       "      <td>High</td>\n",
       "      <td>Low</td>\n",
       "      <td>High</td>\n",
       "      <td>Low</td>\n",
       "      <td>2013-11-26 01:00:00</td>\n",
       "      <td>1</td>\n",
       "      <td>N</td>\n",
       "      <td>2013-11-24 14:30:00</td>\n",
       "      <td>2070.0</td>\n",
       "      <td>High</td>\n",
       "    </tr>\n",
       "    <tr>\n",
       "      <th>43429</th>\n",
       "      <td>0</td>\n",
       "      <td>0</td>\n",
       "      <td>12.968970</td>\n",
       "      <td>77.594560</td>\n",
       "      <td>12.938230</td>\n",
       "      <td>77.622890</td>\n",
       "      <td>0</td>\n",
       "      <td>Low</td>\n",
       "      <td>Low</td>\n",
       "      <td>Low</td>\n",
       "      <td>Low</td>\n",
       "      <td>2013-11-24 16:00:00</td>\n",
       "      <td>0</td>\n",
       "      <td>A</td>\n",
       "      <td>2013-11-24 14:43:00</td>\n",
       "      <td>77.0</td>\n",
       "      <td>Low</td>\n",
       "    </tr>\n",
       "    <tr>\n",
       "      <th>43430</th>\n",
       "      <td>0</td>\n",
       "      <td>1</td>\n",
       "      <td>12.976720</td>\n",
       "      <td>77.649270</td>\n",
       "      <td>13.199560</td>\n",
       "      <td>77.706880</td>\n",
       "      <td>0</td>\n",
       "      <td>High</td>\n",
       "      <td>High</td>\n",
       "      <td>Medium</td>\n",
       "      <td>Medium</td>\n",
       "      <td>2013-11-25 05:00:00</td>\n",
       "      <td>1</td>\n",
       "      <td>N</td>\n",
       "      <td>2013-11-24 14:50:00</td>\n",
       "      <td>850.0</td>\n",
       "      <td>High</td>\n",
       "    </tr>\n",
       "  </tbody>\n",
       "</table>\n",
       "<p>34292 rows × 17 columns</p>\n",
       "</div>"
      ],
      "text/plain": [
       "       online_booking  mobile_site_booking   from_lat  from_long     to_lat  \\\n",
       "0                   0                    0  12.924150  77.672290  12.927320   \n",
       "1                   0                    0  12.966910  77.749350  12.927680   \n",
       "2                   0                    0  12.937222  77.626915  13.047926   \n",
       "3                   0                    0  12.989990  77.553320  12.971430   \n",
       "4                   0                    0  12.845653  77.677925  12.954340   \n",
       "...               ...                  ...        ...        ...        ...   \n",
       "43425               0                    1  12.976770  77.572700  13.015080   \n",
       "43426               1                    0  13.030640  77.649100  12.952780   \n",
       "43427               1                    0  13.199560  77.706880  13.017436   \n",
       "43429               0                    0  12.968970  77.594560  12.938230   \n",
       "43430               0                    1  12.976720  77.649270  13.199560   \n",
       "\n",
       "         to_long  Car_Cancellation    BLFA    BLTA    CLFA    CLTA  \\\n",
       "0      77.635750                 0    High  Medium    High     Low   \n",
       "1      77.626640                 0    High     Low    High     Low   \n",
       "2      77.597766                 0     Low     Low  Medium     Low   \n",
       "3      77.639140                 0  Medium     Low     Low     Low   \n",
       "4      77.600720                 0  Medium     Low    High  Medium   \n",
       "...          ...               ...     ...     ...     ...     ...   \n",
       "43425  77.677960                 0    High     Low  Medium     Low   \n",
       "43426  77.590880                 0  Medium  Medium     Low  Medium   \n",
       "43427  77.644580                 0    High     Low    High     Low   \n",
       "43429  77.622890                 0     Low     Low     Low     Low   \n",
       "43430  77.706880                 0    High    High  Medium  Medium   \n",
       "\n",
       "            from_datetime  weekday trip_start_timeperiod  booking_created_dt  \\\n",
       "0     2013-01-01 02:00:00        1                     N 2013-01-01 01:39:00   \n",
       "1     2013-01-01 09:00:00        1                     M 2013-01-01 02:25:00   \n",
       "2     2013-01-01 03:30:00        1                     N 2013-01-01 03:08:00   \n",
       "3     2013-01-01 05:45:00        1                     N 2013-01-01 04:39:00   \n",
       "4     2013-01-01 09:00:00        1                     M 2013-01-01 07:53:00   \n",
       "...                   ...      ...                   ...                 ...   \n",
       "43425 2013-11-25 00:00:00        1                     N 2013-11-24 14:24:00   \n",
       "43426 2013-11-24 18:00:00        0                     A 2013-11-24 14:25:00   \n",
       "43427 2013-11-26 01:00:00        1                     N 2013-11-24 14:30:00   \n",
       "43429 2013-11-24 16:00:00        0                     A 2013-11-24 14:43:00   \n",
       "43430 2013-11-25 05:00:00        1                     N 2013-11-24 14:50:00   \n",
       "\n",
       "       Difference_BC_TS Advance_booking_time  \n",
       "0                  21.0                  Low  \n",
       "1                 395.0               Medium  \n",
       "2                  22.0                  Low  \n",
       "3                  66.0                  Low  \n",
       "4                  67.0                  Low  \n",
       "...                 ...                  ...  \n",
       "43425             576.0               Medium  \n",
       "43426             215.0                  Low  \n",
       "43427            2070.0                 High  \n",
       "43429              77.0                  Low  \n",
       "43430             850.0                 High  \n",
       "\n",
       "[34292 rows x 17 columns]"
      ]
     },
     "execution_count": 132,
     "metadata": {},
     "output_type": "execute_result"
    }
   ],
   "source": [
    "df"
   ]
  },
  {
   "cell_type": "code",
   "execution_count": null,
   "id": "94e7288e",
   "metadata": {
    "hidden": true
   },
   "outputs": [],
   "source": []
  },
  {
   "cell_type": "code",
   "execution_count": 133,
   "id": "f570a9af",
   "metadata": {
    "hidden": true
   },
   "outputs": [],
   "source": [
    "t1=df['booking_created_dt'].dt.hour"
   ]
  },
  {
   "cell_type": "code",
   "execution_count": 134,
   "id": "cd1955ca",
   "metadata": {
    "hidden": true
   },
   "outputs": [],
   "source": [
    "cond = [(t1.between(0,6)),(t1.between(6,12)),(t1.between(12,18)),(t1.between(18,24))]\n",
    "\n",
    "labels = ['N','M','A','E']    # N-night, M-morning, A-afternoon, E-evening\n",
    "\n",
    "df['bc_timeperiod'] = np.select(cond,labels)"
   ]
  },
  {
   "cell_type": "code",
   "execution_count": 135,
   "id": "229ccb8b",
   "metadata": {
    "hidden": true
   },
   "outputs": [
    {
     "data": {
      "text/html": [
       "<div>\n",
       "<style scoped>\n",
       "    .dataframe tbody tr th:only-of-type {\n",
       "        vertical-align: middle;\n",
       "    }\n",
       "\n",
       "    .dataframe tbody tr th {\n",
       "        vertical-align: top;\n",
       "    }\n",
       "\n",
       "    .dataframe thead th {\n",
       "        text-align: right;\n",
       "    }\n",
       "</style>\n",
       "<table border=\"1\" class=\"dataframe\">\n",
       "  <thead>\n",
       "    <tr style=\"text-align: right;\">\n",
       "      <th></th>\n",
       "      <th>online_booking</th>\n",
       "      <th>mobile_site_booking</th>\n",
       "      <th>from_lat</th>\n",
       "      <th>from_long</th>\n",
       "      <th>to_lat</th>\n",
       "      <th>to_long</th>\n",
       "      <th>Car_Cancellation</th>\n",
       "      <th>BLFA</th>\n",
       "      <th>BLTA</th>\n",
       "      <th>CLFA</th>\n",
       "      <th>CLTA</th>\n",
       "      <th>from_datetime</th>\n",
       "      <th>weekday</th>\n",
       "      <th>trip_start_timeperiod</th>\n",
       "      <th>booking_created_dt</th>\n",
       "      <th>Difference_BC_TS</th>\n",
       "      <th>Advance_booking_time</th>\n",
       "      <th>bc_timeperiod</th>\n",
       "    </tr>\n",
       "  </thead>\n",
       "  <tbody>\n",
       "    <tr>\n",
       "      <th>0</th>\n",
       "      <td>0</td>\n",
       "      <td>0</td>\n",
       "      <td>12.924150</td>\n",
       "      <td>77.672290</td>\n",
       "      <td>12.927320</td>\n",
       "      <td>77.635750</td>\n",
       "      <td>0</td>\n",
       "      <td>High</td>\n",
       "      <td>Medium</td>\n",
       "      <td>High</td>\n",
       "      <td>Low</td>\n",
       "      <td>2013-01-01 02:00:00</td>\n",
       "      <td>1</td>\n",
       "      <td>N</td>\n",
       "      <td>2013-01-01 01:39:00</td>\n",
       "      <td>21.0</td>\n",
       "      <td>Low</td>\n",
       "      <td>N</td>\n",
       "    </tr>\n",
       "    <tr>\n",
       "      <th>1</th>\n",
       "      <td>0</td>\n",
       "      <td>0</td>\n",
       "      <td>12.966910</td>\n",
       "      <td>77.749350</td>\n",
       "      <td>12.927680</td>\n",
       "      <td>77.626640</td>\n",
       "      <td>0</td>\n",
       "      <td>High</td>\n",
       "      <td>Low</td>\n",
       "      <td>High</td>\n",
       "      <td>Low</td>\n",
       "      <td>2013-01-01 09:00:00</td>\n",
       "      <td>1</td>\n",
       "      <td>M</td>\n",
       "      <td>2013-01-01 02:25:00</td>\n",
       "      <td>395.0</td>\n",
       "      <td>Medium</td>\n",
       "      <td>N</td>\n",
       "    </tr>\n",
       "    <tr>\n",
       "      <th>2</th>\n",
       "      <td>0</td>\n",
       "      <td>0</td>\n",
       "      <td>12.937222</td>\n",
       "      <td>77.626915</td>\n",
       "      <td>13.047926</td>\n",
       "      <td>77.597766</td>\n",
       "      <td>0</td>\n",
       "      <td>Low</td>\n",
       "      <td>Low</td>\n",
       "      <td>Medium</td>\n",
       "      <td>Low</td>\n",
       "      <td>2013-01-01 03:30:00</td>\n",
       "      <td>1</td>\n",
       "      <td>N</td>\n",
       "      <td>2013-01-01 03:08:00</td>\n",
       "      <td>22.0</td>\n",
       "      <td>Low</td>\n",
       "      <td>N</td>\n",
       "    </tr>\n",
       "    <tr>\n",
       "      <th>3</th>\n",
       "      <td>0</td>\n",
       "      <td>0</td>\n",
       "      <td>12.989990</td>\n",
       "      <td>77.553320</td>\n",
       "      <td>12.971430</td>\n",
       "      <td>77.639140</td>\n",
       "      <td>0</td>\n",
       "      <td>Medium</td>\n",
       "      <td>Low</td>\n",
       "      <td>Low</td>\n",
       "      <td>Low</td>\n",
       "      <td>2013-01-01 05:45:00</td>\n",
       "      <td>1</td>\n",
       "      <td>N</td>\n",
       "      <td>2013-01-01 04:39:00</td>\n",
       "      <td>66.0</td>\n",
       "      <td>Low</td>\n",
       "      <td>N</td>\n",
       "    </tr>\n",
       "    <tr>\n",
       "      <th>4</th>\n",
       "      <td>0</td>\n",
       "      <td>0</td>\n",
       "      <td>12.845653</td>\n",
       "      <td>77.677925</td>\n",
       "      <td>12.954340</td>\n",
       "      <td>77.600720</td>\n",
       "      <td>0</td>\n",
       "      <td>Medium</td>\n",
       "      <td>Low</td>\n",
       "      <td>High</td>\n",
       "      <td>Medium</td>\n",
       "      <td>2013-01-01 09:00:00</td>\n",
       "      <td>1</td>\n",
       "      <td>M</td>\n",
       "      <td>2013-01-01 07:53:00</td>\n",
       "      <td>67.0</td>\n",
       "      <td>Low</td>\n",
       "      <td>M</td>\n",
       "    </tr>\n",
       "    <tr>\n",
       "      <th>...</th>\n",
       "      <td>...</td>\n",
       "      <td>...</td>\n",
       "      <td>...</td>\n",
       "      <td>...</td>\n",
       "      <td>...</td>\n",
       "      <td>...</td>\n",
       "      <td>...</td>\n",
       "      <td>...</td>\n",
       "      <td>...</td>\n",
       "      <td>...</td>\n",
       "      <td>...</td>\n",
       "      <td>...</td>\n",
       "      <td>...</td>\n",
       "      <td>...</td>\n",
       "      <td>...</td>\n",
       "      <td>...</td>\n",
       "      <td>...</td>\n",
       "      <td>...</td>\n",
       "    </tr>\n",
       "    <tr>\n",
       "      <th>43425</th>\n",
       "      <td>0</td>\n",
       "      <td>1</td>\n",
       "      <td>12.976770</td>\n",
       "      <td>77.572700</td>\n",
       "      <td>13.015080</td>\n",
       "      <td>77.677960</td>\n",
       "      <td>0</td>\n",
       "      <td>High</td>\n",
       "      <td>Low</td>\n",
       "      <td>Medium</td>\n",
       "      <td>Low</td>\n",
       "      <td>2013-11-25 00:00:00</td>\n",
       "      <td>1</td>\n",
       "      <td>N</td>\n",
       "      <td>2013-11-24 14:24:00</td>\n",
       "      <td>576.0</td>\n",
       "      <td>Medium</td>\n",
       "      <td>A</td>\n",
       "    </tr>\n",
       "    <tr>\n",
       "      <th>43426</th>\n",
       "      <td>1</td>\n",
       "      <td>0</td>\n",
       "      <td>13.030640</td>\n",
       "      <td>77.649100</td>\n",
       "      <td>12.952780</td>\n",
       "      <td>77.590880</td>\n",
       "      <td>0</td>\n",
       "      <td>Medium</td>\n",
       "      <td>Medium</td>\n",
       "      <td>Low</td>\n",
       "      <td>Medium</td>\n",
       "      <td>2013-11-24 18:00:00</td>\n",
       "      <td>0</td>\n",
       "      <td>A</td>\n",
       "      <td>2013-11-24 14:25:00</td>\n",
       "      <td>215.0</td>\n",
       "      <td>Low</td>\n",
       "      <td>A</td>\n",
       "    </tr>\n",
       "    <tr>\n",
       "      <th>43427</th>\n",
       "      <td>1</td>\n",
       "      <td>0</td>\n",
       "      <td>13.199560</td>\n",
       "      <td>77.706880</td>\n",
       "      <td>13.017436</td>\n",
       "      <td>77.644580</td>\n",
       "      <td>0</td>\n",
       "      <td>High</td>\n",
       "      <td>Low</td>\n",
       "      <td>High</td>\n",
       "      <td>Low</td>\n",
       "      <td>2013-11-26 01:00:00</td>\n",
       "      <td>1</td>\n",
       "      <td>N</td>\n",
       "      <td>2013-11-24 14:30:00</td>\n",
       "      <td>2070.0</td>\n",
       "      <td>High</td>\n",
       "      <td>A</td>\n",
       "    </tr>\n",
       "    <tr>\n",
       "      <th>43429</th>\n",
       "      <td>0</td>\n",
       "      <td>0</td>\n",
       "      <td>12.968970</td>\n",
       "      <td>77.594560</td>\n",
       "      <td>12.938230</td>\n",
       "      <td>77.622890</td>\n",
       "      <td>0</td>\n",
       "      <td>Low</td>\n",
       "      <td>Low</td>\n",
       "      <td>Low</td>\n",
       "      <td>Low</td>\n",
       "      <td>2013-11-24 16:00:00</td>\n",
       "      <td>0</td>\n",
       "      <td>A</td>\n",
       "      <td>2013-11-24 14:43:00</td>\n",
       "      <td>77.0</td>\n",
       "      <td>Low</td>\n",
       "      <td>A</td>\n",
       "    </tr>\n",
       "    <tr>\n",
       "      <th>43430</th>\n",
       "      <td>0</td>\n",
       "      <td>1</td>\n",
       "      <td>12.976720</td>\n",
       "      <td>77.649270</td>\n",
       "      <td>13.199560</td>\n",
       "      <td>77.706880</td>\n",
       "      <td>0</td>\n",
       "      <td>High</td>\n",
       "      <td>High</td>\n",
       "      <td>Medium</td>\n",
       "      <td>Medium</td>\n",
       "      <td>2013-11-25 05:00:00</td>\n",
       "      <td>1</td>\n",
       "      <td>N</td>\n",
       "      <td>2013-11-24 14:50:00</td>\n",
       "      <td>850.0</td>\n",
       "      <td>High</td>\n",
       "      <td>A</td>\n",
       "    </tr>\n",
       "  </tbody>\n",
       "</table>\n",
       "<p>34292 rows × 18 columns</p>\n",
       "</div>"
      ],
      "text/plain": [
       "       online_booking  mobile_site_booking   from_lat  from_long     to_lat  \\\n",
       "0                   0                    0  12.924150  77.672290  12.927320   \n",
       "1                   0                    0  12.966910  77.749350  12.927680   \n",
       "2                   0                    0  12.937222  77.626915  13.047926   \n",
       "3                   0                    0  12.989990  77.553320  12.971430   \n",
       "4                   0                    0  12.845653  77.677925  12.954340   \n",
       "...               ...                  ...        ...        ...        ...   \n",
       "43425               0                    1  12.976770  77.572700  13.015080   \n",
       "43426               1                    0  13.030640  77.649100  12.952780   \n",
       "43427               1                    0  13.199560  77.706880  13.017436   \n",
       "43429               0                    0  12.968970  77.594560  12.938230   \n",
       "43430               0                    1  12.976720  77.649270  13.199560   \n",
       "\n",
       "         to_long  Car_Cancellation    BLFA    BLTA    CLFA    CLTA  \\\n",
       "0      77.635750                 0    High  Medium    High     Low   \n",
       "1      77.626640                 0    High     Low    High     Low   \n",
       "2      77.597766                 0     Low     Low  Medium     Low   \n",
       "3      77.639140                 0  Medium     Low     Low     Low   \n",
       "4      77.600720                 0  Medium     Low    High  Medium   \n",
       "...          ...               ...     ...     ...     ...     ...   \n",
       "43425  77.677960                 0    High     Low  Medium     Low   \n",
       "43426  77.590880                 0  Medium  Medium     Low  Medium   \n",
       "43427  77.644580                 0    High     Low    High     Low   \n",
       "43429  77.622890                 0     Low     Low     Low     Low   \n",
       "43430  77.706880                 0    High    High  Medium  Medium   \n",
       "\n",
       "            from_datetime  weekday trip_start_timeperiod  booking_created_dt  \\\n",
       "0     2013-01-01 02:00:00        1                     N 2013-01-01 01:39:00   \n",
       "1     2013-01-01 09:00:00        1                     M 2013-01-01 02:25:00   \n",
       "2     2013-01-01 03:30:00        1                     N 2013-01-01 03:08:00   \n",
       "3     2013-01-01 05:45:00        1                     N 2013-01-01 04:39:00   \n",
       "4     2013-01-01 09:00:00        1                     M 2013-01-01 07:53:00   \n",
       "...                   ...      ...                   ...                 ...   \n",
       "43425 2013-11-25 00:00:00        1                     N 2013-11-24 14:24:00   \n",
       "43426 2013-11-24 18:00:00        0                     A 2013-11-24 14:25:00   \n",
       "43427 2013-11-26 01:00:00        1                     N 2013-11-24 14:30:00   \n",
       "43429 2013-11-24 16:00:00        0                     A 2013-11-24 14:43:00   \n",
       "43430 2013-11-25 05:00:00        1                     N 2013-11-24 14:50:00   \n",
       "\n",
       "       Difference_BC_TS Advance_booking_time bc_timeperiod  \n",
       "0                  21.0                  Low             N  \n",
       "1                 395.0               Medium             N  \n",
       "2                  22.0                  Low             N  \n",
       "3                  66.0                  Low             N  \n",
       "4                  67.0                  Low             M  \n",
       "...                 ...                  ...           ...  \n",
       "43425             576.0               Medium             A  \n",
       "43426             215.0                  Low             A  \n",
       "43427            2070.0                 High             A  \n",
       "43429              77.0                  Low             A  \n",
       "43430             850.0                 High             A  \n",
       "\n",
       "[34292 rows x 18 columns]"
      ]
     },
     "execution_count": 135,
     "metadata": {},
     "output_type": "execute_result"
    }
   ],
   "source": [
    "df"
   ]
  },
  {
   "cell_type": "code",
   "execution_count": null,
   "id": "602b6832",
   "metadata": {
    "hidden": true
   },
   "outputs": [],
   "source": []
  },
  {
   "cell_type": "code",
   "execution_count": null,
   "id": "d701b709",
   "metadata": {
    "hidden": true
   },
   "outputs": [],
   "source": []
  },
  {
   "cell_type": "code",
   "execution_count": 136,
   "id": "a8a26ad5",
   "metadata": {
    "hidden": true
   },
   "outputs": [],
   "source": [
    "df.drop(columns=['from_datetime','booking_created_dt','Difference_BC_TS'],inplace=True)"
   ]
  },
  {
   "cell_type": "code",
   "execution_count": 137,
   "id": "5d5c9c25",
   "metadata": {
    "hidden": true
   },
   "outputs": [
    {
     "data": {
      "text/html": [
       "<div>\n",
       "<style scoped>\n",
       "    .dataframe tbody tr th:only-of-type {\n",
       "        vertical-align: middle;\n",
       "    }\n",
       "\n",
       "    .dataframe tbody tr th {\n",
       "        vertical-align: top;\n",
       "    }\n",
       "\n",
       "    .dataframe thead th {\n",
       "        text-align: right;\n",
       "    }\n",
       "</style>\n",
       "<table border=\"1\" class=\"dataframe\">\n",
       "  <thead>\n",
       "    <tr style=\"text-align: right;\">\n",
       "      <th></th>\n",
       "      <th>online_booking</th>\n",
       "      <th>mobile_site_booking</th>\n",
       "      <th>from_lat</th>\n",
       "      <th>from_long</th>\n",
       "      <th>to_lat</th>\n",
       "      <th>to_long</th>\n",
       "      <th>Car_Cancellation</th>\n",
       "      <th>BLFA</th>\n",
       "      <th>BLTA</th>\n",
       "      <th>CLFA</th>\n",
       "      <th>CLTA</th>\n",
       "      <th>weekday</th>\n",
       "      <th>trip_start_timeperiod</th>\n",
       "      <th>Advance_booking_time</th>\n",
       "      <th>bc_timeperiod</th>\n",
       "    </tr>\n",
       "  </thead>\n",
       "  <tbody>\n",
       "    <tr>\n",
       "      <th>0</th>\n",
       "      <td>0</td>\n",
       "      <td>0</td>\n",
       "      <td>12.924150</td>\n",
       "      <td>77.672290</td>\n",
       "      <td>12.927320</td>\n",
       "      <td>77.635750</td>\n",
       "      <td>0</td>\n",
       "      <td>High</td>\n",
       "      <td>Medium</td>\n",
       "      <td>High</td>\n",
       "      <td>Low</td>\n",
       "      <td>1</td>\n",
       "      <td>N</td>\n",
       "      <td>Low</td>\n",
       "      <td>N</td>\n",
       "    </tr>\n",
       "    <tr>\n",
       "      <th>1</th>\n",
       "      <td>0</td>\n",
       "      <td>0</td>\n",
       "      <td>12.966910</td>\n",
       "      <td>77.749350</td>\n",
       "      <td>12.927680</td>\n",
       "      <td>77.626640</td>\n",
       "      <td>0</td>\n",
       "      <td>High</td>\n",
       "      <td>Low</td>\n",
       "      <td>High</td>\n",
       "      <td>Low</td>\n",
       "      <td>1</td>\n",
       "      <td>M</td>\n",
       "      <td>Medium</td>\n",
       "      <td>N</td>\n",
       "    </tr>\n",
       "    <tr>\n",
       "      <th>2</th>\n",
       "      <td>0</td>\n",
       "      <td>0</td>\n",
       "      <td>12.937222</td>\n",
       "      <td>77.626915</td>\n",
       "      <td>13.047926</td>\n",
       "      <td>77.597766</td>\n",
       "      <td>0</td>\n",
       "      <td>Low</td>\n",
       "      <td>Low</td>\n",
       "      <td>Medium</td>\n",
       "      <td>Low</td>\n",
       "      <td>1</td>\n",
       "      <td>N</td>\n",
       "      <td>Low</td>\n",
       "      <td>N</td>\n",
       "    </tr>\n",
       "    <tr>\n",
       "      <th>3</th>\n",
       "      <td>0</td>\n",
       "      <td>0</td>\n",
       "      <td>12.989990</td>\n",
       "      <td>77.553320</td>\n",
       "      <td>12.971430</td>\n",
       "      <td>77.639140</td>\n",
       "      <td>0</td>\n",
       "      <td>Medium</td>\n",
       "      <td>Low</td>\n",
       "      <td>Low</td>\n",
       "      <td>Low</td>\n",
       "      <td>1</td>\n",
       "      <td>N</td>\n",
       "      <td>Low</td>\n",
       "      <td>N</td>\n",
       "    </tr>\n",
       "    <tr>\n",
       "      <th>4</th>\n",
       "      <td>0</td>\n",
       "      <td>0</td>\n",
       "      <td>12.845653</td>\n",
       "      <td>77.677925</td>\n",
       "      <td>12.954340</td>\n",
       "      <td>77.600720</td>\n",
       "      <td>0</td>\n",
       "      <td>Medium</td>\n",
       "      <td>Low</td>\n",
       "      <td>High</td>\n",
       "      <td>Medium</td>\n",
       "      <td>1</td>\n",
       "      <td>M</td>\n",
       "      <td>Low</td>\n",
       "      <td>M</td>\n",
       "    </tr>\n",
       "    <tr>\n",
       "      <th>...</th>\n",
       "      <td>...</td>\n",
       "      <td>...</td>\n",
       "      <td>...</td>\n",
       "      <td>...</td>\n",
       "      <td>...</td>\n",
       "      <td>...</td>\n",
       "      <td>...</td>\n",
       "      <td>...</td>\n",
       "      <td>...</td>\n",
       "      <td>...</td>\n",
       "      <td>...</td>\n",
       "      <td>...</td>\n",
       "      <td>...</td>\n",
       "      <td>...</td>\n",
       "      <td>...</td>\n",
       "    </tr>\n",
       "    <tr>\n",
       "      <th>43425</th>\n",
       "      <td>0</td>\n",
       "      <td>1</td>\n",
       "      <td>12.976770</td>\n",
       "      <td>77.572700</td>\n",
       "      <td>13.015080</td>\n",
       "      <td>77.677960</td>\n",
       "      <td>0</td>\n",
       "      <td>High</td>\n",
       "      <td>Low</td>\n",
       "      <td>Medium</td>\n",
       "      <td>Low</td>\n",
       "      <td>1</td>\n",
       "      <td>N</td>\n",
       "      <td>Medium</td>\n",
       "      <td>A</td>\n",
       "    </tr>\n",
       "    <tr>\n",
       "      <th>43426</th>\n",
       "      <td>1</td>\n",
       "      <td>0</td>\n",
       "      <td>13.030640</td>\n",
       "      <td>77.649100</td>\n",
       "      <td>12.952780</td>\n",
       "      <td>77.590880</td>\n",
       "      <td>0</td>\n",
       "      <td>Medium</td>\n",
       "      <td>Medium</td>\n",
       "      <td>Low</td>\n",
       "      <td>Medium</td>\n",
       "      <td>0</td>\n",
       "      <td>A</td>\n",
       "      <td>Low</td>\n",
       "      <td>A</td>\n",
       "    </tr>\n",
       "    <tr>\n",
       "      <th>43427</th>\n",
       "      <td>1</td>\n",
       "      <td>0</td>\n",
       "      <td>13.199560</td>\n",
       "      <td>77.706880</td>\n",
       "      <td>13.017436</td>\n",
       "      <td>77.644580</td>\n",
       "      <td>0</td>\n",
       "      <td>High</td>\n",
       "      <td>Low</td>\n",
       "      <td>High</td>\n",
       "      <td>Low</td>\n",
       "      <td>1</td>\n",
       "      <td>N</td>\n",
       "      <td>High</td>\n",
       "      <td>A</td>\n",
       "    </tr>\n",
       "    <tr>\n",
       "      <th>43429</th>\n",
       "      <td>0</td>\n",
       "      <td>0</td>\n",
       "      <td>12.968970</td>\n",
       "      <td>77.594560</td>\n",
       "      <td>12.938230</td>\n",
       "      <td>77.622890</td>\n",
       "      <td>0</td>\n",
       "      <td>Low</td>\n",
       "      <td>Low</td>\n",
       "      <td>Low</td>\n",
       "      <td>Low</td>\n",
       "      <td>0</td>\n",
       "      <td>A</td>\n",
       "      <td>Low</td>\n",
       "      <td>A</td>\n",
       "    </tr>\n",
       "    <tr>\n",
       "      <th>43430</th>\n",
       "      <td>0</td>\n",
       "      <td>1</td>\n",
       "      <td>12.976720</td>\n",
       "      <td>77.649270</td>\n",
       "      <td>13.199560</td>\n",
       "      <td>77.706880</td>\n",
       "      <td>0</td>\n",
       "      <td>High</td>\n",
       "      <td>High</td>\n",
       "      <td>Medium</td>\n",
       "      <td>Medium</td>\n",
       "      <td>1</td>\n",
       "      <td>N</td>\n",
       "      <td>High</td>\n",
       "      <td>A</td>\n",
       "    </tr>\n",
       "  </tbody>\n",
       "</table>\n",
       "<p>34292 rows × 15 columns</p>\n",
       "</div>"
      ],
      "text/plain": [
       "       online_booking  mobile_site_booking   from_lat  from_long     to_lat  \\\n",
       "0                   0                    0  12.924150  77.672290  12.927320   \n",
       "1                   0                    0  12.966910  77.749350  12.927680   \n",
       "2                   0                    0  12.937222  77.626915  13.047926   \n",
       "3                   0                    0  12.989990  77.553320  12.971430   \n",
       "4                   0                    0  12.845653  77.677925  12.954340   \n",
       "...               ...                  ...        ...        ...        ...   \n",
       "43425               0                    1  12.976770  77.572700  13.015080   \n",
       "43426               1                    0  13.030640  77.649100  12.952780   \n",
       "43427               1                    0  13.199560  77.706880  13.017436   \n",
       "43429               0                    0  12.968970  77.594560  12.938230   \n",
       "43430               0                    1  12.976720  77.649270  13.199560   \n",
       "\n",
       "         to_long  Car_Cancellation    BLFA    BLTA    CLFA    CLTA  weekday  \\\n",
       "0      77.635750                 0    High  Medium    High     Low        1   \n",
       "1      77.626640                 0    High     Low    High     Low        1   \n",
       "2      77.597766                 0     Low     Low  Medium     Low        1   \n",
       "3      77.639140                 0  Medium     Low     Low     Low        1   \n",
       "4      77.600720                 0  Medium     Low    High  Medium        1   \n",
       "...          ...               ...     ...     ...     ...     ...      ...   \n",
       "43425  77.677960                 0    High     Low  Medium     Low        1   \n",
       "43426  77.590880                 0  Medium  Medium     Low  Medium        0   \n",
       "43427  77.644580                 0    High     Low    High     Low        1   \n",
       "43429  77.622890                 0     Low     Low     Low     Low        0   \n",
       "43430  77.706880                 0    High    High  Medium  Medium        1   \n",
       "\n",
       "      trip_start_timeperiod Advance_booking_time bc_timeperiod  \n",
       "0                         N                  Low             N  \n",
       "1                         M               Medium             N  \n",
       "2                         N                  Low             N  \n",
       "3                         N                  Low             N  \n",
       "4                         M                  Low             M  \n",
       "...                     ...                  ...           ...  \n",
       "43425                     N               Medium             A  \n",
       "43426                     A                  Low             A  \n",
       "43427                     N                 High             A  \n",
       "43429                     A                  Low             A  \n",
       "43430                     N                 High             A  \n",
       "\n",
       "[34292 rows x 15 columns]"
      ]
     },
     "execution_count": 137,
     "metadata": {},
     "output_type": "execute_result"
    }
   ],
   "source": [
    "df"
   ]
  },
  {
   "cell_type": "code",
   "execution_count": null,
   "id": "3c8af193",
   "metadata": {
    "hidden": true
   },
   "outputs": [],
   "source": []
  },
  {
   "cell_type": "code",
   "execution_count": null,
   "id": "7cbbd29d",
   "metadata": {
    "hidden": true
   },
   "outputs": [],
   "source": []
  },
  {
   "cell_type": "markdown",
   "id": "4a91e22f",
   "metadata": {
    "heading_collapsed": true,
    "hidden": true
   },
   "source": [
    "#### from_lat, from_long, to_lat, to_long"
   ]
  },
  {
   "cell_type": "code",
   "execution_count": null,
   "id": "1860918d",
   "metadata": {
    "hidden": true
   },
   "outputs": [],
   "source": []
  },
  {
   "cell_type": "code",
   "execution_count": 138,
   "id": "5f912efc",
   "metadata": {
    "hidden": true
   },
   "outputs": [],
   "source": [
    "df['distance'] = df.apply(lambda row: distance.distance((row['from_lat'],row['from_long']),(row['to_lat'],row['to_long'])).km ,axis=1)"
   ]
  },
  {
   "cell_type": "code",
   "execution_count": 139,
   "id": "c88a99d6",
   "metadata": {
    "hidden": true
   },
   "outputs": [],
   "source": [
    "df.drop(columns=['from_lat','from_long','to_lat','to_long'],inplace=True)"
   ]
  },
  {
   "cell_type": "code",
   "execution_count": 140,
   "id": "9c505e41",
   "metadata": {
    "hidden": true
   },
   "outputs": [
    {
     "data": {
      "text/html": [
       "<div>\n",
       "<style scoped>\n",
       "    .dataframe tbody tr th:only-of-type {\n",
       "        vertical-align: middle;\n",
       "    }\n",
       "\n",
       "    .dataframe tbody tr th {\n",
       "        vertical-align: top;\n",
       "    }\n",
       "\n",
       "    .dataframe thead th {\n",
       "        text-align: right;\n",
       "    }\n",
       "</style>\n",
       "<table border=\"1\" class=\"dataframe\">\n",
       "  <thead>\n",
       "    <tr style=\"text-align: right;\">\n",
       "      <th></th>\n",
       "      <th>online_booking</th>\n",
       "      <th>mobile_site_booking</th>\n",
       "      <th>Car_Cancellation</th>\n",
       "      <th>BLFA</th>\n",
       "      <th>BLTA</th>\n",
       "      <th>CLFA</th>\n",
       "      <th>CLTA</th>\n",
       "      <th>weekday</th>\n",
       "      <th>trip_start_timeperiod</th>\n",
       "      <th>Advance_booking_time</th>\n",
       "      <th>bc_timeperiod</th>\n",
       "      <th>distance</th>\n",
       "    </tr>\n",
       "  </thead>\n",
       "  <tbody>\n",
       "    <tr>\n",
       "      <th>0</th>\n",
       "      <td>0</td>\n",
       "      <td>0</td>\n",
       "      <td>0</td>\n",
       "      <td>High</td>\n",
       "      <td>Medium</td>\n",
       "      <td>High</td>\n",
       "      <td>Low</td>\n",
       "      <td>1</td>\n",
       "      <td>N</td>\n",
       "      <td>Low</td>\n",
       "      <td>N</td>\n",
       "      <td>3.980687</td>\n",
       "    </tr>\n",
       "    <tr>\n",
       "      <th>1</th>\n",
       "      <td>0</td>\n",
       "      <td>0</td>\n",
       "      <td>0</td>\n",
       "      <td>High</td>\n",
       "      <td>Low</td>\n",
       "      <td>High</td>\n",
       "      <td>Low</td>\n",
       "      <td>1</td>\n",
       "      <td>M</td>\n",
       "      <td>Medium</td>\n",
       "      <td>N</td>\n",
       "      <td>14.004432</td>\n",
       "    </tr>\n",
       "    <tr>\n",
       "      <th>2</th>\n",
       "      <td>0</td>\n",
       "      <td>0</td>\n",
       "      <td>0</td>\n",
       "      <td>Low</td>\n",
       "      <td>Low</td>\n",
       "      <td>Medium</td>\n",
       "      <td>Low</td>\n",
       "      <td>1</td>\n",
       "      <td>N</td>\n",
       "      <td>Low</td>\n",
       "      <td>N</td>\n",
       "      <td>12.648909</td>\n",
       "    </tr>\n",
       "    <tr>\n",
       "      <th>3</th>\n",
       "      <td>0</td>\n",
       "      <td>0</td>\n",
       "      <td>0</td>\n",
       "      <td>Medium</td>\n",
       "      <td>Low</td>\n",
       "      <td>Low</td>\n",
       "      <td>Low</td>\n",
       "      <td>1</td>\n",
       "      <td>N</td>\n",
       "      <td>Low</td>\n",
       "      <td>N</td>\n",
       "      <td>9.534596</td>\n",
       "    </tr>\n",
       "    <tr>\n",
       "      <th>4</th>\n",
       "      <td>0</td>\n",
       "      <td>0</td>\n",
       "      <td>0</td>\n",
       "      <td>Medium</td>\n",
       "      <td>Low</td>\n",
       "      <td>High</td>\n",
       "      <td>Medium</td>\n",
       "      <td>1</td>\n",
       "      <td>M</td>\n",
       "      <td>Low</td>\n",
       "      <td>M</td>\n",
       "      <td>14.655467</td>\n",
       "    </tr>\n",
       "    <tr>\n",
       "      <th>...</th>\n",
       "      <td>...</td>\n",
       "      <td>...</td>\n",
       "      <td>...</td>\n",
       "      <td>...</td>\n",
       "      <td>...</td>\n",
       "      <td>...</td>\n",
       "      <td>...</td>\n",
       "      <td>...</td>\n",
       "      <td>...</td>\n",
       "      <td>...</td>\n",
       "      <td>...</td>\n",
       "      <td>...</td>\n",
       "    </tr>\n",
       "    <tr>\n",
       "      <th>43425</th>\n",
       "      <td>0</td>\n",
       "      <td>1</td>\n",
       "      <td>0</td>\n",
       "      <td>High</td>\n",
       "      <td>Low</td>\n",
       "      <td>Medium</td>\n",
       "      <td>Low</td>\n",
       "      <td>1</td>\n",
       "      <td>N</td>\n",
       "      <td>Medium</td>\n",
       "      <td>A</td>\n",
       "      <td>12.180435</td>\n",
       "    </tr>\n",
       "    <tr>\n",
       "      <th>43426</th>\n",
       "      <td>1</td>\n",
       "      <td>0</td>\n",
       "      <td>0</td>\n",
       "      <td>Medium</td>\n",
       "      <td>Medium</td>\n",
       "      <td>Low</td>\n",
       "      <td>Medium</td>\n",
       "      <td>0</td>\n",
       "      <td>A</td>\n",
       "      <td>Low</td>\n",
       "      <td>A</td>\n",
       "      <td>10.681284</td>\n",
       "    </tr>\n",
       "    <tr>\n",
       "      <th>43427</th>\n",
       "      <td>1</td>\n",
       "      <td>0</td>\n",
       "      <td>0</td>\n",
       "      <td>High</td>\n",
       "      <td>Low</td>\n",
       "      <td>High</td>\n",
       "      <td>Low</td>\n",
       "      <td>1</td>\n",
       "      <td>N</td>\n",
       "      <td>High</td>\n",
       "      <td>A</td>\n",
       "      <td>21.251031</td>\n",
       "    </tr>\n",
       "    <tr>\n",
       "      <th>43429</th>\n",
       "      <td>0</td>\n",
       "      <td>0</td>\n",
       "      <td>0</td>\n",
       "      <td>Low</td>\n",
       "      <td>Low</td>\n",
       "      <td>Low</td>\n",
       "      <td>Low</td>\n",
       "      <td>0</td>\n",
       "      <td>A</td>\n",
       "      <td>Low</td>\n",
       "      <td>A</td>\n",
       "      <td>4.584142</td>\n",
       "    </tr>\n",
       "    <tr>\n",
       "      <th>43430</th>\n",
       "      <td>0</td>\n",
       "      <td>1</td>\n",
       "      <td>0</td>\n",
       "      <td>High</td>\n",
       "      <td>High</td>\n",
       "      <td>Medium</td>\n",
       "      <td>Medium</td>\n",
       "      <td>1</td>\n",
       "      <td>N</td>\n",
       "      <td>High</td>\n",
       "      <td>A</td>\n",
       "      <td>25.432381</td>\n",
       "    </tr>\n",
       "  </tbody>\n",
       "</table>\n",
       "<p>34292 rows × 12 columns</p>\n",
       "</div>"
      ],
      "text/plain": [
       "       online_booking  mobile_site_booking  Car_Cancellation    BLFA    BLTA  \\\n",
       "0                   0                    0                 0    High  Medium   \n",
       "1                   0                    0                 0    High     Low   \n",
       "2                   0                    0                 0     Low     Low   \n",
       "3                   0                    0                 0  Medium     Low   \n",
       "4                   0                    0                 0  Medium     Low   \n",
       "...               ...                  ...               ...     ...     ...   \n",
       "43425               0                    1                 0    High     Low   \n",
       "43426               1                    0                 0  Medium  Medium   \n",
       "43427               1                    0                 0    High     Low   \n",
       "43429               0                    0                 0     Low     Low   \n",
       "43430               0                    1                 0    High    High   \n",
       "\n",
       "         CLFA    CLTA  weekday trip_start_timeperiod Advance_booking_time  \\\n",
       "0        High     Low        1                     N                  Low   \n",
       "1        High     Low        1                     M               Medium   \n",
       "2      Medium     Low        1                     N                  Low   \n",
       "3         Low     Low        1                     N                  Low   \n",
       "4        High  Medium        1                     M                  Low   \n",
       "...       ...     ...      ...                   ...                  ...   \n",
       "43425  Medium     Low        1                     N               Medium   \n",
       "43426     Low  Medium        0                     A                  Low   \n",
       "43427    High     Low        1                     N                 High   \n",
       "43429     Low     Low        0                     A                  Low   \n",
       "43430  Medium  Medium        1                     N                 High   \n",
       "\n",
       "      bc_timeperiod   distance  \n",
       "0                 N   3.980687  \n",
       "1                 N  14.004432  \n",
       "2                 N  12.648909  \n",
       "3                 N   9.534596  \n",
       "4                 M  14.655467  \n",
       "...             ...        ...  \n",
       "43425             A  12.180435  \n",
       "43426             A  10.681284  \n",
       "43427             A  21.251031  \n",
       "43429             A   4.584142  \n",
       "43430             A  25.432381  \n",
       "\n",
       "[34292 rows x 12 columns]"
      ]
     },
     "execution_count": 140,
     "metadata": {},
     "output_type": "execute_result"
    }
   ],
   "source": [
    "df"
   ]
  },
  {
   "cell_type": "code",
   "execution_count": 141,
   "id": "adedaed1",
   "metadata": {
    "hidden": true
   },
   "outputs": [
    {
     "data": {
      "text/plain": [
       "count    34292.000000\n",
       "mean        17.322045\n",
       "std         10.412214\n",
       "min          0.000000\n",
       "25%          8.549388\n",
       "50%         14.653807\n",
       "75%         26.179700\n",
       "max         59.538541\n",
       "Name: distance, dtype: float64"
      ]
     },
     "execution_count": 141,
     "metadata": {},
     "output_type": "execute_result"
    }
   ],
   "source": [
    "df['distance'].describe()"
   ]
  },
  {
   "cell_type": "code",
   "execution_count": 142,
   "id": "89f4d272",
   "metadata": {
    "hidden": true
   },
   "outputs": [
    {
     "name": "stderr",
     "output_type": "stream",
     "text": [
      "C:\\Users\\prate\\AppData\\Local\\Programs\\Python\\Python310\\lib\\site-packages\\seaborn\\_decorators.py:36: FutureWarning: Pass the following variable as a keyword arg: x. From version 0.12, the only valid positional argument will be `data`, and passing other arguments without an explicit keyword will result in an error or misinterpretation.\n",
      "  warnings.warn(\n"
     ]
    },
    {
     "data": {
      "text/plain": [
       "<AxesSubplot:xlabel='distance'>"
      ]
     },
     "execution_count": 142,
     "metadata": {},
     "output_type": "execute_result"
    },
    {
     "data": {
      "image/png": "[encoded data removed]",
      "text/plain": [
       "<Figure size 432x288 with 1 Axes>"
      ]
     },
     "metadata": {
      "needs_background": "light"
     },
     "output_type": "display_data"
    }
   ],
   "source": [
    "sns.boxplot(df['distance'])"
   ]
  },
  {
   "cell_type": "code",
   "execution_count": 143,
   "id": "1dac9ec4",
   "metadata": {
    "hidden": true
   },
   "outputs": [
    {
     "data": {
      "text/plain": [
       "0        (-0.001, 10.201]\n",
       "1        (10.201, 23.056]\n",
       "2        (10.201, 23.056]\n",
       "3        (-0.001, 10.201]\n",
       "4        (10.201, 23.056]\n",
       "               ...       \n",
       "43425    (10.201, 23.056]\n",
       "43426    (10.201, 23.056]\n",
       "43427    (10.201, 23.056]\n",
       "43429    (-0.001, 10.201]\n",
       "43430    (23.056, 59.539]\n",
       "Name: distance, Length: 34292, dtype: category\n",
       "Categories (3, interval[float64, right]): [(-0.001, 10.201] < (10.201, 23.056] < (23.056, 59.539]]"
      ]
     },
     "execution_count": 143,
     "metadata": {},
     "output_type": "execute_result"
    }
   ],
   "source": [
    "pd.qcut(df['distance'],3)"
   ]
  },
  {
   "cell_type": "code",
   "execution_count": 144,
   "id": "f0485515",
   "metadata": {
    "hidden": true
   },
   "outputs": [],
   "source": [
    "df['Trip_distance']=pd.qcut(df['distance'],3,labels = ['Low','Medium','High'])"
   ]
  },
  {
   "cell_type": "code",
   "execution_count": null,
   "id": "6d189184",
   "metadata": {
    "hidden": true
   },
   "outputs": [],
   "source": []
  },
  {
   "cell_type": "code",
   "execution_count": 145,
   "id": "a000602c",
   "metadata": {
    "hidden": true
   },
   "outputs": [],
   "source": [
    "df.drop(columns='distance',inplace=True)"
   ]
  },
  {
   "cell_type": "code",
   "execution_count": 146,
   "id": "23d872cd",
   "metadata": {
    "hidden": true
   },
   "outputs": [
    {
     "data": {
      "text/html": [
       "<div>\n",
       "<style scoped>\n",
       "    .dataframe tbody tr th:only-of-type {\n",
       "        vertical-align: middle;\n",
       "    }\n",
       "\n",
       "    .dataframe tbody tr th {\n",
       "        vertical-align: top;\n",
       "    }\n",
       "\n",
       "    .dataframe thead th {\n",
       "        text-align: right;\n",
       "    }\n",
       "</style>\n",
       "<table border=\"1\" class=\"dataframe\">\n",
       "  <thead>\n",
       "    <tr style=\"text-align: right;\">\n",
       "      <th></th>\n",
       "      <th>online_booking</th>\n",
       "      <th>mobile_site_booking</th>\n",
       "      <th>Car_Cancellation</th>\n",
       "      <th>BLFA</th>\n",
       "      <th>BLTA</th>\n",
       "      <th>CLFA</th>\n",
       "      <th>CLTA</th>\n",
       "      <th>weekday</th>\n",
       "      <th>trip_start_timeperiod</th>\n",
       "      <th>Advance_booking_time</th>\n",
       "      <th>bc_timeperiod</th>\n",
       "      <th>Trip_distance</th>\n",
       "    </tr>\n",
       "  </thead>\n",
       "  <tbody>\n",
       "    <tr>\n",
       "      <th>0</th>\n",
       "      <td>0</td>\n",
       "      <td>0</td>\n",
       "      <td>0</td>\n",
       "      <td>High</td>\n",
       "      <td>Medium</td>\n",
       "      <td>High</td>\n",
       "      <td>Low</td>\n",
       "      <td>1</td>\n",
       "      <td>N</td>\n",
       "      <td>Low</td>\n",
       "      <td>N</td>\n",
       "      <td>Low</td>\n",
       "    </tr>\n",
       "    <tr>\n",
       "      <th>1</th>\n",
       "      <td>0</td>\n",
       "      <td>0</td>\n",
       "      <td>0</td>\n",
       "      <td>High</td>\n",
       "      <td>Low</td>\n",
       "      <td>High</td>\n",
       "      <td>Low</td>\n",
       "      <td>1</td>\n",
       "      <td>M</td>\n",
       "      <td>Medium</td>\n",
       "      <td>N</td>\n",
       "      <td>Medium</td>\n",
       "    </tr>\n",
       "    <tr>\n",
       "      <th>2</th>\n",
       "      <td>0</td>\n",
       "      <td>0</td>\n",
       "      <td>0</td>\n",
       "      <td>Low</td>\n",
       "      <td>Low</td>\n",
       "      <td>Medium</td>\n",
       "      <td>Low</td>\n",
       "      <td>1</td>\n",
       "      <td>N</td>\n",
       "      <td>Low</td>\n",
       "      <td>N</td>\n",
       "      <td>Medium</td>\n",
       "    </tr>\n",
       "    <tr>\n",
       "      <th>3</th>\n",
       "      <td>0</td>\n",
       "      <td>0</td>\n",
       "      <td>0</td>\n",
       "      <td>Medium</td>\n",
       "      <td>Low</td>\n",
       "      <td>Low</td>\n",
       "      <td>Low</td>\n",
       "      <td>1</td>\n",
       "      <td>N</td>\n",
       "      <td>Low</td>\n",
       "      <td>N</td>\n",
       "      <td>Low</td>\n",
       "    </tr>\n",
       "    <tr>\n",
       "      <th>4</th>\n",
       "      <td>0</td>\n",
       "      <td>0</td>\n",
       "      <td>0</td>\n",
       "      <td>Medium</td>\n",
       "      <td>Low</td>\n",
       "      <td>High</td>\n",
       "      <td>Medium</td>\n",
       "      <td>1</td>\n",
       "      <td>M</td>\n",
       "      <td>Low</td>\n",
       "      <td>M</td>\n",
       "      <td>Medium</td>\n",
       "    </tr>\n",
       "    <tr>\n",
       "      <th>...</th>\n",
       "      <td>...</td>\n",
       "      <td>...</td>\n",
       "      <td>...</td>\n",
       "      <td>...</td>\n",
       "      <td>...</td>\n",
       "      <td>...</td>\n",
       "      <td>...</td>\n",
       "      <td>...</td>\n",
       "      <td>...</td>\n",
       "      <td>...</td>\n",
       "      <td>...</td>\n",
       "      <td>...</td>\n",
       "    </tr>\n",
       "    <tr>\n",
       "      <th>43425</th>\n",
       "      <td>0</td>\n",
       "      <td>1</td>\n",
       "      <td>0</td>\n",
       "      <td>High</td>\n",
       "      <td>Low</td>\n",
       "      <td>Medium</td>\n",
       "      <td>Low</td>\n",
       "      <td>1</td>\n",
       "      <td>N</td>\n",
       "      <td>Medium</td>\n",
       "      <td>A</td>\n",
       "      <td>Medium</td>\n",
       "    </tr>\n",
       "    <tr>\n",
       "      <th>43426</th>\n",
       "      <td>1</td>\n",
       "      <td>0</td>\n",
       "      <td>0</td>\n",
       "      <td>Medium</td>\n",
       "      <td>Medium</td>\n",
       "      <td>Low</td>\n",
       "      <td>Medium</td>\n",
       "      <td>0</td>\n",
       "      <td>A</td>\n",
       "      <td>Low</td>\n",
       "      <td>A</td>\n",
       "      <td>Medium</td>\n",
       "    </tr>\n",
       "    <tr>\n",
       "      <th>43427</th>\n",
       "      <td>1</td>\n",
       "      <td>0</td>\n",
       "      <td>0</td>\n",
       "      <td>High</td>\n",
       "      <td>Low</td>\n",
       "      <td>High</td>\n",
       "      <td>Low</td>\n",
       "      <td>1</td>\n",
       "      <td>N</td>\n",
       "      <td>High</td>\n",
       "      <td>A</td>\n",
       "      <td>Medium</td>\n",
       "    </tr>\n",
       "    <tr>\n",
       "      <th>43429</th>\n",
       "      <td>0</td>\n",
       "      <td>0</td>\n",
       "      <td>0</td>\n",
       "      <td>Low</td>\n",
       "      <td>Low</td>\n",
       "      <td>Low</td>\n",
       "      <td>Low</td>\n",
       "      <td>0</td>\n",
       "      <td>A</td>\n",
       "      <td>Low</td>\n",
       "      <td>A</td>\n",
       "      <td>Low</td>\n",
       "    </tr>\n",
       "    <tr>\n",
       "      <th>43430</th>\n",
       "      <td>0</td>\n",
       "      <td>1</td>\n",
       "      <td>0</td>\n",
       "      <td>High</td>\n",
       "      <td>High</td>\n",
       "      <td>Medium</td>\n",
       "      <td>Medium</td>\n",
       "      <td>1</td>\n",
       "      <td>N</td>\n",
       "      <td>High</td>\n",
       "      <td>A</td>\n",
       "      <td>High</td>\n",
       "    </tr>\n",
       "  </tbody>\n",
       "</table>\n",
       "<p>34292 rows × 12 columns</p>\n",
       "</div>"
      ],
      "text/plain": [
       "       online_booking  mobile_site_booking  Car_Cancellation    BLFA    BLTA  \\\n",
       "0                   0                    0                 0    High  Medium   \n",
       "1                   0                    0                 0    High     Low   \n",
       "2                   0                    0                 0     Low     Low   \n",
       "3                   0                    0                 0  Medium     Low   \n",
       "4                   0                    0                 0  Medium     Low   \n",
       "...               ...                  ...               ...     ...     ...   \n",
       "43425               0                    1                 0    High     Low   \n",
       "43426               1                    0                 0  Medium  Medium   \n",
       "43427               1                    0                 0    High     Low   \n",
       "43429               0                    0                 0     Low     Low   \n",
       "43430               0                    1                 0    High    High   \n",
       "\n",
       "         CLFA    CLTA  weekday trip_start_timeperiod Advance_booking_time  \\\n",
       "0        High     Low        1                     N                  Low   \n",
       "1        High     Low        1                     M               Medium   \n",
       "2      Medium     Low        1                     N                  Low   \n",
       "3         Low     Low        1                     N                  Low   \n",
       "4        High  Medium        1                     M                  Low   \n",
       "...       ...     ...      ...                   ...                  ...   \n",
       "43425  Medium     Low        1                     N               Medium   \n",
       "43426     Low  Medium        0                     A                  Low   \n",
       "43427    High     Low        1                     N                 High   \n",
       "43429     Low     Low        0                     A                  Low   \n",
       "43430  Medium  Medium        1                     N                 High   \n",
       "\n",
       "      bc_timeperiod Trip_distance  \n",
       "0                 N           Low  \n",
       "1                 N        Medium  \n",
       "2                 N        Medium  \n",
       "3                 N           Low  \n",
       "4                 M        Medium  \n",
       "...             ...           ...  \n",
       "43425             A        Medium  \n",
       "43426             A        Medium  \n",
       "43427             A        Medium  \n",
       "43429             A           Low  \n",
       "43430             A          High  \n",
       "\n",
       "[34292 rows x 12 columns]"
      ]
     },
     "execution_count": 146,
     "metadata": {},
     "output_type": "execute_result"
    }
   ],
   "source": [
    "df"
   ]
  },
  {
   "cell_type": "code",
   "execution_count": null,
   "id": "5aa43c05",
   "metadata": {
    "hidden": true
   },
   "outputs": [],
   "source": []
  },
  {
   "cell_type": "code",
   "execution_count": null,
   "id": "684200e1",
   "metadata": {
    "hidden": true
   },
   "outputs": [],
   "source": []
  },
  {
   "cell_type": "markdown",
   "id": "d1469cd3",
   "metadata": {
    "heading_collapsed": true,
    "hidden": true
   },
   "source": [
    "### Encoding"
   ]
  },
  {
   "cell_type": "code",
   "execution_count": null,
   "id": "8491ee87",
   "metadata": {
    "hidden": true
   },
   "outputs": [],
   "source": []
  },
  {
   "cell_type": "code",
   "execution_count": 147,
   "id": "5b3bd4b8",
   "metadata": {
    "hidden": true
   },
   "outputs": [],
   "source": [
    "from sklearn import preprocessing\n",
    "encoded_df = df.copy()\n",
    "le = preprocessing.LabelEncoder()\n",
    "\n",
    "le_1=le.fit(encoded_df['BLFA'])\n",
    "le_1.classes_ = np.array(['Low', 'Medium','High'])   ## to assign 0 to Low and 2 to High\n",
    "encoded_df['BLFA'] = le_1.transform(encoded_df['BLFA'])\n",
    "\n",
    "le_2=le.fit(encoded_df['BLTA'])\n",
    "le_2.classes_ = np.array(['Low', 'Medium','High'])\n",
    "encoded_df['BLTA'] = le_2.transform(encoded_df['BLTA'])\n",
    "\n",
    "le_3=le.fit(encoded_df['CLFA'])\n",
    "le_3.classes_ = np.array(['Low', 'Medium','High'])\n",
    "encoded_df['CLFA'] = le_3.transform(encoded_df['CLFA'])\n",
    "\n",
    "le_4=le.fit(encoded_df['CLTA'])\n",
    "le_4.classes_ = np.array(['Low', 'Medium','High'])\n",
    "encoded_df['CLTA'] = le_4.transform(encoded_df['CLTA'])\n",
    "\n",
    "le_5=le.fit(encoded_df['Trip_distance'])\n",
    "le_5.classes_ = np.array(['Low', 'Medium','High'])\n",
    "encoded_df['Trip_distance'] = le_5.transform(encoded_df['Trip_distance'])\n",
    "\n",
    "le_6=le.fit(encoded_df['Advance_booking_time'])\n",
    "le_6.classes_ = np.array(['Low', 'Medium','High'])\n",
    "encoded_df['Advance_booking_time'] = le_6.transform(encoded_df['Advance_booking_time'])\n",
    "\n",
    "\n",
    "encoded_df=pd.concat([encoded_df,pd.get_dummies(encoded_df['trip_start_timeperiod'],prefix='ts',drop_first=True)], axis=1)\n",
    "encoded_df=pd.concat([encoded_df,pd.get_dummies(encoded_df['bc_timeperiod'],prefix='bc',drop_first=True)], axis=1)\n",
    "encoded_df.drop(columns=['trip_start_timeperiod','bc_timeperiod'],axis=1,inplace=True)"
   ]
  },
  {
   "cell_type": "code",
   "execution_count": 148,
   "id": "46825b00",
   "metadata": {
    "hidden": true
   },
   "outputs": [
    {
     "data": {
      "text/html": [
       "<div>\n",
       "<style scoped>\n",
       "    .dataframe tbody tr th:only-of-type {\n",
       "        vertical-align: middle;\n",
       "    }\n",
       "\n",
       "    .dataframe tbody tr th {\n",
       "        vertical-align: top;\n",
       "    }\n",
       "\n",
       "    .dataframe thead th {\n",
       "        text-align: right;\n",
       "    }\n",
       "</style>\n",
       "<table border=\"1\" class=\"dataframe\">\n",
       "  <thead>\n",
       "    <tr style=\"text-align: right;\">\n",
       "      <th></th>\n",
       "      <th>online_booking</th>\n",
       "      <th>mobile_site_booking</th>\n",
       "      <th>Car_Cancellation</th>\n",
       "      <th>BLFA</th>\n",
       "      <th>BLTA</th>\n",
       "      <th>CLFA</th>\n",
       "      <th>CLTA</th>\n",
       "      <th>weekday</th>\n",
       "      <th>Advance_booking_time</th>\n",
       "      <th>Trip_distance</th>\n",
       "      <th>ts_E</th>\n",
       "      <th>ts_M</th>\n",
       "      <th>ts_N</th>\n",
       "      <th>bc_E</th>\n",
       "      <th>bc_M</th>\n",
       "      <th>bc_N</th>\n",
       "    </tr>\n",
       "  </thead>\n",
       "  <tbody>\n",
       "    <tr>\n",
       "      <th>0</th>\n",
       "      <td>0</td>\n",
       "      <td>0</td>\n",
       "      <td>0</td>\n",
       "      <td>2</td>\n",
       "      <td>1</td>\n",
       "      <td>2</td>\n",
       "      <td>0</td>\n",
       "      <td>1</td>\n",
       "      <td>0</td>\n",
       "      <td>0</td>\n",
       "      <td>0</td>\n",
       "      <td>0</td>\n",
       "      <td>1</td>\n",
       "      <td>0</td>\n",
       "      <td>0</td>\n",
       "      <td>1</td>\n",
       "    </tr>\n",
       "    <tr>\n",
       "      <th>1</th>\n",
       "      <td>0</td>\n",
       "      <td>0</td>\n",
       "      <td>0</td>\n",
       "      <td>2</td>\n",
       "      <td>0</td>\n",
       "      <td>2</td>\n",
       "      <td>0</td>\n",
       "      <td>1</td>\n",
       "      <td>1</td>\n",
       "      <td>1</td>\n",
       "      <td>0</td>\n",
       "      <td>1</td>\n",
       "      <td>0</td>\n",
       "      <td>0</td>\n",
       "      <td>0</td>\n",
       "      <td>1</td>\n",
       "    </tr>\n",
       "    <tr>\n",
       "      <th>2</th>\n",
       "      <td>0</td>\n",
       "      <td>0</td>\n",
       "      <td>0</td>\n",
       "      <td>0</td>\n",
       "      <td>0</td>\n",
       "      <td>1</td>\n",
       "      <td>0</td>\n",
       "      <td>1</td>\n",
       "      <td>0</td>\n",
       "      <td>1</td>\n",
       "      <td>0</td>\n",
       "      <td>0</td>\n",
       "      <td>1</td>\n",
       "      <td>0</td>\n",
       "      <td>0</td>\n",
       "      <td>1</td>\n",
       "    </tr>\n",
       "    <tr>\n",
       "      <th>3</th>\n",
       "      <td>0</td>\n",
       "      <td>0</td>\n",
       "      <td>0</td>\n",
       "      <td>1</td>\n",
       "      <td>0</td>\n",
       "      <td>0</td>\n",
       "      <td>0</td>\n",
       "      <td>1</td>\n",
       "      <td>0</td>\n",
       "      <td>0</td>\n",
       "      <td>0</td>\n",
       "      <td>0</td>\n",
       "      <td>1</td>\n",
       "      <td>0</td>\n",
       "      <td>0</td>\n",
       "      <td>1</td>\n",
       "    </tr>\n",
       "    <tr>\n",
       "      <th>4</th>\n",
       "      <td>0</td>\n",
       "      <td>0</td>\n",
       "      <td>0</td>\n",
       "      <td>1</td>\n",
       "      <td>0</td>\n",
       "      <td>2</td>\n",
       "      <td>1</td>\n",
       "      <td>1</td>\n",
       "      <td>0</td>\n",
       "      <td>1</td>\n",
       "      <td>0</td>\n",
       "      <td>1</td>\n",
       "      <td>0</td>\n",
       "      <td>0</td>\n",
       "      <td>1</td>\n",
       "      <td>0</td>\n",
       "    </tr>\n",
       "    <tr>\n",
       "      <th>...</th>\n",
       "      <td>...</td>\n",
       "      <td>...</td>\n",
       "      <td>...</td>\n",
       "      <td>...</td>\n",
       "      <td>...</td>\n",
       "      <td>...</td>\n",
       "      <td>...</td>\n",
       "      <td>...</td>\n",
       "      <td>...</td>\n",
       "      <td>...</td>\n",
       "      <td>...</td>\n",
       "      <td>...</td>\n",
       "      <td>...</td>\n",
       "      <td>...</td>\n",
       "      <td>...</td>\n",
       "      <td>...</td>\n",
       "    </tr>\n",
       "    <tr>\n",
       "      <th>43425</th>\n",
       "      <td>0</td>\n",
       "      <td>1</td>\n",
       "      <td>0</td>\n",
       "      <td>2</td>\n",
       "      <td>0</td>\n",
       "      <td>1</td>\n",
       "      <td>0</td>\n",
       "      <td>1</td>\n",
       "      <td>1</td>\n",
       "      <td>1</td>\n",
       "      <td>0</td>\n",
       "      <td>0</td>\n",
       "      <td>1</td>\n",
       "      <td>0</td>\n",
       "      <td>0</td>\n",
       "      <td>0</td>\n",
       "    </tr>\n",
       "    <tr>\n",
       "      <th>43426</th>\n",
       "      <td>1</td>\n",
       "      <td>0</td>\n",
       "      <td>0</td>\n",
       "      <td>1</td>\n",
       "      <td>1</td>\n",
       "      <td>0</td>\n",
       "      <td>1</td>\n",
       "      <td>0</td>\n",
       "      <td>0</td>\n",
       "      <td>1</td>\n",
       "      <td>0</td>\n",
       "      <td>0</td>\n",
       "      <td>0</td>\n",
       "      <td>0</td>\n",
       "      <td>0</td>\n",
       "      <td>0</td>\n",
       "    </tr>\n",
       "    <tr>\n",
       "      <th>43427</th>\n",
       "      <td>1</td>\n",
       "      <td>0</td>\n",
       "      <td>0</td>\n",
       "      <td>2</td>\n",
       "      <td>0</td>\n",
       "      <td>2</td>\n",
       "      <td>0</td>\n",
       "      <td>1</td>\n",
       "      <td>2</td>\n",
       "      <td>1</td>\n",
       "      <td>0</td>\n",
       "      <td>0</td>\n",
       "      <td>1</td>\n",
       "      <td>0</td>\n",
       "      <td>0</td>\n",
       "      <td>0</td>\n",
       "    </tr>\n",
       "    <tr>\n",
       "      <th>43429</th>\n",
       "      <td>0</td>\n",
       "      <td>0</td>\n",
       "      <td>0</td>\n",
       "      <td>0</td>\n",
       "      <td>0</td>\n",
       "      <td>0</td>\n",
       "      <td>0</td>\n",
       "      <td>0</td>\n",
       "      <td>0</td>\n",
       "      <td>0</td>\n",
       "      <td>0</td>\n",
       "      <td>0</td>\n",
       "      <td>0</td>\n",
       "      <td>0</td>\n",
       "      <td>0</td>\n",
       "      <td>0</td>\n",
       "    </tr>\n",
       "    <tr>\n",
       "      <th>43430</th>\n",
       "      <td>0</td>\n",
       "      <td>1</td>\n",
       "      <td>0</td>\n",
       "      <td>2</td>\n",
       "      <td>2</td>\n",
       "      <td>1</td>\n",
       "      <td>1</td>\n",
       "      <td>1</td>\n",
       "      <td>2</td>\n",
       "      <td>2</td>\n",
       "      <td>0</td>\n",
       "      <td>0</td>\n",
       "      <td>1</td>\n",
       "      <td>0</td>\n",
       "      <td>0</td>\n",
       "      <td>0</td>\n",
       "    </tr>\n",
       "  </tbody>\n",
       "</table>\n",
       "<p>34292 rows × 16 columns</p>\n",
       "</div>"
      ],
      "text/plain": [
       "       online_booking  mobile_site_booking  Car_Cancellation  BLFA  BLTA  \\\n",
       "0                   0                    0                 0     2     1   \n",
       "1                   0                    0                 0     2     0   \n",
       "2                   0                    0                 0     0     0   \n",
       "3                   0                    0                 0     1     0   \n",
       "4                   0                    0                 0     1     0   \n",
       "...               ...                  ...               ...   ...   ...   \n",
       "43425               0                    1                 0     2     0   \n",
       "43426               1                    0                 0     1     1   \n",
       "43427               1                    0                 0     2     0   \n",
       "43429               0                    0                 0     0     0   \n",
       "43430               0                    1                 0     2     2   \n",
       "\n",
       "       CLFA  CLTA  weekday  Advance_booking_time  Trip_distance  ts_E  ts_M  \\\n",
       "0         2     0        1                     0              0     0     0   \n",
       "1         2     0        1                     1              1     0     1   \n",
       "2         1     0        1                     0              1     0     0   \n",
       "3         0     0        1                     0              0     0     0   \n",
       "4         2     1        1                     0              1     0     1   \n",
       "...     ...   ...      ...                   ...            ...   ...   ...   \n",
       "43425     1     0        1                     1              1     0     0   \n",
       "43426     0     1        0                     0              1     0     0   \n",
       "43427     2     0        1                     2              1     0     0   \n",
       "43429     0     0        0                     0              0     0     0   \n",
       "43430     1     1        1                     2              2     0     0   \n",
       "\n",
       "       ts_N  bc_E  bc_M  bc_N  \n",
       "0         1     0     0     1  \n",
       "1         0     0     0     1  \n",
       "2         1     0     0     1  \n",
       "3         1     0     0     1  \n",
       "4         0     0     1     0  \n",
       "...     ...   ...   ...   ...  \n",
       "43425     1     0     0     0  \n",
       "43426     0     0     0     0  \n",
       "43427     1     0     0     0  \n",
       "43429     0     0     0     0  \n",
       "43430     1     0     0     0  \n",
       "\n",
       "[34292 rows x 16 columns]"
      ]
     },
     "execution_count": 148,
     "metadata": {},
     "output_type": "execute_result"
    }
   ],
   "source": [
    "encoded_df"
   ]
  },
  {
   "cell_type": "code",
   "execution_count": null,
   "id": "1c6b5486",
   "metadata": {
    "hidden": true
   },
   "outputs": [],
   "source": []
  },
  {
   "cell_type": "code",
   "execution_count": null,
   "id": "a7d3cc4b",
   "metadata": {
    "hidden": true
   },
   "outputs": [],
   "source": []
  },
  {
   "cell_type": "markdown",
   "id": "d7bfe915",
   "metadata": {
    "heading_collapsed": true,
    "hidden": true
   },
   "source": [
    "### Train test split"
   ]
  },
  {
   "cell_type": "code",
   "execution_count": 149,
   "id": "1893ecc0",
   "metadata": {
    "hidden": true
   },
   "outputs": [],
   "source": [
    "X=encoded_df.drop(columns='Car_Cancellation',axis=1)\n",
    "y=encoded_df['Car_Cancellation']"
   ]
  },
  {
   "cell_type": "code",
   "execution_count": 150,
   "id": "0eb510ef",
   "metadata": {
    "hidden": true
   },
   "outputs": [],
   "source": [
    "from sklearn.model_selection import train_test_split\n",
    "X_train, X_test, y_train, y_test = train_test_split(X,y,test_size =0.3,random_state = 42)"
   ]
  },
  {
   "cell_type": "code",
   "execution_count": null,
   "id": "9ea48deb",
   "metadata": {
    "hidden": true
   },
   "outputs": [],
   "source": []
  },
  {
   "cell_type": "markdown",
   "id": "be85aa03",
   "metadata": {
    "heading_collapsed": true
   },
   "source": [
    "## Model Building"
   ]
  },
  {
   "cell_type": "code",
   "execution_count": null,
   "id": "88fdf630",
   "metadata": {
    "hidden": true
   },
   "outputs": [],
   "source": []
  },
  {
   "cell_type": "markdown",
   "id": "2cd8a6b5",
   "metadata": {
    "heading_collapsed": true,
    "hidden": true
   },
   "source": [
    "### Creating evaluation metrics"
   ]
  },
  {
   "cell_type": "code",
   "execution_count": null,
   "id": "a870cc76",
   "metadata": {
    "hidden": true
   },
   "outputs": [],
   "source": []
  },
  {
   "cell_type": "code",
   "execution_count": 152,
   "id": "ebbfec9d",
   "metadata": {
    "hidden": true
   },
   "outputs": [],
   "source": [
    "def plot_confusion_matrix(model,X_test,y_test,normalize=False):\n",
    "    \"\"\"\n",
    "        Computes and plots the confusion matrix.         \n",
    "        \n",
    "        \n",
    "        Parameters\n",
    "        ----------\n",
    "        \n",
    "        model : ML model\n",
    "            A trained model for which ROC is to be computed\n",
    "        X_test: pandas.DataFrame\n",
    "            Testing data for independent variables(features)\n",
    "        y_test: pandas.Series\n",
    "            Testing data for target variables\n",
    "        normalize : boolean, default=False\n",
    "            To normalize the matrix\n",
    "        \n",
    "    \"\"\"\n",
    "    y_pred = model.predict(X_test)\n",
    "    cm = confusion_matrix(y_test, y_pred)\n",
    "    classes=[\"Not Cancelled\", \"Cancelled\"]\n",
    "    if normalize:\n",
    "        cm = cm.astype('float') / cm.sum(axis=1)[:, np.newaxis]\n",
    "        cm = np.around(cm, decimals=3)\n",
    "    plt.imshow(cm, interpolation='nearest', cmap=plt.cm.Blues)\n",
    "    plt.title(\"Confusion Matrix\")\n",
    "    plt.colorbar()\n",
    "    tick_marks = np.arange(len(classes))\n",
    "    plt.xticks(tick_marks, classes, rotation=45)\n",
    "    plt.yticks(tick_marks, classes)\n",
    "    thresh = cm.max() / 2.\n",
    "    for i, j in itertools.product(range(cm.shape[0]), range(cm.shape[1])):\n",
    "        plt.text(j, i, cm[i, j],\n",
    "                 horizontalalignment=\"center\",\n",
    "                 color=\"white\" if cm[i, j] > thresh else \"black\")\n",
    "    plt.tight_layout()\n",
    "    plt.ylabel('True label')\n",
    "    plt.xlabel('Predicted label')"
   ]
  },
  {
   "cell_type": "code",
   "execution_count": 153,
   "id": "a7f076ba",
   "metadata": {
    "hidden": true
   },
   "outputs": [],
   "source": [
    "def plot_roc(model,X_test,y_test,plot_threshold=False,t=0.5):\n",
    "    \"\"\"\n",
    "        Computes and plots the ROC curve and AUC. It also plots a given threshold value        \n",
    "        \n",
    "        \n",
    "        Parameters\n",
    "        ----------\n",
    "        \n",
    "        model : ML model\n",
    "            A trained model for which ROC is to be computed\n",
    "        X_test: pandas.DataFrame\n",
    "            Testing data for independent variables(features)\n",
    "        y_test: pandas.Series\n",
    "            Testing data for target variables\n",
    "        plot_threshold : boolean, default=False\n",
    "            Whether to plot the given threshold or not.\n",
    "        t : float, default=0.5\n",
    "            Threshold value to plot on the graph\n",
    "    \"\"\"\n",
    "    \n",
    "    y_pred_proba = model.predict_proba(X_test)[::,1]\n",
    "    fpr, tpr, thresh = roc_curve(y_test,  y_pred_proba)\n",
    "    auc = roc_auc_score(y_test, y_pred_proba)\n",
    "    \n",
    "\n",
    "    # margins for text threshold\n",
    "    y_text_margin=0.05\n",
    "    x_text_margin=0.2\n",
    "    \n",
    "    \n",
    "    x_thresh, y_thresh = fpr[np.argmin(abs(thresh - t))], tpr[np.argmin(abs(thresh - t))]\n",
    "    \n",
    "    ## np.argmin(abs(thresh - t)) will give you the index of the min element in the array (thresh-t)\n",
    "    ## since 'thresh' array wont have the exact threshold 't' in it, so we need the\n",
    "    ## one which is the closest (if t is in thresh then (thresh - t) would be zero and the min in abs(thresh - t) )\n",
    "\n",
    "    # Roc curve\n",
    "    plt.plot(fpr, tpr,lw=2,label='ROC curve (AUC = %0.2f)' % auc,linestyle='-')\n",
    "    \n",
    "    # Reference line\n",
    "    plt.plot([0, 1], [0, 1],label=\"Random guess\",color='red',lw=2, linestyle='--')\n",
    "    \n",
    "    # Plotting threshold\n",
    "    if plot_threshold:\n",
    "    \n",
    "        plt.axhline(y=y_thresh,lw=2,color='black',linestyle=':')\n",
    "        plt.axvline(x=x_thresh,lw=2,color='black',linestyle=':')\n",
    "        \n",
    "        # text for threshold\n",
    "        if x_thresh > 0.5 and y_thresh > 0.5:\n",
    "            plt.text(x=x_thresh - x_text_margin, y=y_thresh - y_text_margin,s='Threshold : {:.2f}'.format(t))\n",
    "        elif x_thresh <= 0.5 and y_thresh <= 0.5:\n",
    "            plt.text(x=x_thresh + x_text_margin, y=y_thresh + y_text_margin,s='Threshold : {:.2f}'.format(t))\n",
    "        elif x_thresh <= 0.5 < y_thresh:\n",
    "            plt.text(x=x_thresh + x_text_margin, y=y_thresh - y_text_margin,s='Threshold : {:.2f}'.format(t))\n",
    "        elif x_thresh > 0.5 >= y_thresh:\n",
    "            plt.text(x=x_thresh - x_text_margin, y=y_thresh + y_text_margin,s='Threshold : {:.2f}'.format(t))\n",
    "        \n",
    "        plt.plot(x_thresh, y_thresh, 'ro')  # redpoint of threshold on the ROC curve\n",
    "    \n",
    "    plt.xlabel('False Positive Rate')\n",
    "    plt.ylabel('True Positive Rate')\n",
    "    plt.legend(loc=0)"
   ]
  },
  {
   "cell_type": "code",
   "execution_count": null,
   "id": "35efe415",
   "metadata": {
    "hidden": true
   },
   "outputs": [],
   "source": []
  },
  {
   "cell_type": "code",
   "execution_count": 191,
   "id": "572c616b",
   "metadata": {
    "hidden": true
   },
   "outputs": [],
   "source": [
    "def plot_prc(model,X_test,y_test):\n",
    "    \"\"\"\n",
    "        Computes and plots the precision-recall curve and AUC.        \n",
    "        \n",
    "        \n",
    "        Parameters\n",
    "        ----------\n",
    "        \n",
    "        model : ML model\n",
    "            A trained model for which ROC is to be computed\n",
    "        X_test: pandas.DataFrame\n",
    "            Testing data for independent variables(features)\n",
    "        y_test: pandas.Series\n",
    "            Testing data for target variables\n",
    "        \n",
    "    \"\"\"\n",
    "    \n",
    "    y_pred_proba = model.predict_proba(X_test)[::,1]\n",
    "    prec, rec, thresh = precision_recall_curve(y_test,  y_pred_proba)\n",
    "    auc_val = average_precision_score(y_test, y_pred_proba)\n",
    "\n",
    "    \n",
    "    rand = len(y_test[y_test==1]) / len(y_test)\n",
    "    plt.plot([0, 1], [rand, rand],color='red', linestyle='--', label='Random')\n",
    "    plt.plot(rec, prec, marker='.', label='PR curve (AUC = %0.2f)' % auc_val,linestyle='-',color='orange')\n",
    "    \n",
    "\n",
    "    plt.xlabel('Recall')\n",
    "    plt.ylabel('Precision')\n",
    "    plt.legend(loc=0)\n",
    "    "
   ]
  },
  {
   "cell_type": "code",
   "execution_count": null,
   "id": "f5f722ca",
   "metadata": {
    "hidden": true
   },
   "outputs": [],
   "source": []
  },
  {
   "cell_type": "markdown",
   "id": "cf4bb348",
   "metadata": {
    "heading_collapsed": true,
    "hidden": true
   },
   "source": [
    "### Logistic Regression"
   ]
  },
  {
   "cell_type": "code",
   "execution_count": null,
   "id": "14936120",
   "metadata": {
    "hidden": true
   },
   "outputs": [],
   "source": []
  },
  {
   "cell_type": "code",
   "execution_count": 182,
   "id": "49b300e1",
   "metadata": {
    "hidden": true
   },
   "outputs": [
    {
     "name": "stdout",
     "output_type": "stream",
     "text": [
      "Accuracy: 0.9195178849144634\n",
      "Cross validation score:  0.9185968693599887\n",
      "\n",
      "\t\t\tClassification report\n",
      "               precision    recall  f1-score   support\n",
      "\n",
      "           0       0.92      1.00      0.96      9458\n",
      "           1       0.51      0.04      0.08       830\n",
      "\n",
      "    accuracy                           0.92     10288\n",
      "   macro avg       0.72      0.52      0.52     10288\n",
      "weighted avg       0.89      0.92      0.89     10288\n",
      "\n"
     ]
    }
   ],
   "source": [
    "model_lr = LogisticRegression(random_state=0)\n",
    "\n",
    "model_lr.fit(X_train, y_train)    \n",
    "\n",
    "y_pred = model_lr.predict(X_test)\n",
    "print(\"Accuracy:\",metrics.accuracy_score(y_test, y_pred))\n",
    "print('Cross validation score: ',cross_val_score(model_lr, X_train, y_train, cv=10).mean())\n",
    "print(\"\\n\\t\\t\\tClassification report\\n\",classification_report(y_test, y_pred))"
   ]
  },
  {
   "cell_type": "code",
   "execution_count": null,
   "id": "c1d7875b",
   "metadata": {
    "hidden": true
   },
   "outputs": [],
   "source": [
    "## The accuracy is good , but due to the imbalanced dataset, we are getting poor metrics, so let us assign some class weight"
   ]
  },
  {
   "cell_type": "code",
   "execution_count": null,
   "id": "dc4cffe3",
   "metadata": {
    "hidden": true
   },
   "outputs": [],
   "source": []
  },
  {
   "cell_type": "code",
   "execution_count": 289,
   "id": "d7de1c85",
   "metadata": {
    "hidden": true
   },
   "outputs": [
    {
     "name": "stdout",
     "output_type": "stream",
     "text": [
      "Accuracy: 0.9203926905132193\n",
      "Cross validation score:  0.9177636401499374\n",
      "\n",
      "\t\t\tClassification report\n",
      "               precision    recall  f1-score   support\n",
      "\n",
      "           0       0.92      0.99      0.96      9458\n",
      "           1       0.55      0.08      0.14       830\n",
      "\n",
      "    accuracy                           0.92     10288\n",
      "   macro avg       0.74      0.54      0.55     10288\n",
      "weighted avg       0.89      0.92      0.89     10288\n",
      "\n"
     ]
    }
   ],
   "source": [
    "model_lr = LogisticRegression(random_state=0,class_weight={0:1.01,1:1.2})\n",
    "\n",
    "model_lr.fit(X_train, y_train)    \n",
    "\n",
    "y_pred = model_lr.predict(X_test)\n",
    "print(\"Accuracy:\",metrics.accuracy_score(y_test, y_pred))\n",
    "print('Cross validation score: ',cross_val_score(model_lr, X_train, y_train, cv=10).mean())\n",
    "print(\"\\n\\t\\t\\tClassification report\\n\",classification_report(y_test, y_pred))"
   ]
  },
  {
   "cell_type": "code",
   "execution_count": 290,
   "id": "d9e7e7d2",
   "metadata": {
    "hidden": true
   },
   "outputs": [],
   "source": [
    "## here by assigning different class weights we are getting better precision and recall also has improved a bit (compared to\n",
    "## the default parameter case), but still is very low"
   ]
  },
  {
   "cell_type": "code",
   "execution_count": 291,
   "id": "f7a98f38",
   "metadata": {
    "hidden": true
   },
   "outputs": [
    {
     "data": {
      "image/png": "[encoded data removed]",
      "text/plain": [
       "<Figure size 432x288 with 2 Axes>"
      ]
     },
     "metadata": {
      "needs_background": "light"
     },
     "output_type": "display_data"
    }
   ],
   "source": [
    "plot_confusion_matrix(model_lr,X_test,y_test,normalize=True)"
   ]
  },
  {
   "cell_type": "code",
   "execution_count": null,
   "id": "eb71770d",
   "metadata": {
    "hidden": true
   },
   "outputs": [],
   "source": [
    "## A small business (which is not getting enough bookings) would like better precision rather than recall, since the poor\n",
    "## precision means that out of all the positive predicted cases (canceled bookings) the actual(true) positives are very low\n",
    "## (i.e., FPs are high) and they might not be able to afford to reject a booking which our model is predicting would be\n",
    "## canceled, but the chance of that being true is very low\n",
    "\n",
    "## But to obtain that we have very low recall here(i.e., FNs are high). We can see that only 7.7% of the total cancellable\n",
    "## rides are being predicted. This implies that our model isn't helping the business much\n",
    "\n",
    "## So let us improve our recall to catch at least considerable cancellations for it to be helpful to the business"
   ]
  },
  {
   "cell_type": "code",
   "execution_count": null,
   "id": "ea8350a0",
   "metadata": {
    "hidden": true
   },
   "outputs": [],
   "source": []
  },
  {
   "cell_type": "code",
   "execution_count": 198,
   "id": "0bb907e6",
   "metadata": {
    "hidden": true
   },
   "outputs": [
    {
     "name": "stdout",
     "output_type": "stream",
     "text": [
      "Accuracy: 0.729587869362364\n",
      "Cross validation score:  0.723253384006664\n",
      "\n",
      "\t\t\tClassification report\n",
      "               precision    recall  f1-score   support\n",
      "\n",
      "           0       0.97      0.73      0.83      9458\n",
      "           1       0.19      0.70      0.30       830\n",
      "\n",
      "    accuracy                           0.73     10288\n",
      "   macro avg       0.58      0.72      0.56     10288\n",
      "weighted avg       0.90      0.73      0.79     10288\n",
      "\n"
     ]
    }
   ],
   "source": [
    "model_lr = LogisticRegression(random_state=0,class_weight='balanced')\n",
    "\n",
    "model_lr.fit(X_train, y_train)    \n",
    "\n",
    "y_pred = model_lr.predict(X_test)\n",
    "print(\"Accuracy:\",metrics.accuracy_score(y_test, y_pred))\n",
    "print('Cross validation score: ',cross_val_score(model_lr, X_train, y_train, cv=10).mean())\n",
    "print(\"\\n\\t\\t\\tClassification report\\n\",classification_report(y_test, y_pred))"
   ]
  },
  {
   "cell_type": "code",
   "execution_count": null,
   "id": "0e2ba8d6",
   "metadata": {
    "hidden": true
   },
   "outputs": [],
   "source": [
    "## here accuracy has reduced, but the recall has improved a lot. "
   ]
  },
  {
   "cell_type": "code",
   "execution_count": 293,
   "id": "bbee6120",
   "metadata": {
    "hidden": true
   },
   "outputs": [
    {
     "data": {
      "image/png": "[encoded data removed]",
      "text/plain": [
       "<Figure size 432x288 with 2 Axes>"
      ]
     },
     "metadata": {
      "needs_background": "light"
     },
     "output_type": "display_data"
    }
   ],
   "source": [
    "plot_confusion_matrix(model_lr,X_test,y_test,normalize=True)"
   ]
  },
  {
   "cell_type": "code",
   "execution_count": null,
   "id": "ea29e51e",
   "metadata": {
    "hidden": true
   },
   "outputs": [],
   "source": [
    "## Now we are at least predicting a considerable amount of (70.2%) of the actual cancellations at the expense of a reduction in\n",
    "## the precision, which means that we are rejecting bookings that would have gone through(which wouldn't matter if the business\n",
    "## is getting a good amount of bookings)"
   ]
  },
  {
   "cell_type": "code",
   "execution_count": 199,
   "id": "2fa33003",
   "metadata": {
    "hidden": true
   },
   "outputs": [
    {
     "data": {
      "image/png": "[encoded data removed]",
      "text/plain": [
       "<Figure size 432x288 with 1 Axes>"
      ]
     },
     "metadata": {
      "needs_background": "light"
     },
     "output_type": "display_data"
    }
   ],
   "source": [
    "plot_roc(model_lr,X_test,y_test)"
   ]
  },
  {
   "cell_type": "code",
   "execution_count": null,
   "id": "e841739f",
   "metadata": {
    "hidden": true
   },
   "outputs": [],
   "source": []
  },
  {
   "cell_type": "code",
   "execution_count": 200,
   "id": "eace9339",
   "metadata": {
    "hidden": true
   },
   "outputs": [
    {
     "data": {
      "image/png": "[encoded data removed]",
      "text/plain": [
       "<Figure size 432x288 with 1 Axes>"
      ]
     },
     "metadata": {
      "needs_background": "light"
     },
     "output_type": "display_data"
    }
   ],
   "source": [
    "plot_prc(model_lr,X_test,y_test)"
   ]
  },
  {
   "cell_type": "code",
   "execution_count": null,
   "id": "0f2287b3",
   "metadata": {
    "hidden": true
   },
   "outputs": [],
   "source": []
  },
  {
   "cell_type": "code",
   "execution_count": null,
   "id": "2fc29dbd",
   "metadata": {
    "hidden": true
   },
   "outputs": [],
   "source": []
  },
  {
   "cell_type": "markdown",
   "id": "9b11c7b6",
   "metadata": {
    "heading_collapsed": true,
    "hidden": true
   },
   "source": [
    "### SVM"
   ]
  },
  {
   "cell_type": "code",
   "execution_count": 156,
   "id": "d9f52d0a",
   "metadata": {
    "hidden": true
   },
   "outputs": [],
   "source": []
  },
  {
   "cell_type": "code",
   "execution_count": 300,
   "id": "47380578",
   "metadata": {
    "hidden": true
   },
   "outputs": [
    {
     "name": "stdout",
     "output_type": "stream",
     "text": [
      "Accuracy: 0.9193234836702955\n",
      "\n",
      "\t\t\tClassification report\n",
      "               precision    recall  f1-score   support\n",
      "\n",
      "           0       0.92      1.00      0.96      9458\n",
      "           1       0.00      0.00      0.00       830\n",
      "\n",
      "    accuracy                           0.92     10288\n",
      "   macro avg       0.46      0.50      0.48     10288\n",
      "weighted avg       0.85      0.92      0.88     10288\n",
      "\n"
     ]
    },
    {
     "name": "stderr",
     "output_type": "stream",
     "text": [
      "C:\\Users\\prate\\AppData\\Local\\Programs\\Python\\Python310\\lib\\site-packages\\sklearn\\metrics\\_classification.py:1318: UndefinedMetricWarning: Precision and F-score are ill-defined and being set to 0.0 in labels with no predicted samples. Use `zero_division` parameter to control this behavior.\n",
      "  _warn_prf(average, modifier, msg_start, len(result))\n",
      "C:\\Users\\prate\\AppData\\Local\\Programs\\Python\\Python310\\lib\\site-packages\\sklearn\\metrics\\_classification.py:1318: UndefinedMetricWarning: Precision and F-score are ill-defined and being set to 0.0 in labels with no predicted samples. Use `zero_division` parameter to control this behavior.\n",
      "  _warn_prf(average, modifier, msg_start, len(result))\n",
      "C:\\Users\\prate\\AppData\\Local\\Programs\\Python\\Python310\\lib\\site-packages\\sklearn\\metrics\\_classification.py:1318: UndefinedMetricWarning: Precision and F-score are ill-defined and being set to 0.0 in labels with no predicted samples. Use `zero_division` parameter to control this behavior.\n",
      "  _warn_prf(average, modifier, msg_start, len(result))\n"
     ]
    }
   ],
   "source": [
    "svm = SVC(random_state=0,kernel='linear') \n",
    "svm.fit(X_train, y_train)\n",
    "\n",
    "y_pred = svm.predict(X_test)\n",
    "print(\"Accuracy:\",metrics.accuracy_score(y_test, y_pred))\n",
    "# print('Cross validation score: ',cross_val_score(svm, X_train, y_train, cv=10).mean())\n",
    "print(\"\\n\\t\\t\\tClassification report\\n\",classification_report(y_test, y_pred))"
   ]
  },
  {
   "cell_type": "code",
   "execution_count": 302,
   "id": "914c13e5",
   "metadata": {
    "hidden": true
   },
   "outputs": [
    {
     "data": {
      "image/png": "[encoded data removed]",
      "text/plain": [
       "<Figure size 432x288 with 2 Axes>"
      ]
     },
     "metadata": {
      "needs_background": "light"
     },
     "output_type": "display_data"
    }
   ],
   "source": [
    "plot_confusion_matrix(svm,X_test,y_test)"
   ]
  },
  {
   "cell_type": "code",
   "execution_count": null,
   "id": "3ea3e090",
   "metadata": {
    "hidden": true
   },
   "outputs": [],
   "source": [
    "## so linear SVC is not doing a good job, as the model is just predicting all observations to be of 'Not Cancelled' class"
   ]
  },
  {
   "cell_type": "code",
   "execution_count": null,
   "id": "6a5cdc54",
   "metadata": {
    "hidden": true
   },
   "outputs": [],
   "source": []
  },
  {
   "cell_type": "code",
   "execution_count": 298,
   "id": "0d3bf21a",
   "metadata": {
    "hidden": true,
    "scrolled": true
   },
   "outputs": [
    {
     "name": "stdout",
     "output_type": "stream",
     "text": [
      "Accuracy: 0.9153382581648523\n",
      "Cross validation score:  0.9154305497709287\n",
      "\n",
      "\t\t\tClassification report\n",
      "               precision    recall  f1-score   support\n",
      "\n",
      "           0       0.93      0.98      0.96      9458\n",
      "           1       0.43      0.16      0.23       830\n",
      "\n",
      "    accuracy                           0.92     10288\n",
      "   macro avg       0.68      0.57      0.59     10288\n",
      "weighted avg       0.89      0.92      0.90     10288\n",
      "\n"
     ]
    }
   ],
   "source": [
    "svm = SVC(random_state=0,kernel='rbf',C=2,gamma=0.8) \n",
    "svm.fit(X_train, y_train)\n",
    "\n",
    "y_pred = svm.predict(X_test)\n",
    "print(\"Accuracy:\",metrics.accuracy_score(y_test, y_pred))\n",
    "print('Cross validation score: ',cross_val_score(svm, X_train, y_train, cv=10).mean())\n",
    "print(\"\\n\\t\\t\\tClassification report\\n\",classification_report(y_test, y_pred))"
   ]
  },
  {
   "cell_type": "code",
   "execution_count": null,
   "id": "fef38518",
   "metadata": {
    "hidden": true
   },
   "outputs": [],
   "source": []
  },
  {
   "cell_type": "code",
   "execution_count": null,
   "id": "182ca2df",
   "metadata": {
    "hidden": true
   },
   "outputs": [],
   "source": [
    "## due to the imbalance let us put some class weight"
   ]
  },
  {
   "cell_type": "code",
   "execution_count": 158,
   "id": "e53570e5",
   "metadata": {
    "hidden": true
   },
   "outputs": [
    {
     "name": "stdout",
     "output_type": "stream",
     "text": [
      "Accuracy: 0.7786741835147745\n",
      "Cross validation score:  0.7779109225322781\n",
      "\n",
      "\t\t\tClassification report\n",
      "               precision    recall  f1-score   support\n",
      "\n",
      "           0       0.97      0.79      0.87      9458\n",
      "           1       0.22      0.70      0.34       830\n",
      "\n",
      "    accuracy                           0.78     10288\n",
      "   macro avg       0.59      0.74      0.60     10288\n",
      "weighted avg       0.91      0.78      0.82     10288\n",
      "\n"
     ]
    }
   ],
   "source": [
    "svm = SVC(random_state=0,kernel='rbf',C=.2,gamma=0.5,class_weight='balanced',probability=True)  \n",
    "svm.fit(X_train, y_train)\n",
    "\n",
    "y_pred = svm.predict(X_test)\n",
    "print(\"Accuracy:\",metrics.accuracy_score(y_test, y_pred))\n",
    "print('Cross validation score: ',cross_val_score(svm, X_train, y_train, cv=10).mean())\n",
    "print(\"\\n\\t\\t\\tClassification report\\n\",classification_report(y_test, y_pred))"
   ]
  },
  {
   "cell_type": "code",
   "execution_count": 371,
   "id": "bbc8853e",
   "metadata": {
    "hidden": true
   },
   "outputs": [
    {
     "data": {
      "image/png": "[encoded data removed]",
      "text/plain": [
       "<Figure size 432x288 with 2 Axes>"
      ]
     },
     "metadata": {
      "needs_background": "light"
     },
     "output_type": "display_data"
    }
   ],
   "source": [
    "plot_confusion_matrix(svm,X_test,y_test,normalize=True)"
   ]
  },
  {
   "cell_type": "code",
   "execution_count": null,
   "id": "15d8a7de",
   "metadata": {
    "hidden": true
   },
   "outputs": [],
   "source": []
  },
  {
   "cell_type": "code",
   "execution_count": null,
   "id": "8450e64a",
   "metadata": {
    "hidden": true
   },
   "outputs": [],
   "source": [
    "## so we are getting better precision at same recall compared to Logistic Regression. Here 21.4% of not cancelled bookings \n",
    "## will be labelled as cancelled by the model and 69.6% of the cancelled bookings will be predicted by the model."
   ]
  },
  {
   "cell_type": "code",
   "execution_count": 159,
   "id": "6e06486b",
   "metadata": {
    "hidden": true
   },
   "outputs": [
    {
     "data": {
      "image/png": "[encoded data removed]",
      "text/plain": [
       "<Figure size 432x288 with 1 Axes>"
      ]
     },
     "metadata": {
      "needs_background": "light"
     },
     "output_type": "display_data"
    }
   ],
   "source": [
    "plot_roc(svm,X_test,y_test)"
   ]
  },
  {
   "cell_type": "code",
   "execution_count": null,
   "id": "ab29bc75",
   "metadata": {
    "hidden": true
   },
   "outputs": [],
   "source": []
  },
  {
   "cell_type": "code",
   "execution_count": 192,
   "id": "ecaa57d1",
   "metadata": {
    "hidden": true
   },
   "outputs": [
    {
     "data": {
      "image/png": "[encoded data removed]",
      "text/plain": [
       "<Figure size 432x288 with 1 Axes>"
      ]
     },
     "metadata": {
      "needs_background": "light"
     },
     "output_type": "display_data"
    }
   ],
   "source": [
    "plot_prc(svm,X_test,y_test)"
   ]
  },
  {
   "cell_type": "code",
   "execution_count": null,
   "id": "13785290",
   "metadata": {
    "hidden": true
   },
   "outputs": [],
   "source": []
  },
  {
   "cell_type": "code",
   "execution_count": null,
   "id": "a25118ae",
   "metadata": {
    "hidden": true
   },
   "outputs": [],
   "source": []
  },
  {
   "cell_type": "markdown",
   "id": "b96b7a41",
   "metadata": {
    "heading_collapsed": true,
    "hidden": true
   },
   "source": [
    "### Decision Tree"
   ]
  },
  {
   "cell_type": "code",
   "execution_count": 185,
   "id": "2b25429d",
   "metadata": {
    "hidden": true
   },
   "outputs": [],
   "source": []
  },
  {
   "cell_type": "code",
   "execution_count": 311,
   "id": "60e2fd31",
   "metadata": {
    "hidden": true
   },
   "outputs": [
    {
     "name": "stdout",
     "output_type": "stream",
     "text": [
      "Accuracy: 0.9197122861586314\n",
      "Cross validation score:  0.909098309732056\n",
      "\n",
      "\t\t\tClassification report\n",
      "               precision    recall  f1-score   support\n",
      "\n",
      "           0       0.93      0.99      0.96      9458\n",
      "           1       0.51      0.15      0.23       830\n",
      "\n",
      "    accuracy                           0.92     10288\n",
      "   macro avg       0.72      0.57      0.59     10288\n",
      "weighted avg       0.90      0.92      0.90     10288\n",
      "\n"
     ]
    }
   ],
   "source": [
    "model_dt = DecisionTreeClassifier(random_state=101, criterion = \"gini\", max_depth=40,min_samples_split= 35,min_samples_leaf=15) \n",
    "model_dt.fit(X_train, y_train)\n",
    "\n",
    "y_pred = model_dt.predict(X_test)\n",
    "print(\"Accuracy:\",metrics.accuracy_score(y_test, y_pred))\n",
    "print('Cross validation score: ',cross_val_score(svm, X_train, y_train, cv=10).mean())\n",
    "print(\"\\n\\t\\t\\tClassification report\\n\",classification_report(y_test, y_pred))"
   ]
  },
  {
   "cell_type": "code",
   "execution_count": 249,
   "id": "02ff6725",
   "metadata": {
    "hidden": true
   },
   "outputs": [
    {
     "data": {
      "image/png": "[encoded data removed]",
      "text/plain": [
       "<Figure size 432x288 with 2 Axes>"
      ]
     },
     "metadata": {
      "needs_background": "light"
     },
     "output_type": "display_data"
    }
   ],
   "source": [
    "plot_confusion_matrix(model_dt,X_test,y_test,normalize=True)"
   ]
  },
  {
   "cell_type": "code",
   "execution_count": null,
   "id": "08f8f7ff",
   "metadata": {
    "hidden": true
   },
   "outputs": [],
   "source": [
    "## let us try to increase our recall"
   ]
  },
  {
   "cell_type": "code",
   "execution_count": null,
   "id": "9ae2ca33",
   "metadata": {
    "hidden": true
   },
   "outputs": [],
   "source": []
  },
  {
   "cell_type": "code",
   "execution_count": 319,
   "id": "c5f238ff",
   "metadata": {
    "hidden": true
   },
   "outputs": [
    {
     "name": "stdout",
     "output_type": "stream",
     "text": [
      "Best parameters:  {'criterion': 'gini', 'max_depth': 20, 'min_samples_leaf': 1, 'min_samples_split': 4}\n"
     ]
    }
   ],
   "source": [
    "dt_model= DecisionTreeClassifier(random_state=101)\n",
    "param_dist = {'max_depth': [11,12,20,25,30,40],             \n",
    "              'criterion': ['gini'],\n",
    "             'min_samples_split': [2,3,4,5,8,15],\n",
    "             'min_samples_leaf':[1,2,3,5,6,7,8]}\n",
    "\n",
    "\n",
    "model_dtcv = GridSearchCV(dt_model, param_dist,cv=10,scoring='recall')\n",
    "model_dtcv.fit(X_train, y_train)\n",
    "\n",
    "print(\"Best parameters: \",model_dtcv.best_params_)"
   ]
  },
  {
   "cell_type": "code",
   "execution_count": null,
   "id": "7901fcfe",
   "metadata": {
    "hidden": true
   },
   "outputs": [],
   "source": []
  },
  {
   "cell_type": "code",
   "execution_count": 187,
   "id": "04e431ba",
   "metadata": {
    "hidden": true
   },
   "outputs": [
    {
     "name": "stdout",
     "output_type": "stream",
     "text": [
      "Accuracy: 0.911450233281493\n",
      "Cross validation score:  0.9076818166041927\n",
      "\n",
      "\t\t\tClassification report\n",
      "               precision    recall  f1-score   support\n",
      "\n",
      "           0       0.93      0.97      0.95      9458\n",
      "           1       0.40      0.19      0.26       830\n",
      "\n",
      "    accuracy                           0.91     10288\n",
      "   macro avg       0.67      0.58      0.61     10288\n",
      "weighted avg       0.89      0.91      0.90     10288\n",
      "\n"
     ]
    }
   ],
   "source": [
    "model_dt = DecisionTreeClassifier(random_state=101, criterion = \"gini\", max_depth=20,min_samples_split= 4,min_samples_leaf=1) \n",
    "model_dt.fit(X_train, y_train)\n",
    "\n",
    "y_pred = model_dt.predict(X_test)\n",
    "print(\"Accuracy:\",metrics.accuracy_score(y_test, y_pred))\n",
    "print('Cross validation score: ',cross_val_score(model_dt, X_train, y_train, cv=10).mean())\n",
    "print(\"\\n\\t\\t\\tClassification report\\n\",classification_report(y_test, y_pred))"
   ]
  },
  {
   "cell_type": "code",
   "execution_count": 320,
   "id": "aea958a3",
   "metadata": {
    "hidden": true
   },
   "outputs": [
    {
     "data": {
      "image/png": "[encoded data removed]",
      "text/plain": [
       "<Figure size 432x288 with 2 Axes>"
      ]
     },
     "metadata": {
      "needs_background": "light"
     },
     "output_type": "display_data"
    }
   ],
   "source": [
    "plot_confusion_matrix(model_dt,X_test,y_test,normalize=True)"
   ]
  },
  {
   "cell_type": "code",
   "execution_count": 188,
   "id": "47704395",
   "metadata": {
    "hidden": true
   },
   "outputs": [
    {
     "data": {
      "image/png": "[encoded data removed]",
      "text/plain": [
       "<Figure size 432x288 with 1 Axes>"
      ]
     },
     "metadata": {
      "needs_background": "light"
     },
     "output_type": "display_data"
    }
   ],
   "source": [
    "plot_roc(model_dt,X_test,y_test)"
   ]
  },
  {
   "cell_type": "code",
   "execution_count": 193,
   "id": "75f18319",
   "metadata": {
    "hidden": true
   },
   "outputs": [
    {
     "data": {
      "image/png": "[encoded data removed]",
      "text/plain": [
       "<Figure size 432x288 with 1 Axes>"
      ]
     },
     "metadata": {
      "needs_background": "light"
     },
     "output_type": "display_data"
    }
   ],
   "source": [
    "plot_prc(model_dt,X_test,y_test)"
   ]
  },
  {
   "cell_type": "markdown",
   "id": "cb1bbef1",
   "metadata": {
    "heading_collapsed": true,
    "hidden": true
   },
   "source": [
    "### Random Forest"
   ]
  },
  {
   "cell_type": "code",
   "execution_count": null,
   "id": "0320fb92",
   "metadata": {
    "hidden": true
   },
   "outputs": [],
   "source": []
  },
  {
   "cell_type": "code",
   "execution_count": 333,
   "id": "2f759f35",
   "metadata": {
    "hidden": true
   },
   "outputs": [
    {
     "name": "stdout",
     "output_type": "stream",
     "text": [
      "Accuracy: 0.9133942457231726\n",
      "Cross validation score:  0.909098309732056\n",
      "\n",
      "\t\t\tClassification report\n",
      "               precision    recall  f1-score   support\n",
      "\n",
      "           0       0.93      0.98      0.95      9458\n",
      "           1       0.42      0.20      0.27       830\n",
      "\n",
      "    accuracy                           0.91     10288\n",
      "   macro avg       0.68      0.59      0.61     10288\n",
      "weighted avg       0.89      0.91      0.90     10288\n",
      "\n"
     ]
    }
   ],
   "source": [
    "model_rf = RandomForestClassifier(random_state=42)\n",
    "model_rf.set_params(n_estimators=1500)\n",
    "model_rf.fit(X_train,y_train)\n",
    "\n",
    "\n",
    "\n",
    "y_pred = model_rf.predict(X_test)\n",
    "print(\"Accuracy:\",metrics.accuracy_score(y_test, y_pred))\n",
    "print('Cross validation score: ',cross_val_score(svm, X_train, y_train, cv=10).mean())\n",
    "print(\"\\n\\t\\t\\tClassification report\\n\",classification_report(y_test, y_pred))"
   ]
  },
  {
   "cell_type": "code",
   "execution_count": 334,
   "id": "082d2493",
   "metadata": {
    "hidden": true
   },
   "outputs": [
    {
     "data": {
      "image/png": "[encoded data removed]",
      "text/plain": [
       "<Figure size 432x288 with 2 Axes>"
      ]
     },
     "metadata": {
      "needs_background": "light"
     },
     "output_type": "display_data"
    }
   ],
   "source": [
    "plot_confusion_matrix(model_rf,X_test,y_test,normalize=True)"
   ]
  },
  {
   "cell_type": "code",
   "execution_count": null,
   "id": "8fa75703",
   "metadata": {
    "hidden": true
   },
   "outputs": [],
   "source": []
  },
  {
   "cell_type": "code",
   "execution_count": null,
   "id": "607ccea8",
   "metadata": {
    "hidden": true
   },
   "outputs": [],
   "source": [
    "## tuning the other parameters"
   ]
  },
  {
   "cell_type": "code",
   "execution_count": 204,
   "id": "148a072f",
   "metadata": {
    "hidden": true
   },
   "outputs": [
    {
     "name": "stdout",
     "output_type": "stream",
     "text": [
      "Accuracy: 0.9144634525660964\n",
      "Cross validation score:  0.9126395251978343\n",
      "\n",
      "\t\t\tClassification report\n",
      "               precision    recall  f1-score   support\n",
      "\n",
      "           0       0.93      0.98      0.95      9458\n",
      "           1       0.43      0.20      0.27       830\n",
      "\n",
      "    accuracy                           0.91     10288\n",
      "   macro avg       0.68      0.59      0.61     10288\n",
      "weighted avg       0.89      0.91      0.90     10288\n",
      "\n"
     ]
    }
   ],
   "source": [
    "model_rf = RandomForestClassifier(random_state=42)\n",
    "model_rf.set_params(n_estimators=1500,max_depth=30,min_samples_split= 3,min_samples_leaf=1)\n",
    "model_rf.fit(X_train,y_train)\n",
    "\n",
    "\n",
    "\n",
    "y_pred = model_rf.predict(X_test)\n",
    "print(\"Accuracy:\",metrics.accuracy_score(y_test, y_pred))\n",
    "print('Cross validation score: ',cross_val_score(model_rf, X_train, y_train, cv=10).mean())\n",
    "print(\"\\n\\t\\t\\tClassification report\\n\",classification_report(y_test, y_pred))"
   ]
  },
  {
   "cell_type": "code",
   "execution_count": 332,
   "id": "208df3f8",
   "metadata": {
    "hidden": true
   },
   "outputs": [
    {
     "data": {
      "image/png": "[encoded data removed]",
      "text/plain": [
       "<Figure size 432x288 with 2 Axes>"
      ]
     },
     "metadata": {
      "needs_background": "light"
     },
     "output_type": "display_data"
    }
   ],
   "source": [
    "plot_confusion_matrix(model_rf,X_test,y_test,normalize=True)"
   ]
  },
  {
   "cell_type": "code",
   "execution_count": null,
   "id": "26b50d1c",
   "metadata": {
    "hidden": true
   },
   "outputs": [],
   "source": [
    "## Here even though only 2.3% of the not cancelled bookings are being mislabelled as cancelled, but out of the cancelled bookings\n",
    "## the model is predicting only 19.8% of them "
   ]
  },
  {
   "cell_type": "code",
   "execution_count": null,
   "id": "9f1cfcb9",
   "metadata": {
    "hidden": true
   },
   "outputs": [],
   "source": []
  },
  {
   "cell_type": "code",
   "execution_count": 163,
   "id": "526f4eaa",
   "metadata": {
    "hidden": true
   },
   "outputs": [
    {
     "data": {
      "image/png": "[encoded data removed]",
      "text/plain": [
       "<Figure size 432x288 with 1 Axes>"
      ]
     },
     "metadata": {
      "needs_background": "light"
     },
     "output_type": "display_data"
    }
   ],
   "source": [
    "plot_roc(model_rf,X_test,y_test)"
   ]
  },
  {
   "cell_type": "code",
   "execution_count": 194,
   "id": "e76881f5",
   "metadata": {
    "hidden": true
   },
   "outputs": [
    {
     "data": {
      "image/png": "[encoded data removed]",
      "text/plain": [
       "<Figure size 432x288 with 1 Axes>"
      ]
     },
     "metadata": {
      "needs_background": "light"
     },
     "output_type": "display_data"
    }
   ],
   "source": [
    "plot_prc(model_rf,X_test,y_test)"
   ]
  },
  {
   "cell_type": "code",
   "execution_count": null,
   "id": "b812faa1",
   "metadata": {
    "hidden": true
   },
   "outputs": [],
   "source": []
  },
  {
   "cell_type": "code",
   "execution_count": null,
   "id": "95481241",
   "metadata": {
    "hidden": true
   },
   "outputs": [],
   "source": []
  },
  {
   "cell_type": "code",
   "execution_count": null,
   "id": "83dd6f63",
   "metadata": {
    "hidden": true
   },
   "outputs": [],
   "source": []
  },
  {
   "cell_type": "markdown",
   "id": "fac28e73",
   "metadata": {
    "heading_collapsed": true,
    "hidden": true
   },
   "source": [
    "### KNN"
   ]
  },
  {
   "cell_type": "code",
   "execution_count": null,
   "id": "fcf10162",
   "metadata": {
    "hidden": true
   },
   "outputs": [],
   "source": []
  },
  {
   "cell_type": "code",
   "execution_count": 255,
   "id": "2933c590",
   "metadata": {
    "hidden": true
   },
   "outputs": [],
   "source": [
    "error = []\n",
    "for i in range(1, 50):  \n",
    "    knn = KNeighborsClassifier(n_neighbors=i)\n",
    "    knn.fit(X_train, y_train)\n",
    "    pred_i = knn.predict(X_test)\n",
    "    error.append(np.mean(pred_i != y_test))"
   ]
  },
  {
   "cell_type": "code",
   "execution_count": 256,
   "id": "f378e2ed",
   "metadata": {
    "hidden": true
   },
   "outputs": [
    {
     "data": {
      "image/png": "[encoded data removed]",
      "text/plain": [
       "<Figure size 864x432 with 1 Axes>"
      ]
     },
     "metadata": {
      "needs_background": "light"
     },
     "output_type": "display_data"
    }
   ],
   "source": [
    "plt.figure(figsize=(12, 6))  \n",
    "plt.plot(range(1, 50), error, color='red', linestyle='dashed', marker='o',  \n",
    "         markerfacecolor='blue', markersize=10)\n",
    "plt.title('Error Rate vs K Value') \n",
    "x_ticks = np.arange(0, 51, 5)\n",
    "plt.xticks(x_ticks)\n",
    "plt.xlabel('K Value')  \n",
    "plt.ylabel('Mean Error')  \n",
    "plt.show()"
   ]
  },
  {
   "cell_type": "code",
   "execution_count": null,
   "id": "16694c91",
   "metadata": {
    "hidden": true
   },
   "outputs": [],
   "source": [
    "## The error plot suggests around K=5 to be an optimal value for K"
   ]
  },
  {
   "cell_type": "code",
   "execution_count": null,
   "id": "e7fc85de",
   "metadata": {
    "hidden": true
   },
   "outputs": [],
   "source": []
  },
  {
   "cell_type": "code",
   "execution_count": 165,
   "id": "388c0565",
   "metadata": {
    "hidden": true
   },
   "outputs": [
    {
     "name": "stdout",
     "output_type": "stream",
     "text": [
      "Accuracy: 0.9134914463452566\n",
      "Cross validation score:  0.9130557927252534\n",
      "\n",
      "\t\t\tClassification report\n",
      "               precision    recall  f1-score   support\n",
      "\n",
      "           0       0.93      0.98      0.95      9458\n",
      "           1       0.41      0.17      0.25       830\n",
      "\n",
      "    accuracy                           0.91     10288\n",
      "   macro avg       0.67      0.58      0.60     10288\n",
      "weighted avg       0.89      0.91      0.90     10288\n",
      "\n"
     ]
    }
   ],
   "source": [
    "knn = KNeighborsClassifier(n_neighbors=5)\n",
    "knn.fit(X_train, y_train)\n",
    "\n",
    "y_pred=knn.predict(X_test)\n",
    "\n",
    "print(\"Accuracy:\",metrics.accuracy_score(y_test, y_pred))\n",
    "print('Cross validation score: ',cross_val_score(knn, X_train, y_train, cv=10).mean())\n",
    "print(\"\\n\\t\\t\\tClassification report\\n\",classification_report(y_test, y_pred))"
   ]
  },
  {
   "cell_type": "code",
   "execution_count": 389,
   "id": "b510da2a",
   "metadata": {
    "hidden": true
   },
   "outputs": [
    {
     "data": {
      "image/png": "[encoded data removed]",
      "text/plain": [
       "<Figure size 432x288 with 2 Axes>"
      ]
     },
     "metadata": {
      "needs_background": "light"
     },
     "output_type": "display_data"
    }
   ],
   "source": [
    "plot_confusion_matrix(knn,X_test,y_test,normalize=True)"
   ]
  },
  {
   "cell_type": "code",
   "execution_count": 166,
   "id": "afda3c0f",
   "metadata": {
    "hidden": true
   },
   "outputs": [
    {
     "data": {
      "image/png": "[encoded data removed]",
      "text/plain": [
       "<Figure size 432x288 with 1 Axes>"
      ]
     },
     "metadata": {
      "needs_background": "light"
     },
     "output_type": "display_data"
    }
   ],
   "source": [
    "plot_roc(knn,X_test,y_test)"
   ]
  },
  {
   "cell_type": "code",
   "execution_count": 195,
   "id": "7d98a18a",
   "metadata": {
    "hidden": true
   },
   "outputs": [
    {
     "data": {
      "image/png": "[encoded data removed]",
      "text/plain": [
       "<Figure size 432x288 with 1 Axes>"
      ]
     },
     "metadata": {
      "needs_background": "light"
     },
     "output_type": "display_data"
    }
   ],
   "source": [
    "plot_prc(knn,X_test,y_test)"
   ]
  },
  {
   "cell_type": "markdown",
   "id": "0ad8ec2b",
   "metadata": {
    "heading_collapsed": true,
    "hidden": true
   },
   "source": [
    "### Naive Bayes"
   ]
  },
  {
   "cell_type": "code",
   "execution_count": null,
   "id": "0a72f295",
   "metadata": {
    "hidden": true
   },
   "outputs": [],
   "source": []
  },
  {
   "cell_type": "code",
   "execution_count": 203,
   "id": "33374462",
   "metadata": {
    "hidden": true
   },
   "outputs": [
    {
     "name": "stdout",
     "output_type": "stream",
     "text": [
      "Accuracy: 0.880151632970451\n",
      "Cross validation score:  0.8819779952797445\n",
      "\n",
      "\t\t\tClassification report\n",
      "               precision    recall  f1-score   support\n",
      "\n",
      "           0       0.93      0.94      0.94      9458\n",
      "           1       0.21      0.18      0.19       830\n",
      "\n",
      "    accuracy                           0.88     10288\n",
      "   macro avg       0.57      0.56      0.56     10288\n",
      "weighted avg       0.87      0.88      0.88     10288\n",
      "\n"
     ]
    }
   ],
   "source": [
    "model_nb = GaussianNB()\n",
    "model_nb.fit(X_train, y_train)\n",
    "\n",
    "y_pred=model_nb.predict(X_test)\n",
    "\n",
    "print(\"Accuracy:\",metrics.accuracy_score(y_test, y_pred))\n",
    "print('Cross validation score: ',cross_val_score(model_nb, X_train, y_train, cv=10).mean())\n",
    "print(\"\\n\\t\\t\\tClassification report\\n\",classification_report(y_test, y_pred))"
   ]
  },
  {
   "cell_type": "code",
   "execution_count": 394,
   "id": "89563ca1",
   "metadata": {
    "hidden": true
   },
   "outputs": [
    {
     "data": {
      "image/png": "[encoded data removed]",
      "text/plain": [
       "<Figure size 432x288 with 2 Axes>"
      ]
     },
     "metadata": {
      "needs_background": "light"
     },
     "output_type": "display_data"
    }
   ],
   "source": [
    "plot_confusion_matrix(model_nb,X_test,y_test,normalize=True)"
   ]
  },
  {
   "cell_type": "code",
   "execution_count": 168,
   "id": "6f029c82",
   "metadata": {
    "hidden": true
   },
   "outputs": [
    {
     "data": {
      "image/png": "[encoded data removed]",
      "text/plain": [
       "<Figure size 432x288 with 1 Axes>"
      ]
     },
     "metadata": {
      "needs_background": "light"
     },
     "output_type": "display_data"
    }
   ],
   "source": [
    "plot_roc(model_nb,X_test,y_test)"
   ]
  },
  {
   "cell_type": "code",
   "execution_count": null,
   "id": "ab55f159",
   "metadata": {
    "hidden": true
   },
   "outputs": [],
   "source": []
  },
  {
   "cell_type": "code",
   "execution_count": 196,
   "id": "05839660",
   "metadata": {
    "hidden": true
   },
   "outputs": [
    {
     "data": {
      "image/png": "[encoded data removed]",
      "text/plain": [
       "<Figure size 432x288 with 1 Axes>"
      ]
     },
     "metadata": {
      "needs_background": "light"
     },
     "output_type": "display_data"
    }
   ],
   "source": [
    "plot_prc(model_nb,X_test,y_test)"
   ]
  },
  {
   "cell_type": "code",
   "execution_count": null,
   "id": "f60dbb8d",
   "metadata": {
    "hidden": true
   },
   "outputs": [],
   "source": []
  },
  {
   "cell_type": "code",
   "execution_count": null,
   "id": "d6d95704",
   "metadata": {
    "hidden": true
   },
   "outputs": [],
   "source": []
  },
  {
   "cell_type": "code",
   "execution_count": null,
   "id": "36584634",
   "metadata": {
    "hidden": true
   },
   "outputs": [],
   "source": []
  },
  {
   "cell_type": "markdown",
   "id": "b7c4360a",
   "metadata": {
    "heading_collapsed": true
   },
   "source": [
    "## Conclusion"
   ]
  },
  {
   "cell_type": "markdown",
   "id": "4dfc9958",
   "metadata": {
    "hidden": true
   },
   "source": [
    "SVM and random forest are the best performing classifiers amongst others for this dataset. Looking at their metrics we can see\n",
    "that the area under the PR curve is the same in both cases and AUC for the ROC curve is better for SVM. Also, the recall is higher for the SVM model than the RF model, making it the optimal choice for the business if they can afford to lose some bookings that might have gone through (lower precision)."
   ]
  },
  {
   "cell_type": "code",
   "execution_count": null,
   "id": "c80c87ae",
   "metadata": {
    "hidden": true
   },
   "outputs": [],
   "source": []
  },
  {
   "cell_type": "code",
   "execution_count": null,
   "id": "19da50b8",
   "metadata": {
    "hidden": true
   },
   "outputs": [],
   "source": []
  }
 ],
 "metadata": {
  "kernelspec": {
   "display_name": "Python 3 (ipykernel)",
   "language": "python",
   "name": "python3"
  },
  "language_info": {
   "codemirror_mode": {
    "name": "ipython",
    "version": 3
   },
   "file_extension": ".py",
   "mimetype": "text/x-python",
   "name": "python",
   "nbconvert_exporter": "python",
   "pygments_lexer": "ipython3",
   "version": "3.10.1"
  },
  "varInspector": {
   "cols": {
    "lenName": 16,
    "lenType": 16,
    "lenVar": 40
   },
   "kernels_config": {
    "python": {
     "delete_cmd_postfix": "",
     "delete_cmd_prefix": "del ",
     "library": "var_list.py",
     "varRefreshCmd": "print(var_dic_list())"
    },
    "r": {
     "delete_cmd_postfix": ") ",
     "delete_cmd_prefix": "rm(",
     "library": "var_list.r",
     "varRefreshCmd": "cat(var_dic_list()) "
    }
   },
   "types_to_exclude": [
    "module",
    "function",
    "builtin_function_or_method",
    "instance",
    "_Feature"
   ],
   "window_display": false
  }
 },
 "nbformat": 4,
 "nbformat_minor": 5
}

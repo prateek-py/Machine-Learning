{
 "cells": [
  {
   "cell_type": "markdown",
   "id": "b23c5ba2",
   "metadata": {},
   "source": [
    "# Credit Risk analysis \n",
    "\n",
    "In this project we will access based on the marketing campaign by a bank and the credit history of the client to determine if he is a potential customer for the term deposit and will subscibe to it or not.<br> \n",
    "\n",
    "**Target variable** :*has the client subscribed a term deposit? (binary: \"yes\",\"no\")*\n",
    "    \n",
    "**Features**<br>\n",
    "pdays: *Days passed by since the last contact to the client from a previous campaign (-1 means client was not                            contacted previously)*<br>\n",
    "\n",
    "previous: *number of contacts performed before this campaign and for this client*<br>\n",
    "\n",
    "poutcome: *outcome of the previous marketing campaign (categorical: \"unknown\",\"other\",\"failure\",\"success\")*<br>\n",
    "\n",
    "housing: *has housing loan?* <br>\n",
    "\n",
    "loan: *has personal loan?*<br>\n",
    "\n",
    "default: *EMI defaults to the credit card. (binary: \"yes\",\"no\")*<br>\n",
    "\n",
    "day: *last contact day of the month*<br>\n",
    "\n",
    "month: *last contact month of year* <br>\n",
    "\n",
    "duration: *last contact duration, in seconds*<br>\n",
    "\n",
    "campaign: *number of contacts performed during this campaign and for this client*<br>\n",
    "\n",
    "contact: *contact communication type*<br>\n",
    "\n",
    "Other features are self explanatory that include the client info(age, job, education, balance, marital)"
   ]
  },
  {
   "cell_type": "code",
   "execution_count": 1,
   "id": "0230fd0a",
   "metadata": {},
   "outputs": [],
   "source": [
    "import pandas as pd\n",
    "import numpy as np\n",
    "import seaborn as sns\n",
    "from sklearn import preprocessing\n",
    "from sklearn.model_selection import train_test_split, GridSearchCV\n",
    "from sklearn.tree import DecisionTreeClassifier\n",
    "from sklearn.metrics import confusion_matrix\n",
    "import itertools\n",
    "from sklearn.metrics import accuracy_score\n",
    "from sklearn.metrics import roc_curve, auc\n",
    "import matplotlib.pyplot as plt \n",
    "from IPython.display import Image  "
   ]
  },
  {
   "cell_type": "code",
   "execution_count": null,
   "id": "bb377f54",
   "metadata": {},
   "outputs": [],
   "source": []
  },
  {
   "cell_type": "code",
   "execution_count": 2,
   "id": "3d4179ab",
   "metadata": {},
   "outputs": [
    {
     "data": {
      "text/plain": [
       "array(['age', 'job', 'marital', 'education', 'default', 'balance',\n",
       "       'housing', 'loan', 'contact', 'day', 'month', 'duration',\n",
       "       'campaign', 'pdays', 'previous', 'poutcome', 'deposit'],\n",
       "      dtype=object)"
      ]
     },
     "execution_count": 2,
     "metadata": {},
     "output_type": "execute_result"
    }
   ],
   "source": [
    "dummy_df = pd.read_csv(\"bank.csv\", na_values =['NA'])\n",
    "cols = dummy_df.columns.values\n",
    "cols"
   ]
  },
  {
   "cell_type": "markdown",
   "id": "2f351386",
   "metadata": {},
   "source": [
    "# EDA"
   ]
  },
  {
   "cell_type": "code",
   "execution_count": 3,
   "id": "3e251bcc",
   "metadata": {},
   "outputs": [
    {
     "data": {
      "text/html": [
       "<div>\n",
       "<style scoped>\n",
       "    .dataframe tbody tr th:only-of-type {\n",
       "        vertical-align: middle;\n",
       "    }\n",
       "\n",
       "    .dataframe tbody tr th {\n",
       "        vertical-align: top;\n",
       "    }\n",
       "\n",
       "    .dataframe thead th {\n",
       "        text-align: right;\n",
       "    }\n",
       "</style>\n",
       "<table border=\"1\" class=\"dataframe\">\n",
       "  <thead>\n",
       "    <tr style=\"text-align: right;\">\n",
       "      <th></th>\n",
       "      <th>age</th>\n",
       "      <th>job</th>\n",
       "      <th>marital</th>\n",
       "      <th>education</th>\n",
       "      <th>default</th>\n",
       "      <th>balance</th>\n",
       "      <th>housing</th>\n",
       "      <th>loan</th>\n",
       "      <th>contact</th>\n",
       "      <th>day</th>\n",
       "      <th>month</th>\n",
       "      <th>duration</th>\n",
       "      <th>campaign</th>\n",
       "      <th>pdays</th>\n",
       "      <th>previous</th>\n",
       "      <th>poutcome</th>\n",
       "      <th>deposit</th>\n",
       "    </tr>\n",
       "  </thead>\n",
       "  <tbody>\n",
       "    <tr>\n",
       "      <th>0</th>\n",
       "      <td>59</td>\n",
       "      <td>admin.</td>\n",
       "      <td>married</td>\n",
       "      <td>secondary</td>\n",
       "      <td>no</td>\n",
       "      <td>2343</td>\n",
       "      <td>yes</td>\n",
       "      <td>no</td>\n",
       "      <td>unknown</td>\n",
       "      <td>5</td>\n",
       "      <td>may</td>\n",
       "      <td>1042</td>\n",
       "      <td>1</td>\n",
       "      <td>-1</td>\n",
       "      <td>0</td>\n",
       "      <td>unknown</td>\n",
       "      <td>yes</td>\n",
       "    </tr>\n",
       "    <tr>\n",
       "      <th>1</th>\n",
       "      <td>56</td>\n",
       "      <td>admin.</td>\n",
       "      <td>married</td>\n",
       "      <td>secondary</td>\n",
       "      <td>no</td>\n",
       "      <td>45</td>\n",
       "      <td>no</td>\n",
       "      <td>no</td>\n",
       "      <td>unknown</td>\n",
       "      <td>5</td>\n",
       "      <td>may</td>\n",
       "      <td>1467</td>\n",
       "      <td>1</td>\n",
       "      <td>-1</td>\n",
       "      <td>0</td>\n",
       "      <td>unknown</td>\n",
       "      <td>yes</td>\n",
       "    </tr>\n",
       "    <tr>\n",
       "      <th>2</th>\n",
       "      <td>41</td>\n",
       "      <td>technician</td>\n",
       "      <td>married</td>\n",
       "      <td>secondary</td>\n",
       "      <td>no</td>\n",
       "      <td>1270</td>\n",
       "      <td>yes</td>\n",
       "      <td>no</td>\n",
       "      <td>unknown</td>\n",
       "      <td>5</td>\n",
       "      <td>may</td>\n",
       "      <td>1389</td>\n",
       "      <td>1</td>\n",
       "      <td>-1</td>\n",
       "      <td>0</td>\n",
       "      <td>unknown</td>\n",
       "      <td>yes</td>\n",
       "    </tr>\n",
       "    <tr>\n",
       "      <th>3</th>\n",
       "      <td>55</td>\n",
       "      <td>services</td>\n",
       "      <td>married</td>\n",
       "      <td>secondary</td>\n",
       "      <td>no</td>\n",
       "      <td>2476</td>\n",
       "      <td>yes</td>\n",
       "      <td>no</td>\n",
       "      <td>unknown</td>\n",
       "      <td>5</td>\n",
       "      <td>may</td>\n",
       "      <td>579</td>\n",
       "      <td>1</td>\n",
       "      <td>-1</td>\n",
       "      <td>0</td>\n",
       "      <td>unknown</td>\n",
       "      <td>yes</td>\n",
       "    </tr>\n",
       "    <tr>\n",
       "      <th>4</th>\n",
       "      <td>54</td>\n",
       "      <td>admin.</td>\n",
       "      <td>married</td>\n",
       "      <td>tertiary</td>\n",
       "      <td>no</td>\n",
       "      <td>184</td>\n",
       "      <td>no</td>\n",
       "      <td>no</td>\n",
       "      <td>unknown</td>\n",
       "      <td>5</td>\n",
       "      <td>may</td>\n",
       "      <td>673</td>\n",
       "      <td>2</td>\n",
       "      <td>-1</td>\n",
       "      <td>0</td>\n",
       "      <td>unknown</td>\n",
       "      <td>yes</td>\n",
       "    </tr>\n",
       "    <tr>\n",
       "      <th>5</th>\n",
       "      <td>42</td>\n",
       "      <td>management</td>\n",
       "      <td>single</td>\n",
       "      <td>tertiary</td>\n",
       "      <td>no</td>\n",
       "      <td>0</td>\n",
       "      <td>yes</td>\n",
       "      <td>yes</td>\n",
       "      <td>unknown</td>\n",
       "      <td>5</td>\n",
       "      <td>may</td>\n",
       "      <td>562</td>\n",
       "      <td>2</td>\n",
       "      <td>-1</td>\n",
       "      <td>0</td>\n",
       "      <td>unknown</td>\n",
       "      <td>yes</td>\n",
       "    </tr>\n",
       "    <tr>\n",
       "      <th>6</th>\n",
       "      <td>56</td>\n",
       "      <td>management</td>\n",
       "      <td>married</td>\n",
       "      <td>tertiary</td>\n",
       "      <td>no</td>\n",
       "      <td>830</td>\n",
       "      <td>yes</td>\n",
       "      <td>yes</td>\n",
       "      <td>unknown</td>\n",
       "      <td>6</td>\n",
       "      <td>may</td>\n",
       "      <td>1201</td>\n",
       "      <td>1</td>\n",
       "      <td>-1</td>\n",
       "      <td>0</td>\n",
       "      <td>unknown</td>\n",
       "      <td>yes</td>\n",
       "    </tr>\n",
       "    <tr>\n",
       "      <th>7</th>\n",
       "      <td>60</td>\n",
       "      <td>retired</td>\n",
       "      <td>divorced</td>\n",
       "      <td>secondary</td>\n",
       "      <td>no</td>\n",
       "      <td>545</td>\n",
       "      <td>yes</td>\n",
       "      <td>no</td>\n",
       "      <td>unknown</td>\n",
       "      <td>6</td>\n",
       "      <td>may</td>\n",
       "      <td>1030</td>\n",
       "      <td>1</td>\n",
       "      <td>-1</td>\n",
       "      <td>0</td>\n",
       "      <td>unknown</td>\n",
       "      <td>yes</td>\n",
       "    </tr>\n",
       "    <tr>\n",
       "      <th>8</th>\n",
       "      <td>37</td>\n",
       "      <td>technician</td>\n",
       "      <td>married</td>\n",
       "      <td>secondary</td>\n",
       "      <td>no</td>\n",
       "      <td>1</td>\n",
       "      <td>yes</td>\n",
       "      <td>no</td>\n",
       "      <td>unknown</td>\n",
       "      <td>6</td>\n",
       "      <td>may</td>\n",
       "      <td>608</td>\n",
       "      <td>1</td>\n",
       "      <td>-1</td>\n",
       "      <td>0</td>\n",
       "      <td>unknown</td>\n",
       "      <td>yes</td>\n",
       "    </tr>\n",
       "    <tr>\n",
       "      <th>9</th>\n",
       "      <td>28</td>\n",
       "      <td>services</td>\n",
       "      <td>single</td>\n",
       "      <td>secondary</td>\n",
       "      <td>no</td>\n",
       "      <td>5090</td>\n",
       "      <td>yes</td>\n",
       "      <td>no</td>\n",
       "      <td>unknown</td>\n",
       "      <td>6</td>\n",
       "      <td>may</td>\n",
       "      <td>1297</td>\n",
       "      <td>3</td>\n",
       "      <td>-1</td>\n",
       "      <td>0</td>\n",
       "      <td>unknown</td>\n",
       "      <td>yes</td>\n",
       "    </tr>\n",
       "  </tbody>\n",
       "</table>\n",
       "</div>"
      ],
      "text/plain": [
       "   age         job   marital  education default  balance housing loan  \\\n",
       "0   59      admin.   married  secondary      no     2343     yes   no   \n",
       "1   56      admin.   married  secondary      no       45      no   no   \n",
       "2   41  technician   married  secondary      no     1270     yes   no   \n",
       "3   55    services   married  secondary      no     2476     yes   no   \n",
       "4   54      admin.   married   tertiary      no      184      no   no   \n",
       "5   42  management    single   tertiary      no        0     yes  yes   \n",
       "6   56  management   married   tertiary      no      830     yes  yes   \n",
       "7   60     retired  divorced  secondary      no      545     yes   no   \n",
       "8   37  technician   married  secondary      no        1     yes   no   \n",
       "9   28    services    single  secondary      no     5090     yes   no   \n",
       "\n",
       "   contact  day month  duration  campaign  pdays  previous poutcome deposit  \n",
       "0  unknown    5   may      1042         1     -1         0  unknown     yes  \n",
       "1  unknown    5   may      1467         1     -1         0  unknown     yes  \n",
       "2  unknown    5   may      1389         1     -1         0  unknown     yes  \n",
       "3  unknown    5   may       579         1     -1         0  unknown     yes  \n",
       "4  unknown    5   may       673         2     -1         0  unknown     yes  \n",
       "5  unknown    5   may       562         2     -1         0  unknown     yes  \n",
       "6  unknown    6   may      1201         1     -1         0  unknown     yes  \n",
       "7  unknown    6   may      1030         1     -1         0  unknown     yes  \n",
       "8  unknown    6   may       608         1     -1         0  unknown     yes  \n",
       "9  unknown    6   may      1297         3     -1         0  unknown     yes  "
      ]
     },
     "execution_count": 3,
     "metadata": {},
     "output_type": "execute_result"
    }
   ],
   "source": [
    "dummy_df.head(10)"
   ]
  },
  {
   "cell_type": "code",
   "execution_count": 4,
   "id": "aa11eafa",
   "metadata": {},
   "outputs": [
    {
     "data": {
      "text/html": [
       "<div>\n",
       "<style scoped>\n",
       "    .dataframe tbody tr th:only-of-type {\n",
       "        vertical-align: middle;\n",
       "    }\n",
       "\n",
       "    .dataframe tbody tr th {\n",
       "        vertical-align: top;\n",
       "    }\n",
       "\n",
       "    .dataframe thead th {\n",
       "        text-align: right;\n",
       "    }\n",
       "</style>\n",
       "<table border=\"1\" class=\"dataframe\">\n",
       "  <thead>\n",
       "    <tr style=\"text-align: right;\">\n",
       "      <th></th>\n",
       "      <th>age</th>\n",
       "      <th>job</th>\n",
       "      <th>marital</th>\n",
       "      <th>education</th>\n",
       "      <th>default</th>\n",
       "      <th>balance</th>\n",
       "      <th>housing</th>\n",
       "      <th>loan</th>\n",
       "      <th>contact</th>\n",
       "      <th>day</th>\n",
       "      <th>month</th>\n",
       "      <th>duration</th>\n",
       "      <th>campaign</th>\n",
       "      <th>pdays</th>\n",
       "      <th>previous</th>\n",
       "      <th>poutcome</th>\n",
       "      <th>deposit</th>\n",
       "    </tr>\n",
       "  </thead>\n",
       "  <tbody>\n",
       "    <tr>\n",
       "      <th>11157</th>\n",
       "      <td>33</td>\n",
       "      <td>blue-collar</td>\n",
       "      <td>single</td>\n",
       "      <td>primary</td>\n",
       "      <td>no</td>\n",
       "      <td>1</td>\n",
       "      <td>yes</td>\n",
       "      <td>no</td>\n",
       "      <td>cellular</td>\n",
       "      <td>20</td>\n",
       "      <td>apr</td>\n",
       "      <td>257</td>\n",
       "      <td>1</td>\n",
       "      <td>-1</td>\n",
       "      <td>0</td>\n",
       "      <td>unknown</td>\n",
       "      <td>no</td>\n",
       "    </tr>\n",
       "    <tr>\n",
       "      <th>11158</th>\n",
       "      <td>39</td>\n",
       "      <td>services</td>\n",
       "      <td>married</td>\n",
       "      <td>secondary</td>\n",
       "      <td>no</td>\n",
       "      <td>733</td>\n",
       "      <td>no</td>\n",
       "      <td>no</td>\n",
       "      <td>unknown</td>\n",
       "      <td>16</td>\n",
       "      <td>jun</td>\n",
       "      <td>83</td>\n",
       "      <td>4</td>\n",
       "      <td>-1</td>\n",
       "      <td>0</td>\n",
       "      <td>unknown</td>\n",
       "      <td>no</td>\n",
       "    </tr>\n",
       "    <tr>\n",
       "      <th>11159</th>\n",
       "      <td>32</td>\n",
       "      <td>technician</td>\n",
       "      <td>single</td>\n",
       "      <td>secondary</td>\n",
       "      <td>no</td>\n",
       "      <td>29</td>\n",
       "      <td>no</td>\n",
       "      <td>no</td>\n",
       "      <td>cellular</td>\n",
       "      <td>19</td>\n",
       "      <td>aug</td>\n",
       "      <td>156</td>\n",
       "      <td>2</td>\n",
       "      <td>-1</td>\n",
       "      <td>0</td>\n",
       "      <td>unknown</td>\n",
       "      <td>no</td>\n",
       "    </tr>\n",
       "    <tr>\n",
       "      <th>11160</th>\n",
       "      <td>43</td>\n",
       "      <td>technician</td>\n",
       "      <td>married</td>\n",
       "      <td>secondary</td>\n",
       "      <td>no</td>\n",
       "      <td>0</td>\n",
       "      <td>no</td>\n",
       "      <td>yes</td>\n",
       "      <td>cellular</td>\n",
       "      <td>8</td>\n",
       "      <td>may</td>\n",
       "      <td>9</td>\n",
       "      <td>2</td>\n",
       "      <td>172</td>\n",
       "      <td>5</td>\n",
       "      <td>failure</td>\n",
       "      <td>no</td>\n",
       "    </tr>\n",
       "    <tr>\n",
       "      <th>11161</th>\n",
       "      <td>34</td>\n",
       "      <td>technician</td>\n",
       "      <td>married</td>\n",
       "      <td>secondary</td>\n",
       "      <td>no</td>\n",
       "      <td>0</td>\n",
       "      <td>no</td>\n",
       "      <td>no</td>\n",
       "      <td>cellular</td>\n",
       "      <td>9</td>\n",
       "      <td>jul</td>\n",
       "      <td>628</td>\n",
       "      <td>1</td>\n",
       "      <td>-1</td>\n",
       "      <td>0</td>\n",
       "      <td>unknown</td>\n",
       "      <td>no</td>\n",
       "    </tr>\n",
       "  </tbody>\n",
       "</table>\n",
       "</div>"
      ],
      "text/plain": [
       "       age          job  marital  education default  balance housing loan  \\\n",
       "11157   33  blue-collar   single    primary      no        1     yes   no   \n",
       "11158   39     services  married  secondary      no      733      no   no   \n",
       "11159   32   technician   single  secondary      no       29      no   no   \n",
       "11160   43   technician  married  secondary      no        0      no  yes   \n",
       "11161   34   technician  married  secondary      no        0      no   no   \n",
       "\n",
       "        contact  day month  duration  campaign  pdays  previous poutcome  \\\n",
       "11157  cellular   20   apr       257         1     -1         0  unknown   \n",
       "11158   unknown   16   jun        83         4     -1         0  unknown   \n",
       "11159  cellular   19   aug       156         2     -1         0  unknown   \n",
       "11160  cellular    8   may         9         2    172         5  failure   \n",
       "11161  cellular    9   jul       628         1     -1         0  unknown   \n",
       "\n",
       "      deposit  \n",
       "11157      no  \n",
       "11158      no  \n",
       "11159      no  \n",
       "11160      no  \n",
       "11161      no  "
      ]
     },
     "execution_count": 4,
     "metadata": {},
     "output_type": "execute_result"
    }
   ],
   "source": [
    "dummy_df.tail()"
   ]
  },
  {
   "cell_type": "code",
   "execution_count": 5,
   "id": "d586903b",
   "metadata": {},
   "outputs": [
    {
     "data": {
      "text/html": [
       "<div>\n",
       "<style scoped>\n",
       "    .dataframe tbody tr th:only-of-type {\n",
       "        vertical-align: middle;\n",
       "    }\n",
       "\n",
       "    .dataframe tbody tr th {\n",
       "        vertical-align: top;\n",
       "    }\n",
       "\n",
       "    .dataframe thead th {\n",
       "        text-align: right;\n",
       "    }\n",
       "</style>\n",
       "<table border=\"1\" class=\"dataframe\">\n",
       "  <thead>\n",
       "    <tr style=\"text-align: right;\">\n",
       "      <th></th>\n",
       "      <th>age</th>\n",
       "      <th>balance</th>\n",
       "      <th>day</th>\n",
       "      <th>duration</th>\n",
       "      <th>campaign</th>\n",
       "      <th>pdays</th>\n",
       "      <th>previous</th>\n",
       "    </tr>\n",
       "  </thead>\n",
       "  <tbody>\n",
       "    <tr>\n",
       "      <th>count</th>\n",
       "      <td>11162.000000</td>\n",
       "      <td>11162.000000</td>\n",
       "      <td>11162.000000</td>\n",
       "      <td>11162.000000</td>\n",
       "      <td>11162.000000</td>\n",
       "      <td>11162.000000</td>\n",
       "      <td>11162.000000</td>\n",
       "    </tr>\n",
       "    <tr>\n",
       "      <th>mean</th>\n",
       "      <td>41.231948</td>\n",
       "      <td>1528.538524</td>\n",
       "      <td>15.658036</td>\n",
       "      <td>371.993818</td>\n",
       "      <td>2.508421</td>\n",
       "      <td>51.330407</td>\n",
       "      <td>0.832557</td>\n",
       "    </tr>\n",
       "    <tr>\n",
       "      <th>std</th>\n",
       "      <td>11.913369</td>\n",
       "      <td>3225.413326</td>\n",
       "      <td>8.420740</td>\n",
       "      <td>347.128386</td>\n",
       "      <td>2.722077</td>\n",
       "      <td>108.758282</td>\n",
       "      <td>2.292007</td>\n",
       "    </tr>\n",
       "    <tr>\n",
       "      <th>min</th>\n",
       "      <td>18.000000</td>\n",
       "      <td>-6847.000000</td>\n",
       "      <td>1.000000</td>\n",
       "      <td>2.000000</td>\n",
       "      <td>1.000000</td>\n",
       "      <td>-1.000000</td>\n",
       "      <td>0.000000</td>\n",
       "    </tr>\n",
       "    <tr>\n",
       "      <th>25%</th>\n",
       "      <td>32.000000</td>\n",
       "      <td>122.000000</td>\n",
       "      <td>8.000000</td>\n",
       "      <td>138.000000</td>\n",
       "      <td>1.000000</td>\n",
       "      <td>-1.000000</td>\n",
       "      <td>0.000000</td>\n",
       "    </tr>\n",
       "    <tr>\n",
       "      <th>50%</th>\n",
       "      <td>39.000000</td>\n",
       "      <td>550.000000</td>\n",
       "      <td>15.000000</td>\n",
       "      <td>255.000000</td>\n",
       "      <td>2.000000</td>\n",
       "      <td>-1.000000</td>\n",
       "      <td>0.000000</td>\n",
       "    </tr>\n",
       "    <tr>\n",
       "      <th>75%</th>\n",
       "      <td>49.000000</td>\n",
       "      <td>1708.000000</td>\n",
       "      <td>22.000000</td>\n",
       "      <td>496.000000</td>\n",
       "      <td>3.000000</td>\n",
       "      <td>20.750000</td>\n",
       "      <td>1.000000</td>\n",
       "    </tr>\n",
       "    <tr>\n",
       "      <th>max</th>\n",
       "      <td>95.000000</td>\n",
       "      <td>81204.000000</td>\n",
       "      <td>31.000000</td>\n",
       "      <td>3881.000000</td>\n",
       "      <td>63.000000</td>\n",
       "      <td>854.000000</td>\n",
       "      <td>58.000000</td>\n",
       "    </tr>\n",
       "  </tbody>\n",
       "</table>\n",
       "</div>"
      ],
      "text/plain": [
       "                age       balance           day      duration      campaign  \\\n",
       "count  11162.000000  11162.000000  11162.000000  11162.000000  11162.000000   \n",
       "mean      41.231948   1528.538524     15.658036    371.993818      2.508421   \n",
       "std       11.913369   3225.413326      8.420740    347.128386      2.722077   \n",
       "min       18.000000  -6847.000000      1.000000      2.000000      1.000000   \n",
       "25%       32.000000    122.000000      8.000000    138.000000      1.000000   \n",
       "50%       39.000000    550.000000     15.000000    255.000000      2.000000   \n",
       "75%       49.000000   1708.000000     22.000000    496.000000      3.000000   \n",
       "max       95.000000  81204.000000     31.000000   3881.000000     63.000000   \n",
       "\n",
       "              pdays      previous  \n",
       "count  11162.000000  11162.000000  \n",
       "mean      51.330407      0.832557  \n",
       "std      108.758282      2.292007  \n",
       "min       -1.000000      0.000000  \n",
       "25%       -1.000000      0.000000  \n",
       "50%       -1.000000      0.000000  \n",
       "75%       20.750000      1.000000  \n",
       "max      854.000000     58.000000  "
      ]
     },
     "execution_count": 5,
     "metadata": {},
     "output_type": "execute_result"
    }
   ],
   "source": [
    "dummy_df.describe()"
   ]
  },
  {
   "cell_type": "code",
   "execution_count": 6,
   "id": "6b577c15",
   "metadata": {},
   "outputs": [
    {
     "data": {
      "text/html": [
       "<div>\n",
       "<style scoped>\n",
       "    .dataframe tbody tr th:only-of-type {\n",
       "        vertical-align: middle;\n",
       "    }\n",
       "\n",
       "    .dataframe tbody tr th {\n",
       "        vertical-align: top;\n",
       "    }\n",
       "\n",
       "    .dataframe thead th {\n",
       "        text-align: right;\n",
       "    }\n",
       "</style>\n",
       "<table border=\"1\" class=\"dataframe\">\n",
       "  <thead>\n",
       "    <tr style=\"text-align: right;\">\n",
       "      <th></th>\n",
       "      <th>age</th>\n",
       "      <th>balance</th>\n",
       "      <th>day</th>\n",
       "      <th>duration</th>\n",
       "      <th>campaign</th>\n",
       "      <th>pdays</th>\n",
       "      <th>previous</th>\n",
       "    </tr>\n",
       "  </thead>\n",
       "  <tbody>\n",
       "    <tr>\n",
       "      <th>age</th>\n",
       "      <td>True</td>\n",
       "      <td>False</td>\n",
       "      <td>False</td>\n",
       "      <td>False</td>\n",
       "      <td>False</td>\n",
       "      <td>False</td>\n",
       "      <td>False</td>\n",
       "    </tr>\n",
       "    <tr>\n",
       "      <th>balance</th>\n",
       "      <td>False</td>\n",
       "      <td>True</td>\n",
       "      <td>False</td>\n",
       "      <td>False</td>\n",
       "      <td>False</td>\n",
       "      <td>False</td>\n",
       "      <td>False</td>\n",
       "    </tr>\n",
       "    <tr>\n",
       "      <th>day</th>\n",
       "      <td>False</td>\n",
       "      <td>False</td>\n",
       "      <td>True</td>\n",
       "      <td>False</td>\n",
       "      <td>False</td>\n",
       "      <td>False</td>\n",
       "      <td>False</td>\n",
       "    </tr>\n",
       "    <tr>\n",
       "      <th>duration</th>\n",
       "      <td>False</td>\n",
       "      <td>False</td>\n",
       "      <td>False</td>\n",
       "      <td>True</td>\n",
       "      <td>False</td>\n",
       "      <td>False</td>\n",
       "      <td>False</td>\n",
       "    </tr>\n",
       "    <tr>\n",
       "      <th>campaign</th>\n",
       "      <td>False</td>\n",
       "      <td>False</td>\n",
       "      <td>False</td>\n",
       "      <td>False</td>\n",
       "      <td>True</td>\n",
       "      <td>False</td>\n",
       "      <td>False</td>\n",
       "    </tr>\n",
       "    <tr>\n",
       "      <th>pdays</th>\n",
       "      <td>False</td>\n",
       "      <td>False</td>\n",
       "      <td>False</td>\n",
       "      <td>False</td>\n",
       "      <td>False</td>\n",
       "      <td>True</td>\n",
       "      <td>False</td>\n",
       "    </tr>\n",
       "    <tr>\n",
       "      <th>previous</th>\n",
       "      <td>False</td>\n",
       "      <td>False</td>\n",
       "      <td>False</td>\n",
       "      <td>False</td>\n",
       "      <td>False</td>\n",
       "      <td>False</td>\n",
       "      <td>True</td>\n",
       "    </tr>\n",
       "  </tbody>\n",
       "</table>\n",
       "</div>"
      ],
      "text/plain": [
       "            age  balance    day  duration  campaign  pdays  previous\n",
       "age        True    False  False     False     False  False     False\n",
       "balance   False     True  False     False     False  False     False\n",
       "day       False    False   True     False     False  False     False\n",
       "duration  False    False  False      True     False  False     False\n",
       "campaign  False    False  False     False      True  False     False\n",
       "pdays     False    False  False     False     False   True     False\n",
       "previous  False    False  False     False     False  False      True"
      ]
     },
     "execution_count": 6,
     "metadata": {},
     "output_type": "execute_result"
    }
   ],
   "source": [
    "dummy_df.corr()>0.75  ## no variables have high correlation"
   ]
  },
  {
   "cell_type": "code",
   "execution_count": null,
   "id": "d4458df8",
   "metadata": {
    "scrolled": false
   },
   "outputs": [],
   "source": []
  },
  {
   "cell_type": "code",
   "execution_count": 7,
   "id": "9946ed81",
   "metadata": {},
   "outputs": [
    {
     "data": {
      "text/plain": [
       "array([ -1, 166,  91, 147, 170, 150, 171, 126, 182, 110, 198, 174, 175,\n",
       "        27, 128, 100, 177, 167, 122, 183, 195, 133, 178,  34,  10, 163,\n",
       "       184, 154,  99,  93,   2, 242, 272,  76, 160,  90, 196, 246, 238,\n",
       "       203, 268, 189, 267,  92,   9,  88,  85, 210, 257, 261, 270, 106,\n",
       "       199, 112,  41, 294, 231, 239, 302, 135, 307, 222, 138, 323, 141,\n",
       "       320, 264, 316, 315, 256, 146, 328,  74, 148, 327, 341, 145, 266,\n",
       "       234, 345, 318, 325, 274, 343, 260, 305, 344, 254, 180, 340,  82,\n",
       "       181, 278, 153,   4, 349, 334, 176,  87, 269,  86, 169,  83,  79,\n",
       "         6, 259,  13, 161, 350,  84,  80, 164,  22, 296,  66, 263, 333,\n",
       "        17,  89,  78, 286, 337, 364, 188, 342, 363, 352, 295, 353, 356,\n",
       "       288, 367, 366, 359, 347, 370, 284, 300, 306, 361, 287, 301, 355,\n",
       "       371, 292, 360, 358, 346, 357, 368, 312, 179, 329, 298, 372, 374,\n",
       "       375, 291,  95, 109,  94,  98, 186, 101, 187, 321,  40,  96,  21,\n",
       "        35,  97, 285, 103, 212, 293,  81,  38,  28,  67,  60, 120,  55,\n",
       "       113,  71, 119,  72,  20, 391,  50, 207, 105, 314, 211, 140, 104,\n",
       "        65, 395, 399,  49, 389, 386, 412,  62, 229, 385, 156,  63,  64,\n",
       "        69, 394,  70, 185, 102, 190, 461, 116, 422, 457, 430, 192, 462,\n",
       "       403, 191, 459, 397, 197, 173, 271, 428, 392, 193, 474, 475, 477,\n",
       "       130, 283, 157, 476, 131, 132, 129, 134, 114, 121, 107, 115,  58,\n",
       "        57, 143, 208, 335, 149, 139,  52,  75, 515, 111,  56, 194, 520,\n",
       "       213, 351, 273, 162, 378, 279, 200, 201, 310, 275, 127, 165, 309,\n",
       "       313, 216, 209, 282, 202, 436, 433, 142, 172, 281,  48, 276, 297,\n",
       "       280, 446, 558, 616, 561, 553, 555, 262, 265, 384, 388, 152, 390,\n",
       "       322, 205, 326, 478, 339, 155, 421, 223, 626, 426, 236, 206, 348,\n",
       "       595, 311, 648, 304, 521, 369, 449, 398,  53, 258, 479, 237, 425,\n",
       "       376, 224, 227, 225, 144, 586, 450, 424, 776, 251, 460, 683, 158,\n",
       "       529, 377, 415, 244, 407, 458, 532, 481, 445, 535, 784, 491, 440,\n",
       "       455, 277, 470,   1, 435, 437, 728, 414, 518, 308, 828,  31,  43,\n",
       "       761,  29,  44, 579, 466, 125, 504, 427, 749, 365, 769, 469, 587,\n",
       "       792, 854, 842, 603, 444, 232, 690, 137, 442, 541, 550,  73, 439,\n",
       "       420, 168, 243, 387, 204, 503, 124, 290,  77,  14, 221, 409, 782,\n",
       "       332, 330, 804, 551, 230, 405, 319,  37, 123, 417, 490, 463, 362,\n",
       "       805, 544, 472,  33, 495, 253,  36, 299, 324, 235, 401, 117,  68,\n",
       "       774, 228, 317, 255, 336, 233, 486,   5, 778, 771, 245,  42, 338,\n",
       "       354, 373, 772,  59, 247, 331,  61, 381, 108,  15,   8, 241, 136,\n",
       "       159, 250, 217,  12, 826, 594, 303, 151, 404, 717, 289, 252, 651,\n",
       "       214,  24, 701, 118], dtype=int64)"
      ]
     },
     "execution_count": 7,
     "metadata": {},
     "output_type": "execute_result"
    }
   ],
   "source": [
    "dummy_df['pdays'].unique()"
   ]
  },
  {
   "cell_type": "code",
   "execution_count": 8,
   "id": "ff220792",
   "metadata": {},
   "outputs": [
    {
     "data": {
      "text/plain": [
       "array(['unknown', 'cellular', 'telephone'], dtype=object)"
      ]
     },
     "execution_count": 8,
     "metadata": {},
     "output_type": "execute_result"
    }
   ],
   "source": [
    "dummy_df['contact'].unique()"
   ]
  },
  {
   "cell_type": "code",
   "execution_count": 9,
   "id": "cdd364b9",
   "metadata": {},
   "outputs": [
    {
     "data": {
      "text/plain": [
       "cellular     8042\n",
       "unknown      2346\n",
       "telephone     774\n",
       "Name: contact, dtype: int64"
      ]
     },
     "execution_count": 9,
     "metadata": {},
     "output_type": "execute_result"
    }
   ],
   "source": [
    "dummy_df['contact'].value_counts()"
   ]
  },
  {
   "cell_type": "code",
   "execution_count": 10,
   "id": "71eaa5c1",
   "metadata": {},
   "outputs": [
    {
     "data": {
      "text/plain": [
       "<AxesSubplot:xlabel='deposit', ylabel='count'>"
      ]
     },
     "execution_count": 10,
     "metadata": {},
     "output_type": "execute_result"
    },
    {
     "data": {
      "image/png": "[encoded data removed]",
      "text/plain": [
       "<Figure size 432x288 with 1 Axes>"
      ]
     },
     "metadata": {
      "needs_background": "light"
     },
     "output_type": "display_data"
    }
   ],
   "source": [
    "sns.countplot(data=dummy_df,hue=dummy_df['contact'],x=dummy_df['deposit'])  ## we will check it later if removing this affects our model"
   ]
  },
  {
   "cell_type": "code",
   "execution_count": 11,
   "id": "f8f8a956",
   "metadata": {
    "scrolled": true
   },
   "outputs": [
    {
     "data": {
      "text/plain": [
       "<AxesSubplot:xlabel='age', ylabel='balance'>"
      ]
     },
     "execution_count": 11,
     "metadata": {},
     "output_type": "execute_result"
    },
    {
     "data": {
      "image/png": "[encoded data removed]",
      "text/plain": [
       "<Figure size 432x288 with 1 Axes>"
      ]
     },
     "metadata": {
      "needs_background": "light"
     },
     "output_type": "display_data"
    }
   ],
   "source": [
    "sns.scatterplot(x='age', y='balance',hue='deposit', data=dummy_df)  ## relation between age and balance based on the target"
   ]
  },
  {
   "cell_type": "code",
   "execution_count": 12,
   "id": "1a65cc1d",
   "metadata": {},
   "outputs": [
    {
     "data": {
      "text/plain": [
       "<AxesSubplot:xlabel='age', ylabel='duration'>"
      ]
     },
     "execution_count": 12,
     "metadata": {},
     "output_type": "execute_result"
    },
    {
     "data": {
      "image/png": "[encoded data removed]",
      "text/plain": [
       "<Figure size 432x288 with 1 Axes>"
      ]
     },
     "metadata": {
      "needs_background": "light"
     },
     "output_type": "display_data"
    }
   ],
   "source": [
    "sns.scatterplot(x='age', y='duration',hue='deposit', data=dummy_df)"
   ]
  },
  {
   "cell_type": "code",
   "execution_count": 13,
   "id": "2017d2fa",
   "metadata": {},
   "outputs": [
    {
     "data": {
      "text/plain": [
       "<AxesSubplot:xlabel='age', ylabel='education'>"
      ]
     },
     "execution_count": 13,
     "metadata": {},
     "output_type": "execute_result"
    },
    {
     "data": {
      "image/png": "[encoded data removed]",
      "text/plain": [
       "<Figure size 432x288 with 1 Axes>"
      ]
     },
     "metadata": {
      "needs_background": "light"
     },
     "output_type": "display_data"
    }
   ],
   "source": [
    "sns.scatterplot(x='age', y='education',hue='deposit', data=dummy_df)"
   ]
  },
  {
   "cell_type": "code",
   "execution_count": 14,
   "id": "4d5ed67f",
   "metadata": {},
   "outputs": [
    {
     "data": {
      "text/plain": [
       "<AxesSubplot:xlabel='deposit', ylabel='count'>"
      ]
     },
     "execution_count": 14,
     "metadata": {},
     "output_type": "execute_result"
    },
    {
     "data": {
      "image/png": "[encoded data removed]",
      "text/plain": [
       "<Figure size 432x288 with 1 Axes>"
      ]
     },
     "metadata": {
      "needs_background": "light"
     },
     "output_type": "display_data"
    }
   ],
   "source": [
    "sns.countplot(data=dummy_df,hue=dummy_df['marital'],x=dummy_df['deposit']) "
   ]
  },
  {
   "cell_type": "markdown",
   "id": "7762831f",
   "metadata": {},
   "source": [
    "## Balance column"
   ]
  },
  {
   "cell_type": "code",
   "execution_count": 15,
   "id": "745df49e",
   "metadata": {
    "scrolled": false
   },
   "outputs": [
    {
     "name": "stderr",
     "output_type": "stream",
     "text": [
      "C:\\Users\\prate\\AppData\\Local\\Programs\\Python\\Python310\\lib\\site-packages\\seaborn\\_decorators.py:36: FutureWarning: Pass the following variable as a keyword arg: x. From version 0.12, the only valid positional argument will be `data`, and passing other arguments without an explicit keyword will result in an error or misinterpretation.\n",
      "  warnings.warn(\n"
     ]
    },
    {
     "data": {
      "text/plain": [
       "<AxesSubplot:xlabel='balance'>"
      ]
     },
     "execution_count": 15,
     "metadata": {},
     "output_type": "execute_result"
    },
    {
     "data": {
      "image/png": "[encoded data removed]",
      "text/plain": [
       "<Figure size 432x288 with 1 Axes>"
      ]
     },
     "metadata": {
      "needs_background": "light"
     },
     "output_type": "display_data"
    }
   ],
   "source": [
    "sns.boxplot(dummy_df['balance'])  # there are a lot of outliers"
   ]
  },
  {
   "cell_type": "code",
   "execution_count": 16,
   "id": "97dabd81",
   "metadata": {},
   "outputs": [
    {
     "name": "stderr",
     "output_type": "stream",
     "text": [
      "C:\\Users\\prate\\AppData\\Local\\Programs\\Python\\Python310\\lib\\site-packages\\seaborn\\distributions.py:2619: FutureWarning: `distplot` is a deprecated function and will be removed in a future version. Please adapt your code to use either `displot` (a figure-level function with similar flexibility) or `histplot` (an axes-level function for histograms).\n",
      "  warnings.warn(msg, FutureWarning)\n"
     ]
    },
    {
     "data": {
      "text/plain": [
       "<AxesSubplot:xlabel='balance', ylabel='Density'>"
      ]
     },
     "execution_count": 16,
     "metadata": {},
     "output_type": "execute_result"
    },
    {
     "data": {
      "image/png": "[encoded data removed]",
      "text/plain": [
       "<Figure size 432x288 with 1 Axes>"
      ]
     },
     "metadata": {
      "needs_background": "light"
     },
     "output_type": "display_data"
    }
   ],
   "source": [
    "sns.distplot(dummy_df['balance'])  # distribution of balance data"
   ]
  },
  {
   "cell_type": "code",
   "execution_count": 17,
   "id": "a457fa3a",
   "metadata": {},
   "outputs": [],
   "source": [
    "Q1 = np.percentile(dummy_df['balance'], 25)   #25th percentile  \n",
    "Q3 = np.percentile(dummy_df['balance'], 75)   #75th percentile\n",
    "IQR = Q3 - Q1"
   ]
  },
  {
   "cell_type": "code",
   "execution_count": 18,
   "id": "247e525a",
   "metadata": {},
   "outputs": [],
   "source": [
    "nfifth = np.percentile(dummy_df['balance'], 95)   #95th percentile\n",
    "fifth = np.percentile(dummy_df['balance'], 5)     #5th percentile"
   ]
  },
  {
   "cell_type": "code",
   "execution_count": 19,
   "id": "bdfeb6d6",
   "metadata": {},
   "outputs": [],
   "source": [
    "# dummy_df['balance'][Q3<=dummy_df['balance']]"
   ]
  },
  {
   "cell_type": "code",
   "execution_count": 20,
   "id": "a37e13fb",
   "metadata": {},
   "outputs": [],
   "source": [
    "# dummy_df['balance'][Q1>=dummy_df['balance']]"
   ]
  },
  {
   "cell_type": "code",
   "execution_count": 21,
   "id": "6141b0e4",
   "metadata": {},
   "outputs": [],
   "source": [
    "# dummy_df['balance'][(Q3+1.5*IQR)<=dummy_df['balance']]"
   ]
  },
  {
   "cell_type": "code",
   "execution_count": 22,
   "id": "d85a0715",
   "metadata": {},
   "outputs": [],
   "source": [
    "# dummy_df['balance'][(Q1-1.5*IQR)>=dummy_df['balance']]"
   ]
  },
  {
   "cell_type": "code",
   "execution_count": 23,
   "id": "8d2b66a9",
   "metadata": {},
   "outputs": [],
   "source": [
    "# dummy_df['balance'][(nfifth)<=dummy_df['balance']]"
   ]
  },
  {
   "cell_type": "code",
   "execution_count": 24,
   "id": "aab5ac03",
   "metadata": {},
   "outputs": [],
   "source": [
    "# dummy_df['balance'][(fifth)>=dummy_df['balance']]"
   ]
  },
  {
   "cell_type": "code",
   "execution_count": null,
   "id": "acc1dbb4",
   "metadata": {},
   "outputs": [],
   "source": []
  },
  {
   "cell_type": "markdown",
   "id": "83e96bf5",
   "metadata": {},
   "source": [
    "### Flooring and capping"
   ]
  },
  {
   "cell_type": "markdown",
   "id": "7f0d2f61",
   "metadata": {},
   "source": [
    "#### method 1"
   ]
  },
  {
   "cell_type": "markdown",
   "id": "8a998f51",
   "metadata": {},
   "source": [
    "Replacing outliers with Q3+1.5xIQR and Q1-1.5xIQR"
   ]
  },
  {
   "cell_type": "code",
   "execution_count": 25,
   "id": "b98a7a40",
   "metadata": {},
   "outputs": [],
   "source": [
    "upper = np.where(dummy_df['balance'] >= (Q3+1.5*IQR))\n",
    "lower = np.where(dummy_df['balance'] <= (Q1-1.5*IQR))\n",
    " \n",
    "\n",
    "df1=dummy_df.copy()\n",
    "df1.loc[upper[0],'balance']=Q3+1.5*IQR\n",
    "df1.loc[lower[0],'balance']=Q1-1.5*IQR"
   ]
  },
  {
   "cell_type": "code",
   "execution_count": null,
   "id": "e387bae2",
   "metadata": {},
   "outputs": [],
   "source": []
  },
  {
   "cell_type": "markdown",
   "id": "bc312eb2",
   "metadata": {},
   "source": [
    "#### removed outliers"
   ]
  },
  {
   "cell_type": "code",
   "execution_count": 26,
   "id": "3d7d0306",
   "metadata": {},
   "outputs": [],
   "source": [
    "# df1"
   ]
  },
  {
   "cell_type": "code",
   "execution_count": 27,
   "id": "497f0922",
   "metadata": {},
   "outputs": [
    {
     "data": {
      "text/plain": [
       "Series([], Name: balance, dtype: int64)"
      ]
     },
     "execution_count": 27,
     "metadata": {},
     "output_type": "execute_result"
    }
   ],
   "source": [
    "df1['balance'][(Q3+1.5*IQR)<df1['balance']]"
   ]
  },
  {
   "cell_type": "code",
   "execution_count": 28,
   "id": "16fd821f",
   "metadata": {},
   "outputs": [
    {
     "name": "stderr",
     "output_type": "stream",
     "text": [
      "C:\\Users\\prate\\AppData\\Local\\Programs\\Python\\Python310\\lib\\site-packages\\seaborn\\_decorators.py:36: FutureWarning: Pass the following variable as a keyword arg: x. From version 0.12, the only valid positional argument will be `data`, and passing other arguments without an explicit keyword will result in an error or misinterpretation.\n",
      "  warnings.warn(\n"
     ]
    },
    {
     "data": {
      "text/plain": [
       "<AxesSubplot:xlabel='balance'>"
      ]
     },
     "execution_count": 28,
     "metadata": {},
     "output_type": "execute_result"
    },
    {
     "data": {
      "image/png": "[encoded data removed]",
      "text/plain": [
       "<Figure size 432x288 with 1 Axes>"
      ]
     },
     "metadata": {
      "needs_background": "light"
     },
     "output_type": "display_data"
    }
   ],
   "source": [
    "sns.boxplot(df1['balance'])"
   ]
  },
  {
   "cell_type": "code",
   "execution_count": 29,
   "id": "c2b1a920",
   "metadata": {},
   "outputs": [
    {
     "name": "stderr",
     "output_type": "stream",
     "text": [
      "C:\\Users\\prate\\AppData\\Local\\Programs\\Python\\Python310\\lib\\site-packages\\seaborn\\distributions.py:2619: FutureWarning: `distplot` is a deprecated function and will be removed in a future version. Please adapt your code to use either `displot` (a figure-level function with similar flexibility) or `histplot` (an axes-level function for histograms).\n",
      "  warnings.warn(msg, FutureWarning)\n"
     ]
    },
    {
     "data": {
      "text/plain": [
       "<AxesSubplot:xlabel='balance', ylabel='Density'>"
      ]
     },
     "execution_count": 29,
     "metadata": {},
     "output_type": "execute_result"
    },
    {
     "data": {
      "image/png": "[encoded data removed]",
      "text/plain": [
       "<Figure size 432x288 with 1 Axes>"
      ]
     },
     "metadata": {
      "needs_background": "light"
     },
     "output_type": "display_data"
    }
   ],
   "source": [
    "sns.distplot(df1['balance'])"
   ]
  },
  {
   "cell_type": "markdown",
   "id": "7a19993d",
   "metadata": {},
   "source": [
    "#### method 2"
   ]
  },
  {
   "cell_type": "markdown",
   "id": "b63ce580",
   "metadata": {},
   "source": [
    "Replacing outliers with 95th percentile and 5th percentile values"
   ]
  },
  {
   "cell_type": "code",
   "execution_count": 30,
   "id": "88e4ce47",
   "metadata": {},
   "outputs": [],
   "source": [
    "upper = np.where(dummy_df['balance'] >= nfifth)\n",
    "lower = np.where(dummy_df['balance'] <= fifth)\n",
    " \n",
    "\n",
    "df2=dummy_df.copy()\n",
    "df2.loc[upper[0],'balance']=nfifth\n",
    "df2.loc[lower[0],'balance']=fifth"
   ]
  },
  {
   "cell_type": "markdown",
   "id": "0c07bcca",
   "metadata": {},
   "source": [
    "#### removed outliers"
   ]
  },
  {
   "cell_type": "code",
   "execution_count": 31,
   "id": "de46460d",
   "metadata": {},
   "outputs": [
    {
     "data": {
      "text/html": [
       "<div>\n",
       "<style scoped>\n",
       "    .dataframe tbody tr th:only-of-type {\n",
       "        vertical-align: middle;\n",
       "    }\n",
       "\n",
       "    .dataframe tbody tr th {\n",
       "        vertical-align: top;\n",
       "    }\n",
       "\n",
       "    .dataframe thead th {\n",
       "        text-align: right;\n",
       "    }\n",
       "</style>\n",
       "<table border=\"1\" class=\"dataframe\">\n",
       "  <thead>\n",
       "    <tr style=\"text-align: right;\">\n",
       "      <th></th>\n",
       "      <th>age</th>\n",
       "      <th>job</th>\n",
       "      <th>marital</th>\n",
       "      <th>education</th>\n",
       "      <th>default</th>\n",
       "      <th>balance</th>\n",
       "      <th>housing</th>\n",
       "      <th>loan</th>\n",
       "      <th>contact</th>\n",
       "      <th>day</th>\n",
       "      <th>month</th>\n",
       "      <th>duration</th>\n",
       "      <th>campaign</th>\n",
       "      <th>pdays</th>\n",
       "      <th>previous</th>\n",
       "      <th>poutcome</th>\n",
       "      <th>deposit</th>\n",
       "    </tr>\n",
       "  </thead>\n",
       "  <tbody>\n",
       "    <tr>\n",
       "      <th>0</th>\n",
       "      <td>59</td>\n",
       "      <td>admin.</td>\n",
       "      <td>married</td>\n",
       "      <td>secondary</td>\n",
       "      <td>no</td>\n",
       "      <td>2343.0</td>\n",
       "      <td>yes</td>\n",
       "      <td>no</td>\n",
       "      <td>unknown</td>\n",
       "      <td>5</td>\n",
       "      <td>may</td>\n",
       "      <td>1042</td>\n",
       "      <td>1</td>\n",
       "      <td>-1</td>\n",
       "      <td>0</td>\n",
       "      <td>unknown</td>\n",
       "      <td>yes</td>\n",
       "    </tr>\n",
       "    <tr>\n",
       "      <th>1</th>\n",
       "      <td>56</td>\n",
       "      <td>admin.</td>\n",
       "      <td>married</td>\n",
       "      <td>secondary</td>\n",
       "      <td>no</td>\n",
       "      <td>45.0</td>\n",
       "      <td>no</td>\n",
       "      <td>no</td>\n",
       "      <td>unknown</td>\n",
       "      <td>5</td>\n",
       "      <td>may</td>\n",
       "      <td>1467</td>\n",
       "      <td>1</td>\n",
       "      <td>-1</td>\n",
       "      <td>0</td>\n",
       "      <td>unknown</td>\n",
       "      <td>yes</td>\n",
       "    </tr>\n",
       "    <tr>\n",
       "      <th>2</th>\n",
       "      <td>41</td>\n",
       "      <td>technician</td>\n",
       "      <td>married</td>\n",
       "      <td>secondary</td>\n",
       "      <td>no</td>\n",
       "      <td>1270.0</td>\n",
       "      <td>yes</td>\n",
       "      <td>no</td>\n",
       "      <td>unknown</td>\n",
       "      <td>5</td>\n",
       "      <td>may</td>\n",
       "      <td>1389</td>\n",
       "      <td>1</td>\n",
       "      <td>-1</td>\n",
       "      <td>0</td>\n",
       "      <td>unknown</td>\n",
       "      <td>yes</td>\n",
       "    </tr>\n",
       "    <tr>\n",
       "      <th>3</th>\n",
       "      <td>55</td>\n",
       "      <td>services</td>\n",
       "      <td>married</td>\n",
       "      <td>secondary</td>\n",
       "      <td>no</td>\n",
       "      <td>2476.0</td>\n",
       "      <td>yes</td>\n",
       "      <td>no</td>\n",
       "      <td>unknown</td>\n",
       "      <td>5</td>\n",
       "      <td>may</td>\n",
       "      <td>579</td>\n",
       "      <td>1</td>\n",
       "      <td>-1</td>\n",
       "      <td>0</td>\n",
       "      <td>unknown</td>\n",
       "      <td>yes</td>\n",
       "    </tr>\n",
       "    <tr>\n",
       "      <th>4</th>\n",
       "      <td>54</td>\n",
       "      <td>admin.</td>\n",
       "      <td>married</td>\n",
       "      <td>tertiary</td>\n",
       "      <td>no</td>\n",
       "      <td>184.0</td>\n",
       "      <td>no</td>\n",
       "      <td>no</td>\n",
       "      <td>unknown</td>\n",
       "      <td>5</td>\n",
       "      <td>may</td>\n",
       "      <td>673</td>\n",
       "      <td>2</td>\n",
       "      <td>-1</td>\n",
       "      <td>0</td>\n",
       "      <td>unknown</td>\n",
       "      <td>yes</td>\n",
       "    </tr>\n",
       "    <tr>\n",
       "      <th>...</th>\n",
       "      <td>...</td>\n",
       "      <td>...</td>\n",
       "      <td>...</td>\n",
       "      <td>...</td>\n",
       "      <td>...</td>\n",
       "      <td>...</td>\n",
       "      <td>...</td>\n",
       "      <td>...</td>\n",
       "      <td>...</td>\n",
       "      <td>...</td>\n",
       "      <td>...</td>\n",
       "      <td>...</td>\n",
       "      <td>...</td>\n",
       "      <td>...</td>\n",
       "      <td>...</td>\n",
       "      <td>...</td>\n",
       "      <td>...</td>\n",
       "    </tr>\n",
       "    <tr>\n",
       "      <th>11157</th>\n",
       "      <td>33</td>\n",
       "      <td>blue-collar</td>\n",
       "      <td>single</td>\n",
       "      <td>primary</td>\n",
       "      <td>no</td>\n",
       "      <td>1.0</td>\n",
       "      <td>yes</td>\n",
       "      <td>no</td>\n",
       "      <td>cellular</td>\n",
       "      <td>20</td>\n",
       "      <td>apr</td>\n",
       "      <td>257</td>\n",
       "      <td>1</td>\n",
       "      <td>-1</td>\n",
       "      <td>0</td>\n",
       "      <td>unknown</td>\n",
       "      <td>no</td>\n",
       "    </tr>\n",
       "    <tr>\n",
       "      <th>11158</th>\n",
       "      <td>39</td>\n",
       "      <td>services</td>\n",
       "      <td>married</td>\n",
       "      <td>secondary</td>\n",
       "      <td>no</td>\n",
       "      <td>733.0</td>\n",
       "      <td>no</td>\n",
       "      <td>no</td>\n",
       "      <td>unknown</td>\n",
       "      <td>16</td>\n",
       "      <td>jun</td>\n",
       "      <td>83</td>\n",
       "      <td>4</td>\n",
       "      <td>-1</td>\n",
       "      <td>0</td>\n",
       "      <td>unknown</td>\n",
       "      <td>no</td>\n",
       "    </tr>\n",
       "    <tr>\n",
       "      <th>11159</th>\n",
       "      <td>32</td>\n",
       "      <td>technician</td>\n",
       "      <td>single</td>\n",
       "      <td>secondary</td>\n",
       "      <td>no</td>\n",
       "      <td>29.0</td>\n",
       "      <td>no</td>\n",
       "      <td>no</td>\n",
       "      <td>cellular</td>\n",
       "      <td>19</td>\n",
       "      <td>aug</td>\n",
       "      <td>156</td>\n",
       "      <td>2</td>\n",
       "      <td>-1</td>\n",
       "      <td>0</td>\n",
       "      <td>unknown</td>\n",
       "      <td>no</td>\n",
       "    </tr>\n",
       "    <tr>\n",
       "      <th>11160</th>\n",
       "      <td>43</td>\n",
       "      <td>technician</td>\n",
       "      <td>married</td>\n",
       "      <td>secondary</td>\n",
       "      <td>no</td>\n",
       "      <td>0.0</td>\n",
       "      <td>no</td>\n",
       "      <td>yes</td>\n",
       "      <td>cellular</td>\n",
       "      <td>8</td>\n",
       "      <td>may</td>\n",
       "      <td>9</td>\n",
       "      <td>2</td>\n",
       "      <td>172</td>\n",
       "      <td>5</td>\n",
       "      <td>failure</td>\n",
       "      <td>no</td>\n",
       "    </tr>\n",
       "    <tr>\n",
       "      <th>11161</th>\n",
       "      <td>34</td>\n",
       "      <td>technician</td>\n",
       "      <td>married</td>\n",
       "      <td>secondary</td>\n",
       "      <td>no</td>\n",
       "      <td>0.0</td>\n",
       "      <td>no</td>\n",
       "      <td>no</td>\n",
       "      <td>cellular</td>\n",
       "      <td>9</td>\n",
       "      <td>jul</td>\n",
       "      <td>628</td>\n",
       "      <td>1</td>\n",
       "      <td>-1</td>\n",
       "      <td>0</td>\n",
       "      <td>unknown</td>\n",
       "      <td>no</td>\n",
       "    </tr>\n",
       "  </tbody>\n",
       "</table>\n",
       "<p>11162 rows × 17 columns</p>\n",
       "</div>"
      ],
      "text/plain": [
       "       age          job  marital  education default  balance housing loan  \\\n",
       "0       59       admin.  married  secondary      no   2343.0     yes   no   \n",
       "1       56       admin.  married  secondary      no     45.0      no   no   \n",
       "2       41   technician  married  secondary      no   1270.0     yes   no   \n",
       "3       55     services  married  secondary      no   2476.0     yes   no   \n",
       "4       54       admin.  married   tertiary      no    184.0      no   no   \n",
       "...    ...          ...      ...        ...     ...      ...     ...  ...   \n",
       "11157   33  blue-collar   single    primary      no      1.0     yes   no   \n",
       "11158   39     services  married  secondary      no    733.0      no   no   \n",
       "11159   32   technician   single  secondary      no     29.0      no   no   \n",
       "11160   43   technician  married  secondary      no      0.0      no  yes   \n",
       "11161   34   technician  married  secondary      no      0.0      no   no   \n",
       "\n",
       "        contact  day month  duration  campaign  pdays  previous poutcome  \\\n",
       "0       unknown    5   may      1042         1     -1         0  unknown   \n",
       "1       unknown    5   may      1467         1     -1         0  unknown   \n",
       "2       unknown    5   may      1389         1     -1         0  unknown   \n",
       "3       unknown    5   may       579         1     -1         0  unknown   \n",
       "4       unknown    5   may       673         2     -1         0  unknown   \n",
       "...         ...  ...   ...       ...       ...    ...       ...      ...   \n",
       "11157  cellular   20   apr       257         1     -1         0  unknown   \n",
       "11158   unknown   16   jun        83         4     -1         0  unknown   \n",
       "11159  cellular   19   aug       156         2     -1         0  unknown   \n",
       "11160  cellular    8   may         9         2    172         5  failure   \n",
       "11161  cellular    9   jul       628         1     -1         0  unknown   \n",
       "\n",
       "      deposit  \n",
       "0         yes  \n",
       "1         yes  \n",
       "2         yes  \n",
       "3         yes  \n",
       "4         yes  \n",
       "...       ...  \n",
       "11157      no  \n",
       "11158      no  \n",
       "11159      no  \n",
       "11160      no  \n",
       "11161      no  \n",
       "\n",
       "[11162 rows x 17 columns]"
      ]
     },
     "execution_count": 31,
     "metadata": {},
     "output_type": "execute_result"
    }
   ],
   "source": [
    "df2"
   ]
  },
  {
   "cell_type": "code",
   "execution_count": 32,
   "id": "c354a190",
   "metadata": {},
   "outputs": [
    {
     "name": "stderr",
     "output_type": "stream",
     "text": [
      "C:\\Users\\prate\\AppData\\Local\\Programs\\Python\\Python310\\lib\\site-packages\\seaborn\\_decorators.py:36: FutureWarning: Pass the following variable as a keyword arg: x. From version 0.12, the only valid positional argument will be `data`, and passing other arguments without an explicit keyword will result in an error or misinterpretation.\n",
      "  warnings.warn(\n"
     ]
    },
    {
     "data": {
      "text/plain": [
       "<AxesSubplot:xlabel='balance'>"
      ]
     },
     "execution_count": 32,
     "metadata": {},
     "output_type": "execute_result"
    },
    {
     "data": {
      "image/png": "[encoded data removed]",
      "text/plain": [
       "<Figure size 432x288 with 1 Axes>"
      ]
     },
     "metadata": {
      "needs_background": "light"
     },
     "output_type": "display_data"
    }
   ],
   "source": [
    "sns.boxplot(df2['balance'])"
   ]
  },
  {
   "cell_type": "code",
   "execution_count": 33,
   "id": "55c0449e",
   "metadata": {},
   "outputs": [
    {
     "name": "stderr",
     "output_type": "stream",
     "text": [
      "C:\\Users\\prate\\AppData\\Local\\Programs\\Python\\Python310\\lib\\site-packages\\seaborn\\distributions.py:2619: FutureWarning: `distplot` is a deprecated function and will be removed in a future version. Please adapt your code to use either `displot` (a figure-level function with similar flexibility) or `histplot` (an axes-level function for histograms).\n",
      "  warnings.warn(msg, FutureWarning)\n"
     ]
    },
    {
     "data": {
      "text/plain": [
       "<AxesSubplot:xlabel='balance', ylabel='Density'>"
      ]
     },
     "execution_count": 33,
     "metadata": {},
     "output_type": "execute_result"
    },
    {
     "data": {
      "image/png": "[encoded data removed]",
      "text/plain": [
       "<Figure size 432x288 with 1 Axes>"
      ]
     },
     "metadata": {
      "needs_background": "light"
     },
     "output_type": "display_data"
    }
   ],
   "source": [
    "sns.distplot(df2['balance'])"
   ]
  },
  {
   "cell_type": "markdown",
   "id": "b0cb42d2",
   "metadata": {},
   "source": [
    "#### method 3"
   ]
  },
  {
   "cell_type": "markdown",
   "id": "7d139e62",
   "metadata": {},
   "source": [
    "Replacing outliers with 75th and 25th percentile values"
   ]
  },
  {
   "cell_type": "code",
   "execution_count": 34,
   "id": "ca4c1a51",
   "metadata": {},
   "outputs": [],
   "source": [
    "upper = np.where(dummy_df['balance'] >= Q3)\n",
    "lower = np.where(dummy_df['balance'] <= Q1)\n",
    " \n",
    "\n",
    "df3=dummy_df.copy()\n",
    "df3.loc[upper[0],'balance']=Q3\n",
    "df3.loc[lower[0],'balance']=Q1"
   ]
  },
  {
   "cell_type": "markdown",
   "id": "f1e7fea6",
   "metadata": {},
   "source": [
    "#### removed outliers"
   ]
  },
  {
   "cell_type": "code",
   "execution_count": 35,
   "id": "1abda14b",
   "metadata": {},
   "outputs": [
    {
     "data": {
      "text/html": [
       "<div>\n",
       "<style scoped>\n",
       "    .dataframe tbody tr th:only-of-type {\n",
       "        vertical-align: middle;\n",
       "    }\n",
       "\n",
       "    .dataframe tbody tr th {\n",
       "        vertical-align: top;\n",
       "    }\n",
       "\n",
       "    .dataframe thead th {\n",
       "        text-align: right;\n",
       "    }\n",
       "</style>\n",
       "<table border=\"1\" class=\"dataframe\">\n",
       "  <thead>\n",
       "    <tr style=\"text-align: right;\">\n",
       "      <th></th>\n",
       "      <th>age</th>\n",
       "      <th>job</th>\n",
       "      <th>marital</th>\n",
       "      <th>education</th>\n",
       "      <th>default</th>\n",
       "      <th>balance</th>\n",
       "      <th>housing</th>\n",
       "      <th>loan</th>\n",
       "      <th>contact</th>\n",
       "      <th>day</th>\n",
       "      <th>month</th>\n",
       "      <th>duration</th>\n",
       "      <th>campaign</th>\n",
       "      <th>pdays</th>\n",
       "      <th>previous</th>\n",
       "      <th>poutcome</th>\n",
       "      <th>deposit</th>\n",
       "    </tr>\n",
       "  </thead>\n",
       "  <tbody>\n",
       "    <tr>\n",
       "      <th>0</th>\n",
       "      <td>59</td>\n",
       "      <td>admin.</td>\n",
       "      <td>married</td>\n",
       "      <td>secondary</td>\n",
       "      <td>no</td>\n",
       "      <td>1708</td>\n",
       "      <td>yes</td>\n",
       "      <td>no</td>\n",
       "      <td>unknown</td>\n",
       "      <td>5</td>\n",
       "      <td>may</td>\n",
       "      <td>1042</td>\n",
       "      <td>1</td>\n",
       "      <td>-1</td>\n",
       "      <td>0</td>\n",
       "      <td>unknown</td>\n",
       "      <td>yes</td>\n",
       "    </tr>\n",
       "    <tr>\n",
       "      <th>1</th>\n",
       "      <td>56</td>\n",
       "      <td>admin.</td>\n",
       "      <td>married</td>\n",
       "      <td>secondary</td>\n",
       "      <td>no</td>\n",
       "      <td>122</td>\n",
       "      <td>no</td>\n",
       "      <td>no</td>\n",
       "      <td>unknown</td>\n",
       "      <td>5</td>\n",
       "      <td>may</td>\n",
       "      <td>1467</td>\n",
       "      <td>1</td>\n",
       "      <td>-1</td>\n",
       "      <td>0</td>\n",
       "      <td>unknown</td>\n",
       "      <td>yes</td>\n",
       "    </tr>\n",
       "    <tr>\n",
       "      <th>2</th>\n",
       "      <td>41</td>\n",
       "      <td>technician</td>\n",
       "      <td>married</td>\n",
       "      <td>secondary</td>\n",
       "      <td>no</td>\n",
       "      <td>1270</td>\n",
       "      <td>yes</td>\n",
       "      <td>no</td>\n",
       "      <td>unknown</td>\n",
       "      <td>5</td>\n",
       "      <td>may</td>\n",
       "      <td>1389</td>\n",
       "      <td>1</td>\n",
       "      <td>-1</td>\n",
       "      <td>0</td>\n",
       "      <td>unknown</td>\n",
       "      <td>yes</td>\n",
       "    </tr>\n",
       "    <tr>\n",
       "      <th>3</th>\n",
       "      <td>55</td>\n",
       "      <td>services</td>\n",
       "      <td>married</td>\n",
       "      <td>secondary</td>\n",
       "      <td>no</td>\n",
       "      <td>1708</td>\n",
       "      <td>yes</td>\n",
       "      <td>no</td>\n",
       "      <td>unknown</td>\n",
       "      <td>5</td>\n",
       "      <td>may</td>\n",
       "      <td>579</td>\n",
       "      <td>1</td>\n",
       "      <td>-1</td>\n",
       "      <td>0</td>\n",
       "      <td>unknown</td>\n",
       "      <td>yes</td>\n",
       "    </tr>\n",
       "    <tr>\n",
       "      <th>4</th>\n",
       "      <td>54</td>\n",
       "      <td>admin.</td>\n",
       "      <td>married</td>\n",
       "      <td>tertiary</td>\n",
       "      <td>no</td>\n",
       "      <td>184</td>\n",
       "      <td>no</td>\n",
       "      <td>no</td>\n",
       "      <td>unknown</td>\n",
       "      <td>5</td>\n",
       "      <td>may</td>\n",
       "      <td>673</td>\n",
       "      <td>2</td>\n",
       "      <td>-1</td>\n",
       "      <td>0</td>\n",
       "      <td>unknown</td>\n",
       "      <td>yes</td>\n",
       "    </tr>\n",
       "    <tr>\n",
       "      <th>...</th>\n",
       "      <td>...</td>\n",
       "      <td>...</td>\n",
       "      <td>...</td>\n",
       "      <td>...</td>\n",
       "      <td>...</td>\n",
       "      <td>...</td>\n",
       "      <td>...</td>\n",
       "      <td>...</td>\n",
       "      <td>...</td>\n",
       "      <td>...</td>\n",
       "      <td>...</td>\n",
       "      <td>...</td>\n",
       "      <td>...</td>\n",
       "      <td>...</td>\n",
       "      <td>...</td>\n",
       "      <td>...</td>\n",
       "      <td>...</td>\n",
       "    </tr>\n",
       "    <tr>\n",
       "      <th>11157</th>\n",
       "      <td>33</td>\n",
       "      <td>blue-collar</td>\n",
       "      <td>single</td>\n",
       "      <td>primary</td>\n",
       "      <td>no</td>\n",
       "      <td>122</td>\n",
       "      <td>yes</td>\n",
       "      <td>no</td>\n",
       "      <td>cellular</td>\n",
       "      <td>20</td>\n",
       "      <td>apr</td>\n",
       "      <td>257</td>\n",
       "      <td>1</td>\n",
       "      <td>-1</td>\n",
       "      <td>0</td>\n",
       "      <td>unknown</td>\n",
       "      <td>no</td>\n",
       "    </tr>\n",
       "    <tr>\n",
       "      <th>11158</th>\n",
       "      <td>39</td>\n",
       "      <td>services</td>\n",
       "      <td>married</td>\n",
       "      <td>secondary</td>\n",
       "      <td>no</td>\n",
       "      <td>733</td>\n",
       "      <td>no</td>\n",
       "      <td>no</td>\n",
       "      <td>unknown</td>\n",
       "      <td>16</td>\n",
       "      <td>jun</td>\n",
       "      <td>83</td>\n",
       "      <td>4</td>\n",
       "      <td>-1</td>\n",
       "      <td>0</td>\n",
       "      <td>unknown</td>\n",
       "      <td>no</td>\n",
       "    </tr>\n",
       "    <tr>\n",
       "      <th>11159</th>\n",
       "      <td>32</td>\n",
       "      <td>technician</td>\n",
       "      <td>single</td>\n",
       "      <td>secondary</td>\n",
       "      <td>no</td>\n",
       "      <td>122</td>\n",
       "      <td>no</td>\n",
       "      <td>no</td>\n",
       "      <td>cellular</td>\n",
       "      <td>19</td>\n",
       "      <td>aug</td>\n",
       "      <td>156</td>\n",
       "      <td>2</td>\n",
       "      <td>-1</td>\n",
       "      <td>0</td>\n",
       "      <td>unknown</td>\n",
       "      <td>no</td>\n",
       "    </tr>\n",
       "    <tr>\n",
       "      <th>11160</th>\n",
       "      <td>43</td>\n",
       "      <td>technician</td>\n",
       "      <td>married</td>\n",
       "      <td>secondary</td>\n",
       "      <td>no</td>\n",
       "      <td>122</td>\n",
       "      <td>no</td>\n",
       "      <td>yes</td>\n",
       "      <td>cellular</td>\n",
       "      <td>8</td>\n",
       "      <td>may</td>\n",
       "      <td>9</td>\n",
       "      <td>2</td>\n",
       "      <td>172</td>\n",
       "      <td>5</td>\n",
       "      <td>failure</td>\n",
       "      <td>no</td>\n",
       "    </tr>\n",
       "    <tr>\n",
       "      <th>11161</th>\n",
       "      <td>34</td>\n",
       "      <td>technician</td>\n",
       "      <td>married</td>\n",
       "      <td>secondary</td>\n",
       "      <td>no</td>\n",
       "      <td>122</td>\n",
       "      <td>no</td>\n",
       "      <td>no</td>\n",
       "      <td>cellular</td>\n",
       "      <td>9</td>\n",
       "      <td>jul</td>\n",
       "      <td>628</td>\n",
       "      <td>1</td>\n",
       "      <td>-1</td>\n",
       "      <td>0</td>\n",
       "      <td>unknown</td>\n",
       "      <td>no</td>\n",
       "    </tr>\n",
       "  </tbody>\n",
       "</table>\n",
       "<p>11162 rows × 17 columns</p>\n",
       "</div>"
      ],
      "text/plain": [
       "       age          job  marital  education default  balance housing loan  \\\n",
       "0       59       admin.  married  secondary      no     1708     yes   no   \n",
       "1       56       admin.  married  secondary      no      122      no   no   \n",
       "2       41   technician  married  secondary      no     1270     yes   no   \n",
       "3       55     services  married  secondary      no     1708     yes   no   \n",
       "4       54       admin.  married   tertiary      no      184      no   no   \n",
       "...    ...          ...      ...        ...     ...      ...     ...  ...   \n",
       "11157   33  blue-collar   single    primary      no      122     yes   no   \n",
       "11158   39     services  married  secondary      no      733      no   no   \n",
       "11159   32   technician   single  secondary      no      122      no   no   \n",
       "11160   43   technician  married  secondary      no      122      no  yes   \n",
       "11161   34   technician  married  secondary      no      122      no   no   \n",
       "\n",
       "        contact  day month  duration  campaign  pdays  previous poutcome  \\\n",
       "0       unknown    5   may      1042         1     -1         0  unknown   \n",
       "1       unknown    5   may      1467         1     -1         0  unknown   \n",
       "2       unknown    5   may      1389         1     -1         0  unknown   \n",
       "3       unknown    5   may       579         1     -1         0  unknown   \n",
       "4       unknown    5   may       673         2     -1         0  unknown   \n",
       "...         ...  ...   ...       ...       ...    ...       ...      ...   \n",
       "11157  cellular   20   apr       257         1     -1         0  unknown   \n",
       "11158   unknown   16   jun        83         4     -1         0  unknown   \n",
       "11159  cellular   19   aug       156         2     -1         0  unknown   \n",
       "11160  cellular    8   may         9         2    172         5  failure   \n",
       "11161  cellular    9   jul       628         1     -1         0  unknown   \n",
       "\n",
       "      deposit  \n",
       "0         yes  \n",
       "1         yes  \n",
       "2         yes  \n",
       "3         yes  \n",
       "4         yes  \n",
       "...       ...  \n",
       "11157      no  \n",
       "11158      no  \n",
       "11159      no  \n",
       "11160      no  \n",
       "11161      no  \n",
       "\n",
       "[11162 rows x 17 columns]"
      ]
     },
     "execution_count": 35,
     "metadata": {},
     "output_type": "execute_result"
    }
   ],
   "source": [
    "df3"
   ]
  },
  {
   "cell_type": "code",
   "execution_count": 36,
   "id": "5c2cd4a1",
   "metadata": {
    "scrolled": false
   },
   "outputs": [
    {
     "name": "stderr",
     "output_type": "stream",
     "text": [
      "C:\\Users\\prate\\AppData\\Local\\Programs\\Python\\Python310\\lib\\site-packages\\seaborn\\_decorators.py:36: FutureWarning: Pass the following variable as a keyword arg: x. From version 0.12, the only valid positional argument will be `data`, and passing other arguments without an explicit keyword will result in an error or misinterpretation.\n",
      "  warnings.warn(\n"
     ]
    },
    {
     "data": {
      "text/plain": [
       "<AxesSubplot:xlabel='balance'>"
      ]
     },
     "execution_count": 36,
     "metadata": {},
     "output_type": "execute_result"
    },
    {
     "data": {
      "image/png": "[encoded data removed]",
      "text/plain": [
       "<Figure size 432x288 with 1 Axes>"
      ]
     },
     "metadata": {
      "needs_background": "light"
     },
     "output_type": "display_data"
    }
   ],
   "source": [
    "sns.boxplot(df3['balance'])"
   ]
  },
  {
   "cell_type": "code",
   "execution_count": 37,
   "id": "0ecaef2f",
   "metadata": {},
   "outputs": [
    {
     "name": "stderr",
     "output_type": "stream",
     "text": [
      "C:\\Users\\prate\\AppData\\Local\\Programs\\Python\\Python310\\lib\\site-packages\\seaborn\\distributions.py:2619: FutureWarning: `distplot` is a deprecated function and will be removed in a future version. Please adapt your code to use either `displot` (a figure-level function with similar flexibility) or `histplot` (an axes-level function for histograms).\n",
      "  warnings.warn(msg, FutureWarning)\n"
     ]
    },
    {
     "data": {
      "text/plain": [
       "<AxesSubplot:xlabel='balance', ylabel='Density'>"
      ]
     },
     "execution_count": 37,
     "metadata": {},
     "output_type": "execute_result"
    },
    {
     "data": {
      "image/png": "[encoded data removed]",
      "text/plain": [
       "<Figure size 432x288 with 1 Axes>"
      ]
     },
     "metadata": {
      "needs_background": "light"
     },
     "output_type": "display_data"
    }
   ],
   "source": [
    "sns.distplot(df3['balance'])"
   ]
  },
  {
   "cell_type": "code",
   "execution_count": null,
   "id": "d9fd56d5",
   "metadata": {},
   "outputs": [],
   "source": []
  },
  {
   "cell_type": "code",
   "execution_count": null,
   "id": "4cd0bd83",
   "metadata": {},
   "outputs": [],
   "source": []
  },
  {
   "cell_type": "code",
   "execution_count": null,
   "id": "8125a7a8",
   "metadata": {},
   "outputs": [],
   "source": []
  },
  {
   "cell_type": "code",
   "execution_count": null,
   "id": "84124e8b",
   "metadata": {},
   "outputs": [],
   "source": []
  },
  {
   "cell_type": "code",
   "execution_count": null,
   "id": "732c21d8",
   "metadata": {},
   "outputs": [],
   "source": []
  },
  {
   "cell_type": "markdown",
   "id": "8d7bb64d",
   "metadata": {},
   "source": [
    "## Duration column"
   ]
  },
  {
   "cell_type": "code",
   "execution_count": 38,
   "id": "1d5d1dc9",
   "metadata": {},
   "outputs": [
    {
     "name": "stderr",
     "output_type": "stream",
     "text": [
      "C:\\Users\\prate\\AppData\\Local\\Programs\\Python\\Python310\\lib\\site-packages\\seaborn\\_decorators.py:36: FutureWarning: Pass the following variable as a keyword arg: x. From version 0.12, the only valid positional argument will be `data`, and passing other arguments without an explicit keyword will result in an error or misinterpretation.\n",
      "  warnings.warn(\n"
     ]
    },
    {
     "data": {
      "text/plain": [
       "<AxesSubplot:xlabel='duration'>"
      ]
     },
     "execution_count": 38,
     "metadata": {},
     "output_type": "execute_result"
    },
    {
     "data": {
      "image/png": "[encoded data removed]",
      "text/plain": [
       "<Figure size 432x288 with 1 Axes>"
      ]
     },
     "metadata": {
      "needs_background": "light"
     },
     "output_type": "display_data"
    }
   ],
   "source": [
    "sns.boxplot(dummy_df['duration'])  ## we can see the presence of outliers"
   ]
  },
  {
   "cell_type": "code",
   "execution_count": 39,
   "id": "e48631d1",
   "metadata": {},
   "outputs": [],
   "source": [
    "Q1 = np.percentile(dummy_df['duration'], 25)   #25th percentile  \n",
    "Q3 = np.percentile(dummy_df['duration'], 75)   #75th percentile\n",
    "IQR = Q3 - Q1"
   ]
  },
  {
   "cell_type": "code",
   "execution_count": 40,
   "id": "1f1e0967",
   "metadata": {},
   "outputs": [],
   "source": [
    "nfifth = np.percentile(dummy_df['duration'], 95)  #95th percentile\n",
    "fifth = np.percentile(dummy_df['duration'], 5)    #5th percentile"
   ]
  },
  {
   "cell_type": "code",
   "execution_count": null,
   "id": "5730e448",
   "metadata": {},
   "outputs": [],
   "source": []
  },
  {
   "cell_type": "markdown",
   "id": "e720581f",
   "metadata": {},
   "source": [
    "### Flooring and capping"
   ]
  },
  {
   "cell_type": "markdown",
   "id": "8bb90d76",
   "metadata": {},
   "source": [
    "#### method 1"
   ]
  },
  {
   "cell_type": "markdown",
   "id": "d4948f2b",
   "metadata": {},
   "source": [
    "Replacing outliers with Q3+1.5xIQR and Q1-1.5xIQR"
   ]
  },
  {
   "cell_type": "code",
   "execution_count": 41,
   "id": "d8e81c0c",
   "metadata": {},
   "outputs": [],
   "source": [
    "upper = np.where(dummy_df['duration'] >= (Q3+1.5*IQR))\n",
    "lower = np.where(dummy_df['duration'] <= (Q1-1.5*IQR))\n",
    "\n",
    "df11=df1.copy()\n",
    "\n",
    "df11.loc[upper[0],'duration']=Q3+1.5*IQR\n",
    "df11.loc[lower[0],'duration']=Q1-1.5*IQR"
   ]
  },
  {
   "cell_type": "code",
   "execution_count": null,
   "id": "e83361dc",
   "metadata": {},
   "outputs": [],
   "source": []
  },
  {
   "cell_type": "markdown",
   "id": "19c49062",
   "metadata": {},
   "source": [
    "#### method 2"
   ]
  },
  {
   "cell_type": "markdown",
   "id": "490e3c6f",
   "metadata": {},
   "source": [
    "Replacing outliers with 95th percentile and 5th percentile values"
   ]
  },
  {
   "cell_type": "code",
   "execution_count": 42,
   "id": "54d7c4e5",
   "metadata": {},
   "outputs": [],
   "source": [
    "upper = np.where(dummy_df['duration'] >= nfifth)\n",
    "lower = np.where(dummy_df['duration'] <= fifth)\n",
    "\n",
    "df22=df2.copy()\n",
    "\n",
    "df22.loc[upper[0],'duration']=nfifth\n",
    "df22.loc[lower[0],'duration']=fifth"
   ]
  },
  {
   "cell_type": "code",
   "execution_count": null,
   "id": "d763acd9",
   "metadata": {},
   "outputs": [],
   "source": []
  },
  {
   "cell_type": "markdown",
   "id": "d761f919",
   "metadata": {},
   "source": [
    "#### method 3"
   ]
  },
  {
   "cell_type": "markdown",
   "id": "7b9d1bab",
   "metadata": {},
   "source": [
    "Replacing outliers with 75th and 25th percentile values"
   ]
  },
  {
   "cell_type": "code",
   "execution_count": 43,
   "id": "77ed5b90",
   "metadata": {},
   "outputs": [],
   "source": [
    "upper = np.where(dummy_df['duration'] >= Q3)\n",
    "lower = np.where(dummy_df['duration'] <= Q1)\n",
    "\n",
    "df33=df3.copy()\n",
    " \n",
    "df33.loc[upper[0],'duration']=Q3\n",
    "df33.loc[lower[0],'duration']=Q1"
   ]
  },
  {
   "cell_type": "code",
   "execution_count": null,
   "id": "96bcc5e3",
   "metadata": {},
   "outputs": [],
   "source": []
  },
  {
   "cell_type": "code",
   "execution_count": null,
   "id": "b91e8675",
   "metadata": {},
   "outputs": [],
   "source": []
  },
  {
   "cell_type": "markdown",
   "id": "3a97024a",
   "metadata": {},
   "source": [
    "## Encoding"
   ]
  },
  {
   "cell_type": "code",
   "execution_count": null,
   "id": "0ee5bbab",
   "metadata": {},
   "outputs": [],
   "source": []
  },
  {
   "cell_type": "markdown",
   "id": "179ce245",
   "metadata": {},
   "source": [
    "### LabelEncoding"
   ]
  },
  {
   "cell_type": "code",
   "execution_count": 44,
   "id": "212c06bd",
   "metadata": {},
   "outputs": [],
   "source": [
    "def Label_Encoding(df):\n",
    "    res_df = df.copy()\n",
    "    le = preprocessing.LabelEncoder()\n",
    "    \n",
    "    res_df['job'] = le.fit_transform(res_df['job'])\n",
    "    res_df['marital'] = le.fit_transform(res_df['marital'])\n",
    "    res_df['education'] = le.fit_transform(res_df['education'])\n",
    "    res_df['default'] = le.fit_transform(res_df['default'])\n",
    "    res_df['housing'] = le.fit_transform(res_df['housing'])\n",
    "    res_df['month'] = le.fit_transform(res_df['month'])\n",
    "    res_df['loan'] = le.fit_transform(res_df['loan'])\n",
    "    res_df['contact'] = le.fit_transform(res_df['contact'])\n",
    "    res_df['day_of_week'] = le.fit_transform(res_df['day'])\n",
    "    res_df['poutcome'] = le.fit_transform(res_df['poutcome'])\n",
    "    res_df['deposit'] = le.fit_transform(res_df['deposit'])\n",
    "    return res_df"
   ]
  },
  {
   "cell_type": "markdown",
   "id": "468ad40a",
   "metadata": {},
   "source": [
    "### One hot encoding"
   ]
  },
  {
   "cell_type": "code",
   "execution_count": 45,
   "id": "86cffb9d",
   "metadata": {},
   "outputs": [],
   "source": [
    "def one_hot_encoding(df):\n",
    "    one_hot_df_x  = pd.get_dummies(df.drop(['deposit'],axis =1))\n",
    "    le = preprocessing.LabelEncoder()  # just for the target variable\n",
    "    res_df = dummy_df.copy()\n",
    "    res_df['deposit'] = le.fit_transform(res_df['deposit'])\n",
    "    x=one_hot_df_x.values\n",
    "    y=res_df['deposit'].values\n",
    "    return x,y"
   ]
  },
  {
   "cell_type": "code",
   "execution_count": null,
   "id": "df2f3ab9",
   "metadata": {},
   "outputs": [],
   "source": []
  },
  {
   "cell_type": "markdown",
   "id": "94dd0e5d",
   "metadata": {},
   "source": [
    "## Effect of outlier removal and encoding on the model accuracy"
   ]
  },
  {
   "cell_type": "markdown",
   "id": "4b22d8f6",
   "metadata": {},
   "source": [
    "### no outlier removal with label encoding"
   ]
  },
  {
   "cell_type": "code",
   "execution_count": 46,
   "id": "a93c38b0",
   "metadata": {},
   "outputs": [],
   "source": [
    "encoded_df = Label_Encoding(dummy_df)\n",
    "\n",
    "x = encoded_df.drop(['deposit'],axis =1).values\n",
    "y = encoded_df['deposit'].values"
   ]
  },
  {
   "cell_type": "code",
   "execution_count": 47,
   "id": "6f0cd1e6",
   "metadata": {},
   "outputs": [
    {
     "name": "stdout",
     "output_type": "stream",
     "text": [
      "Best Parameters using grid search: \n",
      " {'criterion': 'gini', 'max_depth': 20, 'min_samples_leaf': 10, 'min_samples_split': 60}\n",
      "Best score using grid search: \n",
      " 0.7921572119380189\n"
     ]
    }
   ],
   "source": [
    "param_dist = {'max_depth': [20,30,35,36,37],             \n",
    "              'criterion': ['gini'],\n",
    "             'min_samples_split': [2,10,20,40,60,70],\n",
    "             'min_samples_leaf':[1,5,10,20]}\n",
    "\n",
    "cv_rf = GridSearchCV(DecisionTreeClassifier(), cv = 10,\n",
    "                     param_grid=param_dist, \n",
    "                     n_jobs = 3, return_train_score=True)\n",
    "\n",
    "cv_rf.fit(x,y)\n",
    "print('Best Parameters using grid search: \\n', cv_rf.best_params_)\n",
    "print('Best score using grid search: \\n', cv_rf.best_score_)"
   ]
  },
  {
   "cell_type": "markdown",
   "id": "58d57770",
   "metadata": {},
   "source": [
    "### method 1 with label encoding"
   ]
  },
  {
   "cell_type": "code",
   "execution_count": 48,
   "id": "1c53ac6d",
   "metadata": {},
   "outputs": [],
   "source": [
    "encoded_df1 = Label_Encoding(df11)\n",
    "\n",
    "x = encoded_df1.drop(['deposit'],axis =1).values\n",
    "y = encoded_df1['deposit'].values"
   ]
  },
  {
   "cell_type": "code",
   "execution_count": 49,
   "id": "1924351c",
   "metadata": {},
   "outputs": [
    {
     "name": "stdout",
     "output_type": "stream",
     "text": [
      "Best Parameters using grid search: \n",
      " {'criterion': 'gini', 'max_depth': 36, 'min_samples_leaf': 10, 'min_samples_split': 60}\n",
      "Best score using grid search: \n",
      " 0.7977976402486179\n"
     ]
    }
   ],
   "source": [
    "param_dist = {'max_depth': [20,30,35,36,37],             \n",
    "              'criterion': ['gini'],\n",
    "             'min_samples_split': [2,10,20,40,60,70],\n",
    "             'min_samples_leaf':[1,5,10,20]}\n",
    "\n",
    "cv_rf = GridSearchCV(DecisionTreeClassifier(), cv = 10,\n",
    "                     param_grid=param_dist, \n",
    "                     n_jobs = 3, return_train_score=True)\n",
    "\n",
    "cv_rf.fit(x,y)\n",
    "print('Best Parameters using grid search: \\n', cv_rf.best_params_)\n",
    "print('Best score using grid search: \\n', cv_rf.best_score_)"
   ]
  },
  {
   "cell_type": "markdown",
   "id": "b07a865b",
   "metadata": {},
   "source": [
    "### method 2 with label encoding"
   ]
  },
  {
   "cell_type": "code",
   "execution_count": 50,
   "id": "c070c837",
   "metadata": {},
   "outputs": [],
   "source": [
    "encoded_df2 = Label_Encoding(df22)\n",
    "\n",
    "x = encoded_df2.drop(['deposit'],axis =1).values\n",
    "y = encoded_df2['deposit'].values"
   ]
  },
  {
   "cell_type": "code",
   "execution_count": 51,
   "id": "0aa48580",
   "metadata": {},
   "outputs": [
    {
     "name": "stdout",
     "output_type": "stream",
     "text": [
      "Best Parameters using grid search: \n",
      " {'criterion': 'gini', 'max_depth': 37, 'min_samples_leaf': 10, 'min_samples_split': 60}\n",
      "Best score using grid search: \n",
      " 0.7973496115747827\n"
     ]
    }
   ],
   "source": [
    "param_dist = {'max_depth': [20,30,35,36,37],             \n",
    "              'criterion': ['gini'],\n",
    "             'min_samples_split': [2,10,20,40,60,70],\n",
    "             'min_samples_leaf':[1,5,10,20]}\n",
    "\n",
    "cv_rf = GridSearchCV(DecisionTreeClassifier(), cv = 10,\n",
    "                     param_grid=param_dist, \n",
    "                     n_jobs = 3, return_train_score=True)\n",
    "\n",
    "cv_rf.fit(x,y)\n",
    "print('Best Parameters using grid search: \\n', cv_rf.best_params_)\n",
    "print('Best score using grid search: \\n', cv_rf.best_score_)"
   ]
  },
  {
   "cell_type": "markdown",
   "id": "0b1021d5",
   "metadata": {},
   "source": [
    "### method 3 with label encoding"
   ]
  },
  {
   "cell_type": "code",
   "execution_count": 52,
   "id": "49666b03",
   "metadata": {},
   "outputs": [],
   "source": [
    "encoded_df3 = Label_Encoding(df33)\n",
    "\n",
    "x = encoded_df3.drop(['deposit'],axis =1).values\n",
    "y = encoded_df3['deposit'].values"
   ]
  },
  {
   "cell_type": "code",
   "execution_count": 53,
   "id": "e7defcc7",
   "metadata": {},
   "outputs": [
    {
     "name": "stdout",
     "output_type": "stream",
     "text": [
      "Best Parameters using grid search: \n",
      " {'criterion': 'gini', 'max_depth': 30, 'min_samples_leaf': 1, 'min_samples_split': 60}\n",
      "Best score using grid search: \n",
      " 0.7749568416425204\n"
     ]
    }
   ],
   "source": [
    "param_dist = {'max_depth': [20,30,35,36,37],             \n",
    "              'criterion': ['gini'],\n",
    "             'min_samples_split': [2,10,20,40,60,70],\n",
    "             'min_samples_leaf':[1,5,10,20]}\n",
    "\n",
    "cv_rf = GridSearchCV(DecisionTreeClassifier(), cv = 10,\n",
    "                     param_grid=param_dist, \n",
    "                     n_jobs = 3, return_train_score=True)\n",
    "\n",
    "cv_rf.fit(x,y)\n",
    "print('Best Parameters using grid search: \\n', cv_rf.best_params_)\n",
    "print('Best score using grid search: \\n', cv_rf.best_score_)"
   ]
  },
  {
   "cell_type": "code",
   "execution_count": 54,
   "id": "7e603517",
   "metadata": {},
   "outputs": [],
   "source": [
    "## one hot encoding"
   ]
  },
  {
   "cell_type": "markdown",
   "id": "248e6a61",
   "metadata": {},
   "source": [
    "### no outlier removal with one hot encoding"
   ]
  },
  {
   "cell_type": "code",
   "execution_count": 55,
   "id": "92a452fa",
   "metadata": {},
   "outputs": [],
   "source": [
    "x=one_hot_encoding(dummy_df)[0]\n",
    "y=one_hot_encoding(dummy_df)[1]"
   ]
  },
  {
   "cell_type": "code",
   "execution_count": 56,
   "id": "415235a7",
   "metadata": {},
   "outputs": [
    {
     "name": "stdout",
     "output_type": "stream",
     "text": [
      "Best Parameters using grid search: \n",
      " {'criterion': 'gini', 'max_depth': 30, 'min_samples_leaf': 5, 'min_samples_split': 80}\n",
      "Best score using grid search: \n",
      " 0.8031744656546114\n"
     ]
    }
   ],
   "source": [
    "param_dist = {'max_depth': [10,15,20,30,35,36,37,38,39,40],             \n",
    "              'criterion': ['gini'],\n",
    "             'min_samples_split': [60,70,75,80,85,90],\n",
    "             'min_samples_leaf':[1,2,3,5,10]}\n",
    "\n",
    "cv_rf = GridSearchCV(DecisionTreeClassifier(), cv = 10,\n",
    "                     param_grid=param_dist, \n",
    "                     n_jobs = 3, return_train_score=True)\n",
    "\n",
    "cv_rf.fit(x,y)\n",
    "print('Best Parameters using grid search: \\n', cv_rf.best_params_)\n",
    "print('Best score using grid search: \\n', cv_rf.best_score_)"
   ]
  },
  {
   "cell_type": "markdown",
   "id": "1e73a3a8",
   "metadata": {},
   "source": [
    "### method 1 with one hot encoding"
   ]
  },
  {
   "cell_type": "code",
   "execution_count": 57,
   "id": "f922bc3a",
   "metadata": {},
   "outputs": [],
   "source": [
    "x=one_hot_encoding(df11)[0]\n",
    "y=one_hot_encoding(df11)[1]"
   ]
  },
  {
   "cell_type": "code",
   "execution_count": 58,
   "id": "20c98e21",
   "metadata": {},
   "outputs": [
    {
     "name": "stdout",
     "output_type": "stream",
     "text": [
      "Best Parameters using grid search: \n",
      " {'criterion': 'gini', 'max_depth': 35, 'min_samples_leaf': 5, 'min_samples_split': 80}\n",
      "Best score using grid search: \n",
      " 0.7938632505783861\n"
     ]
    }
   ],
   "source": [
    "param_dist = {'max_depth': [20,30,35,36,37,38,39,40],             \n",
    "              'criterion': ['gini'],\n",
    "             'min_samples_split': [60,70,75,80,85,90],\n",
    "             'min_samples_leaf':[1,2,3,5,10]}\n",
    "\n",
    "cv_rf = GridSearchCV(DecisionTreeClassifier(), cv = 10,\n",
    "                     param_grid=param_dist, \n",
    "                     n_jobs = 3, return_train_score=True)\n",
    "\n",
    "cv_rf.fit(x,y)\n",
    "print('Best Parameters using grid search: \\n', cv_rf.best_params_)\n",
    "print('Best score using grid search: \\n', cv_rf.best_score_)"
   ]
  },
  {
   "cell_type": "markdown",
   "id": "2d7c308b",
   "metadata": {},
   "source": [
    "### method 2 with one hot encoding"
   ]
  },
  {
   "cell_type": "code",
   "execution_count": 59,
   "id": "47abab4a",
   "metadata": {},
   "outputs": [],
   "source": [
    "x=one_hot_encoding(df22)[0]\n",
    "y=one_hot_encoding(df22)[1]"
   ]
  },
  {
   "cell_type": "code",
   "execution_count": 60,
   "id": "9c772579",
   "metadata": {},
   "outputs": [
    {
     "name": "stdout",
     "output_type": "stream",
     "text": [
      "Best Parameters using grid search: \n",
      " {'criterion': 'gini', 'max_depth': 20, 'min_samples_leaf': 5, 'min_samples_split': 80}\n",
      "Best score using grid search: \n",
      " 0.7942216735174543\n"
     ]
    }
   ],
   "source": [
    "param_dist = {'max_depth': [20,30,35,36,37,38,39,40],             \n",
    "              'criterion': ['gini'],\n",
    "             'min_samples_split': [60,70,75,80,85,90],\n",
    "             'min_samples_leaf':[1,2,3,5,10]}\n",
    "\n",
    "cv_rf = GridSearchCV(DecisionTreeClassifier(), cv = 10,\n",
    "                     param_grid=param_dist, \n",
    "                     n_jobs = 3, return_train_score=True)\n",
    "\n",
    "cv_rf.fit(x,y)\n",
    "print('Best Parameters using grid search: \\n', cv_rf.best_params_)\n",
    "print('Best score using grid search: \\n', cv_rf.best_score_)"
   ]
  },
  {
   "cell_type": "markdown",
   "id": "5681bf6c",
   "metadata": {},
   "source": [
    "### method 3 with one hot encoding"
   ]
  },
  {
   "cell_type": "code",
   "execution_count": 61,
   "id": "989571fd",
   "metadata": {},
   "outputs": [],
   "source": [
    "x=one_hot_encoding(df33)[0]\n",
    "y=one_hot_encoding(df33)[1]"
   ]
  },
  {
   "cell_type": "code",
   "execution_count": 62,
   "id": "6cfceae4",
   "metadata": {},
   "outputs": [
    {
     "name": "stdout",
     "output_type": "stream",
     "text": [
      "Best Parameters using grid search: \n",
      " {'criterion': 'gini', 'max_depth': 37, 'min_samples_leaf': 5, 'min_samples_split': 90}\n",
      "Best score using grid search: \n",
      " 0.7866973588368742\n"
     ]
    }
   ],
   "source": [
    "param_dist = {'max_depth': [20,30,35,36,37,38,39,40],             \n",
    "              'criterion': ['gini'],\n",
    "             'min_samples_split': [60,70,75,80,85,90],\n",
    "             'min_samples_leaf':[1,2,3,5,10]}\n",
    "\n",
    "cv_rf = GridSearchCV(DecisionTreeClassifier(), cv = 10,\n",
    "                     param_grid=param_dist, \n",
    "                     n_jobs = 3, return_train_score=True)\n",
    "\n",
    "cv_rf.fit(x,y)\n",
    "print('Best Parameters using grid search: \\n', cv_rf.best_params_)\n",
    "print('Best score using grid search: \\n', cv_rf.best_score_)"
   ]
  },
  {
   "cell_type": "code",
   "execution_count": null,
   "id": "1b359319",
   "metadata": {},
   "outputs": [],
   "source": []
  },
  {
   "cell_type": "markdown",
   "id": "481ab1d6",
   "metadata": {},
   "source": [
    "**Let us also look at if we only treat the outliers of balance column**  "
   ]
  },
  {
   "cell_type": "markdown",
   "id": "57d674b6",
   "metadata": {},
   "source": [
    "### method 1 on balance with one hot encoding"
   ]
  },
  {
   "cell_type": "code",
   "execution_count": 63,
   "id": "37d52944",
   "metadata": {},
   "outputs": [],
   "source": [
    "x=one_hot_encoding(df1)[0]\n",
    "y=one_hot_encoding(df1)[1]"
   ]
  },
  {
   "cell_type": "code",
   "execution_count": 64,
   "id": "baa047a1",
   "metadata": {},
   "outputs": [
    {
     "name": "stdout",
     "output_type": "stream",
     "text": [
      "Best Parameters using grid search: \n",
      " {'criterion': 'gini', 'max_depth': 35, 'min_samples_leaf': 5, 'min_samples_split': 80}\n",
      "Best score using grid search: \n",
      " 0.802547225511242\n"
     ]
    }
   ],
   "source": [
    "param_dist = {'max_depth': [20,30,35,36,37,38,39,40],             \n",
    "              'criterion': ['gini'],\n",
    "             'min_samples_split': [60,70,75,80,85,90],\n",
    "             'min_samples_leaf':[1,2,3,5,10]}\n",
    "\n",
    "cv_rf = GridSearchCV(DecisionTreeClassifier(), cv = 10,\n",
    "                     param_grid=param_dist, \n",
    "                     n_jobs = 3, return_train_score=True)\n",
    "\n",
    "cv_rf.fit(x,y)\n",
    "print('Best Parameters using grid search: \\n', cv_rf.best_params_)\n",
    "print('Best score using grid search: \\n', cv_rf.best_score_)"
   ]
  },
  {
   "cell_type": "markdown",
   "id": "01129536",
   "metadata": {},
   "source": [
    "### method 2 on balance with one hot encoding"
   ]
  },
  {
   "cell_type": "code",
   "execution_count": 65,
   "id": "4fa1bdca",
   "metadata": {},
   "outputs": [],
   "source": [
    "x=one_hot_encoding(df2)[0]\n",
    "y=one_hot_encoding(df2)[1]"
   ]
  },
  {
   "cell_type": "code",
   "execution_count": 66,
   "id": "23c309d0",
   "metadata": {},
   "outputs": [
    {
     "name": "stdout",
     "output_type": "stream",
     "text": [
      "Best Parameters using grid search: \n",
      " {'criterion': 'gini', 'max_depth': 36, 'min_samples_leaf': 5, 'min_samples_split': 80}\n",
      "Best score using grid search: \n",
      " 0.8028160427155431\n"
     ]
    }
   ],
   "source": [
    "param_dist = {'max_depth': [20,30,35,36,37,38,39,40],             \n",
    "              'criterion': ['gini'],\n",
    "             'min_samples_split': [60,70,75,80,85,90],\n",
    "             'min_samples_leaf':[1,2,3,5,10]}\n",
    "\n",
    "cv_rf = GridSearchCV(DecisionTreeClassifier(), cv = 10,\n",
    "                     param_grid=param_dist, \n",
    "                     n_jobs = 3, return_train_score=True)\n",
    "\n",
    "cv_rf.fit(x,y)\n",
    "print('Best Parameters using grid search: \\n', cv_rf.best_params_)\n",
    "print('Best score using grid search: \\n', cv_rf.best_score_)"
   ]
  },
  {
   "cell_type": "markdown",
   "id": "f4e003ea",
   "metadata": {},
   "source": [
    "### method 3 on balance with one hot encoding"
   ]
  },
  {
   "cell_type": "code",
   "execution_count": 67,
   "id": "d99bf090",
   "metadata": {},
   "outputs": [],
   "source": [
    "x=one_hot_encoding(df3)[0]\n",
    "y=one_hot_encoding(df3)[1]"
   ]
  },
  {
   "cell_type": "code",
   "execution_count": 68,
   "id": "18ca9ab0",
   "metadata": {},
   "outputs": [
    {
     "name": "stdout",
     "output_type": "stream",
     "text": [
      "Best Parameters using grid search: \n",
      " {'criterion': 'gini', 'max_depth': 30, 'min_samples_leaf': 5, 'min_samples_split': 80}\n",
      "Best score using grid search: \n",
      " 0.7908202654960965\n"
     ]
    }
   ],
   "source": [
    "param_dist = {'max_depth': [20,30,35,36,37,38,39,40],             \n",
    "              'criterion': ['gini'],\n",
    "             'min_samples_split': [60,70,75,80,85,90],\n",
    "             'min_samples_leaf':[1,2,3,5,10]}\n",
    "\n",
    "cv_rf = GridSearchCV(DecisionTreeClassifier(), cv = 10,\n",
    "                     param_grid=param_dist, \n",
    "                     n_jobs = 3, return_train_score=True)\n",
    "\n",
    "cv_rf.fit(x,y)\n",
    "print('Best Parameters using grid search: \\n', cv_rf.best_params_)\n",
    "print('Best score using grid search: \\n', cv_rf.best_score_)"
   ]
  },
  {
   "cell_type": "code",
   "execution_count": null,
   "id": "ada56898",
   "metadata": {},
   "outputs": [],
   "source": []
  },
  {
   "cell_type": "code",
   "execution_count": null,
   "id": "c6768c07",
   "metadata": {},
   "outputs": [],
   "source": []
  },
  {
   "cell_type": "markdown",
   "id": "3e34b1e3",
   "metadata": {},
   "source": [
    "### method 1 on balance with label encoding"
   ]
  },
  {
   "cell_type": "code",
   "execution_count": 69,
   "id": "7e77ecf1",
   "metadata": {},
   "outputs": [],
   "source": [
    "encoded_df1 = Label_Encoding(df1)\n",
    "\n",
    "x = encoded_df1.drop(['deposit'],axis =1).values\n",
    "y = encoded_df1['deposit'].values"
   ]
  },
  {
   "cell_type": "code",
   "execution_count": 70,
   "id": "8e616108",
   "metadata": {},
   "outputs": [
    {
     "name": "stdout",
     "output_type": "stream",
     "text": [
      "Best Parameters using grid search: \n",
      " {'criterion': 'gini', 'max_depth': 30, 'min_samples_leaf': 10, 'min_samples_split': 60}\n",
      "Best score using grid search: \n",
      " 0.792515634877087\n"
     ]
    }
   ],
   "source": [
    "param_dist = {'max_depth': [20,30,35,36,37],             \n",
    "              'criterion': ['gini'],\n",
    "             'min_samples_split': [2,10,20,40,60,70],\n",
    "             'min_samples_leaf':[1,5,10,20]}\n",
    "\n",
    "cv_rf = GridSearchCV(DecisionTreeClassifier(), cv = 10,\n",
    "                     param_grid=param_dist, \n",
    "                     n_jobs = 3, return_train_score=True)\n",
    "\n",
    "cv_rf.fit(x,y)\n",
    "print('Best Parameters using grid search: \\n', cv_rf.best_params_)\n",
    "print('Best score using grid search: \\n', cv_rf.best_score_)"
   ]
  },
  {
   "cell_type": "markdown",
   "id": "da7bbb09",
   "metadata": {},
   "source": [
    "### method 2 on balance with label encoding"
   ]
  },
  {
   "cell_type": "code",
   "execution_count": 71,
   "id": "bb033bba",
   "metadata": {},
   "outputs": [],
   "source": [
    "encoded_df2 = Label_Encoding(df2)\n",
    "\n",
    "x = encoded_df2.drop(['deposit'],axis =1).values\n",
    "y = encoded_df2['deposit'].values"
   ]
  },
  {
   "cell_type": "code",
   "execution_count": 72,
   "id": "08723c3e",
   "metadata": {},
   "outputs": [
    {
     "name": "stdout",
     "output_type": "stream",
     "text": [
      "Best Parameters using grid search: \n",
      " {'criterion': 'gini', 'max_depth': 36, 'min_samples_leaf': 10, 'min_samples_split': 60}\n",
      "Best score using grid search: \n",
      " 0.7923364234075528\n"
     ]
    }
   ],
   "source": [
    "param_dist = {'max_depth': [20,30,35,36,37],             \n",
    "              'criterion': ['gini'],\n",
    "             'min_samples_split': [2,10,20,40,60,70],\n",
    "             'min_samples_leaf':[1,5,10,20]}\n",
    "\n",
    "cv_rf = GridSearchCV(DecisionTreeClassifier(), cv = 10,\n",
    "                     param_grid=param_dist, \n",
    "                     n_jobs = 3, return_train_score=True)\n",
    "\n",
    "cv_rf.fit(x,y)\n",
    "print('Best Parameters using grid search: \\n', cv_rf.best_params_)\n",
    "print('Best score using grid search: \\n', cv_rf.best_score_)"
   ]
  },
  {
   "cell_type": "markdown",
   "id": "34beb469",
   "metadata": {},
   "source": [
    "### method 3 on balance with label encoding"
   ]
  },
  {
   "cell_type": "code",
   "execution_count": 73,
   "id": "4fbdfa80",
   "metadata": {},
   "outputs": [],
   "source": [
    "encoded_df3 = Label_Encoding(df3)\n",
    "\n",
    "x = encoded_df3.drop(['deposit'],axis =1).values\n",
    "y = encoded_df3['deposit'].values"
   ]
  },
  {
   "cell_type": "code",
   "execution_count": 74,
   "id": "a21c05a0",
   "metadata": {},
   "outputs": [
    {
     "name": "stdout",
     "output_type": "stream",
     "text": [
      "Best Parameters using grid search: \n",
      " {'criterion': 'gini', 'max_depth': 37, 'min_samples_leaf': 5, 'min_samples_split': 60}\n",
      "Best score using grid search: \n",
      " 0.7944838324621442\n"
     ]
    }
   ],
   "source": [
    "param_dist = {'max_depth': [20,30,35,36,37],             \n",
    "              'criterion': ['gini'],\n",
    "             'min_samples_split': [2,10,20,40,60,70],\n",
    "             'min_samples_leaf':[1,5,10,20]}\n",
    "\n",
    "cv_rf = GridSearchCV(DecisionTreeClassifier(), cv = 10,\n",
    "                     param_grid=param_dist, \n",
    "                     n_jobs = 3, return_train_score=True)\n",
    "\n",
    "cv_rf.fit(x,y)\n",
    "print('Best Parameters using grid search: \\n', cv_rf.best_params_)\n",
    "print('Best score using grid search: \\n', cv_rf.best_score_)"
   ]
  },
  {
   "cell_type": "code",
   "execution_count": null,
   "id": "7e2bda38",
   "metadata": {},
   "outputs": [],
   "source": []
  },
  {
   "cell_type": "markdown",
   "id": "bd226101",
   "metadata": {},
   "source": [
    "From the above analysis we conclude that we get the maximum accuracy for the model when we dont treat the outliers and use one hot encoding, which is understandable since decision tree is not much affected by the outliers. Also when we treat outliers in balance column using method 2 and use one hot encoding, it gives us accuracy close to the max accuracy."
   ]
  },
  {
   "cell_type": "markdown",
   "id": "74217590",
   "metadata": {},
   "source": [
    "## understanding the importance of some variables"
   ]
  },
  {
   "cell_type": "code",
   "execution_count": 75,
   "id": "21b1cd97",
   "metadata": {},
   "outputs": [],
   "source": [
    "encoded_df = Label_Encoding(dummy_df)\n",
    "\n",
    "x = encoded_df.drop(['deposit'],axis =1).values\n",
    "y = encoded_df['deposit'].values\n",
    "\n",
    "x_train, x_test, y_train, y_test = train_test_split(x,y,test_size =0.2,random_state = 42)"
   ]
  },
  {
   "cell_type": "code",
   "execution_count": 76,
   "id": "a9729f52",
   "metadata": {},
   "outputs": [
    {
     "name": "stdout",
     "output_type": "stream",
     "text": [
      "Training score:  0.8577668271922948\n",
      "Testing score:  0.8092252575011196\n"
     ]
    }
   ],
   "source": [
    "model_dt = DecisionTreeClassifier(random_state=1, max_depth=8, criterion = \"gini\")\n",
    "model_dt.fit(x_train, y_train)\n",
    "model_dt_score_train = model_dt.score(x_train, y_train)\n",
    "print(\"Training score: \",model_dt_score_train)\n",
    "model_dt_score_test = model_dt.score(x_test, y_test)\n",
    "print(\"Testing score: \",model_dt_score_test)"
   ]
  },
  {
   "cell_type": "code",
   "execution_count": 77,
   "id": "548a9b21",
   "metadata": {},
   "outputs": [],
   "source": [
    "encoded_df = Label_Encoding(dummy_df)\n",
    "en_df=encoded_df.drop(['duration'],axis=1)\n",
    "x = en_df.drop(['deposit'],axis =1).values\n",
    "y = en_df['deposit'].values\n",
    "\n",
    "x_train, x_test, y_train, y_test = train_test_split(x,y,test_size =0.2,random_state = 42)"
   ]
  },
  {
   "cell_type": "code",
   "execution_count": 78,
   "id": "c8a10296",
   "metadata": {},
   "outputs": [
    {
     "name": "stdout",
     "output_type": "stream",
     "text": [
      "Training score:  0.7274050845559413\n",
      "Testing score:  0.7026421854008061\n"
     ]
    }
   ],
   "source": [
    "model_dt = DecisionTreeClassifier(random_state=1, max_depth=8, criterion = \"gini\")\n",
    "model_dt.fit(x_train, y_train)\n",
    "model_dt_score_train = model_dt.score(x_train, y_train)\n",
    "print(\"Training score: \",model_dt_score_train)\n",
    "model_dt_score_test = model_dt.score(x_test, y_test)\n",
    "print(\"Testing score: \",model_dt_score_test)"
   ]
  },
  {
   "cell_type": "code",
   "execution_count": 79,
   "id": "737b5892",
   "metadata": {},
   "outputs": [],
   "source": [
    "encoded_df = Label_Encoding(dummy_df)\n",
    "en_df=encoded_df.drop(['contact'],axis=1)\n",
    "x = en_df.drop(['deposit'],axis =1).values\n",
    "y = en_df['deposit'].values\n",
    "\n",
    "x_train, x_test, y_train, y_test = train_test_split(x,y,test_size =0.2,random_state = 42)"
   ]
  },
  {
   "cell_type": "code",
   "execution_count": 80,
   "id": "a2000339",
   "metadata": {},
   "outputs": [
    {
     "name": "stdout",
     "output_type": "stream",
     "text": [
      "Training score:  0.8546309777130697\n",
      "Testing score:  0.7944469323779668\n"
     ]
    }
   ],
   "source": [
    "model_dt = DecisionTreeClassifier(random_state=1, max_depth=8, criterion = \"gini\")\n",
    "model_dt.fit(x_train, y_train)\n",
    "model_dt_score_train = model_dt.score(x_train, y_train)\n",
    "print(\"Training score: \",model_dt_score_train)\n",
    "model_dt_score_test = model_dt.score(x_test, y_test)\n",
    "print(\"Testing score: \",model_dt_score_test)"
   ]
  },
  {
   "cell_type": "markdown",
   "id": "12dc3df4",
   "metadata": {},
   "source": [
    "So removing the variables 'duration' and 'contact' decreases accuracy, thus are important. Removing duration results in large  reduction in the accuracy, thus indicating it as an important variable."
   ]
  },
  {
   "cell_type": "markdown",
   "id": "e8b80c12",
   "metadata": {},
   "source": [
    "# Final Model building"
   ]
  },
  {
   "cell_type": "markdown",
   "id": "7a21cb59",
   "metadata": {},
   "source": [
    "## Manual hyper parameter tuning"
   ]
  },
  {
   "cell_type": "markdown",
   "id": "0ca92475",
   "metadata": {},
   "source": [
    "**Using hit and trial for selecting optimal parameters for high accuracy**"
   ]
  },
  {
   "cell_type": "code",
   "execution_count": 81,
   "id": "c29fbbfe",
   "metadata": {},
   "outputs": [],
   "source": [
    "x=one_hot_encoding(dummy_df)[0]\n",
    "y=one_hot_encoding(dummy_df)[1]\n",
    "\n",
    "x_train, x_test, y_train, y_test = train_test_split(x,y,test_size =0.2,random_state = 42)"
   ]
  },
  {
   "cell_type": "code",
   "execution_count": null,
   "id": "6633dac1",
   "metadata": {},
   "outputs": [],
   "source": []
  },
  {
   "cell_type": "code",
   "execution_count": 82,
   "id": "a97ab9f8",
   "metadata": {},
   "outputs": [
    {
     "name": "stdout",
     "output_type": "stream",
     "text": [
      "Training score:  0.8689662896180983\n",
      "Testing score:  0.8271383788625168\n"
     ]
    }
   ],
   "source": [
    "model_dt = DecisionTreeClassifier(random_state=1, max_depth=30, criterion = \"gini\", min_samples_split= 25,min_samples_leaf=16)\n",
    "model_dt.fit(x_train, y_train)\n",
    "model_dt_score_train = model_dt.score(x_train, y_train)\n",
    "print(\"Training score: \",model_dt_score_train)\n",
    "model_dt_score_test = model_dt.score(x_test, y_test)\n",
    "print(\"Testing score: \",model_dt_score_test)\n",
    "\n",
    "## choosing random values for the parameters"
   ]
  },
  {
   "cell_type": "code",
   "execution_count": 83,
   "id": "cc3b3140",
   "metadata": {},
   "outputs": [
    {
     "name": "stdout",
     "output_type": "stream",
     "text": [
      "Training score:  0.8689662896180983\n",
      "Testing score:  0.8271383788625168\n"
     ]
    }
   ],
   "source": [
    "model_dt = DecisionTreeClassifier(random_state=1, max_depth=90, criterion = \"gini\", min_samples_split= 25,min_samples_leaf=16)\n",
    "model_dt.fit(x_train, y_train)\n",
    "model_dt_score_train = model_dt.score(x_train, y_train)\n",
    "print(\"Training score: \",model_dt_score_train)\n",
    "model_dt_score_test = model_dt.score(x_test, y_test)\n",
    "print(\"Testing score: \",model_dt_score_test)\n",
    "\n",
    "## increasing max depth has no effect, so let us tweak other parameters"
   ]
  },
  {
   "cell_type": "code",
   "execution_count": 84,
   "id": "3f03b41c",
   "metadata": {},
   "outputs": [
    {
     "name": "stdout",
     "output_type": "stream",
     "text": [
      "Training score:  0.8853175047597716\n",
      "Testing score:  0.8289296909986565\n"
     ]
    }
   ],
   "source": [
    "model_dt = DecisionTreeClassifier(random_state=1, max_depth=90, criterion = \"gini\", min_samples_split= 20,min_samples_leaf=10)\n",
    "model_dt.fit(x_train, y_train)\n",
    "model_dt_score_train = model_dt.score(x_train, y_train)\n",
    "print(\"Training score: \",model_dt_score_train)\n",
    "model_dt_score_test = model_dt.score(x_test, y_test)\n",
    "print(\"Testing score: \",model_dt_score_test)\n",
    "\n",
    "## it has improved further"
   ]
  },
  {
   "cell_type": "code",
   "execution_count": 85,
   "id": "ff307545",
   "metadata": {},
   "outputs": [
    {
     "name": "stdout",
     "output_type": "stream",
     "text": [
      "Training score:  0.8941650800761564\n",
      "Testing score:  0.8293775190326914\n"
     ]
    }
   ],
   "source": [
    "model_dt = DecisionTreeClassifier(random_state=1, max_depth=90, criterion = \"gini\", min_samples_split= 18,min_samples_leaf=7)\n",
    "model_dt.fit(x_train, y_train)\n",
    "model_dt_score_train = model_dt.score(x_train, y_train)\n",
    "print(\"Training score: \",model_dt_score_train)\n",
    "model_dt_score_test = model_dt.score(x_test, y_test)\n",
    "print(\"Testing score: \",model_dt_score_test)\n",
    "\n",
    "## this looks like the best for now"
   ]
  },
  {
   "cell_type": "code",
   "execution_count": 86,
   "id": "60dca39d",
   "metadata": {},
   "outputs": [
    {
     "name": "stdout",
     "output_type": "stream",
     "text": [
      "Training score:  0.8983088811737037\n",
      "Testing score:  0.819525302283923\n"
     ]
    }
   ],
   "source": [
    "model_dt = DecisionTreeClassifier(random_state=1, max_depth=90, criterion = \"gini\", min_samples_split= 17,min_samples_leaf=6)\n",
    "model_dt.fit(x_train, y_train)\n",
    "model_dt_score_train = model_dt.score(x_train, y_train)\n",
    "print(\"Training score: \",model_dt_score_train)\n",
    "model_dt_score_test = model_dt.score(x_test, y_test)\n",
    "print(\"Testing score: \",model_dt_score_test)\n",
    "\n",
    "## reducing the min_samples_split and min_samples_leaf further reduces the test accuracy"
   ]
  },
  {
   "cell_type": "code",
   "execution_count": 87,
   "id": "f6b5610e",
   "metadata": {},
   "outputs": [
    {
     "name": "stdout",
     "output_type": "stream",
     "text": [
      "Training score:  0.924515623250084\n",
      "Testing score:  0.8016121809225257\n"
     ]
    }
   ],
   "source": [
    "model_dt = DecisionTreeClassifier(random_state=1, max_depth=90, criterion = \"gini\", min_samples_split= 7,min_samples_leaf=4)\n",
    "model_dt.fit(x_train, y_train)\n",
    "model_dt_score_train = model_dt.score(x_train, y_train)\n",
    "print(\"Training score: \",model_dt_score_train)\n",
    "model_dt_score_test = model_dt.score(x_test, y_test)\n",
    "print(\"Testing score: \",model_dt_score_test)\n",
    "\n",
    "## more reduction"
   ]
  },
  {
   "cell_type": "code",
   "execution_count": 88,
   "id": "8231bb0f",
   "metadata": {},
   "outputs": [
    {
     "name": "stdout",
     "output_type": "stream",
     "text": [
      "Training score:  0.8906932467241573\n",
      "Testing score:  0.8289296909986565\n"
     ]
    }
   ],
   "source": [
    "model_dt = DecisionTreeClassifier(random_state=1, max_depth=90, criterion = \"gini\", min_samples_split= 19,min_samples_leaf=8)\n",
    "model_dt.fit(x_train, y_train)\n",
    "model_dt_score_train = model_dt.score(x_train, y_train)\n",
    "print(\"Training score: \",model_dt_score_train)\n",
    "model_dt_score_test = model_dt.score(x_test, y_test)\n",
    "print(\"Testing score: \",model_dt_score_test)\n",
    "\n",
    "## now we can see that it is decreasing, if we increase the min_samples_split and min_samples_leaf from their optimal values found earlier "
   ]
  },
  {
   "cell_type": "code",
   "execution_count": 89,
   "id": "d6b67782",
   "metadata": {},
   "outputs": [
    {
     "name": "stdout",
     "output_type": "stream",
     "text": [
      "Training score:  0.8941650800761564\n",
      "Testing score:  0.8293775190326914\n"
     ]
    }
   ],
   "source": [
    "model_dt = DecisionTreeClassifier(random_state=1, max_depth=95, criterion = \"gini\", min_samples_split= 18,min_samples_leaf=7)\n",
    "model_dt.fit(x_train, y_train)\n",
    "model_dt_score_train = model_dt.score(x_train, y_train)\n",
    "print(\"Training score: \",model_dt_score_train)\n",
    "model_dt_score_test = model_dt.score(x_test, y_test)\n",
    "print(\"Testing score: \",model_dt_score_test)\n",
    "\n",
    "## also increasing max_depth now has no further effect"
   ]
  },
  {
   "cell_type": "code",
   "execution_count": 90,
   "id": "b97e7255",
   "metadata": {},
   "outputs": [
    {
     "name": "stdout",
     "output_type": "stream",
     "text": [
      "Training score:  0.8901332736028671\n",
      "Testing score:  0.8316166592028661\n"
     ]
    }
   ],
   "source": [
    "model_dt = DecisionTreeClassifier(random_state=1, max_depth=15, criterion = \"gini\", min_samples_split= 18,min_samples_leaf=7)\n",
    "model_dt.fit(x_train, y_train)\n",
    "model_dt_score_train = model_dt.score(x_train, y_train)\n",
    "print(\"Training score: \",model_dt_score_train)\n",
    "model_dt_score_test = model_dt.score(x_test, y_test)\n",
    "print(\"Testing score: \",model_dt_score_test)\n",
    "\n",
    "## decreasing max_depth leads to an increase!"
   ]
  },
  {
   "cell_type": "code",
   "execution_count": 91,
   "id": "9af407ec",
   "metadata": {},
   "outputs": [
    {
     "name": "stdout",
     "output_type": "stream",
     "text": [
      "Training score:  0.8914772090939634\n",
      "Testing score:  0.8284818629646216\n"
     ]
    }
   ],
   "source": [
    "model_dt = DecisionTreeClassifier(random_state=1, max_depth=16, criterion = \"gini\", min_samples_split= 18,min_samples_leaf=7)\n",
    "model_dt.fit(x_train, y_train)\n",
    "model_dt_score_train = model_dt.score(x_train, y_train)\n",
    "print(\"Training score: \",model_dt_score_train)\n",
    "model_dt_score_test = model_dt.score(x_test, y_test)\n",
    "print(\"Testing score: \",model_dt_score_test)\n",
    "\n",
    "## increasing above this max_depth value leads to a decrease again"
   ]
  },
  {
   "cell_type": "code",
   "execution_count": 92,
   "id": "ca2bc4e2",
   "metadata": {},
   "outputs": [
    {
     "name": "stdout",
     "output_type": "stream",
     "text": [
      "Training score:  0.8874454026206742\n",
      "Testing score:  0.8338557993730408\n"
     ]
    }
   ],
   "source": [
    "model_dt = DecisionTreeClassifier(random_state=1, max_depth=14, criterion = \"gini\", min_samples_split= 18,min_samples_leaf=7)\n",
    "model_dt.fit(x_train, y_train)\n",
    "model_dt_score_train = model_dt.score(x_train, y_train)\n",
    "print(\"Training score: \",model_dt_score_train)\n",
    "model_dt_score_test = model_dt.score(x_test, y_test)\n",
    "print(\"Testing score: \",model_dt_score_test)\n",
    "\n",
    "## decreasing max_depth further from this value will lead to less accuracy, so this is the best for now"
   ]
  },
  {
   "cell_type": "code",
   "execution_count": 93,
   "id": "dbae6200",
   "metadata": {},
   "outputs": [
    {
     "name": "stdout",
     "output_type": "stream",
     "text": [
      "Training score:  0.8861014671295778\n",
      "Testing score:  0.8356471115091805\n"
     ]
    }
   ],
   "source": [
    "model_dt = DecisionTreeClassifier(random_state=1, max_depth=14, criterion = \"gini\", min_samples_split= 18,min_samples_leaf=8)\n",
    "model_dt.fit(x_train, y_train)\n",
    "model_dt_score_train = model_dt.score(x_train, y_train)\n",
    "print(\"Training score: \",model_dt_score_train)\n",
    "model_dt_score_test = model_dt.score(x_test, y_test)\n",
    "print(\"Testing score: \",model_dt_score_test)\n",
    "\n",
    "## tweaking the other 2 parameters a bit, leads to these optimal parameters"
   ]
  },
  {
   "cell_type": "code",
   "execution_count": 94,
   "id": "32a5b7e5",
   "metadata": {},
   "outputs": [],
   "source": [
    "#### so the optimal parameters from hit and trial comes out to be max_depth=14, min_samples_split= 18, min_samples_leaf=8"
   ]
  },
  {
   "cell_type": "markdown",
   "id": "4807c716",
   "metadata": {},
   "source": [
    "### Performance metrics"
   ]
  },
  {
   "cell_type": "markdown",
   "id": "faa52c79",
   "metadata": {},
   "source": [
    "Using the optimal parameters that we found to fit the model and find the performance metrics"
   ]
  },
  {
   "cell_type": "code",
   "execution_count": 104,
   "id": "a614b050",
   "metadata": {},
   "outputs": [
    {
     "data": {
      "text/plain": [
       "DecisionTreeClassifier(max_depth=14, min_samples_leaf=8, min_samples_split=18,\n",
       "                       random_state=1)"
      ]
     },
     "execution_count": 104,
     "metadata": {},
     "output_type": "execute_result"
    }
   ],
   "source": [
    "model_dt = DecisionTreeClassifier(random_state=1, max_depth=14, criterion = \"gini\", min_samples_split= 18,min_samples_leaf=8)\n",
    "model_dt.fit(x_train, y_train)"
   ]
  },
  {
   "cell_type": "code",
   "execution_count": 105,
   "id": "99aef111",
   "metadata": {},
   "outputs": [
    {
     "name": "stdout",
     "output_type": "stream",
     "text": [
      "[[968 198]\n",
      " [169 898]]\n"
     ]
    }
   ],
   "source": [
    "## confusion matrix\n",
    "\n",
    "predictions = model_dt.predict(x_test)\n",
    "print (confusion_matrix(y_test, predictions))"
   ]
  },
  {
   "cell_type": "code",
   "execution_count": 110,
   "id": "dbf8e31a",
   "metadata": {},
   "outputs": [
    {
     "name": "stdout",
     "output_type": "stream",
     "text": [
      "Accuracy Score:  0.8356471115091805\n"
     ]
    }
   ],
   "source": [
    "print('Accuracy Score: ',accuracy_score(y_test, predictions))"
   ]
  },
  {
   "cell_type": "code",
   "execution_count": 107,
   "id": "aad2b49e",
   "metadata": {},
   "outputs": [
    {
     "name": "stdout",
     "output_type": "stream",
     "text": [
      "Recall: 0.8416119962511716\n"
     ]
    }
   ],
   "source": [
    "from sklearn import metrics\n",
    "print(\"Recall:\",metrics.recall_score(y_test, predictions))"
   ]
  },
  {
   "cell_type": "code",
   "execution_count": 109,
   "id": "cbdf2eb7",
   "metadata": {},
   "outputs": [
    {
     "name": "stdout",
     "output_type": "stream",
     "text": [
      "              precision    recall  f1-score   support\n",
      "\n",
      "           0       0.85      0.83      0.84      1166\n",
      "           1       0.82      0.84      0.83      1067\n",
      "\n",
      "    accuracy                           0.84      2233\n",
      "   macro avg       0.84      0.84      0.84      2233\n",
      "weighted avg       0.84      0.84      0.84      2233\n",
      "\n"
     ]
    }
   ],
   "source": [
    "print(metrics.classification_report(y_test, predictions))"
   ]
  },
  {
   "cell_type": "code",
   "execution_count": null,
   "id": "53384e06",
   "metadata": {},
   "outputs": [],
   "source": []
  },
  {
   "cell_type": "code",
   "execution_count": 477,
   "id": "3217776d",
   "metadata": {},
   "outputs": [
    {
     "data": {
      "image/png": "[encoded data removed]",
      "text/plain": [
       "<Figure size 432x288 with 1 Axes>"
      ]
     },
     "metadata": {
      "needs_background": "light"
     },
     "output_type": "display_data"
    }
   ],
   "source": [
    "##For ROC and AUC\n",
    "y_pred_dt = model_dt.predict_proba(x_test)[:, 1]\n",
    "fpr_dt, tpr_dt, _ = roc_curve(y_test, y_pred_dt)\n",
    "roc_auc_dt = auc(fpr_dt, tpr_dt)\n",
    "\n",
    "plt.figure(1)\n",
    "lw = 2\n",
    "plt.plot(fpr_dt, tpr_dt, color='green',\n",
    "         lw=lw, label='Decision Tree(AUC = %0.2f)' % roc_auc_dt)\n",
    "plt.plot([0, 1], [0, 1], color='navy', lw=lw, linestyle='--')\n",
    "\n",
    "plt.xlim([0.0, 1.0])\n",
    "plt.ylim([0.0, 1.05])\n",
    "plt.xlabel('False Positive Rate')\n",
    "plt.ylabel('True Positive Rate')\n",
    "plt.title('Area Under Curve')\n",
    "plt.legend(loc=\"lower right\")\n",
    "plt.show()"
   ]
  },
  {
   "cell_type": "code",
   "execution_count": 480,
   "id": "6447594e",
   "metadata": {},
   "outputs": [],
   "source": [
    "def plot_confusion_matrix(model, normalize=False): # This function prints and plots the confusion matrix.\n",
    "    cm = confusion_matrix(y_test, model, labels=[0, 1])\n",
    "    classes=[\"Success\", \"Default\"]\n",
    "    cmap = plt.cm.Blues\n",
    "    title = \"Confusion Matrix\"\n",
    "    if normalize:\n",
    "        cm = cm.astype('float') / cm.sum(axis=1)[:, np.newaxis]\n",
    "        cm = np.around(cm, decimals=3)\n",
    "    plt.imshow(cm, interpolation='nearest', cmap=cmap)\n",
    "    plt.title(title)\n",
    "    plt.colorbar()\n",
    "    tick_marks = np.arange(len(classes))\n",
    "    plt.xticks(tick_marks, classes, rotation=45)\n",
    "    plt.yticks(tick_marks, classes)\n",
    "    thresh = cm.max() / 2.\n",
    "    for i, j in itertools.product(range(cm.shape[0]), range(cm.shape[1])):\n",
    "        plt.text(j, i, cm[i, j],\n",
    "                 horizontalalignment=\"center\",\n",
    "                 color=\"white\" if cm[i, j] > thresh else \"black\")\n",
    "    plt.tight_layout()\n",
    "    plt.ylabel('True label')\n",
    "    plt.xlabel('Predicted label')"
   ]
  },
  {
   "cell_type": "code",
   "execution_count": 481,
   "id": "575ea1fe",
   "metadata": {},
   "outputs": [
    {
     "data": {
      "image/png": "[encoded data removed]",
      "text/plain": [
       "<Figure size 432x432 with 2 Axes>"
      ]
     },
     "metadata": {
      "needs_background": "light"
     },
     "output_type": "display_data"
    }
   ],
   "source": [
    "plt.figure(figsize=(6,6))\n",
    "plot_confusion_matrix(predictions, normalize=False)\n",
    "plt.show()"
   ]
  },
  {
   "cell_type": "markdown",
   "id": "9a140c0f",
   "metadata": {},
   "source": [
    "## GridSearchCV"
   ]
  },
  {
   "cell_type": "code",
   "execution_count": null,
   "id": "3b7c321b",
   "metadata": {},
   "outputs": [],
   "source": [
    "x=one_hot_encoding(dummy_df)[0]\n",
    "y=one_hot_encoding(dummy_df)[1]\n",
    "\n",
    "x_train, x_test, y_train, y_test = train_test_split(x,y,test_size =0.2,random_state = 42)"
   ]
  },
  {
   "cell_type": "code",
   "execution_count": 489,
   "id": "cc32af5c",
   "metadata": {},
   "outputs": [],
   "source": [
    "model_dt = DecisionTreeClassifier(random_state=1)"
   ]
  },
  {
   "cell_type": "code",
   "execution_count": 512,
   "id": "53ef7ae2",
   "metadata": {
    "scrolled": true
   },
   "outputs": [
    {
     "name": "stdout",
     "output_type": "stream",
     "text": [
      "Best Parameters using grid search: \n",
      " {'criterion': 'gini', 'max_depth': 25, 'min_samples_leaf': 5, 'min_samples_split': 80}\n",
      "Best score using grid search: \n",
      " 0.8031744656546114\n"
     ]
    }
   ],
   "source": [
    "param_dist = {'max_depth': [8,10,14,20,25,30,35,40],             \n",
    "              'criterion': ['gini'],\n",
    "             'min_samples_split': [2,10,18,20,40,60,70,80,90],\n",
    "             'min_samples_leaf':[1,4,5,8,10,15]}\n",
    "\n",
    "cv_dt = GridSearchCV(model_dt, cv = 10,\n",
    "                     param_grid=param_dist, \n",
    "                     n_jobs = 3, return_train_score=True)\n",
    "\n",
    "cv_dt.fit(x,y)\n",
    "print('Best Parameters using grid search: \\n', cv_dt.best_params_)\n",
    "print('Best score using grid search: \\n', cv_dt.best_score_)\n",
    "\n",
    "## the accuracy here would be less (compared to just using train_test_split) since this is using cross validation for test accuracy estimation"
   ]
  },
  {
   "cell_type": "code",
   "execution_count": null,
   "id": "5ef879cb",
   "metadata": {},
   "outputs": [],
   "source": []
  },
  {
   "cell_type": "code",
   "execution_count": 112,
   "id": "3b2118ba",
   "metadata": {},
   "outputs": [
    {
     "name": "stdout",
     "output_type": "stream",
     "text": [
      "Training score:  0.8640385261507447\n",
      "Testing score:  0.8222122704881325\n"
     ]
    }
   ],
   "source": [
    "model_dt.set_params(max_depth=25, criterion = \"gini\", min_samples_split= 80,min_samples_leaf=5)  # setting the best parameters found above\n",
    "\n",
    "model_dt.fit(x_train, y_train)\n",
    "model_dt_score_train = model_dt.score(x_train, y_train)\n",
    "print(\"Training score: \",model_dt_score_train)\n",
    "model_dt_score_test = model_dt.score(x_test, y_test)\n",
    "print(\"Testing score: \",model_dt_score_test) "
   ]
  },
  {
   "cell_type": "code",
   "execution_count": null,
   "id": "8fcb63c3",
   "metadata": {},
   "outputs": [],
   "source": []
  },
  {
   "cell_type": "code",
   "execution_count": null,
   "id": "5bb8b7d3",
   "metadata": {},
   "outputs": [],
   "source": []
  },
  {
   "cell_type": "markdown",
   "id": "fc1b9182",
   "metadata": {},
   "source": [
    "### Performance metrics"
   ]
  },
  {
   "cell_type": "code",
   "execution_count": 113,
   "id": "20755fb4",
   "metadata": {},
   "outputs": [
    {
     "name": "stdout",
     "output_type": "stream",
     "text": [
      "[[945 221]\n",
      " [176 891]]\n"
     ]
    }
   ],
   "source": [
    "## confusion matrix\n",
    "\n",
    "predictions = model_dt.predict(x_test)\n",
    "print (confusion_matrix(y_test, predictions))"
   ]
  },
  {
   "cell_type": "code",
   "execution_count": 102,
   "id": "b4902f45",
   "metadata": {},
   "outputs": [
    {
     "name": "stdout",
     "output_type": "stream",
     "text": [
      "Recall: 0.8350515463917526\n"
     ]
    }
   ],
   "source": [
    "from sklearn import metrics\n",
    "print(\"Recall:\",metrics.recall_score(y_test, predictions))"
   ]
  },
  {
   "cell_type": "code",
   "execution_count": 114,
   "id": "89b98ee6",
   "metadata": {},
   "outputs": [
    {
     "name": "stdout",
     "output_type": "stream",
     "text": [
      "Accuracy Score:  0.8222122704881325\n"
     ]
    }
   ],
   "source": [
    "print('Accuracy Score: ',accuracy_score(y_test, predictions))"
   ]
  },
  {
   "cell_type": "code",
   "execution_count": 536,
   "id": "1d2d7096",
   "metadata": {},
   "outputs": [
    {
     "data": {
      "image/png": "[encoded data removed]",
      "text/plain": [
       "<Figure size 432x288 with 1 Axes>"
      ]
     },
     "metadata": {
      "needs_background": "light"
     },
     "output_type": "display_data"
    }
   ],
   "source": [
    "##For ROC and AUC\n",
    "y_pred_dt = model_dt.predict_proba(x_test)[:, 1]\n",
    "fpr_dt, tpr_dt, _ = roc_curve(y_test, y_pred_dt)\n",
    "roc_auc_dt = auc(fpr_dt, tpr_dt)\n",
    "\n",
    "plt.figure(1)\n",
    "lw = 2\n",
    "plt.plot(fpr_dt, tpr_dt, color='green',\n",
    "         lw=lw, label='Decision Tree(AUC = %0.2f)' % roc_auc_dt)\n",
    "plt.plot([0, 1], [0, 1], color='navy', lw=lw, linestyle='--')\n",
    "\n",
    "plt.xlim([0.0, 1.0])\n",
    "plt.ylim([0.0, 1.05])\n",
    "plt.xlabel('False Positive Rate')\n",
    "plt.ylabel('True Positive Rate')\n",
    "plt.title('Area Under Curve')\n",
    "plt.legend(loc=\"lower right\")\n",
    "plt.show()"
   ]
  },
  {
   "cell_type": "code",
   "execution_count": 523,
   "id": "861cdb63",
   "metadata": {},
   "outputs": [
    {
     "data": {
      "image/png": "[encoded data removed]",
      "text/plain": [
       "<Figure size 432x432 with 2 Axes>"
      ]
     },
     "metadata": {
      "needs_background": "light"
     },
     "output_type": "display_data"
    }
   ],
   "source": [
    "plt.figure(figsize=(6,6))\n",
    "plot_confusion_matrix(predictions, normalize=False)\n",
    "plt.show()"
   ]
  },
  {
   "cell_type": "code",
   "execution_count": null,
   "id": "18d3fb8c",
   "metadata": {},
   "outputs": [],
   "source": []
  },
  {
   "cell_type": "markdown",
   "id": "4f85c093",
   "metadata": {},
   "source": [
    "# Conclusion"
   ]
  },
  {
   "cell_type": "markdown",
   "id": "b9ea3bfc",
   "metadata": {},
   "source": [
    "The model for the credit risk analysis was built, that predicts the term deposit subscription by a customer with the best accuracy of 83.5 and AUC of 0.89"
   ]
  },
  {
   "cell_type": "code",
   "execution_count": null,
   "id": "18dec401",
   "metadata": {},
   "outputs": [],
   "source": []
  }
 ],
 "metadata": {
  "kernelspec": {
   "display_name": "Python 3 (ipykernel)",
   "language": "python",
   "name": "python3"
  },
  "language_info": {
   "codemirror_mode": {
    "name": "ipython",
    "version": 3
   },
   "file_extension": ".py",
   "mimetype": "text/x-python",
   "name": "python",
   "nbconvert_exporter": "python",
   "pygments_lexer": "ipython3",
   "version": "3.10.1"
  },
  "varInspector": {
   "cols": {
    "lenName": 16,
    "lenType": 16,
    "lenVar": 40
   },
   "kernels_config": {
    "python": {
     "delete_cmd_postfix": "",
     "delete_cmd_prefix": "del ",
     "library": "var_list.py",
     "varRefreshCmd": "print(var_dic_list())"
    },
    "r": {
     "delete_cmd_postfix": ") ",
     "delete_cmd_prefix": "rm(",
     "library": "var_list.r",
     "varRefreshCmd": "cat(var_dic_list()) "
    }
   },
   "types_to_exclude": [
    "module",
    "function",
    "builtin_function_or_method",
    "instance",
    "_Feature"
   ],
   "window_display": false
  }
 },
 "nbformat": 4,
 "nbformat_minor": 5
}
